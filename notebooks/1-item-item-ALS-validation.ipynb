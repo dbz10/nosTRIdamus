{
 "cells": [
  {
   "cell_type": "code",
   "execution_count": 1,
   "metadata": {},
   "outputs": [],
   "source": [
    "import matplotlib.pyplot as plt\n",
    "import numpy as np\n",
    "import pandas as pd\n",
    "import json\n",
    "\n",
    "from config import Cfg as cfg\n",
    "\n",
    "import mysql.connector\n",
    "\n",
    "%matplotlib inline"
   ]
  },
  {
   "cell_type": "markdown",
   "metadata": {},
   "source": [
    "# Results data"
   ]
  },
  {
   "cell_type": "code",
   "execution_count": 2,
   "metadata": {},
   "outputs": [
    {
     "name": "stdout",
     "output_type": "stream",
     "text": [
      "Number of single results: 2000403\n",
      "Number of individuals: 643055\n"
     ]
    }
   ],
   "source": [
    "cnx = mysql.connector.connect(user=cfg.mysql_user, database=cfg.mysql_db, password=cfg.mysql_pw, ssl_disabled=True)\n",
    "\n",
    "query = \"SELECT * FROM results;\"\n",
    "\n",
    "# execute the query and assign it to a pandas dataframe\n",
    "df_results = pd.read_sql(query, con=cnx)\n",
    "\n",
    "cnx.close()\n",
    "\n",
    "print(\"Number of single results:\", len(df_results))\n",
    "print(\"Number of individuals:\", len(df_results.athlete.unique()))"
   ]
  },
  {
   "cell_type": "markdown",
   "metadata": {},
   "source": [
    "# Races data"
   ]
  },
  {
   "cell_type": "code",
   "execution_count": 3,
   "metadata": {},
   "outputs": [
    {
     "data": {
      "text/plain": [
       "159"
      ]
     },
     "execution_count": 3,
     "metadata": {},
     "output_type": "execute_result"
    }
   ],
   "source": [
    "df_races = pd.read_csv('./../data/clean/races_features.csv', index_col='race')\n",
    "len(df_races)"
   ]
  },
  {
   "cell_type": "markdown",
   "metadata": {},
   "source": [
    "### Some processing on the datasets"
   ]
  },
  {
   "cell_type": "code",
   "execution_count": 4,
   "metadata": {},
   "outputs": [
    {
     "name": "stdout",
     "output_type": "stream",
     "text": [
      "Number of remaining single results: 945102\n",
      "Number of remaining individuals: 399472\n",
      "Number of races in results df: 156\n"
     ]
    }
   ],
   "source": [
    "# -----------\n",
    "# -- RESULTS --\n",
    "# -----------\n",
    "\n",
    "# worldchampionship70.3 and worldchampionship70.3m are the same race\n",
    "df_results.loc[df_results.race == \"worldchampionship70.3m\", 'race'] = 'worldchampionship70.3'\n",
    "\n",
    "\n",
    "# keep only results of non discontinued races\n",
    "df_results = df_results[df_results['race'].isin(df_races.index)]\n",
    "\n",
    "# remove world championship races since we cannot really recommend it\n",
    "df_results = df_results[~df_results['race'].str.contains('worldchampionship')]\n",
    "\n",
    "# extract gender from division\n",
    "df_results['gender'] = df_results['division'].apply(lambda x: x[0])\n",
    "\n",
    "# convert date to datetime\n",
    "df_results['date'] = pd.to_datetime(df_results['date'])\n",
    "\n",
    "# str to int\n",
    "df_results['year'] = df_results['year'].apply(int)\n",
    "\n",
    "# keep only results from after 2015\n",
    "df_results = df_results.loc[df_results['year'] >= 2015]\n",
    "\n",
    "# # discard pro athletes\n",
    "# df_results = df_results.loc[df_results.division.str.contains(\"PRO\") == False]\n",
    "\n",
    "# Add gender\n",
    "df_results['gender'] = None\n",
    "df_results.loc[df_results['division'].str.contains(\"M\"), 'gender'] = \"M\"\n",
    "df_results.loc[df_results['division'].str.contains(\"F\"), 'gender'] = \"F\"\n",
    "\n",
    "\n",
    "print(\"Number of remaining single results:\", len(df_results))\n",
    "print(\"Number of remaining individuals:\", len(df_results.athlete.unique()))\n",
    "print(\"Number of races in results df:\", len(df_results.race.unique()))"
   ]
  },
  {
   "cell_type": "markdown",
   "metadata": {},
   "source": [
    "# Filter results dataset to keep only prolific racers\n",
    "#### To prevent cold-start problem keep only people with at least 3 different races."
   ]
  },
  {
   "cell_type": "code",
   "execution_count": 5,
   "metadata": {},
   "outputs": [
    {
     "name": "stdout",
     "output_type": "stream",
     "text": [
      "Number of valid individuals: 45799\n",
      "Number of remaining single results: 329329\n",
      "Number of races present in filtered results: 156\n"
     ]
    }
   ],
   "source": [
    "min_unique_race_count = 4\n",
    "\n",
    "# total number of races per athlete\n",
    "athletes_count_races = (df_results.groupby('athlete')['division']\n",
    "     .size()\n",
    "     .reset_index()\n",
    "     .rename(columns={'division': 'n_races'})\n",
    ")\n",
    "\n",
    "# total number of different races per athlete\n",
    "athletes_count_diff_races = (df_results\n",
    "     .groupby(['athlete', 'race'])\n",
    "     .size()\n",
    "     .reset_index()\n",
    "     .groupby('athlete')\n",
    "     .size()\n",
    "     .reset_index()\n",
    "     .rename(columns={0: 'n_different_races'})\n",
    ")\n",
    "\n",
    "# merge the two so we can filter from that\n",
    "athlete_habits = athletes_count_diff_races.merge(athletes_count_races, left_on=\"athlete\", right_on=\"athlete\", how=\"left\")\n",
    "\n",
    "# What we are filtering with\n",
    "max_count_races = 100 # probably similar names\n",
    "\n",
    "valid_athletes = athlete_habits.loc[(athlete_habits['n_different_races']>=min_unique_race_count) & (athlete_habits['n_races']<=max_count_races)]\n",
    "\n",
    "# use this df to filter original results data\n",
    "df_results_filtered = df_results.loc[df_results['athlete'].isin(valid_athletes['athlete'])]\n",
    "df_results_filtered = df_results_filtered.merge(valid_athletes, left_on=\"athlete\", right_on=\"athlete\", how=\"left\")\n",
    "\n",
    "# Anonimize entrants\n",
    "user_hash = {}\n",
    "\n",
    "for i,user in enumerate(df_results_filtered.athlete.unique()):\n",
    "    user_hash[user] = f'u{i}'\n",
    "df_results_filtered.loc[:, 'athlete'] = df_results_filtered.athlete.map(lambda x: user_hash[x])\n",
    "\n",
    "print(\"Number of valid individuals:\", len(valid_athletes))\n",
    "print(\"Number of remaining single results:\", len(df_results_filtered))\n",
    "print(\"Number of races present in filtered results:\", len(df_results_filtered.race.unique()))"
   ]
  },
  {
   "cell_type": "markdown",
   "metadata": {},
   "source": [
    "### Update races df to only keep races present in filtered results df"
   ]
  },
  {
   "cell_type": "code",
   "execution_count": 6,
   "metadata": {},
   "outputs": [
    {
     "name": "stdout",
     "output_type": "stream",
     "text": [
      "Number of remaining races: 156\n"
     ]
    }
   ],
   "source": [
    "df_races_for_model = df_races.loc[df_results_filtered.race.unique()]\n",
    "print(\"Number of remaining races:\", len(df_races_for_model))"
   ]
  },
  {
   "cell_type": "markdown",
   "metadata": {},
   "source": [
    "# Create dataframe with race count per athlete"
   ]
  },
  {
   "cell_type": "code",
   "execution_count": 7,
   "metadata": {},
   "outputs": [
    {
     "data": {
      "text/html": [
       "<div>\n",
       "<style scoped>\n",
       "    .dataframe tbody tr th:only-of-type {\n",
       "        vertical-align: middle;\n",
       "    }\n",
       "\n",
       "    .dataframe tbody tr th {\n",
       "        vertical-align: top;\n",
       "    }\n",
       "\n",
       "    .dataframe thead th {\n",
       "        text-align: right;\n",
       "    }\n",
       "</style>\n",
       "<table border=\"1\" class=\"dataframe\">\n",
       "  <thead>\n",
       "    <tr style=\"text-align: right;\">\n",
       "      <th></th>\n",
       "      <th>athlete</th>\n",
       "      <th>race</th>\n",
       "      <th>count</th>\n",
       "      <th>gender</th>\n",
       "      <th>country</th>\n",
       "    </tr>\n",
       "  </thead>\n",
       "  <tbody>\n",
       "    <tr>\n",
       "      <th>0</th>\n",
       "      <td>u0</td>\n",
       "      <td>cozumel</td>\n",
       "      <td>1</td>\n",
       "      <td>M</td>\n",
       "      <td>USA</td>\n",
       "    </tr>\n",
       "    <tr>\n",
       "      <th>1</th>\n",
       "      <td>u0</td>\n",
       "      <td>liuzhou70.3</td>\n",
       "      <td>1</td>\n",
       "      <td>M</td>\n",
       "      <td>USA</td>\n",
       "    </tr>\n",
       "    <tr>\n",
       "      <th>2</th>\n",
       "      <td>u0</td>\n",
       "      <td>mardelplata</td>\n",
       "      <td>1</td>\n",
       "      <td>M</td>\n",
       "      <td>USA</td>\n",
       "    </tr>\n",
       "    <tr>\n",
       "      <th>3</th>\n",
       "      <td>u0</td>\n",
       "      <td>newzealand</td>\n",
       "      <td>1</td>\n",
       "      <td>M</td>\n",
       "      <td>USA</td>\n",
       "    </tr>\n",
       "    <tr>\n",
       "      <th>4</th>\n",
       "      <td>u0</td>\n",
       "      <td>xiamen70.3</td>\n",
       "      <td>2</td>\n",
       "      <td>M</td>\n",
       "      <td>USA</td>\n",
       "    </tr>\n",
       "  </tbody>\n",
       "</table>\n",
       "</div>"
      ],
      "text/plain": [
       "  athlete         race  count gender country\n",
       "0      u0      cozumel      1      M     USA\n",
       "1      u0  liuzhou70.3      1      M     USA\n",
       "2      u0  mardelplata      1      M     USA\n",
       "3      u0   newzealand      1      M     USA\n",
       "4      u0   xiamen70.3      2      M     USA"
      ]
     },
     "execution_count": 7,
     "metadata": {},
     "output_type": "execute_result"
    }
   ],
   "source": [
    "results_races_count = (\n",
    "    df_results_filtered\n",
    "        .groupby(['athlete', 'race'])\n",
    "        .size()\n",
    "        .reset_index()\n",
    "        .rename(columns={0: 'count'})\n",
    ")\n",
    "\n",
    "# Add demographics info for users (if we want to filter later)\n",
    "gender = (df_results_filtered\n",
    "     .groupby(['athlete', 'gender'])\n",
    "     .size()\n",
    "     .reset_index()\n",
    "     .rename(columns={0: 'n'})\n",
    "     .pivot(index='athlete', columns='gender', values='n')\n",
    "     .idxmax(axis=1)\n",
    "     .rename('gender')\n",
    ")\n",
    "\n",
    "country = (df_results_filtered\n",
    "     .groupby(['athlete', 'country'])\n",
    "     .size()\n",
    "     .reset_index()\n",
    "     .rename(columns={0: 'n'})\n",
    "     .pivot(index='athlete', columns='country', values='n')\n",
    "     .idxmax(axis=1)\n",
    "     .rename('country')\n",
    ")\n",
    "\n",
    "results_races_count = results_races_count.merge(gender, left_on = 'athlete', right_on = 'athlete', how = 'left')\n",
    "results_races_count = results_races_count.merge(country, left_on = 'athlete', right_on = 'athlete', how = 'left')\n",
    "\n",
    "results_races_count.head()"
   ]
  },
  {
   "cell_type": "markdown",
   "metadata": {},
   "source": [
    "# Binarize (relevant/not relevant)"
   ]
  },
  {
   "cell_type": "code",
   "execution_count": 8,
   "metadata": {},
   "outputs": [],
   "source": [
    "results_races_count_binarized = results_races_count.apply(lambda x: x if x.name != 'count' else (x>0).astype(int))"
   ]
  },
  {
   "cell_type": "markdown",
   "metadata": {},
   "source": [
    "# Split train/test"
   ]
  },
  {
   "cell_type": "code",
   "execution_count": 9,
   "metadata": {},
   "outputs": [],
   "source": [
    "import random\n",
    "\n",
    "def make_train(ratings, perc_test = 0.2):\n",
    "    '''\n",
    "    This function will take in the original user-item matrix and \"mask\" a percentage of the original ratings where a\n",
    "    user-item interaction has taken place for use as a test set. The test set will contain all of the original ratings, \n",
    "    while the training set replaces the specified percentage of them with a zero in the original ratings matrix. \n",
    "    \n",
    "    parameters: \n",
    "    \n",
    "    ratings - the original ratings matrix from which you want to generate a train/test set. Test is just a complete\n",
    "    copy of the original set. This is in the form of a sparse csr_matrix. \n",
    "    \n",
    "    perc_test - The percentage of user-item interactions where an interaction took place that you want to mask in the \n",
    "    training set for later comparison to the test set, which contains all of the original ratings. \n",
    "    \n",
    "    returns:\n",
    "    \n",
    "    training_set - The altered version of the original data with a certain percentage of the user-item pairs \n",
    "    that originally had interaction set back to zero.\n",
    "    \n",
    "    test_set - A copy of the original ratings matrix, unaltered, so it can be used to see how the rank order \n",
    "    compares with the actual interactions.\n",
    "    \n",
    "    user_inds - From the randomly selected user-item indices, which user rows were altered in the training data.\n",
    "    This will be necessary later when evaluating the performance via AUC.\n",
    "    '''\n",
    "    test_set = ratings.copy() # Make a copy of the original set to be the test set. \n",
    "    test_set[test_set != 0] = 1 # Store the test set as a binary preference matrix\n",
    "    \n",
    "    training_set = ratings.copy() # Make a copy of the original data we can alter as our training set. \n",
    "    \n",
    "    nonzero_inds = training_set.nonzero() # Find the indices in the ratings data where an interaction exists\n",
    "    nonzero_pairs = list(zip(nonzero_inds[0], nonzero_inds[1])) # Zip these pairs together of item,user index into list\n",
    "\n",
    "    \n",
    "    random.seed(0) # Set the random seed to zero for reproducibility\n",
    "    \n",
    "    num_samples = int(np.ceil(perc_test*len(nonzero_pairs))) # Round the number of samples needed to the nearest integer\n",
    "    samples = random.sample(nonzero_pairs, num_samples) # Sample a random number of item-user pairs without replacement\n",
    "\n",
    "    item_inds = [index[0] for index in samples] # Get the item row indices\n",
    "\n",
    "    user_inds = [index[1] for index in samples] # Get the user column indices\n",
    "\n",
    "    \n",
    "    training_set[item_inds, user_inds] = 0 # Assign all of the randomly chosen user-item pairs to zero\n",
    "    training_set.eliminate_zeros() # Get rid of zeros in sparse array storage after update to save space\n",
    "    \n",
    "    return training_set, test_set, list(set(user_inds)) # Output the unique list of user columns that were altered"
   ]
  },
  {
   "cell_type": "code",
   "execution_count": 15,
   "metadata": {},
   "outputs": [
    {
     "name": "stdout",
     "output_type": "stream",
     "text": [
      "31464 have results that have been altered\n"
     ]
    }
   ],
   "source": [
    "import scipy.sparse as sparse\n",
    "from implicit_local.als import AlternatingLeastSquares\n",
    "from implicit_local.nearest_neighbours import CosineRecommender\n",
    "\n",
    "# prepare dataset\n",
    "full_set = sparse.csr_matrix(results_races_count_binarized.pivot(index='race', columns='athlete', values='count').fillna(0).values)\n",
    "\n",
    "# split train/test\n",
    "train, test, users_modified_idx = make_train(full_set, perc_test = 0.2)\n",
    "print(f'{len(users_modified_idx)} have results that have been altered')\n",
    "\n",
    "train_conf = (train * 5.5).astype('double')\n",
    "\n",
    "model = AlternatingLeastSquares(factors=18, regularization=0.01, iterations=50)\n",
    "model.fit(train, show_progress=False)"
   ]
  },
  {
   "cell_type": "code",
   "execution_count": 16,
   "metadata": {},
   "outputs": [
    {
     "data": {
      "text/plain": [
       "(156, 45799)"
      ]
     },
     "execution_count": 16,
     "metadata": {},
     "output_type": "execute_result"
    }
   ],
   "source": [
    "users_vec = model.user_factors\n",
    "items_vec = model.item_factors\n",
    "\n",
    "# make prediction matrix\n",
    "all_predictions = items_vec.dot(users_vec.T)\n",
    "\n",
    "all_predictions.shape"
   ]
  },
  {
   "cell_type": "code",
   "execution_count": 17,
   "metadata": {},
   "outputs": [
    {
     "name": "stderr",
     "output_type": "stream",
     "text": [
      "/miniconda3/envs/data-science/lib/python3.7/site-packages/ipykernel_launcher.py:18: RuntimeWarning: invalid value encountered in true_divide\n"
     ]
    }
   ],
   "source": [
    "def binarize(arr, tol):\n",
    "    \"\"\"\n",
    "    Convert continous valued array to binary. \n",
    "    \"\"\"\n",
    "    arr[arr < tol] = 0\n",
    "    arr[arr >= tol] = 1\n",
    "    return arr\n",
    "\n",
    "# get the relevant users to use in movel validation\n",
    "users_true_labels = test#[:, users_modified_idx]\n",
    "users_predictions = all_predictions#[:, users_modified_idx]\n",
    "\n",
    "# binarize using the half range for each users\n",
    "cut_at = 0.5\n",
    "users_predictions_binarized = (users_predictions>(users_predictions.max(axis=0)-users_predictions.min(axis=0))*cut_at).astype(int)\n",
    "\n",
    "# scale predictions in the [0, 1] interval\n",
    "users_predictions_scaled = (users_predictions - users_predictions.min(axis=0))/(users_predictions.max(axis=0)-users_predictions.min(axis=0))\n",
    "users_predictions_scaled[np.isnan(users_predictions_scaled)] = 0\n"
   ]
  },
  {
   "cell_type": "code",
   "execution_count": 18,
   "metadata": {},
   "outputs": [
    {
     "name": "stdout",
     "output_type": "stream",
     "text": [
      "Recall: 0.286\n",
      "Precision: 0.598\n",
      "Average Precision: 0.197\n",
      "F1 score: 0.387\n",
      "ROC-AUC: 0.851\n"
     ]
    }
   ],
   "source": [
    "from sklearn.metrics import recall_score, precision_score, average_precision_score, f1_score, roc_curve, roc_auc_score\n",
    "\n",
    "# flatten arrays\n",
    "y_true = users_true_labels.toarray().ravel()\n",
    "y_pred = users_predictions_binarized.ravel()\n",
    "y_pred_scaled = users_predictions_scaled.ravel()\n",
    "\n",
    "# recall, precision, and f1 are definied for binarized (non-continuous) values \n",
    "# of predictions\n",
    "print(f'Recall: {recall_score(y_true, y_pred):.3f}')\n",
    "print(f'Precision: {precision_score(y_true, y_pred):.3f}')\n",
    "print(f'Average Precision: {average_precision_score(y_true, y_pred):.3f}')\n",
    "print(f'F1 score: {f1_score(y_true, y_pred):.3f}')\n",
    "\n",
    "# roc-auc is more accurate when using continuous predictions.\n",
    "auc_score = roc_auc_score(y_true, y_pred_scaled)\n",
    "print(f'ROC-AUC: {auc_score:.3f}')"
   ]
  },
  {
   "cell_type": "code",
   "execution_count": 19,
   "metadata": {},
   "outputs": [
    {
     "data": {
      "image/png": "[encoded data removed]",
      "text/plain": [
       "<Figure size 576x576 with 1 Axes>"
      ]
     },
     "metadata": {
      "needs_background": "light"
     },
     "output_type": "display_data"
    }
   ],
   "source": [
    "# plot ROC curve\n",
    "fpr, tpr, thresholds = roc_curve(y_true, y_pred_scaled)\n",
    "\n",
    "fig,ax = plt.subplots(figsize=(8, 8))\n",
    "ax.plot(fpr, tpr, lw=2)\n",
    "ax.plot([0, 1], [0, 1], 'k--')\n",
    "ax.set_title(f'ROC (AUC={auc_score:.3f})')\n",
    "ax.set_xlabel('FPR')\n",
    "ax.set_ylabel('TPR');\n"
   ]
  },
  {
   "cell_type": "code",
   "execution_count": null,
   "metadata": {},
   "outputs": [],
   "source": []
  },
  {
   "cell_type": "code",
   "execution_count": null,
   "metadata": {},
   "outputs": [],
   "source": []
  },
  {
   "cell_type": "code",
   "execution_count": 477,
   "metadata": {},
   "outputs": [],
   "source": [
    "def get_ordered(y_true_matrix, y_pred_matrix):\n",
    "    # get order of hits for each user\n",
    "    sorted_idx = np.argsort(-y_true_matrix, axis=0)\n",
    "    # order each columns (users) using the sorted indices\n",
    "    y_true_values = np.hstack([y_true_matrix[sorted_idx[:, i], i].reshape(-1, 1) for i in range(y_true_matrix.shape[1])])\n",
    "    y_pred_values = np.hstack([y_pred_matrix[sorted_idx[:, i], i].reshape(-1, 1) for i in range(y_pred_matrix.shape[1])])\n",
    "    return y_true_values, y_pred_values\n",
    "    "
   ]
  },
  {
   "cell_type": "code",
   "execution_count": 478,
   "metadata": {},
   "outputs": [
    {
     "name": "stdout",
     "output_type": "stream",
     "text": [
      "-- RECALL\n",
      "recall@3: 0.29237901846474085\n",
      "recall@5: 0.2994791542570681\n",
      "recall@10: 0.2948020477267986\n",
      "-- Mean Average PRECISION\n"
     ]
    },
    {
     "name": "stderr",
     "output_type": "stream",
     "text": [
      "/miniconda3/envs/data-science/lib/python3.7/site-packages/sklearn/metrics/classification.py:1437: UndefinedMetricWarning: Precision is ill-defined and being set to 0.0 due to no predicted samples.\n",
      "  'precision', 'predicted', average, warn_for)\n"
     ]
    },
    {
     "name": "stdout",
     "output_type": "stream",
     "text": [
      "map@3: 0.650843904888753\n",
      "map@5: 0.8361536278084675\n",
      "map@10: 0.8812856175899038\n"
     ]
    }
   ],
   "source": [
    "def recall_at_k(y_true_matrix, y_pred_matrix, k):\n",
    "    # get order of hits for each user\n",
    "    sorted_idx = np.argsort(-y_true_matrix, axis=0)\n",
    "    # order each columns (users) using the sorted indices\n",
    "    y_true_values = np.hstack([y_true_matrix[sorted_idx[:, i], i].reshape(-1, 1) for i in range(y_true_matrix.shape[1])])\n",
    "    y_pred_values = np.hstack([y_pred_matrix[sorted_idx[:, i], i].reshape(-1, 1) for i in range(y_pred_matrix.shape[1])])\n",
    "    # get the k top recommendations for each users\n",
    "    return recall_score(y_true_values[:k, :].ravel(), y_pred_values[:k, :].ravel())\n",
    "\n",
    "def map_at_k(y_true_matrix, y_pred_matrix, k):\n",
    "    # get order of hits for each user\n",
    "    sorted_idx = np.argsort(-y_true_matrix, axis=0)\n",
    "    # order each columns (users) using the sorted indices\n",
    "    y_true_values = np.hstack([y_true_matrix[sorted_idx[:, i], i].reshape(-1, 1) for i in range(y_true_matrix.shape[1])])\n",
    "    y_pred_values = np.hstack([y_pred_matrix[sorted_idx[:, i], i].reshape(-1, 1) for i in range(y_pred_matrix.shape[1])])\n",
    "    # get the k top recommendations for each users\n",
    "#     return average_precision_score(y_true_values[:k, :].ravel(), y_pred_values[:k, :].ravel())\n",
    "    return np.mean(np.array([precision_score(y_true_values[:k, i], y_pred_values[:k, i]) for i in range(y_true_values.shape[1])])>0)\n",
    "\n",
    "print('-- RECALL')\n",
    "for k in [3, 5, 10]:\n",
    "    print(f'recall@{k}:', recall_at_k(users_true_labels.toarray(), users_predictions_binarized, k))\n",
    "\n",
    "print('-- Mean Average PRECISION')\n",
    "for k in [3, 5, 10]:\n",
    "    print(f'map@{k}:', map_at_k(users_true_labels.toarray(), users_predictions_binarized, k))\n"
   ]
  },
  {
   "cell_type": "code",
   "execution_count": 470,
   "metadata": {},
   "outputs": [
    {
     "data": {
      "text/plain": [
       "0.18629109375966763"
      ]
     },
     "execution_count": 470,
     "metadata": {},
     "output_type": "execute_result"
    }
   ],
   "source": [
    "def apk(actual, predicted, k=10):\n",
    "    \"\"\"\n",
    "    Computes the average precision at k.\n",
    "    This function computes the average prescision at k between two lists of\n",
    "    items.\n",
    "    Parameters\n",
    "    ----------\n",
    "    actual : list\n",
    "             A list of elements that are to be predicted (order doesn't matter)\n",
    "    predicted : list\n",
    "                A list of predicted elements (order does matter)\n",
    "    k : int, optional\n",
    "        The maximum number of predicted elements\n",
    "    Returns\n",
    "    -------\n",
    "    score : double\n",
    "            The average precision at k over the input lists\n",
    "    \"\"\"\n",
    "    if len(predicted)>k:\n",
    "        predicted = predicted[:k]\n",
    "\n",
    "    score = 0.0\n",
    "    num_hits = 0.0\n",
    "\n",
    "    for i,p in enumerate(predicted):\n",
    "        if p in actual and p not in predicted[:i]:\n",
    "            num_hits += 1.0\n",
    "            score += num_hits / (i+1.0)\n",
    "\n",
    "    if not actual:\n",
    "        return 0.0\n",
    "\n",
    "    return score / min(len(actual), k)\n",
    "\n",
    "def mapk(actual, predicted, k=10):\n",
    "    \"\"\"\n",
    "    Computes the mean average precision at k.\n",
    "    This function computes the mean average prescision at k between two lists\n",
    "    of lists of items.\n",
    "    Parameters\n",
    "    ----------\n",
    "    actual : list\n",
    "             A list of lists of elements that are to be predicted \n",
    "             (order doesn't matter in the lists)\n",
    "    predicted : list\n",
    "                A list of lists of predicted elements\n",
    "                (order matters in the lists)\n",
    "    k : int, optional\n",
    "        The maximum number of predicted elements\n",
    "    Returns\n",
    "    -------\n",
    "    score : double\n",
    "            The mean average precision at k over the input lists\n",
    "    \"\"\"\n",
    "    return np.mean([apk(a,p,k) for a,p in zip(actual, predicted)])\n",
    "\n",
    "# print('-- Mean Average PRECISION')\n",
    "# for k in [3, 5, 10]:\n",
    "#     print(f'map@{k}:', map_at_k(users_true_labels.toarray(), users_predictions_binarized, k))\n",
    "\n",
    "y_true_ordered, y_pred_ordered = get_ordered(users_true_labels.toarray(), users_predictions_binarized)\n",
    "y_true_mapped = list(map(lambda x: [f'{i}_{int(n)}' for i,n in enumerate(x) if n==1], y_true_ordered[:10].transpose().tolist()))\n",
    "y_pred_mapped = list(map(lambda x: [f'{i}_{int(n)}' for i,n in enumerate(x)], y_pred_ordered[:10].transpose().tolist()))\n",
    "\n",
    "mapk(y_true_mapped, y_pred_mapped, 10)\n",
    "# ap()"
   ]
  },
  {
   "cell_type": "markdown",
   "metadata": {},
   "source": [
    "# Implicit own evaluation"
   ]
  },
  {
   "cell_type": "code",
   "execution_count": 479,
   "metadata": {},
   "outputs": [
    {
     "name": "stdout",
     "output_type": "stream",
     "text": [
      "Fitting model\n",
      "-- Precision\n",
      "p@3: 0.46899816737935246\n",
      "p@5: 0.5113550897616167\n",
      "p@10: 0.6407632074072339\n",
      "-- MAP\n",
      "map@3: 0.4076188175128161\n",
      "map@5: 0.40960792234202426\n",
      "map@10: 0.4434564736774472\n",
      "-- NDCG\n",
      "ndcg@3: 0.47831702975939383\n",
      "ndcg@5: 0.5010562153294669\n",
      "ndcg@10: 0.5597730500512695\n"
     ]
    }
   ],
   "source": [
    "from implicit_local.evaluation import precision_at_k, mean_average_precision_at_k, train_test_split as tt_split, ndcg_at_k \n",
    "\n",
    "full_pivot = results_races_count_binarized.pivot(index='race', columns='athlete', values='count').fillna(0)\n",
    "train_data, test_data = tt_split(sparse.csr_matrix(full_pivot.values), train_percentage=0.5)\n",
    "\n",
    "print('Fitting model')\n",
    "model2 = AlternatingLeastSquares(factors=19, regularization=0.01, iterations=50)\n",
    "model2.fit(train2, show_progress=False)\n",
    "\n",
    "k_s = [3, 5, 10]\n",
    "print('-- Precision')\n",
    "m = [precision_at_k(model2, train_data.T.tocsr(), test_data.T.tocsr(), K=k, num_threads=4, show_progress=False) for k in k_s]\n",
    "for i in range(len(k_s)):\n",
    "    print(f'p@{k_s[i]}:', m[i])\n",
    "\n",
    "\n",
    "print('-- MAP')\n",
    "m = [mean_average_precision_at_k(model2, train_data.T.tocsr(), test_data.T.tocsr(), K=k, num_threads=4, show_progress=False) for k in k_s]\n",
    "for i in range(len(k_s)):\n",
    "    print(f'map@{k_s[i]}:', m[i])\n",
    "\n",
    "print('-- NDCG')\n",
    "m = [ndcg_at_k(model2, train_data.T.tocsr(), test_data.T.tocsr(), K=k, num_threads=4, show_progress=False) for k in k_s]\n",
    "for i in range(len(k_s)):\n",
    "    print(f'ndcg@{k_s[i]}:', m[i])"
   ]
  },
  {
   "cell_type": "code",
   "execution_count": 420,
   "metadata": {},
   "outputs": [
    {
     "data": {
      "text/plain": [
       "[<matplotlib.lines.Line2D at 0x7fad0f4edef0>]"
      ]
     },
     "execution_count": 420,
     "metadata": {},
     "output_type": "execute_result"
    },
    {
     "data": {
      "image/png": "[encoded data removed]",
      "text/plain": [
       "<Figure size 432x288 with 1 Axes>"
      ]
     },
     "metadata": {
      "needs_background": "light"
     },
     "output_type": "display_data"
    }
   ],
   "source": [
    "recommender = AlternatingLeastSquares(factors=19, regularization=0.01, iterations=1)\n",
    "\n",
    "n_iter = 100 \n",
    "ndcg_results = []\n",
    "for i in range(n_iter):\n",
    "    recommender.fit(train_data, show_progress=False) # iterate one time\n",
    "    \n",
    "    ndcg = ndcg_at_k(recommender, train_data.T.tocsr(), test_data.T.tocsr(), K=10, num_threads=4, show_progress=False)\n",
    "    ndcg_results.append(ndcg)\n",
    "\n",
    "# once finished\n",
    "plt.plot(ndcg_results)"
   ]
  },
  {
   "cell_type": "code",
   "execution_count": null,
   "metadata": {},
   "outputs": [],
   "source": []
  },
  {
   "cell_type": "code",
   "execution_count": null,
   "metadata": {},
   "outputs": [],
   "source": []
  }
 ],
 "metadata": {
  "kernelspec": {
   "display_name": "Python (data-science)",
   "language": "python",
   "name": "data-science"
  },
  "language_info": {
   "codemirror_mode": {
    "name": "ipython",
    "version": 3
   },
   "file_extension": ".py",
   "mimetype": "text/x-python",
   "name": "python",
   "nbconvert_exporter": "python",
   "pygments_lexer": "ipython3",
   "version": "3.7.3"
  }
 },
 "nbformat": 4,
 "nbformat_minor": 2
}
