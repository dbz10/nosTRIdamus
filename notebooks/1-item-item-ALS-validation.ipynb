{
 "cells": [
  {
   "cell_type": "code",
   "execution_count": 4,
   "metadata": {},
   "outputs": [],
   "source": [
    "import matplotlib.pyplot as plt\n",
    "import numpy as np\n",
    "import pandas as pd\n",
    "import json\n",
    "\n",
    "%matplotlib inline"
   ]
  },
  {
   "cell_type": "code",
   "execution_count": 5,
   "metadata": {},
   "outputs": [],
   "source": [
    "import scipy.sparse as sparse\n",
    "import pickle\n",
    "import implicit\n",
    "\n",
    "filename_base = './../flask_app/nostrappdamus/model/data'\n",
    "\n",
    "# load the model from disk\n",
    "model = pickle.load(open(f\"{filename_base}/als_model.sav\", 'rb'))\n",
    "    \n",
    "# load\n",
    "item_user_sparse = sparse.load_npz(f\"{filename_base}/als_sparse_matrix.npz\")\n",
    "with open(f\"{filename_base}/als_hash.json\", \"r\") as f:\n",
    "    hash_code_to_race = json.loads(f.read())\n"
   ]
  },
  {
   "cell_type": "code",
   "execution_count": 6,
   "metadata": {},
   "outputs": [
    {
     "name": "stdout",
     "output_type": "stream",
     "text": [
      "31331 have results that have been altered\n"
     ]
    }
   ],
   "source": [
    "from utils.evaluation_utils import make_train, binarize\n",
    "\n",
    "# split train/test for testing\n",
    "train, test, users_modified_idx = make_train(item_user_sparse, perc_test = 0.2)\n",
    "print(f'{len(users_modified_idx)} have results that have been altered')"
   ]
  },
  {
   "cell_type": "code",
   "execution_count": 7,
   "metadata": {},
   "outputs": [
    {
     "data": {
      "text/plain": [
       "(156, 45799)"
      ]
     },
     "execution_count": 7,
     "metadata": {},
     "output_type": "execute_result"
    }
   ],
   "source": [
    "users_vec = model.user_factors\n",
    "items_vec = model.item_factors\n",
    "\n",
    "# make prediction matrix\n",
    "all_predictions = items_vec.dot(users_vec.T)\n",
    "\n",
    "all_predictions.shape"
   ]
  },
  {
   "cell_type": "code",
   "execution_count": 13,
   "metadata": {},
   "outputs": [],
   "source": [
    "# get the relevant users to use in model validation\n",
    "users_true_labels = test[:, users_modified_idx]\n",
    "users_predictions = all_predictions[:, users_modified_idx]\n",
    "\n",
    "# binarize using the half range for each users\n",
    "cut_at = 0.5\n",
    "users_predictions_binarized = (users_predictions>(users_predictions.max(axis=0)-users_predictions.min(axis=0))*cut_at).astype(int)\n",
    "\n",
    "# scale predictions in the [0, 1] interval\n",
    "users_predictions_scaled = (users_predictions - users_predictions.min(axis=0))/(users_predictions.max(axis=0)-users_predictions.min(axis=0))\n",
    "users_predictions_scaled[np.isnan(users_predictions_scaled)] = 0"
   ]
  },
  {
   "cell_type": "code",
   "execution_count": 14,
   "metadata": {},
   "outputs": [
    {
     "name": "stdout",
     "output_type": "stream",
     "text": [
      "Recall: 0.686\n",
      "Precision: 0.514\n",
      "Average Precision: 0.365\n",
      "F1 score: 0.588\n",
      "ROC-AUC: 0.972\n"
     ]
    }
   ],
   "source": [
    "from sklearn.metrics import recall_score, precision_score, average_precision_score, f1_score, roc_curve, roc_auc_score\n",
    "\n",
    "# flatten arrays\n",
    "y_true = users_true_labels.toarray().ravel()\n",
    "y_pred = users_predictions_binarized.ravel()\n",
    "y_pred_scaled = users_predictions_scaled.ravel()\n",
    "\n",
    "# recall, precision, and f1 are definied for binarized (non-continuous) values \n",
    "# of predictions\n",
    "print(f'Recall: {recall_score(y_true, y_pred):.3f}')\n",
    "print(f'Precision: {precision_score(y_true, y_pred):.3f}')\n",
    "print(f'Average Precision: {average_precision_score(y_true, y_pred):.3f}')\n",
    "print(f'F1 score: {f1_score(y_true, y_pred):.3f}')\n",
    "\n",
    "# roc-auc is more accurate when using continuous predictions.\n",
    "auc_score = roc_auc_score(y_true, y_pred_scaled)\n",
    "print(f'ROC-AUC: {auc_score:.3f}')"
   ]
  },
  {
   "cell_type": "code",
   "execution_count": 15,
   "metadata": {},
   "outputs": [
    {
     "data": {
      "image/png": "[encoded data removed]",
      "text/plain": [
       "<Figure size 576x576 with 1 Axes>"
      ]
     },
     "metadata": {
      "needs_background": "light"
     },
     "output_type": "display_data"
    }
   ],
   "source": [
    "# plot ROC curve\n",
    "fpr, tpr, thresholds = roc_curve(y_true, y_pred_scaled)\n",
    "\n",
    "fig,ax = plt.subplots(figsize=(8, 8))\n",
    "ax.plot(fpr, tpr, lw=2)\n",
    "ax.plot([0, 1], [0, 1], 'k--')\n",
    "ax.set_title(f'ROC (AUC={auc_score:.3f})')\n",
    "ax.set_xlabel('FPR')\n",
    "ax.set_ylabel('TPR');\n",
    "\n"
   ]
  },
  {
   "cell_type": "markdown",
   "metadata": {},
   "source": [
    "# Implicit own evaluation"
   ]
  },
  {
   "cell_type": "code",
   "execution_count": 20,
   "metadata": {},
   "outputs": [
    {
     "name": "stderr",
     "output_type": "stream",
     "text": [
      "100%|██████████| 45799/45799 [00:03<00:00, 12921.60it/s]\n"
     ]
    },
    {
     "data": {
      "text/plain": [
       "0.49847894144738053"
      ]
     },
     "execution_count": 20,
     "metadata": {},
     "output_type": "execute_result"
    }
   ],
   "source": [
    "# compared to Cosine Recommender\n",
    "from implicit_local.evaluation import train_test_split, mean_average_precision_at_k, ndcg_at_k\n",
    "\n",
    "train, test = train_test_split(item_user_sparse, train_percentage=0.8)\n",
    "\n",
    "mean_average_precision_at_k(model, train.T.tocsr(), test.T.tocsr(), K=5, num_threads=4)"
   ]
  },
  {
   "cell_type": "code",
   "execution_count": null,
   "metadata": {},
   "outputs": [],
   "source": []
  },
  {
   "cell_type": "markdown",
   "metadata": {},
   "source": []
  },
  {
   "cell_type": "markdown",
   "metadata": {},
   "source": [
    "# Old stufff and WIP"
   ]
  },
  {
   "cell_type": "code",
   "execution_count": 16,
   "metadata": {},
   "outputs": [
    {
     "name": "stdout",
     "output_type": "stream",
     "text": [
      "-- RECALL\n",
      "recall@3: 0.7148723841137106\n",
      "recall@5: 0.7098382184085862\n",
      "recall@10: 0.6931362585573412\n",
      "-- Mean Average PRECISION\n"
     ]
    },
    {
     "name": "stderr",
     "output_type": "stream",
     "text": [
      "/miniconda3/envs/data-science/lib/python3.7/site-packages/sklearn/metrics/classification.py:1437: UndefinedMetricWarning: Precision is ill-defined and being set to 0.0 due to no predicted samples.\n",
      "  'precision', 'predicted', average, warn_for)\n"
     ]
    },
    {
     "name": "stdout",
     "output_type": "stream",
     "text": [
      "map@3: 0.9652420924962497\n",
      "map@5: 0.9929143659634229\n",
      "map@10: 0.9972231974721522\n"
     ]
    }
   ],
   "source": [
    "def get_ordered(y_true_matrix, y_pred_matrix):\n",
    "    # get order of hits for each user\n",
    "    sorted_idx = np.argsort(-y_true_matrix, axis=0)\n",
    "    # order each columns (users) using the sorted indices\n",
    "    y_true_values = np.hstack([y_true_matrix[sorted_idx[:, i], i].reshape(-1, 1) for i in range(y_true_matrix.shape[1])])\n",
    "    y_pred_values = np.hstack([y_pred_matrix[sorted_idx[:, i], i].reshape(-1, 1) for i in range(y_pred_matrix.shape[1])])\n",
    "    return y_true_values, y_pred_values\n",
    "    \n",
    "def recall_at_k(y_true_matrix, y_pred_matrix, k):\n",
    "    # get order of hits for each user\n",
    "    sorted_idx = np.argsort(-y_true_matrix, axis=0)\n",
    "    # order each columns (users) using the sorted indices\n",
    "    y_true_values = np.hstack([y_true_matrix[sorted_idx[:, i], i].reshape(-1, 1) for i in range(y_true_matrix.shape[1])])\n",
    "    y_pred_values = np.hstack([y_pred_matrix[sorted_idx[:, i], i].reshape(-1, 1) for i in range(y_pred_matrix.shape[1])])\n",
    "    # get the k top recommendations for each users\n",
    "    return recall_score(y_true_values[:k, :].ravel(), y_pred_values[:k, :].ravel())\n",
    "\n",
    "def map_at_k(y_true_matrix, y_pred_matrix, k):\n",
    "    # get order of hits for each user\n",
    "    sorted_idx = np.argsort(-y_true_matrix, axis=0)\n",
    "    # order each columns (users) using the sorted indices\n",
    "    y_true_values = np.hstack([y_true_matrix[sorted_idx[:, i], i].reshape(-1, 1) for i in range(y_true_matrix.shape[1])])\n",
    "    y_pred_values = np.hstack([y_pred_matrix[sorted_idx[:, i], i].reshape(-1, 1) for i in range(y_pred_matrix.shape[1])])\n",
    "    # get the k top recommendations for each users\n",
    "#     return average_precision_score(y_true_values[:k, :].ravel(), y_pred_values[:k, :].ravel())\n",
    "    return np.mean(np.array([precision_score(y_true_values[:k, i], y_pred_values[:k, i]) for i in range(y_true_values.shape[1])])>0)\n",
    "\n",
    "print('-- RECALL')\n",
    "for k in [3, 5, 10]:\n",
    "    print(f'recall@{k}:', recall_at_k(users_true_labels.toarray(), users_predictions_binarized, k))\n",
    "\n",
    "print('-- Mean Average PRECISION')\n",
    "for k in [3, 5, 10]:\n",
    "    print(f'map@{k}:', map_at_k(users_true_labels.toarray(), users_predictions_binarized, k))\n",
    "\n"
   ]
  },
  {
   "cell_type": "code",
   "execution_count": 17,
   "metadata": {},
   "outputs": [
    {
     "data": {
      "text/plain": [
       "0.6067901934190608"
      ]
     },
     "execution_count": 17,
     "metadata": {},
     "output_type": "execute_result"
    }
   ],
   "source": [
    "def apk(actual, predicted, k=10):\n",
    "    \"\"\"\n",
    "    Computes the average precision at k.\n",
    "    This function computes the average prescision at k between two lists of\n",
    "    items.\n",
    "    Parameters\n",
    "    ----------\n",
    "    actual : list\n",
    "             A list of elements that are to be predicted (order doesn't matter)\n",
    "    predicted : list\n",
    "                A list of predicted elements (order does matter)\n",
    "    k : int, optional\n",
    "        The maximum number of predicted elements\n",
    "    Returns\n",
    "    -------\n",
    "    score : double\n",
    "            The average precision at k over the input lists\n",
    "    \"\"\"\n",
    "    if len(predicted)>k:\n",
    "        predicted = predicted[:k]\n",
    "\n",
    "    score = 0.0\n",
    "    num_hits = 0.0\n",
    "\n",
    "    for i,p in enumerate(predicted):\n",
    "        if p in actual and p not in predicted[:i]:\n",
    "            num_hits += 1.0\n",
    "            score += num_hits / (i+1.0)\n",
    "\n",
    "    if not actual:\n",
    "        return 0.0\n",
    "\n",
    "    return score / min(len(actual), k)\n",
    "\n",
    "def mapk(actual, predicted, k=10):\n",
    "    \"\"\"\n",
    "    Computes the mean average precision at k.\n",
    "    This function computes the mean average prescision at k between two lists\n",
    "    of lists of items.\n",
    "    Parameters\n",
    "    ----------\n",
    "    actual : list\n",
    "             A list of lists of elements that are to be predicted \n",
    "             (order doesn't matter in the lists)\n",
    "    predicted : list\n",
    "                A list of lists of predicted elements\n",
    "                (order matters in the lists)\n",
    "    k : int, optional\n",
    "        The maximum number of predicted elements\n",
    "    Returns\n",
    "    -------\n",
    "    score : double\n",
    "            The mean average precision at k over the input lists\n",
    "    \"\"\"\n",
    "    return np.mean([apk(a,p,k) for a,p in zip(actual, predicted)])\n",
    "\n",
    "# print('-- Mean Average PRECISION')\n",
    "# for k in [3, 5, 10]:\n",
    "#     print(f'map@{k}:', map_at_k(users_true_labels.toarray(), users_predictions_binarized, k))\n",
    "\n",
    "y_true_ordered, y_pred_ordered = get_ordered(users_true_labels.toarray(), users_predictions_binarized)\n",
    "y_true_mapped = list(map(lambda x: [f'{i}_{int(n)}' for i,n in enumerate(x) if n==1], y_true_ordered[:10].transpose().tolist()))\n",
    "y_pred_mapped = list(map(lambda x: [f'{i}_{int(n)}' for i,n in enumerate(x)], y_pred_ordered[:10].transpose().tolist()))\n",
    "\n",
    "mapk(y_true_mapped, y_pred_mapped, 10)\n",
    "# ap()"
   ]
  },
  {
   "cell_type": "code",
   "execution_count": null,
   "metadata": {},
   "outputs": [],
   "source": []
  }
 ],
 "metadata": {
  "kernelspec": {
   "display_name": "Python (data-science)",
   "language": "python",
   "name": "data-science"
  },
  "language_info": {
   "codemirror_mode": {
    "name": "ipython",
    "version": 3
   },
   "file_extension": ".py",
   "mimetype": "text/x-python",
   "name": "python",
   "nbconvert_exporter": "python",
   "pygments_lexer": "ipython3",
   "version": "3.7.3"
  }
 },
 "nbformat": 4,
 "nbformat_minor": 2
}
