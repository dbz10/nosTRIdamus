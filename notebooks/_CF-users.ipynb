{
 "cells": [
  {
   "cell_type": "code",
   "execution_count": 65,
   "metadata": {},
   "outputs": [],
   "source": [
    "import matplotlib.pyplot as plt\n",
    "import numpy as np\n",
    "import pandas as pd\n",
    "import re\n",
    "import json\n",
    "\n",
    "import mysql.connector\n",
    "\n",
    "%matplotlib inline"
   ]
  },
  {
   "cell_type": "markdown",
   "metadata": {},
   "source": [
    "## Race results"
   ]
  },
  {
   "cell_type": "code",
   "execution_count": 2,
   "metadata": {},
   "outputs": [],
   "source": [
    "cnx = mysql.connector.connect(user=cfg.mysql_user, database=cfg.mysql_db, password=cfg.mysql_pw, ssl_disabled=True)\n",
    "\n",
    "query = \"SELECT * FROM results;\"\n",
    "\n",
    "# execute the query and assign it to a pandas dataframe\n",
    "df_results = pd.read_sql(query, con=cnx)\n",
    "\n",
    "cnx.close()"
   ]
  },
  {
   "cell_type": "code",
   "execution_count": 3,
   "metadata": {},
   "outputs": [
    {
     "data": {
      "text/plain": [
       "643055"
      ]
     },
     "execution_count": 3,
     "metadata": {},
     "output_type": "execute_result"
    }
   ],
   "source": [
    "len(df_results.athlete.unique())"
   ]
  },
  {
   "cell_type": "markdown",
   "metadata": {},
   "source": [
    "## Races info"
   ]
  },
  {
   "cell_type": "code",
   "execution_count": 4,
   "metadata": {},
   "outputs": [],
   "source": [
    "cnx = mysql.connector.connect(user=cfg.mysql_user, database=cfg.mysql_db, password=cfg.mysql_pw, ssl_disabled=True)\n",
    "\n",
    "query = \"SELECT * FROM races;\"\n",
    "# execute the query and assign it to a pandas dataframe\n",
    "df_races = pd.read_sql(query, con=cnx)\n",
    "\n",
    "cnx.close()"
   ]
  },
  {
   "cell_type": "markdown",
   "metadata": {},
   "source": [
    "### Some processing on the datasets"
   ]
  },
  {
   "cell_type": "code",
   "execution_count": 26,
   "metadata": {},
   "outputs": [],
   "source": [
    "# -----------\n",
    "# -- RACES --\n",
    "# -----------\n",
    "\n",
    "\n",
    "# keep only active races\n",
    "df_races = df_races.loc[df_races['info'].dropna().index]\n",
    "\n",
    "# remove duplicates\n",
    "df_races = df_races.loc[df_races.race != 'worldchampionship70.3m']\n",
    "\n",
    "# remove worldchampionship\n",
    "df_races = df_races.loc[df_races.race != 'worldchampionship70.3']\n",
    "df_races = df_races.loc[df_races.race != 'worldchampionship']\n",
    "\n",
    "\n",
    "# add Country codes\n",
    "with open(\"./../data/geo-data/races_geo_info.json\", 'r') as f:\n",
    "    races_geo_info = json.loads(f.read())\n",
    "             \n",
    "df_races['country_code'] = None\n",
    "for race in df_races.race.values:\n",
    "    country_code = races_geo_info[race]\n",
    "    df_races.loc[df_races.race == race, 'country_code'] = races_geo_info[race]['components']['ISO_3166-1_alpha-3']\n",
    "\n",
    "# -----------\n",
    "# -- RESULTS --\n",
    "# -----------\n",
    "\n",
    "# worldchampionship70.3 and worldchampionship70.3m are the same race\n",
    "df_results.loc[df_results.race == \"worldchampionship70.3m\", 'race'] = 'worldchampionship70.3'\n",
    "\n",
    "# keep only results of non discontinued races\n",
    "df_results = df_results[df_results['race'].isin(df_races['race'])]\n",
    "\n",
    "# extract gender from division\n",
    "df_results['gender'] = df_results['division'].apply(lambda x: x[0])\n",
    "\n",
    "# convert date to datetime\n",
    "df_results['date'] = pd.to_datetime(df_results['date'])\n",
    "\n",
    "# str to int\n",
    "df_results['year'] = df_results['year'].apply(int)\n",
    "\n",
    "# keep only results from before 2019\n",
    "df_results = df_results.loc[df_results['year'] < 2019]\n",
    "\n",
    "# discard pro athletes\n",
    "df_results = df_results.loc[df_results.division.str.contains(\"PRO\") == False]\n",
    "\n",
    "# Add gender\n",
    "df_results['gender'] = None\n",
    "df_results.loc[df_results['division'].str.contains(\"M\"), 'gender'] = \"M\"\n",
    "df_results.loc[df_results['division'].str.contains(\"F\"), 'gender'] = \"F\""
   ]
  },
  {
   "cell_type": "markdown",
   "metadata": {},
   "source": [
    "### what do we have left to work with?"
   ]
  },
  {
   "cell_type": "code",
   "execution_count": 27,
   "metadata": {},
   "outputs": [
    {
     "name": "stdout",
     "output_type": "stream",
     "text": [
      "-- Results dataset --\n",
      "  Number of single results: 1592599\n",
      "  Number of athletes: 575481\n",
      "-- Races dataset --\n",
      "  Number of active races: 157\n"
     ]
    }
   ],
   "source": [
    "print('-- Results dataset --')\n",
    "print(f\"  Number of single results: {len(df_results)}\")\n",
    "print(f\"  Number of athletes: {len(df_results.athlete.unique())}\")\n",
    "\n",
    "print('-- Races dataset --')\n",
    "print(f\"  Number of active races: {len(df_races)}\")"
   ]
  },
  {
   "cell_type": "markdown",
   "metadata": {},
   "source": [
    "## Race count per athlete"
   ]
  },
  {
   "cell_type": "code",
   "execution_count": 28,
   "metadata": {},
   "outputs": [
    {
     "data": {
      "text/html": [
       "<div>\n",
       "<style scoped>\n",
       "    .dataframe tbody tr th:only-of-type {\n",
       "        vertical-align: middle;\n",
       "    }\n",
       "\n",
       "    .dataframe tbody tr th {\n",
       "        vertical-align: top;\n",
       "    }\n",
       "\n",
       "    .dataframe thead th {\n",
       "        text-align: right;\n",
       "    }\n",
       "</style>\n",
       "<table border=\"1\" class=\"dataframe\">\n",
       "  <thead>\n",
       "    <tr style=\"text-align: right;\">\n",
       "      <th></th>\n",
       "      <th>athlete</th>\n",
       "      <th>n_races</th>\n",
       "    </tr>\n",
       "  </thead>\n",
       "  <tbody>\n",
       "    <tr>\n",
       "      <th>521008</th>\n",
       "      <td>Taiwan Triathlete</td>\n",
       "      <td>686</td>\n",
       "    </tr>\n",
       "    <tr>\n",
       "      <th>130992</th>\n",
       "      <td>David Smith</td>\n",
       "      <td>174</td>\n",
       "    </tr>\n",
       "    <tr>\n",
       "      <th>386475</th>\n",
       "      <td>Michael Smith</td>\n",
       "      <td>156</td>\n",
       "    </tr>\n",
       "    <tr>\n",
       "      <th>128290</th>\n",
       "      <td>David Jones</td>\n",
       "      <td>152</td>\n",
       "    </tr>\n",
       "    <tr>\n",
       "      <th>488537</th>\n",
       "      <td>Scott Smith</td>\n",
       "      <td>133</td>\n",
       "    </tr>\n",
       "    <tr>\n",
       "      <th>265922</th>\n",
       "      <td>John Wragg</td>\n",
       "      <td>132</td>\n",
       "    </tr>\n",
       "    <tr>\n",
       "      <th>68891</th>\n",
       "      <td>Brian Smith</td>\n",
       "      <td>126</td>\n",
       "    </tr>\n",
       "    <tr>\n",
       "      <th>381071</th>\n",
       "      <td>Michael Brown</td>\n",
       "      <td>120</td>\n",
       "    </tr>\n",
       "    <tr>\n",
       "      <th>32060</th>\n",
       "      <td>Andrew Smith</td>\n",
       "      <td>113</td>\n",
       "    </tr>\n",
       "    <tr>\n",
       "      <th>128731</th>\n",
       "      <td>David Lee</td>\n",
       "      <td>111</td>\n",
       "    </tr>\n",
       "  </tbody>\n",
       "</table>\n",
       "</div>"
      ],
      "text/plain": [
       "                  athlete  n_races\n",
       "521008  Taiwan Triathlete      686\n",
       "130992        David Smith      174\n",
       "386475      Michael Smith      156\n",
       "128290        David Jones      152\n",
       "488537        Scott Smith      133\n",
       "265922         John Wragg      132\n",
       "68891         Brian Smith      126\n",
       "381071      Michael Brown      120\n",
       "32060        Andrew Smith      113\n",
       "128731          David Lee      111"
      ]
     },
     "execution_count": 28,
     "metadata": {},
     "output_type": "execute_result"
    }
   ],
   "source": [
    "athletes_df = (df_results.groupby('athlete')['division']\n",
    "     .size()\n",
    "     .reset_index()\n",
    "     .rename(columns={'division': 'n_races'})\n",
    ")\n",
    "athletes_df.sort_values(by=\"n_races\", ascending=False).head(10)"
   ]
  },
  {
   "cell_type": "markdown",
   "metadata": {},
   "source": [
    "#### To prevent cold-start keep only people with > 4 races. Also remove people with > 100 races"
   ]
  },
  {
   "cell_type": "code",
   "execution_count": 29,
   "metadata": {},
   "outputs": [
    {
     "data": {
      "text/html": [
       "<div>\n",
       "<style scoped>\n",
       "    .dataframe tbody tr th:only-of-type {\n",
       "        vertical-align: middle;\n",
       "    }\n",
       "\n",
       "    .dataframe tbody tr th {\n",
       "        vertical-align: top;\n",
       "    }\n",
       "\n",
       "    .dataframe thead th {\n",
       "        text-align: right;\n",
       "    }\n",
       "</style>\n",
       "<table border=\"1\" class=\"dataframe\">\n",
       "  <thead>\n",
       "    <tr style=\"text-align: right;\">\n",
       "      <th></th>\n",
       "      <th>id</th>\n",
       "      <th>athlete</th>\n",
       "      <th>division</th>\n",
       "      <th>rankdiv</th>\n",
       "      <th>rankgender</th>\n",
       "      <th>rankoverall</th>\n",
       "      <th>swim</th>\n",
       "      <th>t1</th>\n",
       "      <th>bike</th>\n",
       "      <th>t2</th>\n",
       "      <th>...</th>\n",
       "      <th>bib</th>\n",
       "      <th>country</th>\n",
       "      <th>date</th>\n",
       "      <th>fulldata</th>\n",
       "      <th>score</th>\n",
       "      <th>swim_score</th>\n",
       "      <th>run_score</th>\n",
       "      <th>bike_score</th>\n",
       "      <th>gender</th>\n",
       "      <th>n_races</th>\n",
       "    </tr>\n",
       "  </thead>\n",
       "  <tbody>\n",
       "    <tr>\n",
       "      <th>0</th>\n",
       "      <td>1518207</td>\n",
       "      <td>Al Tarkington</td>\n",
       "      <td>M75-79</td>\n",
       "      <td>1</td>\n",
       "      <td>1073</td>\n",
       "      <td>1209</td>\n",
       "      <td>2440</td>\n",
       "      <td>678</td>\n",
       "      <td>11150</td>\n",
       "      <td>469</td>\n",
       "      <td>...</td>\n",
       "      <td>167</td>\n",
       "      <td>USA</td>\n",
       "      <td>2016-11-13</td>\n",
       "      <td>0</td>\n",
       "      <td>98.4</td>\n",
       "      <td>100.0</td>\n",
       "      <td>86.1</td>\n",
       "      <td>100.0</td>\n",
       "      <td>M</td>\n",
       "      <td>10</td>\n",
       "    </tr>\n",
       "    <tr>\n",
       "      <th>1</th>\n",
       "      <td>1518209</td>\n",
       "      <td>Tadashi Horiuchi</td>\n",
       "      <td>M75-79</td>\n",
       "      <td>2</td>\n",
       "      <td>1141</td>\n",
       "      <td>1301</td>\n",
       "      <td>3539</td>\n",
       "      <td>679</td>\n",
       "      <td>13127</td>\n",
       "      <td>461</td>\n",
       "      <td>...</td>\n",
       "      <td>1779</td>\n",
       "      <td>JPN</td>\n",
       "      <td>2016-11-13</td>\n",
       "      <td>0</td>\n",
       "      <td>97.1</td>\n",
       "      <td>77.2</td>\n",
       "      <td>100.0</td>\n",
       "      <td>90.7</td>\n",
       "      <td>M</td>\n",
       "      <td>12</td>\n",
       "    </tr>\n",
       "    <tr>\n",
       "      <th>2</th>\n",
       "      <td>1518210</td>\n",
       "      <td>Graham Crocker</td>\n",
       "      <td>M65-69</td>\n",
       "      <td>1</td>\n",
       "      <td>181</td>\n",
       "      <td>202</td>\n",
       "      <td>1895</td>\n",
       "      <td>377</td>\n",
       "      <td>9944</td>\n",
       "      <td>243</td>\n",
       "      <td>...</td>\n",
       "      <td>133</td>\n",
       "      <td>AUS</td>\n",
       "      <td>2016-11-13</td>\n",
       "      <td>0</td>\n",
       "      <td>99.9</td>\n",
       "      <td>100.0</td>\n",
       "      <td>100.0</td>\n",
       "      <td>99.7</td>\n",
       "      <td>M</td>\n",
       "      <td>24</td>\n",
       "    </tr>\n",
       "    <tr>\n",
       "      <th>3</th>\n",
       "      <td>1518211</td>\n",
       "      <td>Satoshi Tomita</td>\n",
       "      <td>M80-84</td>\n",
       "      <td>1</td>\n",
       "      <td>1281</td>\n",
       "      <td>1475</td>\n",
       "      <td>3135</td>\n",
       "      <td>784</td>\n",
       "      <td>13528</td>\n",
       "      <td>726</td>\n",
       "      <td>...</td>\n",
       "      <td>1780</td>\n",
       "      <td>JPN</td>\n",
       "      <td>2016-11-13</td>\n",
       "      <td>0</td>\n",
       "      <td>100.0</td>\n",
       "      <td>100.0</td>\n",
       "      <td>100.0</td>\n",
       "      <td>100.0</td>\n",
       "      <td>M</td>\n",
       "      <td>15</td>\n",
       "    </tr>\n",
       "    <tr>\n",
       "      <th>4</th>\n",
       "      <td>1518213</td>\n",
       "      <td>Ignacio Herrero</td>\n",
       "      <td>M55-59</td>\n",
       "      <td>1</td>\n",
       "      <td>134</td>\n",
       "      <td>152</td>\n",
       "      <td>2150</td>\n",
       "      <td>350</td>\n",
       "      <td>9711</td>\n",
       "      <td>282</td>\n",
       "      <td>...</td>\n",
       "      <td>1737</td>\n",
       "      <td>ESP</td>\n",
       "      <td>2016-11-13</td>\n",
       "      <td>0</td>\n",
       "      <td>99.6</td>\n",
       "      <td>100.0</td>\n",
       "      <td>98.3</td>\n",
       "      <td>99.0</td>\n",
       "      <td>M</td>\n",
       "      <td>9</td>\n",
       "    </tr>\n",
       "  </tbody>\n",
       "</table>\n",
       "<p>5 rows × 25 columns</p>\n",
       "</div>"
      ],
      "text/plain": [
       "        id           athlete division  rankdiv  rankgender  rankoverall  swim  \\\n",
       "0  1518207     Al Tarkington   M75-79        1        1073         1209  2440   \n",
       "1  1518209  Tadashi Horiuchi   M75-79        2        1141         1301  3539   \n",
       "2  1518210    Graham Crocker   M65-69        1         181          202  1895   \n",
       "3  1518211    Satoshi Tomita   M80-84        1        1281         1475  3135   \n",
       "4  1518213   Ignacio Herrero   M55-59        1         134          152  2150   \n",
       "\n",
       "    t1   bike   t2  ...   bib  country       date fulldata  score  swim_score  \\\n",
       "0  678  11150  469  ...   167      USA 2016-11-13        0   98.4       100.0   \n",
       "1  679  13127  461  ...  1779      JPN 2016-11-13        0   97.1        77.2   \n",
       "2  377   9944  243  ...   133      AUS 2016-11-13        0   99.9       100.0   \n",
       "3  784  13528  726  ...  1780      JPN 2016-11-13        0  100.0       100.0   \n",
       "4  350   9711  282  ...  1737      ESP 2016-11-13        0   99.6       100.0   \n",
       "\n",
       "  run_score bike_score  gender  n_races  \n",
       "0      86.1      100.0       M       10  \n",
       "1     100.0       90.7       M       12  \n",
       "2     100.0       99.7       M       24  \n",
       "3     100.0      100.0       M       15  \n",
       "4      98.3       99.0       M        9  \n",
       "\n",
       "[5 rows x 25 columns]"
      ]
     },
     "execution_count": 29,
     "metadata": {},
     "output_type": "execute_result"
    },
    {
     "data": {
      "image/png": "[encoded data removed]",
      "text/plain": [
       "<Figure size 576x216 with 1 Axes>"
      ]
     },
     "metadata": {
      "needs_background": "light"
     },
     "output_type": "display_data"
    }
   ],
   "source": [
    "# we will use this filtered df from now on\n",
    "df_results_filtered = df_results.merge(athletes_df, left_on=\"athlete\", right_on=\"athlete\", how=\"left\")\n",
    "df_results_filtered = df_results_filtered.loc[(df_results_filtered['n_races']>3) & (df_results_filtered['n_races']<=100)]\n",
    "\n",
    "# also remove athletes in athlete_df\n",
    "athletes_df = athletes_df.loc[(athletes_df['n_races']>3) & (athletes_df['n_races']<=100)]\n",
    "\n",
    "df_results_filtered['n_races'].hist(bins=np.arange(-0.99, 100.99, 1), figsize=(8, 3))\n",
    "df_results_filtered.head(5)"
   ]
  },
  {
   "cell_type": "markdown",
   "metadata": {},
   "source": [
    "A majority of athletes have < 20 races"
   ]
  },
  {
   "cell_type": "code",
   "execution_count": 30,
   "metadata": {},
   "outputs": [
    {
     "name": "stdout",
     "output_type": "stream",
     "text": [
      "-- Results dataset --\n",
      "  Number of single results: 909284\n",
      "  Number of athletes: 126612\n"
     ]
    }
   ],
   "source": [
    "print('-- Results dataset --')\n",
    "print(f\"  Number of single results: {len(df_results_filtered)}\")\n",
    "print(f\"  Number of athletes: {len(df_results_filtered.athlete.unique())}\")"
   ]
  },
  {
   "cell_type": "markdown",
   "metadata": {},
   "source": [
    "## Anonimize entrants"
   ]
  },
  {
   "cell_type": "code",
   "execution_count": 55,
   "metadata": {},
   "outputs": [],
   "source": [
    "user_hash = {}\n",
    "\n",
    "for i,user in enumerate(df_results_filtered.athlete.unique()):\n",
    "    user_hash[user] = f'u{i}'\n",
    "\n",
    "df_results_filtered.loc[:, 'athlete'] = df_results_filtered.athlete.map(lambda x: user_hash[x])"
   ]
  },
  {
   "cell_type": "markdown",
   "metadata": {},
   "source": [
    "# MODEL 1: the more you do a race, the more you implicitely like it"
   ]
  },
  {
   "cell_type": "markdown",
   "metadata": {},
   "source": [
    "#### Count of each race for each entrants"
   ]
  },
  {
   "cell_type": "code",
   "execution_count": 61,
   "metadata": {},
   "outputs": [
    {
     "data": {
      "text/html": [
       "<div>\n",
       "<style scoped>\n",
       "    .dataframe tbody tr th:only-of-type {\n",
       "        vertical-align: middle;\n",
       "    }\n",
       "\n",
       "    .dataframe tbody tr th {\n",
       "        vertical-align: top;\n",
       "    }\n",
       "\n",
       "    .dataframe thead th {\n",
       "        text-align: right;\n",
       "    }\n",
       "</style>\n",
       "<table border=\"1\" class=\"dataframe\">\n",
       "  <thead>\n",
       "    <tr style=\"text-align: right;\">\n",
       "      <th></th>\n",
       "      <th>athlete</th>\n",
       "      <th>race</th>\n",
       "      <th>count</th>\n",
       "    </tr>\n",
       "  </thead>\n",
       "  <tbody>\n",
       "    <tr>\n",
       "      <th>0</th>\n",
       "      <td>u0</td>\n",
       "      <td>brazil</td>\n",
       "      <td>1</td>\n",
       "    </tr>\n",
       "    <tr>\n",
       "      <th>1</th>\n",
       "      <td>u0</td>\n",
       "      <td>california70.3</td>\n",
       "      <td>1</td>\n",
       "    </tr>\n",
       "    <tr>\n",
       "      <th>2</th>\n",
       "      <td>u0</td>\n",
       "      <td>cozumel</td>\n",
       "      <td>2</td>\n",
       "    </tr>\n",
       "    <tr>\n",
       "      <th>3</th>\n",
       "      <td>u0</td>\n",
       "      <td>honu70.3</td>\n",
       "      <td>1</td>\n",
       "    </tr>\n",
       "    <tr>\n",
       "      <th>4</th>\n",
       "      <td>u0</td>\n",
       "      <td>loscabos</td>\n",
       "      <td>2</td>\n",
       "    </tr>\n",
       "  </tbody>\n",
       "</table>\n",
       "</div>"
      ],
      "text/plain": [
       "  athlete            race  count\n",
       "0      u0          brazil      1\n",
       "1      u0  california70.3      1\n",
       "2      u0         cozumel      2\n",
       "3      u0        honu70.3      1\n",
       "4      u0        loscabos      2"
      ]
     },
     "execution_count": 61,
     "metadata": {},
     "output_type": "execute_result"
    }
   ],
   "source": [
    "user_data = (\n",
    "    df_results_filtered\n",
    "        .groupby(['athlete', 'race'])\n",
    "        .size()\n",
    "        .reset_index()\n",
    "        .rename(columns={0: 'count'})\n",
    ")\n",
    "\n",
    "user_data.head()"
   ]
  },
  {
   "cell_type": "markdown",
   "metadata": {},
   "source": [
    "#### How many times the race has been done"
   ]
  },
  {
   "cell_type": "code",
   "execution_count": 62,
   "metadata": {},
   "outputs": [
    {
     "data": {
      "text/html": [
       "<div>\n",
       "<style scoped>\n",
       "    .dataframe tbody tr th:only-of-type {\n",
       "        vertical-align: middle;\n",
       "    }\n",
       "\n",
       "    .dataframe tbody tr th {\n",
       "        vertical-align: top;\n",
       "    }\n",
       "\n",
       "    .dataframe thead th {\n",
       "        text-align: right;\n",
       "    }\n",
       "</style>\n",
       "<table border=\"1\" class=\"dataframe\">\n",
       "  <thead>\n",
       "    <tr style=\"text-align: right;\">\n",
       "      <th></th>\n",
       "      <th>race</th>\n",
       "      <th>total_count</th>\n",
       "    </tr>\n",
       "  </thead>\n",
       "  <tbody>\n",
       "    <tr>\n",
       "      <th>0</th>\n",
       "      <td>Arizona70.3</td>\n",
       "      <td>3988</td>\n",
       "    </tr>\n",
       "    <tr>\n",
       "      <th>1</th>\n",
       "      <td>DunLaoghaire70.3</td>\n",
       "      <td>511</td>\n",
       "    </tr>\n",
       "    <tr>\n",
       "      <th>2</th>\n",
       "      <td>Florianopolis70.3</td>\n",
       "      <td>497</td>\n",
       "    </tr>\n",
       "    <tr>\n",
       "      <th>3</th>\n",
       "      <td>Haugesund70.3</td>\n",
       "      <td>1438</td>\n",
       "    </tr>\n",
       "    <tr>\n",
       "      <th>4</th>\n",
       "      <td>IMsubicbay</td>\n",
       "      <td>841</td>\n",
       "    </tr>\n",
       "  </tbody>\n",
       "</table>\n",
       "</div>"
      ],
      "text/plain": [
       "                race  total_count\n",
       "0        Arizona70.3         3988\n",
       "1   DunLaoghaire70.3          511\n",
       "2  Florianopolis70.3          497\n",
       "3      Haugesund70.3         1438\n",
       "4         IMsubicbay          841"
      ]
     },
     "execution_count": 62,
     "metadata": {},
     "output_type": "execute_result"
    }
   ],
   "source": [
    "race_popularity = (user_data\n",
    "    .groupby(by = ['race'])['count']\n",
    "    .sum()\n",
    "    .reset_index()\n",
    "    .rename(columns = {'count': 'total_count'})\n",
    ")\n",
    "race_popularity.head()"
   ]
  },
  {
   "cell_type": "code",
   "execution_count": 64,
   "metadata": {},
   "outputs": [
    {
     "name": "stdout",
     "output_type": "stream",
     "text": [
      "count      153.00000\n",
      "mean      5943.03268\n",
      "std       6168.27001\n",
      "min        126.00000\n",
      "25%       1630.00000\n",
      "50%       3399.00000\n",
      "75%       8303.00000\n",
      "max      30975.00000\n",
      "Name: total_count, dtype: float64\n"
     ]
    }
   ],
   "source": [
    "print(race_popularity['total_count'].describe())\n",
    "# print(race_popularity['total_count'].quantile(np.arange(.5, 1, .01)))"
   ]
  },
  {
   "cell_type": "markdown",
   "metadata": {},
   "source": [
    "#### Add demographics info for users (if we want to filter later)"
   ]
  },
  {
   "cell_type": "code",
   "execution_count": 63,
   "metadata": {},
   "outputs": [
    {
     "data": {
      "text/html": [
       "<div>\n",
       "<style scoped>\n",
       "    .dataframe tbody tr th:only-of-type {\n",
       "        vertical-align: middle;\n",
       "    }\n",
       "\n",
       "    .dataframe tbody tr th {\n",
       "        vertical-align: top;\n",
       "    }\n",
       "\n",
       "    .dataframe thead th {\n",
       "        text-align: right;\n",
       "    }\n",
       "</style>\n",
       "<table border=\"1\" class=\"dataframe\">\n",
       "  <thead>\n",
       "    <tr style=\"text-align: right;\">\n",
       "      <th></th>\n",
       "      <th>athlete</th>\n",
       "      <th>race</th>\n",
       "      <th>count</th>\n",
       "      <th>total_count</th>\n",
       "      <th>gender</th>\n",
       "      <th>country</th>\n",
       "    </tr>\n",
       "  </thead>\n",
       "  <tbody>\n",
       "    <tr>\n",
       "      <th>0</th>\n",
       "      <td>u0</td>\n",
       "      <td>brazil</td>\n",
       "      <td>1</td>\n",
       "      <td>10406</td>\n",
       "      <td>M</td>\n",
       "      <td>USA</td>\n",
       "    </tr>\n",
       "    <tr>\n",
       "      <th>1</th>\n",
       "      <td>u0</td>\n",
       "      <td>california70.3</td>\n",
       "      <td>1</td>\n",
       "      <td>24896</td>\n",
       "      <td>M</td>\n",
       "      <td>USA</td>\n",
       "    </tr>\n",
       "    <tr>\n",
       "      <th>2</th>\n",
       "      <td>u0</td>\n",
       "      <td>cozumel</td>\n",
       "      <td>2</td>\n",
       "      <td>12894</td>\n",
       "      <td>M</td>\n",
       "      <td>USA</td>\n",
       "    </tr>\n",
       "    <tr>\n",
       "      <th>3</th>\n",
       "      <td>u0</td>\n",
       "      <td>honu70.3</td>\n",
       "      <td>1</td>\n",
       "      <td>13529</td>\n",
       "      <td>M</td>\n",
       "      <td>USA</td>\n",
       "    </tr>\n",
       "    <tr>\n",
       "      <th>4</th>\n",
       "      <td>u0</td>\n",
       "      <td>loscabos</td>\n",
       "      <td>2</td>\n",
       "      <td>2987</td>\n",
       "      <td>M</td>\n",
       "      <td>USA</td>\n",
       "    </tr>\n",
       "    <tr>\n",
       "      <th>5</th>\n",
       "      <td>u0</td>\n",
       "      <td>mardelplata</td>\n",
       "      <td>1</td>\n",
       "      <td>1359</td>\n",
       "      <td>M</td>\n",
       "      <td>USA</td>\n",
       "    </tr>\n",
       "    <tr>\n",
       "      <th>6</th>\n",
       "      <td>u0</td>\n",
       "      <td>xiamen70.3</td>\n",
       "      <td>2</td>\n",
       "      <td>1311</td>\n",
       "      <td>M</td>\n",
       "      <td>USA</td>\n",
       "    </tr>\n",
       "    <tr>\n",
       "      <th>7</th>\n",
       "      <td>u1</td>\n",
       "      <td>cairns</td>\n",
       "      <td>1</td>\n",
       "      <td>5841</td>\n",
       "      <td>M</td>\n",
       "      <td>JPN</td>\n",
       "    </tr>\n",
       "    <tr>\n",
       "      <th>8</th>\n",
       "      <td>u1</td>\n",
       "      <td>canada70.3</td>\n",
       "      <td>1</td>\n",
       "      <td>1710</td>\n",
       "      <td>M</td>\n",
       "      <td>JPN</td>\n",
       "    </tr>\n",
       "    <tr>\n",
       "      <th>9</th>\n",
       "      <td>u1</td>\n",
       "      <td>honu70.3</td>\n",
       "      <td>3</td>\n",
       "      <td>13529</td>\n",
       "      <td>M</td>\n",
       "      <td>JPN</td>\n",
       "    </tr>\n",
       "  </tbody>\n",
       "</table>\n",
       "</div>"
      ],
      "text/plain": [
       "  athlete            race  count  total_count gender country\n",
       "0      u0          brazil      1        10406      M     USA\n",
       "1      u0  california70.3      1        24896      M     USA\n",
       "2      u0         cozumel      2        12894      M     USA\n",
       "3      u0        honu70.3      1        13529      M     USA\n",
       "4      u0        loscabos      2         2987      M     USA\n",
       "5      u0     mardelplata      1         1359      M     USA\n",
       "6      u0      xiamen70.3      2         1311      M     USA\n",
       "7      u1          cairns      1         5841      M     JPN\n",
       "8      u1      canada70.3      1         1710      M     JPN\n",
       "9      u1        honu70.3      3        13529      M     JPN"
      ]
     },
     "execution_count": 63,
     "metadata": {},
     "output_type": "execute_result"
    }
   ],
   "source": [
    "gender = (df_results_filtered\n",
    "     .groupby(['athlete', 'gender'])\n",
    "     .size()\n",
    "     .reset_index()\n",
    "     .rename(columns={0: 'n'})\n",
    "     .pivot(index='athlete', columns='gender', values='n')\n",
    "     .idxmax(axis=1)\n",
    "     .rename('gender')\n",
    ")\n",
    "\n",
    "country = (df_results_filtered\n",
    "     .groupby(['athlete', 'country'])\n",
    "     .size()\n",
    "     .reset_index()\n",
    "     .rename(columns={0: 'n'})\n",
    "     .pivot(index='athlete', columns='country', values='n')\n",
    "     .idxmax(axis=1)\n",
    "     .rename('country')\n",
    ")\n",
    "\n",
    "user_data_with_race_count = user_data.merge(race_popularity, left_on = 'race', right_on = 'race', how = 'left')\n",
    "user_data_with_race_count = user_data_with_race_count.merge(gender, left_on = 'athlete', right_on = 'athlete', how = 'left')\n",
    "user_data_with_race_count = user_data_with_race_count.merge(country, left_on = 'athlete', right_on = 'athlete', how = 'left')\n",
    "user_data_with_race_count.head(10)"
   ]
  },
  {
   "cell_type": "markdown",
   "metadata": {},
   "source": [
    "## --## -- Implemeting the Nearest Neighbor Model"
   ]
  },
  {
   "cell_type": "markdown",
   "metadata": {},
   "source": [
    "#### Reshaping the Data\n",
    "\n",
    "For K-Nearest Neighbors, we want the data to be in an m x n array, where m is the number of artists and n is the number of users. To reshape the dataframe, we’ll pivot the dataframe to the wide format with artists as rows and users as columns. Then we’ll fill the missing observations with 0s since we’re going to be performing linear algebra operations (calculating distances between vectors). Finally, we transform the values of the dataframe into a scipy sparse matrix for more efficient calculations."
   ]
  },
  {
   "cell_type": "code",
   "execution_count": 280,
   "metadata": {},
   "outputs": [],
   "source": [
    "from scipy.sparse import csr_matrix, save_npz\n",
    "\n",
    "wide_race_data = user_data_with_race_count.pivot(index = 'race', columns = 'athlete', values = 'count').fillna(0)\n",
    "wide_race_data_sparse = csr_matrix(wide_race_data.values)\n",
    "\n",
    "save_npz('./../data/matrices/ironman_sparse_race_matrix.npz', wide_race_data_sparse)"
   ]
  },
  {
   "cell_type": "markdown",
   "metadata": {},
   "source": [
    "#### Fitting the Model\n",
    "\n",
    "Time to implement the model. We’ll initialize the NearestNeighbors class as model_knn and fit our sparse matrix to the instance. By specifying the metric = cosine, the model will measure similarity bectween artist vectors by using cosine similarity."
   ]
  },
  {
   "cell_type": "code",
   "execution_count": 285,
   "metadata": {},
   "outputs": [
    {
     "data": {
      "text/plain": [
       "NearestNeighbors(algorithm='brute', leaf_size=30, metric='cosine',\n",
       "         metric_params=None, n_jobs=None, n_neighbors=5, p=2, radius=1.0)"
      ]
     },
     "execution_count": 285,
     "metadata": {},
     "output_type": "execute_result"
    }
   ],
   "source": [
    "from sklearn.neighbors import NearestNeighbors\n",
    "\n",
    "model_knn = NearestNeighbors(metric = 'cosine', algorithm = 'brute')\n",
    "model_knn.fit(wide_race_data_sparse)"
   ]
  },
  {
   "cell_type": "markdown",
   "metadata": {},
   "source": [
    "#### Making Recommendations\n",
    "\n",
    "And we’re finally ready to make some recommendations!"
   ]
  },
  {
   "cell_type": "code",
   "execution_count": 286,
   "metadata": {},
   "outputs": [
    {
     "name": "stdout",
     "output_type": "stream",
     "text": [
      "Recommendations for monterrey70.3:\n",
      "\n",
      "1: cancun70.3, with distance of 0.6506954930959081.\n",
      "2: campeche70.3, with distance of 0.6885058762301839.\n",
      "3: loscabos70.3, with distance of 0.7733380585562504.\n",
      "4: cozumel, with distance of 0.7915281981742285.\n",
      "5: loscabos, with distance of 0.822613959647401.\n",
      "6: longhorn70.3, with distance of 0.9016755648716765.\n",
      "7: miami70.3, with distance of 0.9115206155799767.\n",
      "8: costarica70.3, with distance of 0.9137633099205483.\n",
      "9: texas, with distance of 0.9281587961262776.\n"
     ]
    }
   ],
   "source": [
    "query_index = 93#np.random.choice(wide_race_data.shape[0])\n",
    "distances, indices = model_knn.kneighbors(wide_race_data.iloc[query_index, :].values.reshape(1, -1), n_neighbors = 10)\n",
    "\n",
    "for i in range(0, len(distances.flatten())):\n",
    "    if i == 0:\n",
    "        print(f'Recommendations for {wide_race_data.index[query_index]}:\\n')\n",
    "    else:\n",
    "        print(f'{i}: {wide_race_data.index[indices.flatten()[i]]}, with distance of {distances.flatten()[i]}.')"
   ]
  },
  {
   "cell_type": "markdown",
   "metadata": {},
   "source": [
    "# MODEL 2: Binary racing. Either an entrants raced a race or not\n",
    "\n",
    "Previously, we used the actual play counts as values in our artist vectors. Another approach would be convert each vector into a binary (1 or 0): either a user played the song or they did not. We can do this by applying the `sign` function in `numpy` to each column in the dataframe."
   ]
  },
  {
   "cell_type": "code",
   "execution_count": 287,
   "metadata": {},
   "outputs": [],
   "source": [
    "wide_race_data_zero_one = wide_race_data.apply(np.sign)\n",
    "wide_race_data_zero_one_sparse = csr_matrix(wide_race_data_zero_one.values)\n",
    "\n",
    "save_npz('./../data/matrices/ironman_sparse_race_matrix_binary.npz', wide_race_data_zero_one_sparse)"
   ]
  },
  {
   "cell_type": "code",
   "execution_count": 288,
   "metadata": {},
   "outputs": [
    {
     "data": {
      "text/plain": [
       "NearestNeighbors(algorithm='brute', leaf_size=30, metric='cosine',\n",
       "         metric_params=None, n_jobs=None, n_neighbors=5, p=2, radius=1.0)"
      ]
     },
     "execution_count": 288,
     "metadata": {},
     "output_type": "execute_result"
    }
   ],
   "source": [
    "model_nn_binary = NearestNeighbors(metric='cosine', algorithm='brute')\n",
    "model_nn_binary.fit(wide_race_data_zero_one_sparse)"
   ]
  },
  {
   "cell_type": "markdown",
   "metadata": {},
   "source": [
    "## Let’s make a quick comparison. Which recommendations look better?"
   ]
  },
  {
   "cell_type": "code",
   "execution_count": 289,
   "metadata": {},
   "outputs": [
    {
     "name": "stdout",
     "output_type": "stream",
     "text": [
      "Recommendations for monterrey70.3:\n",
      "\n",
      "1: cancun70.3, with distance of 0.5949644688540725.\n",
      "2: campeche70.3, with distance of 0.6477200876756787.\n",
      "3: loscabos70.3, with distance of 0.7559538413198565.\n",
      "4: cozumel, with distance of 0.7783699298814024.\n",
      "5: loscabos, with distance of 0.8219352857217571.\n",
      "6: miami70.3, with distance of 0.8806283649860985.\n",
      "7: costarica70.3, with distance of 0.8820301828306472.\n",
      "8: longhorn70.3, with distance of 0.8940817121886645.\n",
      "9: cartagena70.3, with distance of 0.8947414092533981.\n"
     ]
    }
   ],
   "source": [
    "distances, indices = model_nn_binary.kneighbors(wide_race_data_zero_one.iloc[query_index, :].values.reshape(1, -1), n_neighbors = 10)\n",
    "\n",
    "for i in range(0, len(distances.flatten())):\n",
    "    if i == 0:\n",
    "        print(f'Recommendations for {wide_race_data_zero_one.index[query_index]}:\\n')\n",
    "    else:\n",
    "        print(f'{i}: {wide_race_data_zero_one.index[indices.flatten()[i]]}, with distance of {distances.flatten()[i]}.')"
   ]
  },
  {
   "cell_type": "markdown",
   "metadata": {},
   "source": [
    "The binary data representation recommendations look similar. The distances are actually lower.\n",
    "\n",
    "Again, it’s not obvious which method is better. Since ultimately it’s the users’s future actions that indicate which recommender system is better, it’s a perfect candidate for A/B Testing. For now, I’ll stick with the non-binary data representation model."
   ]
  },
  {
   "cell_type": "markdown",
   "metadata": {},
   "source": [
    "## Implement pre-filtering"
   ]
  },
  {
   "cell_type": "code",
   "execution_count": 290,
   "metadata": {},
   "outputs": [
    {
     "name": "stderr",
     "output_type": "stream",
     "text": [
      "/miniconda3/envs/data-science/lib/python3.7/site-packages/ipykernel_launcher.py:2: SettingWithCopyWarning: \n",
      "A value is trying to be set on a copy of a slice from a DataFrame.\n",
      "Try using .loc[row_indexer,col_indexer] = value instead\n",
      "\n",
      "See the caveats in the documentation: http://pandas.pydata.org/pandas-docs/stable/indexing.html#indexing-view-versus-copy\n",
      "  \n"
     ]
    }
   ],
   "source": [
    "race_filter = df_races[['race', 'region', 'country_code']]\n",
    "race_filter['is_70.3'] = race_filter['race'].str.contains('70.3')\n",
    "race_filter = race_filter.set_index('race')\n",
    "race_filter.head()\n",
    "\n",
    "# make sure the filtering df has the same data/order than the wide_race_data\n",
    "df_to_filter_races = pd.DataFrame(list(wide_race_data.index.map(lambda x: race_filter.loc[x].to_dict())), index=wide_race_data.index)"
   ]
  },
  {
   "cell_type": "code",
   "execution_count": 292,
   "metadata": {},
   "outputs": [
    {
     "data": {
      "text/plain": [
       "((153, 3), (157, 3))"
      ]
     },
     "execution_count": 292,
     "metadata": {},
     "output_type": "execute_result"
    }
   ],
   "source": [
    "df_to_filter_races.shape, race_filter.shape"
   ]
  },
  {
   "cell_type": "code",
   "execution_count": 295,
   "metadata": {},
   "outputs": [],
   "source": [
    "def get_filtered_races(filterBy, value, df=df_to_filter_races, returnIndices=False):\n",
    "    if not filterBy:\n",
    "        selection = df\n",
    "    else:\n",
    "        selection = df.loc[df[filterBy] == value]\n",
    "    if returnIndices:\n",
    "        return selection.index.map(lambda x: df.index.get_loc(x)).tolist()\n",
    "    else:\n",
    "        return selection.index.values"
   ]
  },
  {
   "cell_type": "code",
   "execution_count": 379,
   "metadata": {},
   "outputs": [],
   "source": [
    "def get_prediction(similarTo, n=10, filterBy=False, value=False):\n",
    "    if filterBy:\n",
    "        selection_races = get_filtered_races(filterBy, value, df=df_to_filter_races)\n",
    "        data = user_data_with_race_count.loc[user_data_with_race_count['race'].isin(selection_races)]\n",
    "    else:\n",
    "        data = user_data_with_race_count\n",
    "    wide_data = data.pivot(index = 'race', columns = 'athlete', values = 'count')\n",
    "    \n",
    "    if similarTo not in wide_data.index:\n",
    "        row_to_add = (user_data_with_race_count\n",
    "                          .loc[user_data_with_race_count['race'] == similarTo]\n",
    "                          .pivot(index='race', columns='athlete', values='count')\n",
    "                     )\n",
    "        # add row back if it was filtered out\n",
    "        wide_data = pd.concat([wide_data, row_to_add], sort=False)\n",
    "    wide_data.fillna(0, inplace=True)\n",
    "    data_sparse = csr_matrix(wide_data.values)\n",
    "        \n",
    "    model_nn_binary = NearestNeighbors(metric='cosine', algorithm='brute')\n",
    "    model_nn_binary.fit(data_sparse)\n",
    "    query_index = np.where(wide_data.index == similarTo)[0][0]\n",
    "    distances, indices = model_nn_binary.kneighbors(wide_data.iloc[query_index, :].values.reshape(1, -1), n_neighbors = n+1)\n",
    "    distances = distances.flatten()\n",
    "    indices = indices.flatten()\n",
    "    return [(wide_data.index[indices[i]], distances[i]) for i in range(1, len(distances))]"
   ]
  },
  {
   "cell_type": "code",
   "execution_count": 342,
   "metadata": {},
   "outputs": [
    {
     "data": {
      "text/plain": [
       "[('arizona', 0.7736384898213984),\n",
       " ('california70.3', 0.8404352348107171),\n",
       " ('stgeorge70.3', 0.8605120490629753),\n",
       " ('indianwellslaquinta70.3', 0.8769113761938605),\n",
       " ('santarosa70.3', 0.8917080098016437),\n",
       " ('boulder70.3', 0.9056888164995188),\n",
       " ('coeurdalene70.3', 0.9120193851189299),\n",
       " ('superfrog70.3', 0.9133741585841841),\n",
       " ('boulder', 0.9201549448746074),\n",
       " ('santacruz70.3', 0.9208661980619388)]"
      ]
     },
     "execution_count": 342,
     "metadata": {},
     "output_type": "execute_result"
    }
   ],
   "source": [
    "get_prediction('Arizona70.3')"
   ]
  },
  {
   "cell_type": "code",
   "execution_count": 340,
   "metadata": {},
   "outputs": [
    {
     "data": {
      "text/plain": [
       "[('arizona', 0.7736384898213984),\n",
       " ('boulder', 0.9201549448746074),\n",
       " ('santarosa', 0.9376330769576309),\n",
       " ('texas', 0.9514385341974703),\n",
       " ('st.george', 0.9552544278237752),\n",
       " ('canada', 0.9604463044853202),\n",
       " ('louisville', 0.9645717610772782),\n",
       " ('florida', 0.9648819971399845),\n",
       " ('chattanooga', 0.9684485477956888),\n",
       " ('wisconsin', 0.970054183310547)]"
      ]
     },
     "execution_count": 340,
     "metadata": {},
     "output_type": "execute_result"
    }
   ],
   "source": [
    "get_prediction('Arizona70.3', filterBy='is_70.3', value=False)"
   ]
  },
  {
   "cell_type": "markdown",
   "metadata": {},
   "source": [
    "## Faster prediction by pre-computing the matrix and fitting the model prior and filtering on the full results data"
   ]
  },
  {
   "cell_type": "code",
   "execution_count": 400,
   "metadata": {},
   "outputs": [],
   "source": [
    "# precompute similarity matrix and do filtering as post-process\n",
    "wide_race_data = user_data_with_race_count.pivot(index = 'race', columns = 'athlete', values = 'count').fillna(0)\n",
    "wide_race_data_sparse = csr_matrix(wide_race_data.values)\n",
    "\n",
    "model_knn = NearestNeighbors(metric = 'cosine', algorithm = 'brute')\n",
    "model_knn.fit(wide_race_data_sparse)\n",
    "\n",
    "# make sure the filtering df has the same data/order than the wide_race_data\n",
    "df_to_filter_races = pd.DataFrame(list(wide_race_data.index.map(lambda x: race_filter.loc[x].to_dict())), index=wide_race_data.index)\n",
    "\n",
    "def get_prediction_fast(similarTo, n=10, filterBy=False, value=False):\n",
    "    query_index = np.where(wide_race_data.index == similarTo)[0][0]\n",
    "    total_n = wide_race_data.shape[0]\n",
    "    distances, indices = model_knn.kneighbors(wide_race_data.iloc[query_index].values.reshape(1, -1), n_neighbors = total_n)\n",
    "    distances = distances.flatten()\n",
    "    indices = indices.flatten()\n",
    "    \n",
    "    if filterBy:\n",
    "        selection_idx = get_filtered_races(filterBy, value, df=df_to_filter_races, returnIndices=False)\n",
    "        n = n if n<len(selection_idx) else len(selection_idx)\n",
    "        out_indices = []\n",
    "        out_distances = []\n",
    "        \n",
    "        for indice,distance in zip(indices, distances):\n",
    "            if ((wide_race_data.index[indice] in selection_idx) and (wide_race_data.index[indice] != similarTo)):\n",
    "                out_indices.append(indice)\n",
    "                out_distances.append(distance)\n",
    "                if len(out_distances) >=n :\n",
    "                    break\n",
    "    \n",
    "    return [(wide_race_data.index[indice], distance) for indice,distance in zip(out_indices, out_distances)]"
   ]
  },
  {
   "cell_type": "code",
   "execution_count": 402,
   "metadata": {},
   "outputs": [
    {
     "data": {
      "text/plain": [
       "[('cozumel', 0.7915281981742285),\n",
       " ('loscabos', 0.822613959647401),\n",
       " ('texas', 0.9281587961262776),\n",
       " ('boulder', 0.9524451534183321),\n",
       " ('arizona', 0.9682517042605463),\n",
       " ('florida', 0.9739153728375995),\n",
       " ('brazil', 0.97579722053371),\n",
       " ('barcelona', 0.979383712324602),\n",
       " ('santarosa', 0.9826026300880091),\n",
       " ('monttremblant', 0.9829504699790252)]"
      ]
     },
     "execution_count": 402,
     "metadata": {},
     "output_type": "execute_result"
    }
   ],
   "source": [
    "get_prediction('monterrey70.3', filterBy='is_70.3', value=False)"
   ]
  },
  {
   "cell_type": "code",
   "execution_count": 403,
   "metadata": {},
   "outputs": [
    {
     "data": {
      "text/plain": [
       "[('cozumel', 0.7915281981742285),\n",
       " ('loscabos', 0.822613959647401),\n",
       " ('texas', 0.9281587961262776),\n",
       " ('boulder', 0.9524451534183321),\n",
       " ('arizona', 0.9682517042605463),\n",
       " ('florida', 0.9739153728375995),\n",
       " ('brazil', 0.97579722053371),\n",
       " ('barcelona', 0.979383712324602),\n",
       " ('santarosa', 0.9826026300880091),\n",
       " ('monttremblant', 0.9829504699790252)]"
      ]
     },
     "execution_count": 403,
     "metadata": {},
     "output_type": "execute_result"
    }
   ],
   "source": [
    "get_prediction_fast('monterrey70.3', filterBy='is_70.3', value=False)"
   ]
  },
  {
   "cell_type": "code",
   "execution_count": null,
   "metadata": {},
   "outputs": [],
   "source": []
  },
  {
   "cell_type": "code",
   "execution_count": null,
   "metadata": {},
   "outputs": [],
   "source": []
  }
 ],
 "metadata": {
  "kernelspec": {
   "display_name": "Python (data-science)",
   "language": "python",
   "name": "data-science"
  },
  "language_info": {
   "codemirror_mode": {
    "name": "ipython",
    "version": 3
   },
   "file_extension": ".py",
   "mimetype": "text/x-python",
   "name": "python",
   "nbconvert_exporter": "python",
   "pygments_lexer": "ipython3",
   "version": "3.7.3"
  }
 },
 "nbformat": 4,
 "nbformat_minor": 2
}
