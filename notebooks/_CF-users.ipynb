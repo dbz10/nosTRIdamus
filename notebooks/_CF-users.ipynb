{
 "cells": [
  {
   "cell_type": "code",
   "execution_count": 1,
   "metadata": {},
   "outputs": [],
   "source": [
    "import matplotlib.pyplot as plt\n",
    "import numpy as np\n",
    "import pandas as pd\n",
    "import re\n",
    "import json\n",
    "\n",
    "from config import Cfg as cfg\n",
    "\n",
    "import mysql.connector\n",
    "\n",
    "%matplotlib inline"
   ]
  },
  {
   "cell_type": "markdown",
   "metadata": {},
   "source": [
    "## Race results"
   ]
  },
  {
   "cell_type": "code",
   "execution_count": 2,
   "metadata": {},
   "outputs": [],
   "source": [
    "cnx = mysql.connector.connect(user=cfg.mysql_user, database=cfg.mysql_db, password=cfg.mysql_pw, ssl_disabled=True)\n",
    "\n",
    "query = \"SELECT * FROM results;\"\n",
    "\n",
    "# execute the query and assign it to a pandas dataframe\n",
    "df_results = pd.read_sql(query, con=cnx)\n",
    "\n",
    "cnx.close()"
   ]
  },
  {
   "cell_type": "code",
   "execution_count": 3,
   "metadata": {},
   "outputs": [
    {
     "data": {
      "text/plain": [
       "643055"
      ]
     },
     "execution_count": 3,
     "metadata": {},
     "output_type": "execute_result"
    }
   ],
   "source": [
    "len(df_results.athlete.unique())"
   ]
  },
  {
   "cell_type": "markdown",
   "metadata": {},
   "source": [
    "## Races info"
   ]
  },
  {
   "cell_type": "code",
   "execution_count": 4,
   "metadata": {},
   "outputs": [],
   "source": [
    "cnx = mysql.connector.connect(user=cfg.mysql_user, database=cfg.mysql_db, password=cfg.mysql_pw, ssl_disabled=True)\n",
    "\n",
    "query = \"SELECT * FROM races;\"\n",
    "# execute the query and assign it to a pandas dataframe\n",
    "df_races = pd.read_sql(query, con=cnx)\n",
    "\n",
    "cnx.close()"
   ]
  },
  {
   "cell_type": "markdown",
   "metadata": {},
   "source": [
    "### Some processing on the datasets"
   ]
  },
  {
   "cell_type": "code",
   "execution_count": 5,
   "metadata": {},
   "outputs": [],
   "source": [
    "# -----------\n",
    "# -- RACES --\n",
    "# -----------\n",
    "\n",
    "\n",
    "# keep only active races\n",
    "df_races = df_races.loc[df_races['info'].dropna().index]\n",
    "\n",
    "# remove duplicates\n",
    "df_races = df_races.loc[df_races.race != 'worldchampionship70.3m']\n",
    "\n",
    "# remove worldchampionship\n",
    "df_races = df_races.loc[df_races.race != 'worldchampionship70.3']\n",
    "df_races = df_races.loc[df_races.race != 'worldchampionship']\n",
    "\n",
    "\n",
    "# add Country codes\n",
    "with open(\"./../data/geo-data/races_geo_info.json\", 'r') as f:\n",
    "    races_geo_info = json.loads(f.read())\n",
    "             \n",
    "df_races['country_code'] = None\n",
    "for race in df_races.race.values:\n",
    "    country_code = races_geo_info[race]\n",
    "    df_races.loc[df_races.race == race, 'country_code'] = races_geo_info[race]['components']['ISO_3166-1_alpha-3']\n",
    "\n",
    "# -----------\n",
    "# -- RESULTS --\n",
    "# -----------\n",
    "\n",
    "# worldchampionship70.3 and worldchampionship70.3m are the same race\n",
    "df_results.loc[df_results.race == \"worldchampionship70.3m\", 'race'] = 'worldchampionship70.3'\n",
    "\n",
    "# keep only results of non discontinued races\n",
    "df_results = df_results[df_results['race'].isin(df_races['race'])]\n",
    "\n",
    "# extract gender from division\n",
    "df_results['gender'] = df_results['division'].apply(lambda x: x[0])\n",
    "\n",
    "# convert date to datetime\n",
    "df_results['date'] = pd.to_datetime(df_results['date'])\n",
    "\n",
    "# str to int\n",
    "df_results['year'] = df_results['year'].apply(int)\n",
    "\n",
    "# keep only results from before 2019\n",
    "df_results = df_results.loc[df_results['year'] < 2019]\n",
    "\n",
    "# discard pro athletes\n",
    "df_results = df_results.loc[df_results.division.str.contains(\"PRO\") == False]\n",
    "\n",
    "# Add gender\n",
    "df_results['gender'] = None\n",
    "df_results.loc[df_results['division'].str.contains(\"M\"), 'gender'] = \"M\"\n",
    "df_results.loc[df_results['division'].str.contains(\"F\"), 'gender'] = \"F\""
   ]
  },
  {
   "cell_type": "markdown",
   "metadata": {},
   "source": [
    "### what do we have left to work with?"
   ]
  },
  {
   "cell_type": "code",
   "execution_count": 6,
   "metadata": {},
   "outputs": [
    {
     "name": "stdout",
     "output_type": "stream",
     "text": [
      "-- Results dataset --\n",
      "  Number of single results: 1592599\n",
      "  Number of athletes: 575481\n",
      "-- Races dataset --\n",
      "  Number of active races: 157\n"
     ]
    }
   ],
   "source": [
    "print('-- Results dataset --')\n",
    "print(f\"  Number of single results: {len(df_results)}\")\n",
    "print(f\"  Number of athletes: {len(df_results.athlete.unique())}\")\n",
    "\n",
    "print('-- Races dataset --')\n",
    "print(f\"  Number of active races: {len(df_races)}\")"
   ]
  },
  {
   "cell_type": "code",
   "execution_count": null,
   "metadata": {},
   "outputs": [],
   "source": []
  },
  {
   "cell_type": "markdown",
   "metadata": {},
   "source": [
    "## Race count and unique race count per athlete"
   ]
  },
  {
   "cell_type": "markdown",
   "metadata": {},
   "source": [
    "#### To prevent cold-start problem keep only people with at least 2 different races."
   ]
  },
  {
   "cell_type": "code",
   "execution_count": 7,
   "metadata": {},
   "outputs": [
    {
     "name": "stdout",
     "output_type": "stream",
     "text": [
      "Number of different individuals: 248360\n",
      "Number of single results: 1190216\n"
     ]
    }
   ],
   "source": [
    "# total number of races per athlete\n",
    "athletes_count_races = (df_results.groupby('athlete')['division']\n",
    "     .size()\n",
    "     .reset_index()\n",
    "     .rename(columns={'division': 'n_races'})\n",
    ")\n",
    "\n",
    "# total number of different races per athlete\n",
    "athletes_count_diff_races = (df_results\n",
    "     .groupby(['athlete', 'race'])\n",
    "     .size()\n",
    "     .reset_index()\n",
    "     .groupby('athlete')\n",
    "     .size()\n",
    "     .reset_index()\n",
    "     .rename(columns={0: 'n_different_races'})\n",
    ")\n",
    "\n",
    "# merge the two so we can filter from that\n",
    "athlete_habits = athletes_count_diff_races.merge(athletes_count_races, left_on=\"athlete\", right_on=\"athlete\", how=\"left\")\n",
    "\n",
    "# What we are filtering with\n",
    "min_count_diff_races = 2\n",
    "max_count_races = 100 # probably similar names\n",
    "\n",
    "valid_athletes = athlete_habits.loc[(athlete_habits['n_different_races']>=min_count_diff_races) & (athlete_habits['n_races']<=max_count_races)]\n",
    "\n",
    "# use this df to filter original results data\n",
    "df_results_filtered = df_results.loc[df_results['athlete'].isin(valid_athletes['athlete'])]\n",
    "df_results_filtered = df_results_filtered.merge(valid_athletes, left_on=\"athlete\", right_on=\"athlete\", how=\"left\")\n",
    "\n",
    "# Anonimize entrants\n",
    "user_hash = {}\n",
    "\n",
    "for i,user in enumerate(df_results_filtered.athlete.unique()):\n",
    "    user_hash[user] = f'u{i}'\n",
    "df_results_filtered.loc[:, 'athlete'] = df_results_filtered.athlete.map(lambda x: user_hash[x])\n",
    "\n",
    "print(\"Number of different individuals:\", len(valid_athletes))\n",
    "print(\"Number of single results:\", len(df_results_filtered))"
   ]
  },
  {
   "cell_type": "code",
   "execution_count": 8,
   "metadata": {},
   "outputs": [
    {
     "data": {
      "text/html": [
       "<div>\n",
       "<style scoped>\n",
       "    .dataframe tbody tr th:only-of-type {\n",
       "        vertical-align: middle;\n",
       "    }\n",
       "\n",
       "    .dataframe tbody tr th {\n",
       "        vertical-align: top;\n",
       "    }\n",
       "\n",
       "    .dataframe thead th {\n",
       "        text-align: right;\n",
       "    }\n",
       "</style>\n",
       "<table border=\"1\" class=\"dataframe\">\n",
       "  <thead>\n",
       "    <tr style=\"text-align: right;\">\n",
       "      <th></th>\n",
       "      <th>id</th>\n",
       "      <th>athlete</th>\n",
       "      <th>division</th>\n",
       "      <th>rankdiv</th>\n",
       "      <th>rankgender</th>\n",
       "      <th>rankoverall</th>\n",
       "      <th>swim</th>\n",
       "      <th>t1</th>\n",
       "      <th>bike</th>\n",
       "      <th>t2</th>\n",
       "      <th>...</th>\n",
       "      <th>country</th>\n",
       "      <th>date</th>\n",
       "      <th>fulldata</th>\n",
       "      <th>score</th>\n",
       "      <th>swim_score</th>\n",
       "      <th>run_score</th>\n",
       "      <th>bike_score</th>\n",
       "      <th>gender</th>\n",
       "      <th>n_different_races</th>\n",
       "      <th>n_races</th>\n",
       "    </tr>\n",
       "  </thead>\n",
       "  <tbody>\n",
       "    <tr>\n",
       "      <th>0</th>\n",
       "      <td>1518207</td>\n",
       "      <td>u0</td>\n",
       "      <td>M75-79</td>\n",
       "      <td>1</td>\n",
       "      <td>1073</td>\n",
       "      <td>1209</td>\n",
       "      <td>2440</td>\n",
       "      <td>678</td>\n",
       "      <td>11150</td>\n",
       "      <td>469</td>\n",
       "      <td>...</td>\n",
       "      <td>USA</td>\n",
       "      <td>2016-11-13</td>\n",
       "      <td>0</td>\n",
       "      <td>98.4</td>\n",
       "      <td>100.0</td>\n",
       "      <td>86.1</td>\n",
       "      <td>100.0</td>\n",
       "      <td>M</td>\n",
       "      <td>7</td>\n",
       "      <td>10</td>\n",
       "    </tr>\n",
       "    <tr>\n",
       "      <th>1</th>\n",
       "      <td>1518209</td>\n",
       "      <td>u1</td>\n",
       "      <td>M75-79</td>\n",
       "      <td>2</td>\n",
       "      <td>1141</td>\n",
       "      <td>1301</td>\n",
       "      <td>3539</td>\n",
       "      <td>679</td>\n",
       "      <td>13127</td>\n",
       "      <td>461</td>\n",
       "      <td>...</td>\n",
       "      <td>JPN</td>\n",
       "      <td>2016-11-13</td>\n",
       "      <td>0</td>\n",
       "      <td>97.1</td>\n",
       "      <td>77.2</td>\n",
       "      <td>100.0</td>\n",
       "      <td>90.7</td>\n",
       "      <td>M</td>\n",
       "      <td>7</td>\n",
       "      <td>12</td>\n",
       "    </tr>\n",
       "    <tr>\n",
       "      <th>2</th>\n",
       "      <td>1518210</td>\n",
       "      <td>u2</td>\n",
       "      <td>M65-69</td>\n",
       "      <td>1</td>\n",
       "      <td>181</td>\n",
       "      <td>202</td>\n",
       "      <td>1895</td>\n",
       "      <td>377</td>\n",
       "      <td>9944</td>\n",
       "      <td>243</td>\n",
       "      <td>...</td>\n",
       "      <td>AUS</td>\n",
       "      <td>2016-11-13</td>\n",
       "      <td>0</td>\n",
       "      <td>99.9</td>\n",
       "      <td>100.0</td>\n",
       "      <td>100.0</td>\n",
       "      <td>99.7</td>\n",
       "      <td>M</td>\n",
       "      <td>12</td>\n",
       "      <td>24</td>\n",
       "    </tr>\n",
       "    <tr>\n",
       "      <th>3</th>\n",
       "      <td>1518211</td>\n",
       "      <td>u3</td>\n",
       "      <td>M80-84</td>\n",
       "      <td>1</td>\n",
       "      <td>1281</td>\n",
       "      <td>1475</td>\n",
       "      <td>3135</td>\n",
       "      <td>784</td>\n",
       "      <td>13528</td>\n",
       "      <td>726</td>\n",
       "      <td>...</td>\n",
       "      <td>JPN</td>\n",
       "      <td>2016-11-13</td>\n",
       "      <td>0</td>\n",
       "      <td>100.0</td>\n",
       "      <td>100.0</td>\n",
       "      <td>100.0</td>\n",
       "      <td>100.0</td>\n",
       "      <td>M</td>\n",
       "      <td>5</td>\n",
       "      <td>15</td>\n",
       "    </tr>\n",
       "    <tr>\n",
       "      <th>4</th>\n",
       "      <td>1518213</td>\n",
       "      <td>u4</td>\n",
       "      <td>M55-59</td>\n",
       "      <td>1</td>\n",
       "      <td>134</td>\n",
       "      <td>152</td>\n",
       "      <td>2150</td>\n",
       "      <td>350</td>\n",
       "      <td>9711</td>\n",
       "      <td>282</td>\n",
       "      <td>...</td>\n",
       "      <td>ESP</td>\n",
       "      <td>2016-11-13</td>\n",
       "      <td>0</td>\n",
       "      <td>99.6</td>\n",
       "      <td>100.0</td>\n",
       "      <td>98.3</td>\n",
       "      <td>99.0</td>\n",
       "      <td>M</td>\n",
       "      <td>6</td>\n",
       "      <td>9</td>\n",
       "    </tr>\n",
       "  </tbody>\n",
       "</table>\n",
       "<p>5 rows × 26 columns</p>\n",
       "</div>"
      ],
      "text/plain": [
       "        id athlete division  rankdiv  rankgender  rankoverall  swim   t1  \\\n",
       "0  1518207      u0   M75-79        1        1073         1209  2440  678   \n",
       "1  1518209      u1   M75-79        2        1141         1301  3539  679   \n",
       "2  1518210      u2   M65-69        1         181          202  1895  377   \n",
       "3  1518211      u3   M80-84        1        1281         1475  3135  784   \n",
       "4  1518213      u4   M55-59        1         134          152  2150  350   \n",
       "\n",
       "    bike   t2  ...  country       date  fulldata  score swim_score  run_score  \\\n",
       "0  11150  469  ...      USA 2016-11-13         0   98.4      100.0       86.1   \n",
       "1  13127  461  ...      JPN 2016-11-13         0   97.1       77.2      100.0   \n",
       "2   9944  243  ...      AUS 2016-11-13         0   99.9      100.0      100.0   \n",
       "3  13528  726  ...      JPN 2016-11-13         0  100.0      100.0      100.0   \n",
       "4   9711  282  ...      ESP 2016-11-13         0   99.6      100.0       98.3   \n",
       "\n",
       "  bike_score gender  n_different_races  n_races  \n",
       "0      100.0      M                  7       10  \n",
       "1       90.7      M                  7       12  \n",
       "2       99.7      M                 12       24  \n",
       "3      100.0      M                  5       15  \n",
       "4       99.0      M                  6        9  \n",
       "\n",
       "[5 rows x 26 columns]"
      ]
     },
     "execution_count": 8,
     "metadata": {},
     "output_type": "execute_result"
    },
    {
     "data": {
      "image/png": "[encoded data removed]",
      "text/plain": [
       "<Figure size 576x216 with 1 Axes>"
      ]
     },
     "metadata": {
      "needs_background": "light"
     },
     "output_type": "display_data"
    }
   ],
   "source": [
    "df_results_filtered['n_races'].hist(bins=np.arange(-0.99, 100.99, 1), figsize=(8, 3))\n",
    "df_results_filtered.head(5)"
   ]
  },
  {
   "cell_type": "markdown",
   "metadata": {},
   "source": [
    "A majority of athletes have < 20 races"
   ]
  },
  {
   "cell_type": "markdown",
   "metadata": {},
   "source": [
    "# MODEL 1: the more you do a race, the more you implicitely like it"
   ]
  },
  {
   "cell_type": "markdown",
   "metadata": {},
   "source": [
    "#### Count of each race for each entrants"
   ]
  },
  {
   "cell_type": "code",
   "execution_count": 9,
   "metadata": {},
   "outputs": [
    {
     "data": {
      "text/html": [
       "<div>\n",
       "<style scoped>\n",
       "    .dataframe tbody tr th:only-of-type {\n",
       "        vertical-align: middle;\n",
       "    }\n",
       "\n",
       "    .dataframe tbody tr th {\n",
       "        vertical-align: top;\n",
       "    }\n",
       "\n",
       "    .dataframe thead th {\n",
       "        text-align: right;\n",
       "    }\n",
       "</style>\n",
       "<table border=\"1\" class=\"dataframe\">\n",
       "  <thead>\n",
       "    <tr style=\"text-align: right;\">\n",
       "      <th></th>\n",
       "      <th>athlete</th>\n",
       "      <th>race</th>\n",
       "      <th>count</th>\n",
       "    </tr>\n",
       "  </thead>\n",
       "  <tbody>\n",
       "    <tr>\n",
       "      <th>0</th>\n",
       "      <td>u0</td>\n",
       "      <td>brazil</td>\n",
       "      <td>1</td>\n",
       "    </tr>\n",
       "    <tr>\n",
       "      <th>1</th>\n",
       "      <td>u0</td>\n",
       "      <td>california70.3</td>\n",
       "      <td>1</td>\n",
       "    </tr>\n",
       "    <tr>\n",
       "      <th>2</th>\n",
       "      <td>u0</td>\n",
       "      <td>cozumel</td>\n",
       "      <td>2</td>\n",
       "    </tr>\n",
       "    <tr>\n",
       "      <th>3</th>\n",
       "      <td>u0</td>\n",
       "      <td>honu70.3</td>\n",
       "      <td>1</td>\n",
       "    </tr>\n",
       "    <tr>\n",
       "      <th>4</th>\n",
       "      <td>u0</td>\n",
       "      <td>loscabos</td>\n",
       "      <td>2</td>\n",
       "    </tr>\n",
       "  </tbody>\n",
       "</table>\n",
       "</div>"
      ],
      "text/plain": [
       "  athlete            race  count\n",
       "0      u0          brazil      1\n",
       "1      u0  california70.3      1\n",
       "2      u0         cozumel      2\n",
       "3      u0        honu70.3      1\n",
       "4      u0        loscabos      2"
      ]
     },
     "execution_count": 9,
     "metadata": {},
     "output_type": "execute_result"
    }
   ],
   "source": [
    "results_data = (\n",
    "    df_results_filtered\n",
    "        .groupby(['athlete', 'race'])\n",
    "        .size()\n",
    "        .reset_index()\n",
    "        .rename(columns={0: 'count'})\n",
    ")\n",
    "\n",
    "results_data.head()"
   ]
  },
  {
   "cell_type": "markdown",
   "metadata": {},
   "source": [
    "#### How many times the race has been done"
   ]
  },
  {
   "cell_type": "code",
   "execution_count": 10,
   "metadata": {},
   "outputs": [
    {
     "data": {
      "text/html": [
       "<div>\n",
       "<style scoped>\n",
       "    .dataframe tbody tr th:only-of-type {\n",
       "        vertical-align: middle;\n",
       "    }\n",
       "\n",
       "    .dataframe tbody tr th {\n",
       "        vertical-align: top;\n",
       "    }\n",
       "\n",
       "    .dataframe thead th {\n",
       "        text-align: right;\n",
       "    }\n",
       "</style>\n",
       "<table border=\"1\" class=\"dataframe\">\n",
       "  <thead>\n",
       "    <tr style=\"text-align: right;\">\n",
       "      <th></th>\n",
       "      <th>race</th>\n",
       "      <th>total_count</th>\n",
       "    </tr>\n",
       "  </thead>\n",
       "  <tbody>\n",
       "    <tr>\n",
       "      <th>0</th>\n",
       "      <td>Arizona70.3</td>\n",
       "      <td>5485</td>\n",
       "    </tr>\n",
       "    <tr>\n",
       "      <th>1</th>\n",
       "      <td>DunLaoghaire70.3</td>\n",
       "      <td>896</td>\n",
       "    </tr>\n",
       "    <tr>\n",
       "      <th>2</th>\n",
       "      <td>Florianopolis70.3</td>\n",
       "      <td>916</td>\n",
       "    </tr>\n",
       "    <tr>\n",
       "      <th>3</th>\n",
       "      <td>Haugesund70.3</td>\n",
       "      <td>2153</td>\n",
       "    </tr>\n",
       "    <tr>\n",
       "      <th>4</th>\n",
       "      <td>IMsubicbay</td>\n",
       "      <td>1152</td>\n",
       "    </tr>\n",
       "  </tbody>\n",
       "</table>\n",
       "</div>"
      ],
      "text/plain": [
       "                race  total_count\n",
       "0        Arizona70.3         5485\n",
       "1   DunLaoghaire70.3          896\n",
       "2  Florianopolis70.3          916\n",
       "3      Haugesund70.3         2153\n",
       "4         IMsubicbay         1152"
      ]
     },
     "execution_count": 10,
     "metadata": {},
     "output_type": "execute_result"
    }
   ],
   "source": [
    "race_popularity = (results_data\n",
    "    .groupby(by = ['race'])['count']\n",
    "    .sum()\n",
    "    .reset_index()\n",
    "    .rename(columns = {'count': 'total_count'})\n",
    ")\n",
    "race_popularity.head()"
   ]
  },
  {
   "cell_type": "code",
   "execution_count": 11,
   "metadata": {},
   "outputs": [
    {
     "name": "stdout",
     "output_type": "stream",
     "text": [
      "count      153.000000\n",
      "mean      7779.189542\n",
      "std       7610.135006\n",
      "min        313.000000\n",
      "25%       2375.000000\n",
      "50%       4784.000000\n",
      "75%      11083.000000\n",
      "max      38737.000000\n",
      "Name: total_count, dtype: float64\n"
     ]
    }
   ],
   "source": [
    "print(race_popularity['total_count'].describe())\n",
    "# print(race_popularity['total_count'].quantile(np.arange(.5, 1, .01)))"
   ]
  },
  {
   "cell_type": "markdown",
   "metadata": {},
   "source": [
    "#### Add demographics info for users (if we want to filter later)"
   ]
  },
  {
   "cell_type": "code",
   "execution_count": 12,
   "metadata": {},
   "outputs": [
    {
     "data": {
      "text/html": [
       "<div>\n",
       "<style scoped>\n",
       "    .dataframe tbody tr th:only-of-type {\n",
       "        vertical-align: middle;\n",
       "    }\n",
       "\n",
       "    .dataframe tbody tr th {\n",
       "        vertical-align: top;\n",
       "    }\n",
       "\n",
       "    .dataframe thead th {\n",
       "        text-align: right;\n",
       "    }\n",
       "</style>\n",
       "<table border=\"1\" class=\"dataframe\">\n",
       "  <thead>\n",
       "    <tr style=\"text-align: right;\">\n",
       "      <th></th>\n",
       "      <th>athlete</th>\n",
       "      <th>race</th>\n",
       "      <th>count</th>\n",
       "      <th>total_count</th>\n",
       "      <th>gender</th>\n",
       "      <th>country</th>\n",
       "    </tr>\n",
       "  </thead>\n",
       "  <tbody>\n",
       "    <tr>\n",
       "      <th>0</th>\n",
       "      <td>u0</td>\n",
       "      <td>brazil</td>\n",
       "      <td>1</td>\n",
       "      <td>12516</td>\n",
       "      <td>M</td>\n",
       "      <td>USA</td>\n",
       "    </tr>\n",
       "    <tr>\n",
       "      <th>1</th>\n",
       "      <td>u0</td>\n",
       "      <td>california70.3</td>\n",
       "      <td>1</td>\n",
       "      <td>29870</td>\n",
       "      <td>M</td>\n",
       "      <td>USA</td>\n",
       "    </tr>\n",
       "    <tr>\n",
       "      <th>2</th>\n",
       "      <td>u0</td>\n",
       "      <td>cozumel</td>\n",
       "      <td>2</td>\n",
       "      <td>16438</td>\n",
       "      <td>M</td>\n",
       "      <td>USA</td>\n",
       "    </tr>\n",
       "    <tr>\n",
       "      <th>3</th>\n",
       "      <td>u0</td>\n",
       "      <td>honu70.3</td>\n",
       "      <td>1</td>\n",
       "      <td>15449</td>\n",
       "      <td>M</td>\n",
       "      <td>USA</td>\n",
       "    </tr>\n",
       "    <tr>\n",
       "      <th>4</th>\n",
       "      <td>u0</td>\n",
       "      <td>loscabos</td>\n",
       "      <td>2</td>\n",
       "      <td>3532</td>\n",
       "      <td>M</td>\n",
       "      <td>USA</td>\n",
       "    </tr>\n",
       "    <tr>\n",
       "      <th>5</th>\n",
       "      <td>u0</td>\n",
       "      <td>mardelplata</td>\n",
       "      <td>1</td>\n",
       "      <td>1847</td>\n",
       "      <td>M</td>\n",
       "      <td>USA</td>\n",
       "    </tr>\n",
       "    <tr>\n",
       "      <th>6</th>\n",
       "      <td>u0</td>\n",
       "      <td>xiamen70.3</td>\n",
       "      <td>2</td>\n",
       "      <td>2185</td>\n",
       "      <td>M</td>\n",
       "      <td>USA</td>\n",
       "    </tr>\n",
       "    <tr>\n",
       "      <th>7</th>\n",
       "      <td>u1</td>\n",
       "      <td>cairns</td>\n",
       "      <td>1</td>\n",
       "      <td>7298</td>\n",
       "      <td>M</td>\n",
       "      <td>JPN</td>\n",
       "    </tr>\n",
       "    <tr>\n",
       "      <th>8</th>\n",
       "      <td>u1</td>\n",
       "      <td>canada70.3</td>\n",
       "      <td>1</td>\n",
       "      <td>2539</td>\n",
       "      <td>M</td>\n",
       "      <td>JPN</td>\n",
       "    </tr>\n",
       "    <tr>\n",
       "      <th>9</th>\n",
       "      <td>u1</td>\n",
       "      <td>honu70.3</td>\n",
       "      <td>3</td>\n",
       "      <td>15449</td>\n",
       "      <td>M</td>\n",
       "      <td>JPN</td>\n",
       "    </tr>\n",
       "  </tbody>\n",
       "</table>\n",
       "</div>"
      ],
      "text/plain": [
       "  athlete            race  count  total_count gender country\n",
       "0      u0          brazil      1        12516      M     USA\n",
       "1      u0  california70.3      1        29870      M     USA\n",
       "2      u0         cozumel      2        16438      M     USA\n",
       "3      u0        honu70.3      1        15449      M     USA\n",
       "4      u0        loscabos      2         3532      M     USA\n",
       "5      u0     mardelplata      1         1847      M     USA\n",
       "6      u0      xiamen70.3      2         2185      M     USA\n",
       "7      u1          cairns      1         7298      M     JPN\n",
       "8      u1      canada70.3      1         2539      M     JPN\n",
       "9      u1        honu70.3      3        15449      M     JPN"
      ]
     },
     "execution_count": 12,
     "metadata": {},
     "output_type": "execute_result"
    }
   ],
   "source": [
    "gender = (df_results_filtered\n",
    "     .groupby(['athlete', 'gender'])\n",
    "     .size()\n",
    "     .reset_index()\n",
    "     .rename(columns={0: 'n'})\n",
    "     .pivot(index='athlete', columns='gender', values='n')\n",
    "     .idxmax(axis=1)\n",
    "     .rename('gender')\n",
    ")\n",
    "\n",
    "country = (df_results_filtered\n",
    "     .groupby(['athlete', 'country'])\n",
    "     .size()\n",
    "     .reset_index()\n",
    "     .rename(columns={0: 'n'})\n",
    "     .pivot(index='athlete', columns='country', values='n')\n",
    "     .idxmax(axis=1)\n",
    "     .rename('country')\n",
    ")\n",
    "\n",
    "user_data_with_race_count = results_data.merge(race_popularity, left_on = 'race', right_on = 'race', how = 'left')\n",
    "user_data_with_race_count = user_data_with_race_count.merge(gender, left_on = 'athlete', right_on = 'athlete', how = 'left')\n",
    "user_data_with_race_count = user_data_with_race_count.merge(country, left_on = 'athlete', right_on = 'athlete', how = 'left')\n",
    "user_data_with_race_count.head(10)"
   ]
  },
  {
   "cell_type": "markdown",
   "metadata": {},
   "source": [
    "## --## -- Implemeting the Nearest Neighbor Model"
   ]
  },
  {
   "cell_type": "markdown",
   "metadata": {},
   "source": [
    "#### Reshaping the Data\n",
    "\n",
    "For K-Nearest Neighbors, we want the data to be in an m x n array, where m is the number of artists and n is the number of users. To reshape the dataframe, we’ll pivot the dataframe to the wide format with artists as rows and users as columns. Then we’ll fill the missing observations with 0s since we’re going to be performing linear algebra operations (calculating distances between vectors). Finally, we transform the values of the dataframe into a scipy sparse matrix for more efficient calculations."
   ]
  },
  {
   "cell_type": "code",
   "execution_count": 13,
   "metadata": {},
   "outputs": [],
   "source": [
    "from scipy.sparse import csr_matrix, save_npz\n",
    "\n",
    "wide_race_data = user_data_with_race_count.pivot(index = 'race', columns = 'athlete', values = 'count').fillna(0)\n",
    "wide_race_data_sparse = csr_matrix(wide_race_data.values)\n",
    "\n",
    "save_npz('./../data/matrices/ironman_sparse_race_matrix.npz', wide_race_data_sparse)\n",
    "save_npz('./../flask_app/nostrappdamus/model/data/races_sparse_matrix.npz', wide_race_data_sparse)"
   ]
  },
  {
   "cell_type": "code",
   "execution_count": null,
   "metadata": {},
   "outputs": [],
   "source": []
  },
  {
   "cell_type": "code",
   "execution_count": 14,
   "metadata": {},
   "outputs": [
    {
     "name": "stderr",
     "output_type": "stream",
     "text": [
      "/miniconda3/envs/data-science/lib/python3.7/site-packages/ipykernel_launcher.py:6: SettingWithCopyWarning: \n",
      "A value is trying to be set on a copy of a slice from a DataFrame.\n",
      "Try using .loc[row_indexer,col_indexer] = value instead\n",
      "\n",
      "See the caveats in the documentation: http://pandas.pydata.org/pandas-docs/stable/indexing.html#indexing-view-versus-copy\n",
      "  \n"
     ]
    }
   ],
   "source": [
    "# import lat/lon data\n",
    "races_locations = pd.read_csv(\"./../data/geo-data/races_lat_lon.csv\")\n",
    "\n",
    "# saving the races references for index\n",
    "race_filter = df_races[['race', 'racename', 'region', 'country_code']]\n",
    "race_filter['is_70.3'] = race_filter['race'].str.contains('70.3')\n",
    "\n",
    "race_filter = race_filter.merge(races_locations, left_on = 'race', right_on = 'race', how = 'left')\n",
    "race_filter = race_filter.set_index('race')\n",
    "\n",
    "\n",
    "# make sure the filtering df has the same data/order than the wide_race_data\n",
    "df_to_filter_races = pd.DataFrame(list(wide_race_data.index.map(lambda x: race_filter.loc[x].to_dict())), index=wide_race_data.index)\n",
    "\n",
    "\n",
    "# save race data with races present in model\n",
    "races_to_save = pd.read_csv(\"./../data/clean/races_info_features.csv\", index_col='race')\n",
    "races_to_save.loc[df_to_filter_races.index].to_csv(\"./../flask_app/nostrappdamus/model/data/races.csv\")\n",
    "# df_to_filter_races.to_csv(\"./../flask_app/nostrappdamus/model/data/races.csv\")"
   ]
  },
  {
   "cell_type": "code",
   "execution_count": null,
   "metadata": {},
   "outputs": [],
   "source": []
  },
  {
   "cell_type": "code",
   "execution_count": 15,
   "metadata": {},
   "outputs": [],
   "source": [
    "# pd.read_csv(\"./../flask_app/nostrappdamus/model/data/races.csv\", index_col='race')"
   ]
  },
  {
   "cell_type": "markdown",
   "metadata": {},
   "source": [
    "#### Fitting the Model\n",
    "\n",
    "Time to implement the model. We’ll initialize the NearestNeighbors class as model_knn and fit our sparse matrix to the instance. By specifying the metric = cosine, the model will measure similarity bectween artist vectors by using cosine similarity."
   ]
  },
  {
   "cell_type": "code",
   "execution_count": 16,
   "metadata": {},
   "outputs": [
    {
     "data": {
      "text/plain": [
       "NearestNeighbors(algorithm='brute', leaf_size=30, metric='cosine',\n",
       "                 metric_params=None, n_jobs=None, n_neighbors=5, p=2,\n",
       "                 radius=1.0)"
      ]
     },
     "execution_count": 16,
     "metadata": {},
     "output_type": "execute_result"
    }
   ],
   "source": [
    "from sklearn.neighbors import NearestNeighbors\n",
    "\n",
    "model_knn = NearestNeighbors(metric = 'cosine', algorithm = 'brute')\n",
    "model_knn.fit(wide_race_data_sparse)"
   ]
  },
  {
   "cell_type": "markdown",
   "metadata": {},
   "source": [
    "#### Making Recommendations\n",
    "\n",
    "And we’re finally ready to make some recommendations!"
   ]
  },
  {
   "cell_type": "code",
   "execution_count": 21,
   "metadata": {},
   "outputs": [
    {
     "name": "stdout",
     "output_type": "stream",
     "text": [
      "Recommendations for chattanooga70.3:\n",
      "\n",
      "1: chattanooga, with distance of 0.687582219630086.\n",
      "2: augusta70.3, with distance of 0.7087320807349593.\n",
      "3: louisville, with distance of 0.8449116853220666.\n",
      "4: raleigh70.3, with distance of 0.8500151856903448.\n",
      "5: muncie70.3, with distance of 0.8683390176077632.\n",
      "6: northcarolina70.3, with distance of 0.8760193456787588.\n",
      "7: florida, with distance of 0.8834935330872742.\n",
      "8: florida70.3, with distance of 0.8873555205316974.\n",
      "9: neworleans70.3, with distance of 0.8973214404021042.\n"
     ]
    }
   ],
   "source": [
    "query_index = np.random.choice(wide_race_data.shape[0])\n",
    "distances, indices = model_knn.kneighbors(wide_race_data.iloc[query_index, :].values.reshape(1, -1), n_neighbors = 10)\n",
    "\n",
    "for i in range(0, len(distances.flatten())):\n",
    "    if i == 0:\n",
    "        print(f'Recommendations for {wide_race_data.index[query_index]}:\\n')\n",
    "    else:\n",
    "        print(f'{i}: {wide_race_data.index[indices.flatten()[i]]}, with distance of {distances.flatten()[i]}.')"
   ]
  },
  {
   "cell_type": "markdown",
   "metadata": {},
   "source": [
    "# MODEL 2: Binary racing. Either an entrants raced a race or not\n",
    "\n",
    "Previously, we used the actual play counts as values in our artist vectors. Another approach would be convert each vector into a binary (1 or 0): either a user played the song or they did not. We can do this by applying the `sign` function in `numpy` to each column in the dataframe."
   ]
  },
  {
   "cell_type": "code",
   "execution_count": 22,
   "metadata": {},
   "outputs": [],
   "source": [
    "wide_race_data_zero_one = wide_race_data.apply(np.sign)\n",
    "wide_race_data_zero_one_sparse = csr_matrix(wide_race_data_zero_one.values)\n",
    "\n",
    "save_npz('./../data/matrices/ironman_sparse_race_matrix_binary.npz', wide_race_data_zero_one_sparse)"
   ]
  },
  {
   "cell_type": "code",
   "execution_count": 23,
   "metadata": {},
   "outputs": [
    {
     "data": {
      "text/plain": [
       "NearestNeighbors(algorithm='brute', leaf_size=30, metric='cosine',\n",
       "                 metric_params=None, n_jobs=None, n_neighbors=5, p=2,\n",
       "                 radius=1.0)"
      ]
     },
     "execution_count": 23,
     "metadata": {},
     "output_type": "execute_result"
    }
   ],
   "source": [
    "model_knn_binary = NearestNeighbors(metric='cosine', algorithm='brute')\n",
    "model_knn_binary.fit(wide_race_data_zero_one_sparse)"
   ]
  },
  {
   "cell_type": "markdown",
   "metadata": {},
   "source": [
    "## Let’s make a quick comparison. Which recommendations look better?"
   ]
  },
  {
   "cell_type": "code",
   "execution_count": 24,
   "metadata": {},
   "outputs": [
    {
     "name": "stdout",
     "output_type": "stream",
     "text": [
      "Recommendations for chattanooga70.3:\n",
      "\n",
      "1: augusta70.3, with distance of 0.7197274973091208.\n",
      "2: chattanooga, with distance of 0.7235274306968568.\n",
      "3: raleigh70.3, with distance of 0.8311137462920253.\n",
      "4: louisville, with distance of 0.8370628151290376.\n",
      "5: muncie70.3, with distance of 0.8605315514175962.\n",
      "6: northcarolina70.3, with distance of 0.871539793680769.\n",
      "7: florida, with distance of 0.8791107505652767.\n",
      "8: florida70.3, with distance of 0.8818895512393431.\n",
      "9: neworleans70.3, with distance of 0.8875816689091484.\n"
     ]
    }
   ],
   "source": [
    "distances, indices = model_knn_binary.kneighbors(wide_race_data_zero_one.iloc[query_index, :].values.reshape(1, -1), n_neighbors = 10)\n",
    "\n",
    "for i in range(0, len(distances.flatten())):\n",
    "    if i == 0:\n",
    "        print(f'Recommendations for {wide_race_data_zero_one.index[query_index]}:\\n')\n",
    "    else:\n",
    "        print(f'{i}: {wide_race_data_zero_one.index[indices.flatten()[i]]}, with distance of {distances.flatten()[i]}.')"
   ]
  },
  {
   "cell_type": "markdown",
   "metadata": {},
   "source": [
    "The binary data representation recommendations look qualitatively similar.\n",
    "\n",
    "Again, it’s not obvious which method is better. Since ultimately it’s the users’s future actions that indicate which recommender system is better, it’s a perfect candidate for A/B Testing. For now, I’ll stick with the non-binary data representation model."
   ]
  },
  {
   "cell_type": "markdown",
   "metadata": {},
   "source": [
    "## Implement pre-filtering"
   ]
  },
  {
   "cell_type": "code",
   "execution_count": 25,
   "metadata": {},
   "outputs": [
    {
     "name": "stderr",
     "output_type": "stream",
     "text": [
      "/miniconda3/envs/data-science/lib/python3.7/site-packages/ipykernel_launcher.py:2: SettingWithCopyWarning: \n",
      "A value is trying to be set on a copy of a slice from a DataFrame.\n",
      "Try using .loc[row_indexer,col_indexer] = value instead\n",
      "\n",
      "See the caveats in the documentation: http://pandas.pydata.org/pandas-docs/stable/indexing.html#indexing-view-versus-copy\n",
      "  \n"
     ]
    }
   ],
   "source": [
    "race_filter = df_races[['race', 'region', 'country_code']]\n",
    "race_filter['is_70.3'] = race_filter['race'].str.contains('70.3')\n",
    "race_filter = race_filter.set_index('race')\n",
    "race_filter.head()\n",
    "\n",
    "# make sure the filtering df has the same data/order than the wide_race_data\n",
    "df_to_filter_races = pd.DataFrame(list(wide_race_data.index.map(lambda x: race_filter.loc[x].to_dict())), index=wide_race_data.index)"
   ]
  },
  {
   "cell_type": "code",
   "execution_count": 26,
   "metadata": {},
   "outputs": [
    {
     "data": {
      "text/plain": [
       "((153, 3), (157, 3))"
      ]
     },
     "execution_count": 26,
     "metadata": {},
     "output_type": "execute_result"
    }
   ],
   "source": [
    "df_to_filter_races.shape, race_filter.shape"
   ]
  },
  {
   "cell_type": "code",
   "execution_count": 27,
   "metadata": {},
   "outputs": [],
   "source": [
    "def get_filtered_races(filterBy, value, df=df_to_filter_races, returnIndices=False):\n",
    "    if not filterBy:\n",
    "        selection = df\n",
    "    else:\n",
    "        selection = df.loc[df[filterBy] == value]\n",
    "    if returnIndices:\n",
    "        return selection.index.map(lambda x: df.index.get_loc(x)).tolist()\n",
    "    else:\n",
    "        return selection.index.values"
   ]
  },
  {
   "cell_type": "code",
   "execution_count": 28,
   "metadata": {},
   "outputs": [],
   "source": [
    "def get_prediction(similarTo, n=10, filterBy=False, value=False):\n",
    "    if filterBy:\n",
    "        selection_races = get_filtered_races(filterBy, value, df=df_to_filter_races)\n",
    "        data = user_data_with_race_count.loc[user_data_with_race_count['race'].isin(selection_races)]\n",
    "    else:\n",
    "        data = user_data_with_race_count\n",
    "    wide_data = data.pivot(index = 'race', columns = 'athlete', values = 'count')\n",
    "    \n",
    "    if similarTo not in wide_data.index:\n",
    "        row_to_add = (user_data_with_race_count\n",
    "                          .loc[user_data_with_race_count['race'] == similarTo]\n",
    "                          .pivot(index='race', columns='athlete', values='count')\n",
    "                     )\n",
    "        # add row back if it was filtered out\n",
    "        wide_data = pd.concat([wide_data, row_to_add], sort=False)\n",
    "    wide_data.fillna(0, inplace=True)\n",
    "    data_sparse = csr_matrix(wide_data.values)\n",
    "        \n",
    "    model_nn_binary = NearestNeighbors(metric='cosine', algorithm='brute')\n",
    "    model_nn_binary.fit(data_sparse)\n",
    "    query_index = np.where(wide_data.index == similarTo)[0][0]\n",
    "    distances, indices = model_nn_binary.kneighbors(wide_data.iloc[query_index, :].values.reshape(1, -1), n_neighbors = n+1)\n",
    "    distances = distances.flatten()\n",
    "    indices = indices.flatten()\n",
    "    return [(wide_data.index[indices[i]], distances[i]) for i in range(1, len(distances))]"
   ]
  },
  {
   "cell_type": "code",
   "execution_count": 29,
   "metadata": {},
   "outputs": [
    {
     "data": {
      "text/plain": [
       "[('arizona', 0.7861915846702664),\n",
       " ('california70.3', 0.8516627809813649),\n",
       " ('stgeorge70.3', 0.8694722935189386),\n",
       " ('indianwellslaquinta70.3', 0.8920661774114591),\n",
       " ('santarosa70.3', 0.9032628733428057),\n",
       " ('boulder70.3', 0.9128008544891082),\n",
       " ('superfrog70.3', 0.923165281195798),\n",
       " ('coeurdalene70.3', 0.9243375258295179),\n",
       " ('santacruz70.3', 0.9303157440175995),\n",
       " ('boulder', 0.9314105332245298)]"
      ]
     },
     "execution_count": 29,
     "metadata": {},
     "output_type": "execute_result"
    }
   ],
   "source": [
    "get_prediction('Arizona70.3')"
   ]
  },
  {
   "cell_type": "code",
   "execution_count": 30,
   "metadata": {},
   "outputs": [
    {
     "data": {
      "text/plain": [
       "[('arizona', 0.7861915846702664),\n",
       " ('boulder', 0.9314105332245298),\n",
       " ('santarosa', 0.9458733001072461),\n",
       " ('texas', 0.9574168738453601),\n",
       " ('st.george', 0.9622583796527981),\n",
       " ('canada', 0.9629124576963345),\n",
       " ('florida', 0.9687432184274619),\n",
       " ('louisville', 0.9691280053694747),\n",
       " ('wisconsin', 0.971610079426734),\n",
       " ('chattanooga', 0.9731856992862584)]"
      ]
     },
     "execution_count": 30,
     "metadata": {},
     "output_type": "execute_result"
    }
   ],
   "source": [
    "get_prediction('Arizona70.3', filterBy='is_70.3', value=False)"
   ]
  },
  {
   "cell_type": "markdown",
   "metadata": {},
   "source": [
    "## Faster prediction by pre-computing the matrix and fitting the model prior and filtering on the full results data"
   ]
  },
  {
   "cell_type": "code",
   "execution_count": null,
   "metadata": {},
   "outputs": [],
   "source": []
  },
  {
   "cell_type": "code",
   "execution_count": 140,
   "metadata": {},
   "outputs": [],
   "source": [
    "# precompute similarity matrix and do filtering as post-process\n",
    "wide_race_data = user_data_with_race_count.pivot(index = 'race', columns = 'athlete', values = 'count').fillna(0)\n",
    "wide_race_data_sparse = csr_matrix(wide_race_data.values)\n",
    "\n",
    "model_knn = NearestNeighbors(metric = 'cosine', algorithm = 'brute')\n",
    "model_knn.fit(wide_race_data_sparse)\n",
    "\n",
    "# import pickle\n",
    "# # save the model to disk\n",
    "# filename = './../flask_app/nostrappdamus/model/data/knn.sav'\n",
    "# pickle.dump(model_knn, open(filename, 'wb'))\n",
    " \n",
    "# # some time later...\n",
    " \n",
    "# # load the model from disk\n",
    "# loaded_model = pickle.load(open(filename, 'rb'))\n",
    "# result = loaded_model.score(X_test, Y_test)\n",
    "\n",
    "# make sure the filtering df has the same data/order than the wide_race_data\n",
    "df_to_filter_races = pd.DataFrame(list(wide_race_data.index.map(lambda x: race_filter.loc[x].to_dict())), index=wide_race_data.index)\n",
    "\n",
    "def get_prediction_fast(similarTo, n=10, filterBy=False, value=False):\n",
    "    query_index = np.where(wide_race_data.index == similarTo)[0][0]\n",
    "    total_n = wide_race_data.shape[0]\n",
    "    distances, indices = model_knn.kneighbors(wide_race_data.iloc[query_index].values.reshape(1, -1), n_neighbors = total_n)\n",
    "    distances = distances.flatten()\n",
    "    indices = indices.flatten()\n",
    "    \n",
    "    if filterBy:\n",
    "        selection_idx = get_filtered_races(filterBy, value, df=df_to_filter_races, returnIndices=False)\n",
    "        n = n if n<len(selection_idx) else len(selection_idx)\n",
    "        out_distances = []\n",
    "        out_races = []\n",
    "        \n",
    "        for indice,distance in zip(indices, distances):\n",
    "            race = wide_race_data.index[indice]\n",
    "            if ((race in selection_idx) and (race != similarTo)):\n",
    "                out_races.append(race)\n",
    "                out_distances.append(distance)\n",
    "                if len(out_distances) >=n :\n",
    "                    break\n",
    "    else:\n",
    "        out_races = wide_race_data.index[indices[1:n+1]] #remove the race itself\n",
    "        out_distances = distances[1:n+1] #remove the race itself\n",
    "    \n",
    "    out_df = df_to_filter_races.loc[out_races]\n",
    "    out_df['similarity'] = out_distances\n",
    "        \n",
    "    return out_df#[(race, distance) for race,distance in zip(out_races, out_distances)]"
   ]
  },
  {
   "cell_type": "code",
   "execution_count": 32,
   "metadata": {},
   "outputs": [],
   "source": [
    "# df_to_filter_races.region.to_dict()"
   ]
  },
  {
   "cell_type": "code",
   "execution_count": 33,
   "metadata": {},
   "outputs": [
    {
     "data": {
      "text/html": [
       "<div>\n",
       "<style scoped>\n",
       "    .dataframe tbody tr th:only-of-type {\n",
       "        vertical-align: middle;\n",
       "    }\n",
       "\n",
       "    .dataframe tbody tr th {\n",
       "        vertical-align: top;\n",
       "    }\n",
       "\n",
       "    .dataframe thead th {\n",
       "        text-align: right;\n",
       "    }\n",
       "</style>\n",
       "<table border=\"1\" class=\"dataframe\">\n",
       "  <thead>\n",
       "    <tr style=\"text-align: right;\">\n",
       "      <th></th>\n",
       "      <th>country_code</th>\n",
       "      <th>is_70.3</th>\n",
       "      <th>region</th>\n",
       "      <th>similarity</th>\n",
       "    </tr>\n",
       "    <tr>\n",
       "      <th>race</th>\n",
       "      <th></th>\n",
       "      <th></th>\n",
       "      <th></th>\n",
       "      <th></th>\n",
       "    </tr>\n",
       "  </thead>\n",
       "  <tbody>\n",
       "    <tr>\n",
       "      <th>cancun70.3</th>\n",
       "      <td>MEX</td>\n",
       "      <td>True</td>\n",
       "      <td>North America</td>\n",
       "      <td>0.662201</td>\n",
       "    </tr>\n",
       "    <tr>\n",
       "      <th>campeche70.3</th>\n",
       "      <td>MEX</td>\n",
       "      <td>True</td>\n",
       "      <td>North America</td>\n",
       "      <td>0.727810</td>\n",
       "    </tr>\n",
       "    <tr>\n",
       "      <th>loscabos70.3</th>\n",
       "      <td>MEX</td>\n",
       "      <td>True</td>\n",
       "      <td>North America</td>\n",
       "      <td>0.796758</td>\n",
       "    </tr>\n",
       "    <tr>\n",
       "      <th>longhorn70.3</th>\n",
       "      <td>USA</td>\n",
       "      <td>True</td>\n",
       "      <td></td>\n",
       "      <td>0.911754</td>\n",
       "    </tr>\n",
       "    <tr>\n",
       "      <th>miami70.3</th>\n",
       "      <td>USA</td>\n",
       "      <td>True</td>\n",
       "      <td></td>\n",
       "      <td>0.920974</td>\n",
       "    </tr>\n",
       "    <tr>\n",
       "      <th>costarica70.3</th>\n",
       "      <td>CRI</td>\n",
       "      <td>True</td>\n",
       "      <td>South America</td>\n",
       "      <td>0.924642</td>\n",
       "    </tr>\n",
       "    <tr>\n",
       "      <th>lonestar70.3</th>\n",
       "      <td>USA</td>\n",
       "      <td>True</td>\n",
       "      <td>North America</td>\n",
       "      <td>0.940391</td>\n",
       "    </tr>\n",
       "    <tr>\n",
       "      <th>cartagena70.3</th>\n",
       "      <td>COL</td>\n",
       "      <td>True</td>\n",
       "      <td>South America</td>\n",
       "      <td>0.944718</td>\n",
       "    </tr>\n",
       "    <tr>\n",
       "      <th>sanjuan70.3</th>\n",
       "      <td>PRI</td>\n",
       "      <td>True</td>\n",
       "      <td>North America</td>\n",
       "      <td>0.947989</td>\n",
       "    </tr>\n",
       "    <tr>\n",
       "      <th>buffalosprings70.3</th>\n",
       "      <td>USA</td>\n",
       "      <td>True</td>\n",
       "      <td>North America</td>\n",
       "      <td>0.958827</td>\n",
       "    </tr>\n",
       "  </tbody>\n",
       "</table>\n",
       "</div>"
      ],
      "text/plain": [
       "                   country_code  is_70.3         region  similarity\n",
       "race                                                               \n",
       "cancun70.3                  MEX     True  North America    0.662201\n",
       "campeche70.3                MEX     True  North America    0.727810\n",
       "loscabos70.3                MEX     True  North America    0.796758\n",
       "longhorn70.3                USA     True                   0.911754\n",
       "miami70.3                   USA     True                   0.920974\n",
       "costarica70.3               CRI     True  South America    0.924642\n",
       "lonestar70.3                USA     True  North America    0.940391\n",
       "cartagena70.3               COL     True  South America    0.944718\n",
       "sanjuan70.3                 PRI     True  North America    0.947989\n",
       "buffalosprings70.3          USA     True  North America    0.958827"
      ]
     },
     "execution_count": 33,
     "metadata": {},
     "output_type": "execute_result"
    }
   ],
   "source": [
    "get_prediction_fast('monterrey70.3', filterBy='is_70.3', value=True)"
   ]
  },
  {
   "cell_type": "code",
   "execution_count": 34,
   "metadata": {},
   "outputs": [
    {
     "data": {
      "text/plain": [
       "[('cancun70.3', 0.6622009185561006),\n",
       " ('campeche70.3', 0.7278102963493052),\n",
       " ('loscabos70.3', 0.7967583283520696),\n",
       " ('longhorn70.3', 0.9117541800594359),\n",
       " ('miami70.3', 0.9209735305829925),\n",
       " ('costarica70.3', 0.9246421260789416),\n",
       " ('lonestar70.3', 0.9403913226062405),\n",
       " ('cartagena70.3', 0.9447176228039565),\n",
       " ('sanjuan70.3', 0.9479892218873789),\n",
       " ('buffalosprings70.3', 0.9588267271987684)]"
      ]
     },
     "execution_count": 34,
     "metadata": {},
     "output_type": "execute_result"
    }
   ],
   "source": [
    "get_prediction('monterrey70.3', filterBy='is_70.3', value=True)"
   ]
  },
  {
   "cell_type": "code",
   "execution_count": null,
   "metadata": {},
   "outputs": [],
   "source": []
  },
  {
   "cell_type": "markdown",
   "metadata": {},
   "source": [
    "# Evaluation\n",
    "\n",
    "Evaluation is important for machine learning projects, because it allows to compare objectivelly different algorithms and hyperparameter choices for models.\n",
    "One key aspect of evaluation is to ensure that the trained model generalizes for data it was not trained on, using Cross-validation techniques. We are using here a simple cross-validation approach named **holdout**, in which a random data sample (30% in this case) are kept aside in the training process, and exclusively used for evaluation. All evaluation metrics reported here are computed using the test set.\n",
    "\n",
    "Ps. A more robust evaluation approach could be to split train and test sets by a reference date, where the train set is composed by all interactions before that date, and the test set are interactions after that date. For the sake of simplicity, we chose the first random approach for this notebook, but you may want to try the second approach to better simulate how the recsys would perform in production predicting \"future\" users interactions."
   ]
  },
  {
   "cell_type": "code",
   "execution_count": 35,
   "metadata": {},
   "outputs": [],
   "source": [
    "from utils.average_precision import apk, mapk"
   ]
  },
  {
   "cell_type": "code",
   "execution_count": 194,
   "metadata": {},
   "outputs": [
    {
     "name": "stdout",
     "output_type": "stream",
     "text": [
      "# results in Train set: 603290\n",
      "# interactions on Test set: 258553\n"
     ]
    }
   ],
   "source": [
    "from sklearn.model_selection import train_test_split\n",
    "\n",
    "results_df = results_data.copy()\n",
    "results_train_df, results_test_df = train_test_split(results_df,\n",
    "                                                     stratify=results_data['athlete'], \n",
    "                                                     test_size=0.30,\n",
    "                                                     random_state=42)\n",
    "\n",
    "print('# results in Train set: %d' % len(results_train_df))\n",
    "print('# interactions on Test set: %d' % len(results_test_df))"
   ]
  },
  {
   "cell_type": "markdown",
   "metadata": {},
   "source": [
    "In Recommender Systems, there are a set metrics commonly used for evaluation. We chose to work with **Top-N accuracy metrics**, which evaluates the accuracy of the top recommendations provided to a user, comparing to the items the user has actually interacted in test set.\n",
    "\n",
    "**Note:** \n",
    "For what is to follow, we naively assume that if an individual has not done a race then it means the race is not relevant to him/her, which might not be true, as the individual may simply not be aware of the race or not had time to do it yet. But let's keep this assumption.\n",
    "\n",
    "This evaluation method works as follows:\n",
    "   * For each user\n",
    "   * For each result in test set (item the user has interacted with)\n",
    "   * Sample 100 other items the user has never interacted.\n",
    "   * Ask the recommender model to produce a ranked list of recommended races, from a set composed of one race raced by the individual and 100 races not raced (\"non-relevant!)\n",
    "   * Compute the Top-N accuracy metrics for this individual and interacted race from the recommendations ranked list\n",
    "   * Aggregate the global Top-N accuracy metrics\n",
    "   \n",
    "The Top-N accuracy metric choosen is **Recall@N** which evaluates whether the interacted race is among the top N races (hit) in the ranked list of 101 recommendations for an individual.\n",
    "\n",
    "**None:**\n",
    "Other popular ranking metrics are **NDCG@N** and **MAP@N**, whose score calculation takes into account the position of the relevant item in the ranked list (max. value if relevant item is in the first position). (see http://fastml.com/evaluating-recommender-systems/)"
   ]
  },
  {
   "cell_type": "code",
   "execution_count": 195,
   "metadata": {},
   "outputs": [],
   "source": [
    "#Indexing by athleteID to speed up the searches during evaluation\n",
    "results_df = results_df.set_index('athlete')\n",
    "results_train_df = results_train_df.set_index('athlete')\n",
    "results_test_df = results_test_df.set_index('athlete')"
   ]
  },
  {
   "cell_type": "code",
   "execution_count": 38,
   "metadata": {},
   "outputs": [],
   "source": [
    "#Top-N accuracy metrics consts\n",
    "EVAL_RANDOM_SAMPLE_NON_INTERACTED_RACES = 100\n",
    "\n",
    "import random\n",
    "\n",
    "res = {}\n",
    "\n",
    "class ModelEvaluator:\n",
    "    \n",
    "    @staticmethod\n",
    "    def get_races_for(athlete_id, results_df=results_df):\n",
    "        '''Get all the races done by an athlete in the full dataset'''\n",
    "        # Get the athltes's results and merge in the movie information.\n",
    "        interacted_races = results_df.loc[athlete_id]['race']\n",
    "        return set(interacted_races if type(interacted_races) == pd.Series else [interacted_races])\n",
    "        \n",
    "    def get_not_raced_sample(self, athlete_id, sample_size, seed=42, results_df=results_df):\n",
    "        '''Get a sample of races not done by athlete'''\n",
    "        # all races done by athlete\n",
    "        all_athlete_races = self.get_races_for(athlete_id, results_df)\n",
    "        # all races present in dataset\n",
    "        all_races = set(results_df['race'])\n",
    "        # races not done by athlete\n",
    "        not_raced = all_races - all_athlete_races\n",
    "        random.seed(seed)\n",
    "        not_raced_sample = random.sample(not_raced, sample_size)\n",
    "        return set(not_raced_sample)\n",
    "\n",
    "    def _verify_hit_top_n(self, race_id, recommended_races, topn): \n",
    "        '''Check if race is in topn of recommended races provided'''\n",
    "        try:\n",
    "            index = next(i for i, c in enumerate(recommended_races) if c == race_id)\n",
    "        except:\n",
    "            index = -1\n",
    "        hit = int(index in range(0, topn))\n",
    "        return hit, index\n",
    "\n",
    "    def evaluate_model_for_athlete(self, model, athlete_id, test_set=results_test_df, train_set=results_train_df):\n",
    "        '''Evaluate the recommendations provided by the model for the athlete'''\n",
    "        # Getting the list of races presents in test set for athlete\n",
    "        raced_in_testset = test_set.loc[athlete_id]\n",
    "        if type(raced_in_testset['race']) == pd.Series:\n",
    "            raced_in_testset = set(raced_in_testset['race'])\n",
    "        else:\n",
    "            raced_in_testset = set([raced_in_testset['race']])  \n",
    "        raced_in_testset_count = len(raced_in_testset) \n",
    "\n",
    "        # Getting a ranked recommendation list from a model for a given user\n",
    "        recommended_races = model.recommend_races(athlete_id, \n",
    "                                                  items_to_ignore=self.get_races_for(athlete_id, train_set), \n",
    "                                                  topn=200)\n",
    "\n",
    "        hits_at_5_count = 0\n",
    "        hits_at_10_count = 0\n",
    "        # For each race the athlete has done in test set\n",
    "        for race_id in raced_in_testset:\n",
    "            # Getting a random sample (100) races the athlete has not raced\n",
    "            # (to represent races that are assumed to be no relevant to the athlete)\n",
    "            not_raced_sample = self.get_not_raced_sample(athlete_id, sample_size=EVAL_RANDOM_SAMPLE_NON_INTERACTED_RACES, \n",
    "                                                         seed=model.items_df.index.get_loc(race_id)%(2**32))\n",
    "\n",
    "            # Combining the current interacted item with the 100 random items\n",
    "            to_keep = not_raced_sample.union(set([race_id]))\n",
    "\n",
    "            # Filtering only recommendations that are either the interacted race or from the random sample of 100 non-interacted races\n",
    "            valid_recs_df = recommended_races[recommended_races.index.isin(to_keep)]                    \n",
    "            valid_recs = valid_recs_df.index.values\n",
    "            # Verifying if the current race is among the Top-N recommended races\n",
    "            hit_at_5, index_at_5 = self._verify_hit_top_n(race_id, valid_recs, 5)\n",
    "            hits_at_5_count += hit_at_5\n",
    "            hit_at_10, index_at_10 = self._verify_hit_top_n(race_id, valid_recs, 10)\n",
    "            hits_at_10_count += hit_at_10\n",
    "            \n",
    "        # Recall is the rate of the interacted races that are ranked among the Top-N recommended races, \n",
    "        # when mixed with a set of non-relevant races\n",
    "        recall_at_5 = hits_at_5_count / float(raced_in_testset_count)\n",
    "        recall_at_10 = hits_at_10_count / float(raced_in_testset_count)\n",
    "\n",
    "        athlete_metrics = {'hits@5_count':hits_at_5_count, \n",
    "                           'hits@10_count':hits_at_10_count, \n",
    "                           'raced_count': raced_in_testset_count,\n",
    "                           'recall@5': recall_at_5,\n",
    "                           'recall@10': recall_at_10}\n",
    "        return athlete_metrics\n",
    "\n",
    "    def evaluate_model(self, model, limit=False, test_set=results_test_df, train_set=results_train_df):\n",
    "        # print('Running evaluation for athlete')\n",
    "        all_athletes_metrics = []\n",
    "        limit = len(test_set.index.unique()) if not limit else limit\n",
    "        for idx, athlete_id in enumerate(list(test_set.index.unique().values)[:limit]):\n",
    "            athlete_metrics = self.evaluate_model_for_athlete(model, athlete_id)  \n",
    "            athlete_metrics['athlete'] = athlete_id\n",
    "            all_athletes_metrics.append(athlete_metrics)\n",
    "\n",
    "        detailed_results = pd.DataFrame(all_athletes_metrics).sort_values('raced_count', ascending=False)\n",
    "        \n",
    "        global_recall_at_5 = detailed_results['hits@5_count'].sum() / float(detailed_results['raced_count'].sum())\n",
    "        global_recall_at_10 = detailed_results['hits@10_count'].sum() / float(detailed_results['raced_count'].sum())\n",
    "        \n",
    "        global_metrics = {'modelName': model.get_model_name(),\n",
    "                          'recall@5': global_recall_at_5,\n",
    "                          'recall@10': global_recall_at_10}    \n",
    "        return global_metrics, detailed_results\n",
    "\n",
    "    \n",
    "model_evaluator = ModelEvaluator() "
   ]
  },
  {
   "cell_type": "markdown",
   "metadata": {},
   "source": [
    "## Popularity model\n",
    "A common (and usually hard-to-beat) baseline approach is the Popularity model. This model is not actually personalized - it simply recommends to a user the most popular items that the user has not previously consumed. As the popularity accounts for the \"wisdom of the crowds\", it usually provides good recommendations, generally interesting for most people.\n",
    "Ps. The main objective of a recommender system is to leverage the long-tail items to the users with very specific interests, which goes far beyond this simple technique."
   ]
  },
  {
   "cell_type": "code",
   "execution_count": 39,
   "metadata": {},
   "outputs": [
    {
     "data": {
      "text/html": [
       "<div>\n",
       "<style scoped>\n",
       "    .dataframe tbody tr th:only-of-type {\n",
       "        vertical-align: middle;\n",
       "    }\n",
       "\n",
       "    .dataframe tbody tr th {\n",
       "        vertical-align: top;\n",
       "    }\n",
       "\n",
       "    .dataframe thead th {\n",
       "        text-align: right;\n",
       "    }\n",
       "</style>\n",
       "<table border=\"1\" class=\"dataframe\">\n",
       "  <thead>\n",
       "    <tr style=\"text-align: right;\">\n",
       "      <th></th>\n",
       "      <th>race</th>\n",
       "      <th>count</th>\n",
       "    </tr>\n",
       "    <tr>\n",
       "      <th>race</th>\n",
       "      <th></th>\n",
       "      <th></th>\n",
       "    </tr>\n",
       "  </thead>\n",
       "  <tbody>\n",
       "    <tr>\n",
       "      <th>florida</th>\n",
       "      <td>florida</td>\n",
       "      <td>27247</td>\n",
       "    </tr>\n",
       "    <tr>\n",
       "      <th>lakeplacid</th>\n",
       "      <td>lakeplacid</td>\n",
       "      <td>23131</td>\n",
       "    </tr>\n",
       "    <tr>\n",
       "      <th>arizona</th>\n",
       "      <td>arizona</td>\n",
       "      <td>22118</td>\n",
       "    </tr>\n",
       "    <tr>\n",
       "      <th>california70.3</th>\n",
       "      <td>california70.3</td>\n",
       "      <td>21188</td>\n",
       "    </tr>\n",
       "    <tr>\n",
       "      <th>wisconsin</th>\n",
       "      <td>wisconsin</td>\n",
       "      <td>21079</td>\n",
       "    </tr>\n",
       "    <tr>\n",
       "      <th>austria</th>\n",
       "      <td>austria</td>\n",
       "      <td>18761</td>\n",
       "    </tr>\n",
       "    <tr>\n",
       "      <th>louisville</th>\n",
       "      <td>louisville</td>\n",
       "      <td>18671</td>\n",
       "    </tr>\n",
       "    <tr>\n",
       "      <th>florida70.3</th>\n",
       "      <td>florida70.3</td>\n",
       "      <td>17016</td>\n",
       "    </tr>\n",
       "    <tr>\n",
       "      <th>canada</th>\n",
       "      <td>canada</td>\n",
       "      <td>16493</td>\n",
       "    </tr>\n",
       "    <tr>\n",
       "      <th>augusta70.3</th>\n",
       "      <td>augusta70.3</td>\n",
       "      <td>15995</td>\n",
       "    </tr>\n",
       "  </tbody>\n",
       "</table>\n",
       "</div>"
      ],
      "text/plain": [
       "                          race  count\n",
       "race                                 \n",
       "florida                florida  27247\n",
       "lakeplacid          lakeplacid  23131\n",
       "arizona                arizona  22118\n",
       "california70.3  california70.3  21188\n",
       "wisconsin            wisconsin  21079\n",
       "austria                austria  18761\n",
       "louisville          louisville  18671\n",
       "florida70.3        florida70.3  17016\n",
       "canada                  canada  16493\n",
       "augusta70.3        augusta70.3  15995"
      ]
     },
     "execution_count": 39,
     "metadata": {},
     "output_type": "execute_result"
    }
   ],
   "source": [
    "#Computes the most popular races\n",
    "races_popularity_df = results_train_df.groupby('race')['count'].sum().sort_values(ascending=False).reset_index()\n",
    "races_popularity_df.index = races_popularity_df['race']\n",
    "races_popularity_df.head(10)"
   ]
  },
  {
   "cell_type": "code",
   "execution_count": 40,
   "metadata": {},
   "outputs": [
    {
     "name": "stdout",
     "output_type": "stream",
     "text": [
      "Evaluating Popularity  model...\n",
      "\n",
      "Global metrics:\n",
      "{'modelName': 'Popularity', 'recall@5': 0.21568627450980393, 'recall@10': 0.3202614379084967}\n"
     ]
    },
    {
     "data": {
      "text/html": [
       "<div>\n",
       "<style scoped>\n",
       "    .dataframe tbody tr th:only-of-type {\n",
       "        vertical-align: middle;\n",
       "    }\n",
       "\n",
       "    .dataframe tbody tr th {\n",
       "        vertical-align: top;\n",
       "    }\n",
       "\n",
       "    .dataframe thead th {\n",
       "        text-align: right;\n",
       "    }\n",
       "</style>\n",
       "<table border=\"1\" class=\"dataframe\">\n",
       "  <thead>\n",
       "    <tr style=\"text-align: right;\">\n",
       "      <th></th>\n",
       "      <th>athlete</th>\n",
       "      <th>hits@10_count</th>\n",
       "      <th>hits@5_count</th>\n",
       "      <th>raced_count</th>\n",
       "      <th>recall@10</th>\n",
       "      <th>recall@5</th>\n",
       "    </tr>\n",
       "  </thead>\n",
       "  <tbody>\n",
       "    <tr>\n",
       "      <th>2</th>\n",
       "      <td>u19652</td>\n",
       "      <td>5</td>\n",
       "      <td>5</td>\n",
       "      <td>8</td>\n",
       "      <td>0.625000</td>\n",
       "      <td>0.625000</td>\n",
       "    </tr>\n",
       "    <tr>\n",
       "      <th>49</th>\n",
       "      <td>u113430</td>\n",
       "      <td>1</td>\n",
       "      <td>1</td>\n",
       "      <td>6</td>\n",
       "      <td>0.166667</td>\n",
       "      <td>0.166667</td>\n",
       "    </tr>\n",
       "    <tr>\n",
       "      <th>99</th>\n",
       "      <td>u35817</td>\n",
       "      <td>3</td>\n",
       "      <td>1</td>\n",
       "      <td>5</td>\n",
       "      <td>0.600000</td>\n",
       "      <td>0.200000</td>\n",
       "    </tr>\n",
       "    <tr>\n",
       "      <th>88</th>\n",
       "      <td>u32403</td>\n",
       "      <td>2</td>\n",
       "      <td>2</td>\n",
       "      <td>4</td>\n",
       "      <td>0.500000</td>\n",
       "      <td>0.500000</td>\n",
       "    </tr>\n",
       "    <tr>\n",
       "      <th>78</th>\n",
       "      <td>u26155</td>\n",
       "      <td>1</td>\n",
       "      <td>0</td>\n",
       "      <td>4</td>\n",
       "      <td>0.250000</td>\n",
       "      <td>0.000000</td>\n",
       "    </tr>\n",
       "    <tr>\n",
       "      <th>40</th>\n",
       "      <td>u10702</td>\n",
       "      <td>2</td>\n",
       "      <td>2</td>\n",
       "      <td>3</td>\n",
       "      <td>0.666667</td>\n",
       "      <td>0.666667</td>\n",
       "    </tr>\n",
       "    <tr>\n",
       "      <th>81</th>\n",
       "      <td>u48930</td>\n",
       "      <td>1</td>\n",
       "      <td>1</td>\n",
       "      <td>3</td>\n",
       "      <td>0.333333</td>\n",
       "      <td>0.333333</td>\n",
       "    </tr>\n",
       "    <tr>\n",
       "      <th>69</th>\n",
       "      <td>u23384</td>\n",
       "      <td>0</td>\n",
       "      <td>0</td>\n",
       "      <td>3</td>\n",
       "      <td>0.000000</td>\n",
       "      <td>0.000000</td>\n",
       "    </tr>\n",
       "    <tr>\n",
       "      <th>63</th>\n",
       "      <td>u65302</td>\n",
       "      <td>3</td>\n",
       "      <td>2</td>\n",
       "      <td>3</td>\n",
       "      <td>1.000000</td>\n",
       "      <td>0.666667</td>\n",
       "    </tr>\n",
       "    <tr>\n",
       "      <th>42</th>\n",
       "      <td>u7715</td>\n",
       "      <td>1</td>\n",
       "      <td>1</td>\n",
       "      <td>3</td>\n",
       "      <td>0.333333</td>\n",
       "      <td>0.333333</td>\n",
       "    </tr>\n",
       "    <tr>\n",
       "      <th>0</th>\n",
       "      <td>u31392</td>\n",
       "      <td>2</td>\n",
       "      <td>1</td>\n",
       "      <td>3</td>\n",
       "      <td>0.666667</td>\n",
       "      <td>0.333333</td>\n",
       "    </tr>\n",
       "    <tr>\n",
       "      <th>11</th>\n",
       "      <td>u71060</td>\n",
       "      <td>0</td>\n",
       "      <td>0</td>\n",
       "      <td>2</td>\n",
       "      <td>0.000000</td>\n",
       "      <td>0.000000</td>\n",
       "    </tr>\n",
       "    <tr>\n",
       "      <th>31</th>\n",
       "      <td>u27310</td>\n",
       "      <td>0</td>\n",
       "      <td>0</td>\n",
       "      <td>2</td>\n",
       "      <td>0.000000</td>\n",
       "      <td>0.000000</td>\n",
       "    </tr>\n",
       "    <tr>\n",
       "      <th>98</th>\n",
       "      <td>u99883</td>\n",
       "      <td>0</td>\n",
       "      <td>0</td>\n",
       "      <td>2</td>\n",
       "      <td>0.000000</td>\n",
       "      <td>0.000000</td>\n",
       "    </tr>\n",
       "    <tr>\n",
       "      <th>96</th>\n",
       "      <td>u64637</td>\n",
       "      <td>1</td>\n",
       "      <td>1</td>\n",
       "      <td>2</td>\n",
       "      <td>0.500000</td>\n",
       "      <td>0.500000</td>\n",
       "    </tr>\n",
       "  </tbody>\n",
       "</table>\n",
       "</div>"
      ],
      "text/plain": [
       "    athlete  hits@10_count  hits@5_count  raced_count  recall@10  recall@5\n",
       "2    u19652              5             5            8   0.625000  0.625000\n",
       "49  u113430              1             1            6   0.166667  0.166667\n",
       "99   u35817              3             1            5   0.600000  0.200000\n",
       "88   u32403              2             2            4   0.500000  0.500000\n",
       "78   u26155              1             0            4   0.250000  0.000000\n",
       "40   u10702              2             2            3   0.666667  0.666667\n",
       "81   u48930              1             1            3   0.333333  0.333333\n",
       "69   u23384              0             0            3   0.000000  0.000000\n",
       "63   u65302              3             2            3   1.000000  0.666667\n",
       "42    u7715              1             1            3   0.333333  0.333333\n",
       "0    u31392              2             1            3   0.666667  0.333333\n",
       "11   u71060              0             0            2   0.000000  0.000000\n",
       "31   u27310              0             0            2   0.000000  0.000000\n",
       "98   u99883              0             0            2   0.000000  0.000000\n",
       "96   u64637              1             1            2   0.500000  0.500000"
      ]
     },
     "execution_count": 40,
     "metadata": {},
     "output_type": "execute_result"
    }
   ],
   "source": [
    "class PopularityRecommender:\n",
    "    \n",
    "    MODEL_NAME = 'Popularity'\n",
    "    \n",
    "    def __init__(self, popularity_df, items_df=None):\n",
    "        self.popularity_df = popularity_df\n",
    "        self.items_df = items_df\n",
    "        \n",
    "    def get_model_name(self):\n",
    "        return self.MODEL_NAME\n",
    "        \n",
    "    def recommend_races(self, athlete_id, items_to_ignore=[], topn=10, verbose=False):\n",
    "        # Recommend the more popular items that the user hasn't seen yet.\n",
    "        recommendations_df = self.popularity_df[~self.popularity_df['race'].isin(items_to_ignore)] \\\n",
    "                               .sort_values('count', ascending = False) \\\n",
    "                               .head(topn)\n",
    "        if verbose:\n",
    "            if self.items_df is None:\n",
    "                raise Exception('\"items_df\" is required in verbose mode')\n",
    "\n",
    "            recommendations_df = recommendations_df.merge(self.items_df, how = 'left', \n",
    "                                                          left_on = 'race', \n",
    "                                                          right_on = 'race')[['count', 'race']]\n",
    "\n",
    "\n",
    "        return recommendations_df\n",
    "    \n",
    "popularity_model = PopularityRecommender(races_popularity_df, race_filter)\n",
    "\n",
    "print(f'Evaluating {popularity_model.get_model_name()}  model...')\n",
    "popularity_global_metrics, popularity_detailed_results = model_evaluator.evaluate_model(popularity_model, limit=100)\n",
    "print(f'\\nGlobal metrics:\\n{popularity_global_metrics}')\n",
    "popularity_detailed_results.head(15)"
   ]
  },
  {
   "cell_type": "markdown",
   "metadata": {},
   "source": [
    "## Collaborative filtering: KNN on sparse matrix"
   ]
  },
  {
   "cell_type": "code",
   "execution_count": 131,
   "metadata": {},
   "outputs": [
    {
     "data": {
      "text/html": [
       "<div>\n",
       "<style scoped>\n",
       "    .dataframe tbody tr th:only-of-type {\n",
       "        vertical-align: middle;\n",
       "    }\n",
       "\n",
       "    .dataframe tbody tr th {\n",
       "        vertical-align: top;\n",
       "    }\n",
       "\n",
       "    .dataframe thead th {\n",
       "        text-align: right;\n",
       "    }\n",
       "</style>\n",
       "<table border=\"1\" class=\"dataframe\">\n",
       "  <thead>\n",
       "    <tr style=\"text-align: right;\">\n",
       "      <th></th>\n",
       "      <th>athlete</th>\n",
       "      <th>race</th>\n",
       "      <th>count</th>\n",
       "      <th>total_count</th>\n",
       "      <th>gender</th>\n",
       "      <th>country</th>\n",
       "    </tr>\n",
       "  </thead>\n",
       "  <tbody>\n",
       "    <tr>\n",
       "      <th>0</th>\n",
       "      <td>u99670</td>\n",
       "      <td>newzealand</td>\n",
       "      <td>4</td>\n",
       "      <td>9373</td>\n",
       "      <td>M</td>\n",
       "      <td>NZL</td>\n",
       "    </tr>\n",
       "    <tr>\n",
       "      <th>1</th>\n",
       "      <td>u201110</td>\n",
       "      <td>lakeplacid</td>\n",
       "      <td>1</td>\n",
       "      <td>23131</td>\n",
       "      <td>M</td>\n",
       "      <td>USA</td>\n",
       "    </tr>\n",
       "    <tr>\n",
       "      <th>2</th>\n",
       "      <td>u53564</td>\n",
       "      <td>barcelona</td>\n",
       "      <td>1</td>\n",
       "      <td>7537</td>\n",
       "      <td>M</td>\n",
       "      <td>ESP</td>\n",
       "    </tr>\n",
       "    <tr>\n",
       "      <th>3</th>\n",
       "      <td>u21016</td>\n",
       "      <td>florida70.3</td>\n",
       "      <td>1</td>\n",
       "      <td>17016</td>\n",
       "      <td>F</td>\n",
       "      <td>USA</td>\n",
       "    </tr>\n",
       "    <tr>\n",
       "      <th>4</th>\n",
       "      <td>u95734</td>\n",
       "      <td>california70.3</td>\n",
       "      <td>1</td>\n",
       "      <td>21188</td>\n",
       "      <td>M</td>\n",
       "      <td>MEX</td>\n",
       "    </tr>\n",
       "    <tr>\n",
       "      <th>5</th>\n",
       "      <td>u36274</td>\n",
       "      <td>vichy</td>\n",
       "      <td>1</td>\n",
       "      <td>3399</td>\n",
       "      <td>M</td>\n",
       "      <td>FRA</td>\n",
       "    </tr>\n",
       "    <tr>\n",
       "      <th>6</th>\n",
       "      <td>u77563</td>\n",
       "      <td>syracuse70.3</td>\n",
       "      <td>1</td>\n",
       "      <td>7827</td>\n",
       "      <td>M</td>\n",
       "      <td>FRA</td>\n",
       "    </tr>\n",
       "    <tr>\n",
       "      <th>7</th>\n",
       "      <td>u76087</td>\n",
       "      <td>bahrain70.3</td>\n",
       "      <td>1</td>\n",
       "      <td>1628</td>\n",
       "      <td>M</td>\n",
       "      <td>KAZ</td>\n",
       "    </tr>\n",
       "    <tr>\n",
       "      <th>8</th>\n",
       "      <td>u49600</td>\n",
       "      <td>mallorca70.3</td>\n",
       "      <td>2</td>\n",
       "      <td>12384</td>\n",
       "      <td>M</td>\n",
       "      <td>SWE</td>\n",
       "    </tr>\n",
       "    <tr>\n",
       "      <th>9</th>\n",
       "      <td>u68307</td>\n",
       "      <td>luxembourg70.3</td>\n",
       "      <td>1</td>\n",
       "      <td>4887</td>\n",
       "      <td>F</td>\n",
       "      <td>ZAF</td>\n",
       "    </tr>\n",
       "  </tbody>\n",
       "</table>\n",
       "</div>"
      ],
      "text/plain": [
       "   athlete            race  count  total_count gender country\n",
       "0   u99670      newzealand      4         9373      M     NZL\n",
       "1  u201110      lakeplacid      1        23131      M     USA\n",
       "2   u53564       barcelona      1         7537      M     ESP\n",
       "3   u21016     florida70.3      1        17016      F     USA\n",
       "4   u95734  california70.3      1        21188      M     MEX\n",
       "5   u36274           vichy      1         3399      M     FRA\n",
       "6   u77563    syracuse70.3      1         7827      M     FRA\n",
       "7   u76087     bahrain70.3      1         1628      M     KAZ\n",
       "8   u49600    mallorca70.3      2        12384      M     SWE\n",
       "9   u68307  luxembourg70.3      1         4887      F     ZAF"
      ]
     },
     "execution_count": 131,
     "metadata": {},
     "output_type": "execute_result"
    }
   ],
   "source": [
    "user_data_train = results_train_df.reset_index().merge(races_popularity_df.rename(columns={'count': 'total_count'}).drop('race', axis=1), left_on = 'race', right_on = 'race', how = 'left')\n",
    "user_data_train = user_data_train.merge(gender, left_on = 'athlete', right_on = 'athlete', how = 'left')\n",
    "user_data_train = user_data_train.merge(country, left_on = 'athlete', right_on = 'athlete', how = 'left')\n",
    "user_data_train.head(10)"
   ]
  },
  {
   "cell_type": "code",
   "execution_count": 132,
   "metadata": {},
   "outputs": [],
   "source": [
    "# precompute similarity matrix and do filtering as post-process\n",
    "wide_race_data_train = user_data_train.pivot(index = 'race', columns = 'athlete', values = 'count').fillna(0)\n",
    "wide_race_data_train_sparse = csr_matrix(wide_race_data_train.values)\n",
    "\n",
    "model_knn = NearestNeighbors(metric = 'cosine', algorithm = 'brute')\n",
    "model_knn.fit(wide_race_data_train_sparse)\n",
    " \n",
    "# make sure the filtering df has the same data/order than the wide_race_data\n",
    "df_to_filter_races = pd.DataFrame(list(wide_race_data_train.index.map(lambda x: race_filter.loc[x].to_dict())), index=wide_race_data_train.index)\n",
    "\n",
    "def get_prediction_fast(similarTo, n=10, filterBy=False, value=False):\n",
    "    query_index = np.where(wide_race_data_train.index == similarTo)[0][0]\n",
    "    total_n = wide_race_data_train.shape[0]\n",
    "    distances, indices = model_knn.kneighbors(wide_race_data_train.iloc[query_index].values.reshape(1, -1), n_neighbors = total_n)\n",
    "    distances = distances.flatten()\n",
    "    indices = indices.flatten()\n",
    "    \n",
    "    if filterBy:\n",
    "        selection_idx = get_filtered_races(filterBy, value, df=df_to_filter_races, returnIndices=False)\n",
    "        n = n if n<len(selection_idx) else len(selection_idx)\n",
    "        out_distances = []\n",
    "        out_races = []\n",
    "        \n",
    "        for indice,distance in zip(indices, distances):\n",
    "            race = wide_race_data_train.index[indice]\n",
    "            if ((race in selection_idx) and (race != similarTo)):\n",
    "                out_races.append(race)\n",
    "                out_distances.append(distance)\n",
    "                if len(out_distances) >=n :\n",
    "                    break\n",
    "    else:\n",
    "        out_races = wide_race_data_train.index[indices[1:n+1]] #remove the race itself\n",
    "        out_distances = distances[1:n+1] #remove the race itself\n",
    "    \n",
    "    out_df = df_to_filter_races.loc[out_races]\n",
    "    out_df['similarity'] = out_distances\n",
    "        \n",
    "    return out_df#[(race, distance) for race,distance in zip(out_races, out_distances)]"
   ]
  },
  {
   "cell_type": "code",
   "execution_count": 134,
   "metadata": {},
   "outputs": [
    {
     "name": "stdout",
     "output_type": "stream",
     "text": [
      "Evaluating Collaborative-Based (sparse)  model...\n",
      "\n",
      "Global metrics:\n",
      "{'modelName': 'Collaborative-Based (sparse)', 'recall@5': 0.4117647058823529, 'recall@10': 0.5294117647058824}\n"
     ]
    },
    {
     "data": {
      "text/html": [
       "<div>\n",
       "<style scoped>\n",
       "    .dataframe tbody tr th:only-of-type {\n",
       "        vertical-align: middle;\n",
       "    }\n",
       "\n",
       "    .dataframe tbody tr th {\n",
       "        vertical-align: top;\n",
       "    }\n",
       "\n",
       "    .dataframe thead th {\n",
       "        text-align: right;\n",
       "    }\n",
       "</style>\n",
       "<table border=\"1\" class=\"dataframe\">\n",
       "  <thead>\n",
       "    <tr style=\"text-align: right;\">\n",
       "      <th></th>\n",
       "      <th>athlete</th>\n",
       "      <th>hits@10_count</th>\n",
       "      <th>hits@5_count</th>\n",
       "      <th>raced_count</th>\n",
       "      <th>recall@10</th>\n",
       "      <th>recall@5</th>\n",
       "    </tr>\n",
       "  </thead>\n",
       "  <tbody>\n",
       "    <tr>\n",
       "      <th>2</th>\n",
       "      <td>u19652</td>\n",
       "      <td>5</td>\n",
       "      <td>4</td>\n",
       "      <td>8</td>\n",
       "      <td>0.625000</td>\n",
       "      <td>0.500000</td>\n",
       "    </tr>\n",
       "    <tr>\n",
       "      <th>49</th>\n",
       "      <td>u113430</td>\n",
       "      <td>0</td>\n",
       "      <td>0</td>\n",
       "      <td>6</td>\n",
       "      <td>0.000000</td>\n",
       "      <td>0.000000</td>\n",
       "    </tr>\n",
       "    <tr>\n",
       "      <th>99</th>\n",
       "      <td>u35817</td>\n",
       "      <td>3</td>\n",
       "      <td>2</td>\n",
       "      <td>5</td>\n",
       "      <td>0.600000</td>\n",
       "      <td>0.400000</td>\n",
       "    </tr>\n",
       "    <tr>\n",
       "      <th>88</th>\n",
       "      <td>u32403</td>\n",
       "      <td>0</td>\n",
       "      <td>0</td>\n",
       "      <td>4</td>\n",
       "      <td>0.000000</td>\n",
       "      <td>0.000000</td>\n",
       "    </tr>\n",
       "    <tr>\n",
       "      <th>78</th>\n",
       "      <td>u26155</td>\n",
       "      <td>2</td>\n",
       "      <td>1</td>\n",
       "      <td>4</td>\n",
       "      <td>0.500000</td>\n",
       "      <td>0.250000</td>\n",
       "    </tr>\n",
       "    <tr>\n",
       "      <th>40</th>\n",
       "      <td>u10702</td>\n",
       "      <td>0</td>\n",
       "      <td>0</td>\n",
       "      <td>3</td>\n",
       "      <td>0.000000</td>\n",
       "      <td>0.000000</td>\n",
       "    </tr>\n",
       "    <tr>\n",
       "      <th>81</th>\n",
       "      <td>u48930</td>\n",
       "      <td>3</td>\n",
       "      <td>0</td>\n",
       "      <td>3</td>\n",
       "      <td>1.000000</td>\n",
       "      <td>0.000000</td>\n",
       "    </tr>\n",
       "    <tr>\n",
       "      <th>69</th>\n",
       "      <td>u23384</td>\n",
       "      <td>1</td>\n",
       "      <td>1</td>\n",
       "      <td>3</td>\n",
       "      <td>0.333333</td>\n",
       "      <td>0.333333</td>\n",
       "    </tr>\n",
       "    <tr>\n",
       "      <th>63</th>\n",
       "      <td>u65302</td>\n",
       "      <td>1</td>\n",
       "      <td>1</td>\n",
       "      <td>3</td>\n",
       "      <td>0.333333</td>\n",
       "      <td>0.333333</td>\n",
       "    </tr>\n",
       "    <tr>\n",
       "      <th>42</th>\n",
       "      <td>u7715</td>\n",
       "      <td>0</td>\n",
       "      <td>0</td>\n",
       "      <td>3</td>\n",
       "      <td>0.000000</td>\n",
       "      <td>0.000000</td>\n",
       "    </tr>\n",
       "    <tr>\n",
       "      <th>0</th>\n",
       "      <td>u31392</td>\n",
       "      <td>3</td>\n",
       "      <td>1</td>\n",
       "      <td>3</td>\n",
       "      <td>1.000000</td>\n",
       "      <td>0.333333</td>\n",
       "    </tr>\n",
       "    <tr>\n",
       "      <th>11</th>\n",
       "      <td>u71060</td>\n",
       "      <td>0</td>\n",
       "      <td>0</td>\n",
       "      <td>2</td>\n",
       "      <td>0.000000</td>\n",
       "      <td>0.000000</td>\n",
       "    </tr>\n",
       "    <tr>\n",
       "      <th>31</th>\n",
       "      <td>u27310</td>\n",
       "      <td>0</td>\n",
       "      <td>0</td>\n",
       "      <td>2</td>\n",
       "      <td>0.000000</td>\n",
       "      <td>0.000000</td>\n",
       "    </tr>\n",
       "    <tr>\n",
       "      <th>98</th>\n",
       "      <td>u99883</td>\n",
       "      <td>0</td>\n",
       "      <td>0</td>\n",
       "      <td>2</td>\n",
       "      <td>0.000000</td>\n",
       "      <td>0.000000</td>\n",
       "    </tr>\n",
       "    <tr>\n",
       "      <th>96</th>\n",
       "      <td>u64637</td>\n",
       "      <td>2</td>\n",
       "      <td>2</td>\n",
       "      <td>2</td>\n",
       "      <td>1.000000</td>\n",
       "      <td>1.000000</td>\n",
       "    </tr>\n",
       "  </tbody>\n",
       "</table>\n",
       "</div>"
      ],
      "text/plain": [
       "    athlete  hits@10_count  hits@5_count  raced_count  recall@10  recall@5\n",
       "2    u19652              5             4            8   0.625000  0.500000\n",
       "49  u113430              0             0            6   0.000000  0.000000\n",
       "99   u35817              3             2            5   0.600000  0.400000\n",
       "88   u32403              0             0            4   0.000000  0.000000\n",
       "78   u26155              2             1            4   0.500000  0.250000\n",
       "40   u10702              0             0            3   0.000000  0.000000\n",
       "81   u48930              3             0            3   1.000000  0.000000\n",
       "69   u23384              1             1            3   0.333333  0.333333\n",
       "63   u65302              1             1            3   0.333333  0.333333\n",
       "42    u7715              0             0            3   0.000000  0.000000\n",
       "0    u31392              3             1            3   1.000000  0.333333\n",
       "11   u71060              0             0            2   0.000000  0.000000\n",
       "31   u27310              0             0            2   0.000000  0.000000\n",
       "98   u99883              0             0            2   0.000000  0.000000\n",
       "96   u64637              2             2            2   1.000000  1.000000"
      ]
     },
     "execution_count": 134,
     "metadata": {},
     "output_type": "execute_result"
    }
   ],
   "source": [
    "class CF_sparse:\n",
    "    \n",
    "    MODEL_NAME = 'Collaborative-Based (sparse)'\n",
    "    \n",
    "    def __init__(self, items_df=None):\n",
    "        self.items_df = items_df\n",
    "        \n",
    "    def get_model_name(self):\n",
    "        return self.MODEL_NAME\n",
    "        \n",
    "    def recommend_races(self, athlete_id, items_to_ignore=[], topn=10):\n",
    "        recommended = get_prediction_fast(list(items_to_ignore)[0], topn)\n",
    "        # filter out the races that have to be ignored\n",
    "        to_exclude = recommended.index.isin(items_to_ignore)\n",
    "        recommendations_df = recommended[~to_exclude]\n",
    "\n",
    "        return recommendations_df.head(topn)\n",
    "    \n",
    "cf_sparse = CF_sparse(race_filter)\n",
    "\n",
    "print(f'Evaluating {cf_sparse.get_model_name()}  model...')\n",
    "cf_sparse_global_metrics, cf_sparse_detailed_results = model_evaluator.evaluate_model(cf_sparse, limit=100)\n",
    "print(f'\\nGlobal metrics:\\n{cf_sparse_global_metrics}')\n",
    "cf_sparse_detailed_results.head(15)"
   ]
  },
  {
   "cell_type": "markdown",
   "metadata": {},
   "source": [
    "## Collaborative-based filtering (SVD + KNN)"
   ]
  },
  {
   "cell_type": "code",
   "execution_count": null,
   "metadata": {},
   "outputs": [],
   "source": []
  },
  {
   "cell_type": "code",
   "execution_count": 62,
   "metadata": {},
   "outputs": [],
   "source": [
    "from sklearn.decomposition import TruncatedSVD\n",
    "import pickle\n",
    "\n",
    "X = wide_race_data_train.values\n",
    "# de-mean the data (normalize by each athlete mean) \n",
    "X = X - np.mean(X, axis=0)\n",
    "\n",
    "n_components = 25\n",
    "\n",
    "SVD = TruncatedSVD(n_components=n_components, random_state=17)\n",
    "matrix = SVD.fit_transform(X)\n",
    "matrix.shape\n",
    "\n",
    "# # save matrix\n",
    "# np.save(f'./../flask_app/nostrappdamus/model/data/races_condensed_matrix_svd-{n_components}.npy', matrix)\n",
    "\n",
    "\n",
    "model_knn_svd = NearestNeighbors(metric = 'cosine', algorithm = 'brute')\n",
    "model_knn_svd.fit(matrix)\n",
    "\n",
    "# make sure the filtering df has the same data/order than the wide_race_data\n",
    "df_to_filter_races = pd.DataFrame(list(wide_race_data_train.index.map(lambda x: race_filter.loc[x].to_dict())), index=wide_race_data_train.index)\n",
    "\n",
    "def get_prediction_svd_fast(similarTo, n=10, filterBy=False, value=False, model=model_knn_svd):\n",
    "    query_index = np.where(wide_race_data_train.index == similarTo)[0][0]\n",
    "    total_n = wide_race_data_train.shape[0]\n",
    "    distances, indices = model.kneighbors(matrix[query_index].reshape(1, -1), n_neighbors = total_n)\n",
    "    distances = distances.flatten()\n",
    "    indices = indices.flatten()\n",
    "    \n",
    "    if filterBy:\n",
    "        selection_idx = get_filtered_races(filterBy, value, df=df_to_filter_races, returnIndices=False)\n",
    "        n = n if n<len(selection_idx) else len(selection_idx)\n",
    "        out_distances = []\n",
    "        out_races = []\n",
    "        \n",
    "        for indice,distance in zip(indices, distances):\n",
    "            race = wide_race_data_train.index[indice]\n",
    "            if ((race in selection_idx) and (race != similarTo)):\n",
    "                out_races.append(race)\n",
    "                out_distances.append(distance)\n",
    "                if len(out_distances) >=n :\n",
    "                    break\n",
    "    else:\n",
    "        out_races = wide_race_data_train.index[indices[1:n+1]] #remove the race itself\n",
    "        out_distances = distances[1:n+1] #remove the race itself\n",
    "    \n",
    "    out_df = df_to_filter_races.loc[out_races]\n",
    "    out_df['similarity'] = out_distances\n",
    "        \n",
    "    return out_df"
   ]
  },
  {
   "cell_type": "code",
   "execution_count": 82,
   "metadata": {},
   "outputs": [
    {
     "name": "stdout",
     "output_type": "stream",
     "text": [
      "Evaluating Collaborative-Based (SVD)  model...\n",
      "\n",
      "Global metrics:\n",
      "{'modelName': 'Collaborative-Based (SVD)', 'recall@5': 0.24836601307189543, 'recall@10': 0.39869281045751637}\n"
     ]
    },
    {
     "data": {
      "text/html": [
       "<div>\n",
       "<style scoped>\n",
       "    .dataframe tbody tr th:only-of-type {\n",
       "        vertical-align: middle;\n",
       "    }\n",
       "\n",
       "    .dataframe tbody tr th {\n",
       "        vertical-align: top;\n",
       "    }\n",
       "\n",
       "    .dataframe thead th {\n",
       "        text-align: right;\n",
       "    }\n",
       "</style>\n",
       "<table border=\"1\" class=\"dataframe\">\n",
       "  <thead>\n",
       "    <tr style=\"text-align: right;\">\n",
       "      <th></th>\n",
       "      <th>athlete</th>\n",
       "      <th>hits@10_count</th>\n",
       "      <th>hits@5_count</th>\n",
       "      <th>raced_count</th>\n",
       "      <th>recall@10</th>\n",
       "      <th>recall@5</th>\n",
       "    </tr>\n",
       "  </thead>\n",
       "  <tbody>\n",
       "    <tr>\n",
       "      <th>2</th>\n",
       "      <td>u19652</td>\n",
       "      <td>1</td>\n",
       "      <td>0</td>\n",
       "      <td>8</td>\n",
       "      <td>0.125000</td>\n",
       "      <td>0.000000</td>\n",
       "    </tr>\n",
       "    <tr>\n",
       "      <th>49</th>\n",
       "      <td>u113430</td>\n",
       "      <td>0</td>\n",
       "      <td>0</td>\n",
       "      <td>6</td>\n",
       "      <td>0.000000</td>\n",
       "      <td>0.000000</td>\n",
       "    </tr>\n",
       "    <tr>\n",
       "      <th>99</th>\n",
       "      <td>u35817</td>\n",
       "      <td>2</td>\n",
       "      <td>0</td>\n",
       "      <td>5</td>\n",
       "      <td>0.400000</td>\n",
       "      <td>0.000000</td>\n",
       "    </tr>\n",
       "    <tr>\n",
       "      <th>88</th>\n",
       "      <td>u32403</td>\n",
       "      <td>0</td>\n",
       "      <td>0</td>\n",
       "      <td>4</td>\n",
       "      <td>0.000000</td>\n",
       "      <td>0.000000</td>\n",
       "    </tr>\n",
       "    <tr>\n",
       "      <th>78</th>\n",
       "      <td>u26155</td>\n",
       "      <td>2</td>\n",
       "      <td>0</td>\n",
       "      <td>4</td>\n",
       "      <td>0.500000</td>\n",
       "      <td>0.000000</td>\n",
       "    </tr>\n",
       "    <tr>\n",
       "      <th>40</th>\n",
       "      <td>u10702</td>\n",
       "      <td>0</td>\n",
       "      <td>0</td>\n",
       "      <td>3</td>\n",
       "      <td>0.000000</td>\n",
       "      <td>0.000000</td>\n",
       "    </tr>\n",
       "    <tr>\n",
       "      <th>81</th>\n",
       "      <td>u48930</td>\n",
       "      <td>2</td>\n",
       "      <td>2</td>\n",
       "      <td>3</td>\n",
       "      <td>0.666667</td>\n",
       "      <td>0.666667</td>\n",
       "    </tr>\n",
       "    <tr>\n",
       "      <th>69</th>\n",
       "      <td>u23384</td>\n",
       "      <td>0</td>\n",
       "      <td>0</td>\n",
       "      <td>3</td>\n",
       "      <td>0.000000</td>\n",
       "      <td>0.000000</td>\n",
       "    </tr>\n",
       "    <tr>\n",
       "      <th>63</th>\n",
       "      <td>u65302</td>\n",
       "      <td>0</td>\n",
       "      <td>0</td>\n",
       "      <td>3</td>\n",
       "      <td>0.000000</td>\n",
       "      <td>0.000000</td>\n",
       "    </tr>\n",
       "    <tr>\n",
       "      <th>42</th>\n",
       "      <td>u7715</td>\n",
       "      <td>0</td>\n",
       "      <td>0</td>\n",
       "      <td>3</td>\n",
       "      <td>0.000000</td>\n",
       "      <td>0.000000</td>\n",
       "    </tr>\n",
       "    <tr>\n",
       "      <th>0</th>\n",
       "      <td>u31392</td>\n",
       "      <td>2</td>\n",
       "      <td>2</td>\n",
       "      <td>3</td>\n",
       "      <td>0.666667</td>\n",
       "      <td>0.666667</td>\n",
       "    </tr>\n",
       "    <tr>\n",
       "      <th>11</th>\n",
       "      <td>u71060</td>\n",
       "      <td>0</td>\n",
       "      <td>0</td>\n",
       "      <td>2</td>\n",
       "      <td>0.000000</td>\n",
       "      <td>0.000000</td>\n",
       "    </tr>\n",
       "    <tr>\n",
       "      <th>31</th>\n",
       "      <td>u27310</td>\n",
       "      <td>0</td>\n",
       "      <td>0</td>\n",
       "      <td>2</td>\n",
       "      <td>0.000000</td>\n",
       "      <td>0.000000</td>\n",
       "    </tr>\n",
       "    <tr>\n",
       "      <th>98</th>\n",
       "      <td>u99883</td>\n",
       "      <td>0</td>\n",
       "      <td>0</td>\n",
       "      <td>2</td>\n",
       "      <td>0.000000</td>\n",
       "      <td>0.000000</td>\n",
       "    </tr>\n",
       "    <tr>\n",
       "      <th>96</th>\n",
       "      <td>u64637</td>\n",
       "      <td>1</td>\n",
       "      <td>1</td>\n",
       "      <td>2</td>\n",
       "      <td>0.500000</td>\n",
       "      <td>0.500000</td>\n",
       "    </tr>\n",
       "  </tbody>\n",
       "</table>\n",
       "</div>"
      ],
      "text/plain": [
       "    athlete  hits@10_count  hits@5_count  raced_count  recall@10  recall@5\n",
       "2    u19652              1             0            8   0.125000  0.000000\n",
       "49  u113430              0             0            6   0.000000  0.000000\n",
       "99   u35817              2             0            5   0.400000  0.000000\n",
       "88   u32403              0             0            4   0.000000  0.000000\n",
       "78   u26155              2             0            4   0.500000  0.000000\n",
       "40   u10702              0             0            3   0.000000  0.000000\n",
       "81   u48930              2             2            3   0.666667  0.666667\n",
       "69   u23384              0             0            3   0.000000  0.000000\n",
       "63   u65302              0             0            3   0.000000  0.000000\n",
       "42    u7715              0             0            3   0.000000  0.000000\n",
       "0    u31392              2             2            3   0.666667  0.666667\n",
       "11   u71060              0             0            2   0.000000  0.000000\n",
       "31   u27310              0             0            2   0.000000  0.000000\n",
       "98   u99883              0             0            2   0.000000  0.000000\n",
       "96   u64637              1             1            2   0.500000  0.500000"
      ]
     },
     "execution_count": 82,
     "metadata": {},
     "output_type": "execute_result"
    }
   ],
   "source": [
    "class CF_SVD:\n",
    "    \n",
    "    MODEL_NAME = 'Collaborative-Based (SVD)'\n",
    "    \n",
    "    def __init__(self, items_df=None, model=None):\n",
    "        self.items_df = items_df\n",
    "        self.model = model\n",
    "        \n",
    "    def get_model_name(self):\n",
    "        return self.MODEL_NAME\n",
    "        \n",
    "    def recommend_races(self, athlete_id, items_to_ignore=[], topn=10, use=1):\n",
    "        if not self.model:\n",
    "            raise Exception( \"A model has to be specified when initializing the class\" )\n",
    "        recommended = get_prediction_svd_fast(list(items_to_ignore)[0], topn, model=self.model)\n",
    "        # filter out the races that have to be ignored\n",
    "        to_exclude = recommended.index.isin(items_to_ignore)\n",
    "        recommendations_df = recommended[~to_exclude]\n",
    "\n",
    "        return recommendations_df.head(topn)\n",
    "    \n",
    "cf_svd = CF_SVD(race_filter, model_knn_svd)\n",
    "\n",
    "print(f'Evaluating {cf_svd.get_model_name()}  model...')\n",
    "cf_svd_global_metrics, cf_svd_detailed_results = model_evaluator.evaluate_model(cf_svd, limit=100)\n",
    "print(f'\\nGlobal metrics:\\n{cf_svd_global_metrics}')\n",
    "cf_svd_detailed_results.head(15)"
   ]
  },
  {
   "cell_type": "markdown",
   "metadata": {},
   "source": [
    "## Compare results"
   ]
  },
  {
   "cell_type": "code",
   "execution_count": 83,
   "metadata": {},
   "outputs": [
    {
     "data": {
      "text/html": [
       "<div>\n",
       "<style scoped>\n",
       "    .dataframe tbody tr th:only-of-type {\n",
       "        vertical-align: middle;\n",
       "    }\n",
       "\n",
       "    .dataframe tbody tr th {\n",
       "        vertical-align: top;\n",
       "    }\n",
       "\n",
       "    .dataframe thead th {\n",
       "        text-align: right;\n",
       "    }\n",
       "</style>\n",
       "<table border=\"1\" class=\"dataframe\">\n",
       "  <thead>\n",
       "    <tr style=\"text-align: right;\">\n",
       "      <th></th>\n",
       "      <th>popularity</th>\n",
       "      <th>CF_sparse</th>\n",
       "      <th>CF_SVD</th>\n",
       "    </tr>\n",
       "  </thead>\n",
       "  <tbody>\n",
       "    <tr>\n",
       "      <th>hits@10_count</th>\n",
       "      <td>0.490000</td>\n",
       "      <td>0.810000</td>\n",
       "      <td>0.610000</td>\n",
       "    </tr>\n",
       "    <tr>\n",
       "      <th>hits@5_count</th>\n",
       "      <td>0.330000</td>\n",
       "      <td>0.630000</td>\n",
       "      <td>0.380000</td>\n",
       "    </tr>\n",
       "    <tr>\n",
       "      <th>raced_count</th>\n",
       "      <td>1.530000</td>\n",
       "      <td>1.530000</td>\n",
       "      <td>1.530000</td>\n",
       "    </tr>\n",
       "    <tr>\n",
       "      <th>recall@10</th>\n",
       "      <td>0.281417</td>\n",
       "      <td>0.593917</td>\n",
       "      <td>0.468583</td>\n",
       "    </tr>\n",
       "    <tr>\n",
       "      <th>recall@5</th>\n",
       "      <td>0.173250</td>\n",
       "      <td>0.476500</td>\n",
       "      <td>0.303333</td>\n",
       "    </tr>\n",
       "  </tbody>\n",
       "</table>\n",
       "</div>"
      ],
      "text/plain": [
       "               popularity  CF_sparse    CF_SVD\n",
       "hits@10_count    0.490000   0.810000  0.610000\n",
       "hits@5_count     0.330000   0.630000  0.380000\n",
       "raced_count      1.530000   1.530000  1.530000\n",
       "recall@10        0.281417   0.593917  0.468583\n",
       "recall@5         0.173250   0.476500  0.303333"
      ]
     },
     "execution_count": 83,
     "metadata": {},
     "output_type": "execute_result"
    }
   ],
   "source": [
    "pd.DataFrame({\n",
    "    \"popularity\": popularity_detailed_results.mean(), \n",
    "    \"CF_sparse\": cf_sparse_detailed_results.mean(),\n",
    "    \"CF_SVD\": cf_svd_detailed_results.mean()\n",
    "})"
   ]
  },
  {
   "cell_type": "code",
   "execution_count": 88,
   "metadata": {},
   "outputs": [
    {
     "data": {
      "text/plain": [
       "[0.24836601307189543, 0.39869281045751637]"
      ]
     },
     "execution_count": 88,
     "metadata": {},
     "output_type": "execute_result"
    }
   ],
   "source": [
    "list(cf_svd_global_metrics.values())[1:]"
   ]
  },
  {
   "cell_type": "code",
   "execution_count": 65,
   "metadata": {},
   "outputs": [
    {
     "name": "stdout",
     "output_type": "stream",
     "text": [
      "{'modelName': 'Popularity', 'recall@5': 0.21568627450980393, 'recall@10': 0.3202614379084967}\n",
      "{'modelName': 'Collaborative-Based (sparse)', 'recall@5': 0.4117647058823529, 'recall@10': 0.5294117647058824}\n",
      "{'modelName': 'Collaborative-Based (SVD)', 'recall@5': 0.24836601307189543, 'recall@10': 0.39869281045751637}\n"
     ]
    }
   ],
   "source": [
    "print(popularity_global_metrics)\n",
    "print(cf_sparse_global_metrics)\n",
    "print(cf_svd_global_metrics)"
   ]
  },
  {
   "cell_type": "markdown",
   "metadata": {},
   "source": [
    "### Number of latent factors"
   ]
  },
  {
   "cell_type": "code",
   "execution_count": 92,
   "metadata": {},
   "outputs": [],
   "source": [
    "max_factors = 60\n",
    "results = {}\n",
    "\n",
    "for n_components in range(1, max_factors):\n",
    "\n",
    "    SVD = TruncatedSVD(n_components=n_components, random_state=17)\n",
    "    matrix = SVD.fit_transform(X)\n",
    "\n",
    "    # # save matrix\n",
    "    # np.save(f'./../flask_app/nostrappdamus/model/data/races_condensed_matrix_svd-{n_components}.npy', matrix)\n",
    "\n",
    "\n",
    "    model_knn_nc_svd = NearestNeighbors(metric = 'cosine', algorithm = 'brute')\n",
    "    model_knn_nc_svd.fit(matrix)\n",
    "    \n",
    "    cf_svd_nc = CF_SVD(race_filter, model_knn_nc_svd)\n",
    "    cf_svd_nc_global_metrics, cf_svd_nc_detailed_results = model_evaluator.evaluate_model(cf_svd_nc, limit=100)\n",
    "    results[f'CF_SVD_{n_components}'] = list(cf_svd_nc_global_metrics.values())[1:]\n"
   ]
  },
  {
   "cell_type": "code",
   "execution_count": 95,
   "metadata": {},
   "outputs": [
    {
     "data": {
      "text/plain": [
       "<matplotlib.axes._subplots.AxesSubplot at 0x7ffa6d414630>"
      ]
     },
     "execution_count": 95,
     "metadata": {},
     "output_type": "execute_result"
    },
    {
     "data": {
      "image/png": "[encoded data removed]",
      "text/plain": [
       "<Figure size 432x288 with 1 Axes>"
      ]
     },
     "metadata": {
      "needs_background": "light"
     },
     "output_type": "display_data"
    }
   ],
   "source": [
    "pd.DataFrame(results, index=['Recall@5', 'Recall@10']).transpose().plot()"
   ]
  },
  {
   "cell_type": "code",
   "execution_count": 153,
   "metadata": {},
   "outputs": [],
   "source": [
    "from utils.average_precision import apk, mapk"
   ]
  },
  {
   "cell_type": "code",
   "execution_count": 283,
   "metadata": {},
   "outputs": [
    {
     "name": "stdout",
     "output_type": "stream",
     "text": [
      "Valid ids: 1718\n"
     ]
    }
   ],
   "source": [
    "racers = list(np.random.choice(wide_race_data.columns.tolist(), size=2000, replace=False))\n",
    "\n",
    "# make sure we have races for the racers in both train and test set\n",
    "# and prepare list of races from train and test set and race to use to make prediction\n",
    "racers_list = []\n",
    "athletes_races_list_from_test = []\n",
    "races_to_get_recommendation_from = []\n",
    "\n",
    "for racer in racers:\n",
    "    try:\n",
    "        races_in_train = results_train_df.loc[racer, 'race']\n",
    "        races_in_test = results_test_df.loc[racer, 'race']\n",
    "        \n",
    "        # we want them as lists\n",
    "        \n",
    "        # ----- train test\n",
    "        try:\n",
    "            races_in_train = races_in_train.tolist()\n",
    "        except:\n",
    "            # there was only one result and it's a string\n",
    "            races_in_train = [races_in_train]\n",
    "        # randomly take a race form the list to use to feed the recommender\n",
    "        picked_race = np.random.choice(races_in_train)\n",
    "            \n",
    "        # ---- train test\n",
    "        try:\n",
    "            races_in_test = races_in_test.tolist()\n",
    "        except:\n",
    "            races_in_test = [races_in_test]\n",
    "        \n",
    "        # add racer to valid racer list since we have data in both sets\n",
    "        racers_list.append(racer)\n",
    "        races_to_get_recommendation_from.append(picked_race)\n",
    "        athletes_races_list_from_test.append(races_in_test)\n",
    "        \n",
    "        # add \n",
    "    except:\n",
    "        continue\n",
    "        \n",
    "print('Valid ids:', len(racers_list))"
   ]
  },
  {
   "cell_type": "code",
   "execution_count": 285,
   "metadata": {},
   "outputs": [
    {
     "name": "stdout",
     "output_type": "stream",
     "text": [
      "SVD with 5 components done!\n",
      "SVD with 10 components done!\n",
      "SVD with 15 components done!\n",
      "SVD with 20 components done!\n",
      "SVD with 25 components done!\n",
      "SVD with 30 components done!\n",
      "SVD with 35 components done!\n",
      "SVD with 40 components done!\n",
      "SVD with 45 components done!\n",
      "SVD with 50 components done!\n",
      "SVD with 55 components done!\n",
      "SVD with 60 components done!\n"
     ]
    }
   ],
   "source": [
    "max_factors = 60\n",
    "results = {}\n",
    "\n",
    "for n_components in range(1, max_factors+1):\n",
    "\n",
    "    SVD = TruncatedSVD(n_components=n_components, random_state=17)\n",
    "    matrix = SVD.fit_transform(X)\n",
    "\n",
    "    model_knn_nc_svd = NearestNeighbors(metric = 'cosine', algorithm = 'brute')\n",
    "    model_knn_nc_svd.fit(matrix)\n",
    "    \n",
    "    cf_svd_nc = CF_SVD(race_filter, model_knn_nc_svd)\n",
    "    \n",
    "    # make recommendation\n",
    "    races_recommended =  [cf_svd_nc.recommend_races('a', [races_to_get_recommendation_from[i]], 20).index.tolist() for i in range(len(races_to_get_recommendation_from))]\n",
    "    mapk_5_10_20 = [mapk(athletes_races_list_from_test, races_recommended, k) for k in [5, 10, 20]]\n",
    "    \n",
    "    # store results\n",
    "    results[f'CF_SVD_{n_components}'] = mapk_5_10_20\n",
    "    if (n_components%5 == 0):\n",
    "        print(f\"SVD with {n_components} components done!\")\n",
    "    \n",
    "evaluation_results_df = pd.DataFrame(results, index=['MAP@5', 'MAP@10', 'MAP@20']).transpose()"
   ]
  },
  {
   "cell_type": "code",
   "execution_count": 286,
   "metadata": {},
   "outputs": [
    {
     "data": {
      "text/plain": [
       "<matplotlib.axes._subplots.AxesSubplot at 0x7ffa51536828>"
      ]
     },
     "execution_count": 286,
     "metadata": {},
     "output_type": "execute_result"
    },
    {
     "data": {
      "image/png": "[encoded data removed]",
      "text/plain": [
       "<Figure size 432x288 with 1 Axes>"
      ]
     },
     "metadata": {
      "needs_background": "light"
     },
     "output_type": "display_data"
    }
   ],
   "source": [
    "evaluation_results_df.plot()"
   ]
  },
  {
   "cell_type": "code",
   "execution_count": null,
   "metadata": {},
   "outputs": [],
   "source": []
  },
  {
   "cell_type": "code",
   "execution_count": 176,
   "metadata": {},
   "outputs": [],
   "source": [
    "races_done = [list(ModelEvaluator.get_races_for(athlete_id, results_df=results_df)) for athlete_id in racers]\n",
    "# We will use the first race done to make prediction, so let's remove it in potential races when comparing with results\n",
    "valid_races = [race_list[1:] for race_list in races_done]\n",
    "races_recommended =  [get_prediction_fast(races_done[i][0], n=20, filterBy=False, value=False).index.tolist() for i in range(len(races_done))]"
   ]
  },
  {
   "cell_type": "code",
   "execution_count": 177,
   "metadata": {},
   "outputs": [
    {
     "data": {
      "text/plain": [
       "0.32285380196523056"
      ]
     },
     "execution_count": 177,
     "metadata": {},
     "output_type": "execute_result"
    }
   ],
   "source": [
    "mapk(valid_races, races_recommended, 10)"
   ]
  },
  {
   "cell_type": "code",
   "execution_count": 157,
   "metadata": {},
   "outputs": [],
   "source": [
    "# races_done, races_recommended"
   ]
  },
  {
   "cell_type": "code",
   "execution_count": 162,
   "metadata": {},
   "outputs": [
    {
     "data": {
      "text/plain": [
       "0.24107142857142858"
      ]
     },
     "execution_count": 162,
     "metadata": {},
     "output_type": "execute_result"
    }
   ],
   "source": [
    "mapk(to_check_with, races_recommended, 10)"
   ]
  },
  {
   "cell_type": "code",
   "execution_count": 163,
   "metadata": {},
   "outputs": [
    {
     "data": {
      "text/plain": [
       "0.24107142857142858"
      ]
     },
     "execution_count": 163,
     "metadata": {},
     "output_type": "execute_result"
    }
   ],
   "source": [
    "apk(to_check_with[0], races_recommended[0], 10)"
   ]
  },
  {
   "cell_type": "markdown",
   "metadata": {},
   "source": [
    "## Increasing knowledge about a user"
   ]
  },
  {
   "cell_type": "code",
   "execution_count": 61,
   "metadata": {},
   "outputs": [
    {
     "name": "stdout",
     "output_type": "stream",
     "text": [
      "Evaluating Collaborative-Based (SVD)  model with knowledge 1\n",
      "\n",
      "Global metrics:\n",
      "{'modelName': 'Collaborative-Based (SVD)', 'recall@5': 0.24836601307189543, 'recall@10': 0.39869281045751637}\n",
      "Evaluating Collaborative-Based (SVD)  model with knowledge 2\n",
      "\n",
      "Global metrics:\n",
      "{'modelName': 'Collaborative-Based (SVD)', 'recall@5': 0.27450980392156865, 'recall@10': 0.3464052287581699}\n",
      "Evaluating Collaborative-Based (SVD)  model with knowledge 3\n",
      "\n",
      "Global metrics:\n",
      "{'modelName': 'Collaborative-Based (SVD)', 'recall@5': 0.2549019607843137, 'recall@10': 0.3202614379084967}\n",
      "Evaluating Collaborative-Based (SVD)  model with knowledge 4\n"
     ]
    },
    {
     "ename": "KeyboardInterrupt",
     "evalue": "",
     "output_type": "error",
     "traceback": [
      "\u001b[0;31m---------------------------------------------------------------------------\u001b[0m",
      "\u001b[0;31mKeyboardInterrupt\u001b[0m                         Traceback (most recent call last)",
      "\u001b[0;32m<ipython-input-61-825356c1403a>\u001b[0m in \u001b[0;36m<module>\u001b[0;34m\u001b[0m\n\u001b[1;32m     32\u001b[0m     \u001b[0mcf_svd\u001b[0m \u001b[0;34m=\u001b[0m \u001b[0mCF_SVD\u001b[0m\u001b[0;34m(\u001b[0m\u001b[0mrace_filter\u001b[0m\u001b[0;34m,\u001b[0m \u001b[0mi\u001b[0m\u001b[0;34m)\u001b[0m\u001b[0;34m\u001b[0m\u001b[0;34m\u001b[0m\u001b[0m\n\u001b[1;32m     33\u001b[0m     \u001b[0mprint\u001b[0m\u001b[0;34m(\u001b[0m\u001b[0;34mf'Evaluating {cf_svd.get_model_name()}  model with knowledge {cf_svd.n_knowledge}'\u001b[0m\u001b[0;34m)\u001b[0m\u001b[0;34m\u001b[0m\u001b[0;34m\u001b[0m\u001b[0m\n\u001b[0;32m---> 34\u001b[0;31m     \u001b[0mglobal_metrics\u001b[0m\u001b[0;34m,\u001b[0m \u001b[0mdetailed_results\u001b[0m \u001b[0;34m=\u001b[0m \u001b[0mmodel_evaluator\u001b[0m\u001b[0;34m.\u001b[0m\u001b[0mevaluate_model\u001b[0m\u001b[0;34m(\u001b[0m\u001b[0mcf_svd\u001b[0m\u001b[0;34m,\u001b[0m \u001b[0mlimit\u001b[0m\u001b[0;34m=\u001b[0m\u001b[0;36m100\u001b[0m\u001b[0;34m)\u001b[0m\u001b[0;34m\u001b[0m\u001b[0;34m\u001b[0m\u001b[0m\n\u001b[0m\u001b[1;32m     35\u001b[0m     \u001b[0mprint\u001b[0m\u001b[0;34m(\u001b[0m\u001b[0;34mf'\\nGlobal metrics:\\n{global_metrics}'\u001b[0m\u001b[0;34m)\u001b[0m\u001b[0;34m\u001b[0m\u001b[0;34m\u001b[0m\u001b[0m\n\u001b[1;32m     36\u001b[0m     \u001b[0mglobal_cf_svd_increasing\u001b[0m\u001b[0;34m[\u001b[0m\u001b[0mi\u001b[0m\u001b[0;34m]\u001b[0m \u001b[0;34m=\u001b[0m \u001b[0mglobal_metrics\u001b[0m\u001b[0;34m\u001b[0m\u001b[0;34m\u001b[0m\u001b[0m\n",
      "\u001b[0;32m<ipython-input-38-f752cb16d124>\u001b[0m in \u001b[0;36mevaluate_model\u001b[0;34m(self, model, limit, test_set, train_set)\u001b[0m\n\u001b[1;32m     89\u001b[0m         \u001b[0mlimit\u001b[0m \u001b[0;34m=\u001b[0m \u001b[0mlen\u001b[0m\u001b[0;34m(\u001b[0m\u001b[0mtest_set\u001b[0m\u001b[0;34m.\u001b[0m\u001b[0mindex\u001b[0m\u001b[0;34m.\u001b[0m\u001b[0munique\u001b[0m\u001b[0;34m(\u001b[0m\u001b[0;34m)\u001b[0m\u001b[0;34m)\u001b[0m \u001b[0;32mif\u001b[0m \u001b[0;32mnot\u001b[0m \u001b[0mlimit\u001b[0m \u001b[0;32melse\u001b[0m \u001b[0mlimit\u001b[0m\u001b[0;34m\u001b[0m\u001b[0;34m\u001b[0m\u001b[0m\n\u001b[1;32m     90\u001b[0m         \u001b[0;32mfor\u001b[0m \u001b[0midx\u001b[0m\u001b[0;34m,\u001b[0m \u001b[0mathlete_id\u001b[0m \u001b[0;32min\u001b[0m \u001b[0menumerate\u001b[0m\u001b[0;34m(\u001b[0m\u001b[0mlist\u001b[0m\u001b[0;34m(\u001b[0m\u001b[0mtest_set\u001b[0m\u001b[0;34m.\u001b[0m\u001b[0mindex\u001b[0m\u001b[0;34m.\u001b[0m\u001b[0munique\u001b[0m\u001b[0;34m(\u001b[0m\u001b[0;34m)\u001b[0m\u001b[0;34m.\u001b[0m\u001b[0mvalues\u001b[0m\u001b[0;34m)\u001b[0m\u001b[0;34m[\u001b[0m\u001b[0;34m:\u001b[0m\u001b[0mlimit\u001b[0m\u001b[0;34m]\u001b[0m\u001b[0;34m)\u001b[0m\u001b[0;34m:\u001b[0m\u001b[0;34m\u001b[0m\u001b[0;34m\u001b[0m\u001b[0m\n\u001b[0;32m---> 91\u001b[0;31m             \u001b[0mathlete_metrics\u001b[0m \u001b[0;34m=\u001b[0m \u001b[0mself\u001b[0m\u001b[0;34m.\u001b[0m\u001b[0mevaluate_model_for_athlete\u001b[0m\u001b[0;34m(\u001b[0m\u001b[0mmodel\u001b[0m\u001b[0;34m,\u001b[0m \u001b[0mathlete_id\u001b[0m\u001b[0;34m)\u001b[0m\u001b[0;34m\u001b[0m\u001b[0;34m\u001b[0m\u001b[0m\n\u001b[0m\u001b[1;32m     92\u001b[0m             \u001b[0mathlete_metrics\u001b[0m\u001b[0;34m[\u001b[0m\u001b[0;34m'athlete'\u001b[0m\u001b[0;34m]\u001b[0m \u001b[0;34m=\u001b[0m \u001b[0mathlete_id\u001b[0m\u001b[0;34m\u001b[0m\u001b[0;34m\u001b[0m\u001b[0m\n\u001b[1;32m     93\u001b[0m             \u001b[0mall_athletes_metrics\u001b[0m\u001b[0;34m.\u001b[0m\u001b[0mappend\u001b[0m\u001b[0;34m(\u001b[0m\u001b[0mathlete_metrics\u001b[0m\u001b[0;34m)\u001b[0m\u001b[0;34m\u001b[0m\u001b[0;34m\u001b[0m\u001b[0m\n",
      "\u001b[0;32m<ipython-input-38-f752cb16d124>\u001b[0m in \u001b[0;36mevaluate_model_for_athlete\u001b[0;34m(self, model, athlete_id, test_set, train_set)\u001b[0m\n\u001b[1;32m     58\u001b[0m             \u001b[0;31m# (to represent races that are assumed to be no relevant to the athlete)\u001b[0m\u001b[0;34m\u001b[0m\u001b[0;34m\u001b[0m\u001b[0;34m\u001b[0m\u001b[0m\n\u001b[1;32m     59\u001b[0m             not_raced_sample = self.get_not_raced_sample(athlete_id, sample_size=EVAL_RANDOM_SAMPLE_NON_INTERACTED_RACES, \n\u001b[0;32m---> 60\u001b[0;31m                                                          seed=model.items_df.index.get_loc(race_id)%(2**32))\n\u001b[0m\u001b[1;32m     61\u001b[0m \u001b[0;34m\u001b[0m\u001b[0m\n\u001b[1;32m     62\u001b[0m             \u001b[0;31m# Combining the current interacted item with the 100 random items\u001b[0m\u001b[0;34m\u001b[0m\u001b[0;34m\u001b[0m\u001b[0;34m\u001b[0m\u001b[0m\n",
      "\u001b[0;32m<ipython-input-38-f752cb16d124>\u001b[0m in \u001b[0;36mget_not_raced_sample\u001b[0;34m(self, athlete_id, sample_size, seed, results_df)\u001b[0m\n\u001b[1;32m     20\u001b[0m         \u001b[0mall_athlete_races\u001b[0m \u001b[0;34m=\u001b[0m \u001b[0mself\u001b[0m\u001b[0;34m.\u001b[0m\u001b[0mget_races_for\u001b[0m\u001b[0;34m(\u001b[0m\u001b[0mathlete_id\u001b[0m\u001b[0;34m,\u001b[0m \u001b[0mresults_df\u001b[0m\u001b[0;34m)\u001b[0m\u001b[0;34m\u001b[0m\u001b[0;34m\u001b[0m\u001b[0m\n\u001b[1;32m     21\u001b[0m         \u001b[0;31m# all races present in dataset\u001b[0m\u001b[0;34m\u001b[0m\u001b[0;34m\u001b[0m\u001b[0;34m\u001b[0m\u001b[0m\n\u001b[0;32m---> 22\u001b[0;31m         \u001b[0mall_races\u001b[0m \u001b[0;34m=\u001b[0m \u001b[0mset\u001b[0m\u001b[0;34m(\u001b[0m\u001b[0mresults_df\u001b[0m\u001b[0;34m[\u001b[0m\u001b[0;34m'race'\u001b[0m\u001b[0;34m]\u001b[0m\u001b[0;34m)\u001b[0m\u001b[0;34m\u001b[0m\u001b[0;34m\u001b[0m\u001b[0m\n\u001b[0m\u001b[1;32m     23\u001b[0m         \u001b[0;31m# races not done by athlete\u001b[0m\u001b[0;34m\u001b[0m\u001b[0;34m\u001b[0m\u001b[0;34m\u001b[0m\u001b[0m\n\u001b[1;32m     24\u001b[0m         \u001b[0mnot_raced\u001b[0m \u001b[0;34m=\u001b[0m \u001b[0mall_races\u001b[0m \u001b[0;34m-\u001b[0m \u001b[0mall_athlete_races\u001b[0m\u001b[0;34m\u001b[0m\u001b[0;34m\u001b[0m\u001b[0m\n",
      "\u001b[0;31mKeyboardInterrupt\u001b[0m: "
     ]
    }
   ],
   "source": [
    "class CF_SVD:\n",
    "    \n",
    "    MODEL_NAME = 'Collaborative-Based (SVD)'\n",
    "    \n",
    "    def __init__(self, items_df=None, n=1):\n",
    "        self.items_df = items_df\n",
    "        self.n_knowledge = n\n",
    "        \n",
    "    def get_model_name(self):\n",
    "        return self.MODEL_NAME\n",
    "        \n",
    "    def recommend_races(self, athlete_id, items_to_ignore=[], topn=10):\n",
    "        recommended = []\n",
    "        n_use = self.n_knowledge if self.n_knowledge < len(items_to_ignore) else len(items_to_ignore)\n",
    "        for i in range(n_use):\n",
    "            race = list(items_to_ignore)[i]\n",
    "            rec = get_prediction_svd_fast(race, topn)\n",
    "            recommended.append(rec)\n",
    "            \n",
    "        \n",
    "        recommended = pd.concat(recommended).sort_values('similarity')\n",
    "        # filter out the races that have to be ignored\n",
    "        to_exclude = recommended.index.isin(items_to_ignore)\n",
    "        recommendations_df = recommended[~to_exclude]\n",
    "\n",
    "        return recommendations_df.head(topn)\n",
    "    \n",
    "\n",
    "global_cf_svd_increasing = {}\n",
    "\n",
    "for i in range(1, 11):\n",
    "    cf_svd = CF_SVD(race_filter, i)\n",
    "    print(f'Evaluating {cf_svd.get_model_name()}  model with knowledge {cf_svd.n_knowledge}')\n",
    "    global_metrics, detailed_results = model_evaluator.evaluate_model(cf_svd, limit=100)\n",
    "    print(f'\\nGlobal metrics:\\n{global_metrics}')\n",
    "    global_cf_svd_increasing[i] = global_metrics"
   ]
  },
  {
   "cell_type": "code",
   "execution_count": null,
   "metadata": {},
   "outputs": [],
   "source": []
  },
  {
   "cell_type": "code",
   "execution_count": null,
   "metadata": {},
   "outputs": [],
   "source": []
  },
  {
   "cell_type": "code",
   "execution_count": null,
   "metadata": {},
   "outputs": [],
   "source": []
  },
  {
   "cell_type": "code",
   "execution_count": null,
   "metadata": {},
   "outputs": [],
   "source": []
  },
  {
   "cell_type": "markdown",
   "metadata": {},
   "source": [
    "# Matrix factorization with Scipy\n",
    "\n",
    "Latent factor models compress user-item matrix into a low-dimensional representation in terms of latent factors. One advantage of using this approach is that instead of having a high dimensional matrix containing abundant number of missing values we will be dealing with a much smaller matrix in lower-dimensional space.\n",
    "A reduced presentation could be utilized for either user-based or item-based neighborhood algorithms that are presented in the previous section. There are several advantages with this paradigm. It handles the sparsity of the original matrix better than memory based ones. Also comparing similarity on the resulting matrix is much more scalable especially in dealing with large sparse datasets.\n",
    "\n",
    "Here we a use popular latent factor model named **Singular Value Decomposition (SVD)**. There are other matrix factorization frameworks more specific to CF you might try, like surprise, mrec or python-recsys. We chose a SciPy implemenation of SVD.\n",
    "\n",
    "An important decision is the number of factors to factor the user-item matrix. The higher the number of factors, the more precise is the factorization in the original matrix reconstructions. Therefore, if the model is allowed to memorize too much details of the original matrix, it may not generalize well for data it was not trained on. Reducing the number of factors increases the model generalization."
   ]
  },
  {
   "cell_type": "code",
   "execution_count": null,
   "metadata": {},
   "outputs": [],
   "source": [
    "# users_items_pivot_matrix_df = wide_race_data.transpose()\n",
    "\n",
    "# users_items_pivot_matrix = users_items_pivot_matrix_df.as_matrix()\n",
    "# users_items_pivot_matrix[:10]"
   ]
  },
  {
   "cell_type": "code",
   "execution_count": 346,
   "metadata": {},
   "outputs": [
    {
     "name": "stderr",
     "output_type": "stream",
     "text": [
      "/miniconda3/envs/data-science/lib/python3.7/site-packages/ipykernel_launcher.py:3: FutureWarning: Method .as_matrix will be removed in a future version. Use .values instead.\n",
      "  This is separate from the ipykernel package so we can avoid doing imports until\n"
     ]
    },
    {
     "data": {
      "text/plain": [
       "array([[0., 0., 0., ..., 0., 0., 2.],\n",
       "       [0., 0., 0., ..., 0., 0., 3.],\n",
       "       [0., 0., 0., ..., 0., 0., 2.],\n",
       "       ...,\n",
       "       [0., 0., 0., ..., 0., 0., 0.],\n",
       "       [0., 0., 0., ..., 0., 0., 0.],\n",
       "       [0., 0., 0., ..., 0., 0., 0.]])"
      ]
     },
     "execution_count": 346,
     "metadata": {},
     "output_type": "execute_result"
    }
   ],
   "source": [
    "users_items_pivot_train = wide_race_data_train.transpose()\n",
    "\n",
    "users_items_pivot_train_matrix = users_items_pivot_train.as_matrix()\n",
    "users_items_pivot_train_matrix[:10]"
   ]
  },
  {
   "cell_type": "code",
   "execution_count": 347,
   "metadata": {},
   "outputs": [
    {
     "data": {
      "text/plain": [
       "['u0',\n",
       " 'u1',\n",
       " 'u10',\n",
       " 'u100',\n",
       " 'u1000',\n",
       " 'u10000',\n",
       " 'u100000',\n",
       " 'u100001',\n",
       " 'u100002',\n",
       " 'u100003']"
      ]
     },
     "execution_count": 347,
     "metadata": {},
     "output_type": "execute_result"
    }
   ],
   "source": [
    "users_ids = list(users_items_pivot_train.index)\n",
    "users_ids[:10]"
   ]
  },
  {
   "cell_type": "code",
   "execution_count": 348,
   "metadata": {},
   "outputs": [],
   "source": [
    "from scipy.sparse.linalg import svds\n",
    "\n",
    "#The number of factors to factor the user-item matrix.\n",
    "NUMBER_OF_FACTORS_MF = 25\n",
    "#Performs matrix factorization of the original user item matrix\n",
    "U, sigma, Vt = svds(users_items_pivot_train_matrix, k = NUMBER_OF_FACTORS_MF)"
   ]
  },
  {
   "cell_type": "code",
   "execution_count": 349,
   "metadata": {},
   "outputs": [
    {
     "data": {
      "text/plain": [
       "(248360, 25)"
      ]
     },
     "execution_count": 349,
     "metadata": {},
     "output_type": "execute_result"
    }
   ],
   "source": [
    "U.shape"
   ]
  },
  {
   "cell_type": "code",
   "execution_count": 350,
   "metadata": {},
   "outputs": [
    {
     "data": {
      "text/plain": [
       "(25, 153)"
      ]
     },
     "execution_count": 350,
     "metadata": {},
     "output_type": "execute_result"
    }
   ],
   "source": [
    "Vt.shape"
   ]
  },
  {
   "cell_type": "code",
   "execution_count": 351,
   "metadata": {},
   "outputs": [
    {
     "data": {
      "text/plain": [
       "(25, 25)"
      ]
     },
     "execution_count": 351,
     "metadata": {},
     "output_type": "execute_result"
    }
   ],
   "source": [
    "sigma = np.diag(sigma)\n",
    "sigma.shape"
   ]
  },
  {
   "cell_type": "markdown",
   "metadata": {},
   "source": [
    "After the factorization, we try to to reconstruct the original matrix by multiplying its factors. The resulting matrix is not sparse any more. It was generated predictions for items the user have not yet interaction, which we will exploit for recommendations."
   ]
  },
  {
   "cell_type": "code",
   "execution_count": 352,
   "metadata": {},
   "outputs": [
    {
     "data": {
      "text/plain": [
       "array([[ 2.97599177e-02,  6.67707966e-04,  9.09381966e-03, ...,\n",
       "         1.80214702e-02, -5.36627565e-03,  3.83074273e-03],\n",
       "       [ 7.06662223e-04,  7.81916558e-04,  1.55545833e-04, ...,\n",
       "        -1.16907878e-03,  4.38545845e-04,  1.77587834e-03],\n",
       "       [ 2.42237333e-04,  3.62847946e-04,  3.92413491e-05, ...,\n",
       "        -4.98615542e-04,  3.06510418e-04,  7.48145483e-04],\n",
       "       ...,\n",
       "       [ 3.91088745e-04,  5.76963491e-03, -5.50732481e-05, ...,\n",
       "         1.44315428e-03,  3.37850780e-03,  1.12886071e-02],\n",
       "       [ 1.36877544e-03,  3.01023867e-03, -4.99529186e-04, ...,\n",
       "         9.21393353e-03,  2.84348007e-03,  5.98366707e-03],\n",
       "       [ 1.91586804e-03,  2.59779617e-03,  1.37930461e-04, ...,\n",
       "        -1.30551645e-03,  2.26010078e-03,  6.39734122e-03]])"
      ]
     },
     "execution_count": 352,
     "metadata": {},
     "output_type": "execute_result"
    }
   ],
   "source": [
    "all_user_predicted_ratings_train = np.dot(np.dot(U, sigma), Vt) \n",
    "all_user_predicted_ratings_train"
   ]
  },
  {
   "cell_type": "code",
   "execution_count": 353,
   "metadata": {},
   "outputs": [
    {
     "data": {
      "text/html": [
       "<div>\n",
       "<style scoped>\n",
       "    .dataframe tbody tr th:only-of-type {\n",
       "        vertical-align: middle;\n",
       "    }\n",
       "\n",
       "    .dataframe tbody tr th {\n",
       "        vertical-align: top;\n",
       "    }\n",
       "\n",
       "    .dataframe thead th {\n",
       "        text-align: right;\n",
       "    }\n",
       "</style>\n",
       "<table border=\"1\" class=\"dataframe\">\n",
       "  <thead>\n",
       "    <tr style=\"text-align: right;\">\n",
       "      <th></th>\n",
       "      <th>u0</th>\n",
       "      <th>u1</th>\n",
       "      <th>u10</th>\n",
       "      <th>u100</th>\n",
       "      <th>u1000</th>\n",
       "      <th>u10000</th>\n",
       "      <th>u100000</th>\n",
       "      <th>u100001</th>\n",
       "      <th>u100002</th>\n",
       "      <th>u100003</th>\n",
       "      <th>...</th>\n",
       "      <th>u99990</th>\n",
       "      <th>u99991</th>\n",
       "      <th>u99992</th>\n",
       "      <th>u99993</th>\n",
       "      <th>u99994</th>\n",
       "      <th>u99995</th>\n",
       "      <th>u99996</th>\n",
       "      <th>u99997</th>\n",
       "      <th>u99998</th>\n",
       "      <th>u99999</th>\n",
       "    </tr>\n",
       "    <tr>\n",
       "      <th>race</th>\n",
       "      <th></th>\n",
       "      <th></th>\n",
       "      <th></th>\n",
       "      <th></th>\n",
       "      <th></th>\n",
       "      <th></th>\n",
       "      <th></th>\n",
       "      <th></th>\n",
       "      <th></th>\n",
       "      <th></th>\n",
       "      <th></th>\n",
       "      <th></th>\n",
       "      <th></th>\n",
       "      <th></th>\n",
       "      <th></th>\n",
       "      <th></th>\n",
       "      <th></th>\n",
       "      <th></th>\n",
       "      <th></th>\n",
       "      <th></th>\n",
       "      <th></th>\n",
       "    </tr>\n",
       "  </thead>\n",
       "  <tbody>\n",
       "    <tr>\n",
       "      <th>Arizona70.3</th>\n",
       "      <td>0.029760</td>\n",
       "      <td>0.000707</td>\n",
       "      <td>0.000242</td>\n",
       "      <td>-0.002548</td>\n",
       "      <td>0.000225</td>\n",
       "      <td>0.001139</td>\n",
       "      <td>0.001011</td>\n",
       "      <td>0.003832</td>\n",
       "      <td>0.000081</td>\n",
       "      <td>0.001576</td>\n",
       "      <td>...</td>\n",
       "      <td>0.000337</td>\n",
       "      <td>0.000058</td>\n",
       "      <td>0.001142</td>\n",
       "      <td>0.003636</td>\n",
       "      <td>-0.000579</td>\n",
       "      <td>0.004686</td>\n",
       "      <td>0.000798</td>\n",
       "      <td>0.000391</td>\n",
       "      <td>0.001369</td>\n",
       "      <td>0.001916</td>\n",
       "    </tr>\n",
       "    <tr>\n",
       "      <th>DunLaoghaire70.3</th>\n",
       "      <td>0.000668</td>\n",
       "      <td>0.000782</td>\n",
       "      <td>0.000363</td>\n",
       "      <td>0.002010</td>\n",
       "      <td>0.000986</td>\n",
       "      <td>0.000178</td>\n",
       "      <td>0.006474</td>\n",
       "      <td>0.005196</td>\n",
       "      <td>0.000225</td>\n",
       "      <td>0.000730</td>\n",
       "      <td>...</td>\n",
       "      <td>0.002158</td>\n",
       "      <td>0.000098</td>\n",
       "      <td>0.000219</td>\n",
       "      <td>0.000631</td>\n",
       "      <td>0.001998</td>\n",
       "      <td>0.001476</td>\n",
       "      <td>0.000612</td>\n",
       "      <td>0.005770</td>\n",
       "      <td>0.003010</td>\n",
       "      <td>0.002598</td>\n",
       "    </tr>\n",
       "    <tr>\n",
       "      <th>Florianopolis70.3</th>\n",
       "      <td>0.009094</td>\n",
       "      <td>0.000156</td>\n",
       "      <td>0.000039</td>\n",
       "      <td>-0.000586</td>\n",
       "      <td>-0.000169</td>\n",
       "      <td>-0.000065</td>\n",
       "      <td>0.000614</td>\n",
       "      <td>0.000276</td>\n",
       "      <td>0.000098</td>\n",
       "      <td>0.000272</td>\n",
       "      <td>...</td>\n",
       "      <td>0.000205</td>\n",
       "      <td>0.000008</td>\n",
       "      <td>0.000003</td>\n",
       "      <td>0.006265</td>\n",
       "      <td>-0.000352</td>\n",
       "      <td>-0.000089</td>\n",
       "      <td>0.004704</td>\n",
       "      <td>-0.000055</td>\n",
       "      <td>-0.000500</td>\n",
       "      <td>0.000138</td>\n",
       "    </tr>\n",
       "    <tr>\n",
       "      <th>Haugesund70.3</th>\n",
       "      <td>0.001121</td>\n",
       "      <td>0.000275</td>\n",
       "      <td>0.000196</td>\n",
       "      <td>0.002166</td>\n",
       "      <td>0.002567</td>\n",
       "      <td>0.000047</td>\n",
       "      <td>-0.000205</td>\n",
       "      <td>-0.000514</td>\n",
       "      <td>0.000735</td>\n",
       "      <td>0.001831</td>\n",
       "      <td>...</td>\n",
       "      <td>-0.000068</td>\n",
       "      <td>0.000405</td>\n",
       "      <td>0.000349</td>\n",
       "      <td>0.000555</td>\n",
       "      <td>0.002158</td>\n",
       "      <td>0.003750</td>\n",
       "      <td>0.001408</td>\n",
       "      <td>0.001347</td>\n",
       "      <td>0.000497</td>\n",
       "      <td>-0.000257</td>\n",
       "    </tr>\n",
       "    <tr>\n",
       "      <th>IMsubicbay</th>\n",
       "      <td>0.003350</td>\n",
       "      <td>0.001347</td>\n",
       "      <td>0.000570</td>\n",
       "      <td>0.000857</td>\n",
       "      <td>0.000742</td>\n",
       "      <td>0.000051</td>\n",
       "      <td>0.012362</td>\n",
       "      <td>0.011073</td>\n",
       "      <td>0.000069</td>\n",
       "      <td>0.000321</td>\n",
       "      <td>...</td>\n",
       "      <td>0.004121</td>\n",
       "      <td>0.000011</td>\n",
       "      <td>0.000040</td>\n",
       "      <td>0.000346</td>\n",
       "      <td>0.000310</td>\n",
       "      <td>0.002978</td>\n",
       "      <td>0.000474</td>\n",
       "      <td>0.008695</td>\n",
       "      <td>0.004062</td>\n",
       "      <td>0.005536</td>\n",
       "    </tr>\n",
       "    <tr>\n",
       "      <th>Maastricht</th>\n",
       "      <td>0.004035</td>\n",
       "      <td>0.001744</td>\n",
       "      <td>0.000659</td>\n",
       "      <td>0.007381</td>\n",
       "      <td>0.020196</td>\n",
       "      <td>0.000098</td>\n",
       "      <td>0.006019</td>\n",
       "      <td>0.002837</td>\n",
       "      <td>0.000899</td>\n",
       "      <td>0.004352</td>\n",
       "      <td>...</td>\n",
       "      <td>0.002006</td>\n",
       "      <td>0.000397</td>\n",
       "      <td>0.000448</td>\n",
       "      <td>0.000192</td>\n",
       "      <td>0.015580</td>\n",
       "      <td>0.009056</td>\n",
       "      <td>0.003114</td>\n",
       "      <td>0.007400</td>\n",
       "      <td>0.003794</td>\n",
       "      <td>0.001419</td>\n",
       "    </tr>\n",
       "    <tr>\n",
       "      <th>Nice70.3</th>\n",
       "      <td>0.001939</td>\n",
       "      <td>0.000335</td>\n",
       "      <td>0.000204</td>\n",
       "      <td>-0.000685</td>\n",
       "      <td>0.003216</td>\n",
       "      <td>0.000034</td>\n",
       "      <td>-0.000843</td>\n",
       "      <td>-0.001433</td>\n",
       "      <td>0.000661</td>\n",
       "      <td>0.003526</td>\n",
       "      <td>...</td>\n",
       "      <td>-0.000281</td>\n",
       "      <td>0.000292</td>\n",
       "      <td>0.000278</td>\n",
       "      <td>0.000170</td>\n",
       "      <td>0.024371</td>\n",
       "      <td>0.004926</td>\n",
       "      <td>0.001932</td>\n",
       "      <td>0.000554</td>\n",
       "      <td>-0.000205</td>\n",
       "      <td>-0.000717</td>\n",
       "    </tr>\n",
       "    <tr>\n",
       "      <th>Vietnam70.3</th>\n",
       "      <td>0.004941</td>\n",
       "      <td>0.004507</td>\n",
       "      <td>0.002156</td>\n",
       "      <td>0.002089</td>\n",
       "      <td>0.004187</td>\n",
       "      <td>0.000199</td>\n",
       "      <td>0.049127</td>\n",
       "      <td>0.048510</td>\n",
       "      <td>0.000381</td>\n",
       "      <td>0.001331</td>\n",
       "      <td>...</td>\n",
       "      <td>0.016376</td>\n",
       "      <td>0.000108</td>\n",
       "      <td>0.000347</td>\n",
       "      <td>0.000674</td>\n",
       "      <td>0.001464</td>\n",
       "      <td>0.006831</td>\n",
       "      <td>0.001379</td>\n",
       "      <td>0.029178</td>\n",
       "      <td>0.012597</td>\n",
       "      <td>0.024255</td>\n",
       "    </tr>\n",
       "    <tr>\n",
       "      <th>alagoas70.3</th>\n",
       "      <td>0.016755</td>\n",
       "      <td>0.000250</td>\n",
       "      <td>0.000050</td>\n",
       "      <td>-0.001086</td>\n",
       "      <td>-0.000173</td>\n",
       "      <td>-0.000110</td>\n",
       "      <td>0.000643</td>\n",
       "      <td>-0.000119</td>\n",
       "      <td>0.000181</td>\n",
       "      <td>0.000486</td>\n",
       "      <td>...</td>\n",
       "      <td>0.000214</td>\n",
       "      <td>0.000013</td>\n",
       "      <td>-0.000014</td>\n",
       "      <td>0.011944</td>\n",
       "      <td>-0.000794</td>\n",
       "      <td>-0.000621</td>\n",
       "      <td>0.008773</td>\n",
       "      <td>-0.000154</td>\n",
       "      <td>-0.000830</td>\n",
       "      <td>-0.000059</td>\n",
       "    </tr>\n",
       "    <tr>\n",
       "      <th>arizona</th>\n",
       "      <td>-0.005201</td>\n",
       "      <td>0.002294</td>\n",
       "      <td>-0.001099</td>\n",
       "      <td>-0.011750</td>\n",
       "      <td>0.000255</td>\n",
       "      <td>-0.002333</td>\n",
       "      <td>-0.003478</td>\n",
       "      <td>-0.000602</td>\n",
       "      <td>-0.001379</td>\n",
       "      <td>0.015410</td>\n",
       "      <td>...</td>\n",
       "      <td>-0.001159</td>\n",
       "      <td>-0.000009</td>\n",
       "      <td>-0.003458</td>\n",
       "      <td>-0.013182</td>\n",
       "      <td>-0.001460</td>\n",
       "      <td>-0.001523</td>\n",
       "      <td>0.004680</td>\n",
       "      <td>0.000020</td>\n",
       "      <td>-0.003752</td>\n",
       "      <td>-0.000301</td>\n",
       "    </tr>\n",
       "  </tbody>\n",
       "</table>\n",
       "<p>10 rows × 248360 columns</p>\n",
       "</div>"
      ],
      "text/plain": [
       "                         u0        u1       u10      u100     u1000    u10000  \\\n",
       "race                                                                            \n",
       "Arizona70.3        0.029760  0.000707  0.000242 -0.002548  0.000225  0.001139   \n",
       "DunLaoghaire70.3   0.000668  0.000782  0.000363  0.002010  0.000986  0.000178   \n",
       "Florianopolis70.3  0.009094  0.000156  0.000039 -0.000586 -0.000169 -0.000065   \n",
       "Haugesund70.3      0.001121  0.000275  0.000196  0.002166  0.002567  0.000047   \n",
       "IMsubicbay         0.003350  0.001347  0.000570  0.000857  0.000742  0.000051   \n",
       "Maastricht         0.004035  0.001744  0.000659  0.007381  0.020196  0.000098   \n",
       "Nice70.3           0.001939  0.000335  0.000204 -0.000685  0.003216  0.000034   \n",
       "Vietnam70.3        0.004941  0.004507  0.002156  0.002089  0.004187  0.000199   \n",
       "alagoas70.3        0.016755  0.000250  0.000050 -0.001086 -0.000173 -0.000110   \n",
       "arizona           -0.005201  0.002294 -0.001099 -0.011750  0.000255 -0.002333   \n",
       "\n",
       "                    u100000   u100001   u100002   u100003  ...    u99990  \\\n",
       "race                                                       ...             \n",
       "Arizona70.3        0.001011  0.003832  0.000081  0.001576  ...  0.000337   \n",
       "DunLaoghaire70.3   0.006474  0.005196  0.000225  0.000730  ...  0.002158   \n",
       "Florianopolis70.3  0.000614  0.000276  0.000098  0.000272  ...  0.000205   \n",
       "Haugesund70.3     -0.000205 -0.000514  0.000735  0.001831  ... -0.000068   \n",
       "IMsubicbay         0.012362  0.011073  0.000069  0.000321  ...  0.004121   \n",
       "Maastricht         0.006019  0.002837  0.000899  0.004352  ...  0.002006   \n",
       "Nice70.3          -0.000843 -0.001433  0.000661  0.003526  ... -0.000281   \n",
       "Vietnam70.3        0.049127  0.048510  0.000381  0.001331  ...  0.016376   \n",
       "alagoas70.3        0.000643 -0.000119  0.000181  0.000486  ...  0.000214   \n",
       "arizona           -0.003478 -0.000602 -0.001379  0.015410  ... -0.001159   \n",
       "\n",
       "                     u99991    u99992    u99993    u99994    u99995    u99996  \\\n",
       "race                                                                            \n",
       "Arizona70.3        0.000058  0.001142  0.003636 -0.000579  0.004686  0.000798   \n",
       "DunLaoghaire70.3   0.000098  0.000219  0.000631  0.001998  0.001476  0.000612   \n",
       "Florianopolis70.3  0.000008  0.000003  0.006265 -0.000352 -0.000089  0.004704   \n",
       "Haugesund70.3      0.000405  0.000349  0.000555  0.002158  0.003750  0.001408   \n",
       "IMsubicbay         0.000011  0.000040  0.000346  0.000310  0.002978  0.000474   \n",
       "Maastricht         0.000397  0.000448  0.000192  0.015580  0.009056  0.003114   \n",
       "Nice70.3           0.000292  0.000278  0.000170  0.024371  0.004926  0.001932   \n",
       "Vietnam70.3        0.000108  0.000347  0.000674  0.001464  0.006831  0.001379   \n",
       "alagoas70.3        0.000013 -0.000014  0.011944 -0.000794 -0.000621  0.008773   \n",
       "arizona           -0.000009 -0.003458 -0.013182 -0.001460 -0.001523  0.004680   \n",
       "\n",
       "                     u99997    u99998    u99999  \n",
       "race                                             \n",
       "Arizona70.3        0.000391  0.001369  0.001916  \n",
       "DunLaoghaire70.3   0.005770  0.003010  0.002598  \n",
       "Florianopolis70.3 -0.000055 -0.000500  0.000138  \n",
       "Haugesund70.3      0.001347  0.000497 -0.000257  \n",
       "IMsubicbay         0.008695  0.004062  0.005536  \n",
       "Maastricht         0.007400  0.003794  0.001419  \n",
       "Nice70.3           0.000554 -0.000205 -0.000717  \n",
       "Vietnam70.3        0.029178  0.012597  0.024255  \n",
       "alagoas70.3       -0.000154 -0.000830 -0.000059  \n",
       "arizona            0.000020 -0.003752 -0.000301  \n",
       "\n",
       "[10 rows x 248360 columns]"
      ]
     },
     "execution_count": 353,
     "metadata": {},
     "output_type": "execute_result"
    }
   ],
   "source": [
    "#Converting the reconstructed matrix back to a Pandas dataframe\n",
    "cf_preds_train = pd.DataFrame(all_user_predicted_ratings_train, columns = users_items_pivot_train.columns, index=users_ids).transpose()\n",
    "cf_preds_train.head(10)"
   ]
  },
  {
   "cell_type": "code",
   "execution_count": 354,
   "metadata": {},
   "outputs": [
    {
     "data": {
      "text/plain": [
       "248360"
      ]
     },
     "execution_count": 354,
     "metadata": {},
     "output_type": "execute_result"
    }
   ],
   "source": [
    "len(cf_preds_df.columns)"
   ]
  },
  {
   "cell_type": "code",
   "execution_count": 355,
   "metadata": {},
   "outputs": [],
   "source": [
    "class CFRecommender:\n",
    "    \n",
    "    MODEL_NAME = 'Collaborative Filtering'\n",
    "    \n",
    "    def __init__(self, cf_predictions_df, items_df=None):\n",
    "        self.cf_predictions_df = cf_predictions_df\n",
    "        self.items_df = items_df\n",
    "        \n",
    "    def get_model_name(self):\n",
    "        return self.MODEL_NAME\n",
    "        \n",
    "    def recommend_races(self, user_id, items_to_ignore=[], topn=10, verbose=False):\n",
    "        # Get and sort the user's predictions\n",
    "        sorted_user_predictions = self.cf_predictions_df[user_id].sort_values(ascending=False) \\\n",
    "                                    .reset_index().rename(columns={user_id: 'count'})\n",
    "\n",
    "        # Recommend the highest predicted rating movies that the user hasn't seen yet.\n",
    "        recommendations_df = sorted_user_predictions[~sorted_user_predictions['race'].isin(items_to_ignore)] \\\n",
    "                               .sort_values('count', ascending = False) \\\n",
    "                               .head(topn)\n",
    "        \n",
    "        recommendations_df.index = recommendations_df['race']\n",
    "        return recommendations_df\n",
    "    \n",
    "cf_svd_multi_recommender_model = CFRecommender(cf_preds_train, race_filter)"
   ]
  },
  {
   "cell_type": "code",
   "execution_count": 356,
   "metadata": {},
   "outputs": [
    {
     "name": "stdout",
     "output_type": "stream",
     "text": [
      "Evaluating Collaborative Filtering (SVD Matrix Factorization) model...\n",
      "\n",
      "Global metrics:\n",
      "{'modelName': 'Collaborative Filtering', 'recall@5': 0.3664516129032258, 'recall@10': 0.5019354838709678}\n"
     ]
    }
   ],
   "source": [
    "print('Evaluating Collaborative Filtering (SVD Matrix Factorization) model...')\n",
    "cf_svd_multi_global_metrics, cf_svd_multi_detailed_results_df = model_evaluator.evaluate_model(cf_svd_multi_recommender_model, limit=1000)\n",
    "print('\\nGlobal metrics:\\n%s' % cf_svd_multi_global_metrics)"
   ]
  },
  {
   "cell_type": "code",
   "execution_count": 357,
   "metadata": {},
   "outputs": [
    {
     "data": {
      "text/html": [
       "<div>\n",
       "<style scoped>\n",
       "    .dataframe tbody tr th:only-of-type {\n",
       "        vertical-align: middle;\n",
       "    }\n",
       "\n",
       "    .dataframe tbody tr th {\n",
       "        vertical-align: top;\n",
       "    }\n",
       "\n",
       "    .dataframe thead th {\n",
       "        text-align: right;\n",
       "    }\n",
       "</style>\n",
       "<table border=\"1\" class=\"dataframe\">\n",
       "  <thead>\n",
       "    <tr style=\"text-align: right;\">\n",
       "      <th></th>\n",
       "      <th>popularity</th>\n",
       "      <th>CF_sparse</th>\n",
       "      <th>CF_SVD</th>\n",
       "      <th>CF_SVD_multi</th>\n",
       "    </tr>\n",
       "  </thead>\n",
       "  <tbody>\n",
       "    <tr>\n",
       "      <th>hits@10_count</th>\n",
       "      <td>0.542000</td>\n",
       "      <td>0.892000</td>\n",
       "      <td>0.544000</td>\n",
       "      <td>0.778000</td>\n",
       "    </tr>\n",
       "    <tr>\n",
       "      <th>hits@5_count</th>\n",
       "      <td>0.354000</td>\n",
       "      <td>0.637000</td>\n",
       "      <td>0.376000</td>\n",
       "      <td>0.568000</td>\n",
       "    </tr>\n",
       "    <tr>\n",
       "      <th>raced_count</th>\n",
       "      <td>1.550000</td>\n",
       "      <td>1.550000</td>\n",
       "      <td>1.550000</td>\n",
       "      <td>1.550000</td>\n",
       "    </tr>\n",
       "    <tr>\n",
       "      <th>recall@10</th>\n",
       "      <td>0.329966</td>\n",
       "      <td>0.644050</td>\n",
       "      <td>0.412602</td>\n",
       "      <td>0.528537</td>\n",
       "    </tr>\n",
       "    <tr>\n",
       "      <th>recall@5</th>\n",
       "      <td>0.217180</td>\n",
       "      <td>0.478587</td>\n",
       "      <td>0.299786</td>\n",
       "      <td>0.391168</td>\n",
       "    </tr>\n",
       "  </tbody>\n",
       "</table>\n",
       "</div>"
      ],
      "text/plain": [
       "               popularity  CF_sparse    CF_SVD  CF_SVD_multi\n",
       "hits@10_count    0.542000   0.892000  0.544000      0.778000\n",
       "hits@5_count     0.354000   0.637000  0.376000      0.568000\n",
       "raced_count      1.550000   1.550000  1.550000      1.550000\n",
       "recall@10        0.329966   0.644050  0.412602      0.528537\n",
       "recall@5         0.217180   0.478587  0.299786      0.391168"
      ]
     },
     "execution_count": 357,
     "metadata": {},
     "output_type": "execute_result"
    }
   ],
   "source": [
    "pd.DataFrame({\n",
    "    \"popularity\": popularity_detailed_results.mean(), \n",
    "    \"CF_sparse\": cf_sparse_detailed_results.mean(),\n",
    "    \"CF_SVD\": cf_svd_detailed_results.mean(),\n",
    "    \"CF_SVD_multi\": cf_svd_multi_detailed_results_df.mean()\n",
    "})"
   ]
  },
  {
   "cell_type": "code",
   "execution_count": 358,
   "metadata": {},
   "outputs": [
    {
     "name": "stdout",
     "output_type": "stream",
     "text": [
      "{'modelName': 'Popularity', 'recall@5': 0.22838709677419355, 'recall@10': 0.3496774193548387}\n",
      "{'modelName': 'Collaborative-Based (sparse)', 'recall@5': 0.41096774193548385, 'recall@10': 0.5754838709677419}\n",
      "{'modelName': 'Collaborative-Based (SVD)', 'recall@5': 0.24258064516129033, 'recall@10': 0.35096774193548386}\n",
      "{'modelName': 'Collaborative Filtering', 'recall@5': 0.3664516129032258, 'recall@10': 0.5019354838709678}\n"
     ]
    }
   ],
   "source": [
    "print(popularity_global_metrics)\n",
    "print(cf_sparse_global_metrics)\n",
    "print(cf_svd_global_metrics)\n",
    "print(cf_svd_multi_global_metrics)"
   ]
  },
  {
   "cell_type": "code",
   "execution_count": 359,
   "metadata": {},
   "outputs": [
    {
     "data": {
      "text/html": [
       "<div>\n",
       "<style scoped>\n",
       "    .dataframe tbody tr th:only-of-type {\n",
       "        vertical-align: middle;\n",
       "    }\n",
       "\n",
       "    .dataframe tbody tr th {\n",
       "        vertical-align: top;\n",
       "    }\n",
       "\n",
       "    .dataframe thead th {\n",
       "        text-align: right;\n",
       "    }\n",
       "</style>\n",
       "<table border=\"1\" class=\"dataframe\">\n",
       "  <thead>\n",
       "    <tr style=\"text-align: right;\">\n",
       "      <th></th>\n",
       "      <th>recall@5</th>\n",
       "      <th>recall@10</th>\n",
       "    </tr>\n",
       "    <tr>\n",
       "      <th>model</th>\n",
       "      <th></th>\n",
       "      <th></th>\n",
       "    </tr>\n",
       "  </thead>\n",
       "  <tbody>\n",
       "    <tr>\n",
       "      <th>Popularity</th>\n",
       "      <td>0.228387</td>\n",
       "      <td>0.349677</td>\n",
       "    </tr>\n",
       "    <tr>\n",
       "      <th>Collaborative-Based (sparse)</th>\n",
       "      <td>0.410968</td>\n",
       "      <td>0.575484</td>\n",
       "    </tr>\n",
       "    <tr>\n",
       "      <th>Collaborative-Based (SVD)</th>\n",
       "      <td>0.242581</td>\n",
       "      <td>0.350968</td>\n",
       "    </tr>\n",
       "    <tr>\n",
       "      <th>Collaborative Filtering</th>\n",
       "      <td>0.366452</td>\n",
       "      <td>0.501935</td>\n",
       "    </tr>\n",
       "  </tbody>\n",
       "</table>\n",
       "</div>"
      ],
      "text/plain": [
       "                              recall@5  recall@10\n",
       "model                                            \n",
       "Popularity                    0.228387   0.349677\n",
       "Collaborative-Based (sparse)  0.410968   0.575484\n",
       "Collaborative-Based (SVD)     0.242581   0.350968\n",
       "Collaborative Filtering       0.366452   0.501935"
      ]
     },
     "execution_count": 359,
     "metadata": {},
     "output_type": "execute_result"
    }
   ],
   "source": [
    "compare = pd.DataFrame([\n",
    "    list(global_metrics.values()) \n",
    "        for global_metrics in [ popularity_global_metrics, \n",
    "                                cf_sparse_global_metrics, \n",
    "                                cf_svd_global_metrics, \n",
    "                                cf_svd_multi_global_metrics\n",
    "                              ]\n",
    "], columns =['model', 'recall@5', 'recall@10'])\n",
    "compare = compare.set_index('model')\n",
    "compare"
   ]
  },
  {
   "cell_type": "code",
   "execution_count": 379,
   "metadata": {},
   "outputs": [
    {
     "data": {
      "image/png": "[encoded data removed]",
      "text/plain": [
       "<Figure size 864x432 with 1 Axes>"
      ]
     },
     "metadata": {
      "needs_background": "light"
     },
     "output_type": "display_data"
    }
   ],
   "source": [
    "fig,ax = plt.subplots(figsize=(12, 6))\n",
    "\n",
    "# ax.bar(np.arange(4), compare['recall@5'])\n",
    "\n",
    "# ax.bar(np.arange(5, 9), compare['recall@10'])\n",
    "\n",
    "compare.plot(kind='bar', ax=ax, color=['#1FBAD6', '#EDCA3A']) #FC4E07 #E7B800 #00AFBB #E7B800\n",
    "ax.set_xticklabels(['Popularity', 'CF (KNN sparse)', 'CF (SVD + KNN)', 'CF (SVD + KNN)\\n2 races'], rotation=0, size=16)\n",
    "ax.set_yticks(np.arange(0, 0.71, 0.1))\n",
    "for tick in ax.yaxis.get_major_ticks():\n",
    "    tick.label.set_fontsize(14) \n",
    "ax.set_xlabel('')\n",
    "ax.set_ylabel('Recall', size=16)\n",
    "\n",
    "ax.set_title(\"Top-N accuracy metrics (1 raced + 100 not raced)\", size=20)\n",
    "\n",
    "for spine in ['top', 'right']:\n",
    "    ax.spines[spine].set_visible(False)\n",
    "    \n",
    "fig.savefig('figs/recall.pdf')"
   ]
  },
  {
   "cell_type": "code",
   "execution_count": null,
   "metadata": {},
   "outputs": [],
   "source": []
  },
  {
   "cell_type": "code",
   "execution_count": null,
   "metadata": {},
   "outputs": [],
   "source": []
  },
  {
   "cell_type": "markdown",
   "metadata": {},
   "source": [
    "## Other way around"
   ]
  },
  {
   "cell_type": "code",
   "execution_count": 74,
   "metadata": {},
   "outputs": [
    {
     "data": {
      "text/plain": [
       "(153, 248360)"
      ]
     },
     "execution_count": 74,
     "metadata": {},
     "output_type": "execute_result"
    }
   ],
   "source": [
    "X = wide_race_data.values\n",
    "X.shape"
   ]
  },
  {
   "cell_type": "code",
   "execution_count": 75,
   "metadata": {},
   "outputs": [
    {
     "data": {
      "text/plain": [
       "(153, 15)"
      ]
     },
     "execution_count": 75,
     "metadata": {},
     "output_type": "execute_result"
    }
   ],
   "source": [
    "c"
   ]
  },
  {
   "cell_type": "markdown",
   "metadata": {},
   "source": [
    "We calculate the Pearson’s R correlation coefficient for every book pair in our final matrix. To compare this with the results from kNN, we pick the same book “The Green Mile: Coffey’s Hands (Green Mile Series)” to find the books that have high correlation coefficients (between 0.9 and 1.0) with it."
   ]
  },
  {
   "cell_type": "code",
   "execution_count": 76,
   "metadata": {},
   "outputs": [
    {
     "data": {
      "text/plain": [
       "(153, 153)"
      ]
     },
     "execution_count": 76,
     "metadata": {},
     "output_type": "execute_result"
    }
   ],
   "source": [
    "corr = np.corrcoef(matrix)\n",
    "corr.shape"
   ]
  },
  {
   "cell_type": "code",
   "execution_count": 89,
   "metadata": {},
   "outputs": [],
   "source": [
    "corr_df = pd.DataFrame(corr, columns=race_ids, index=race_ids)"
   ]
  },
  {
   "cell_type": "code",
   "execution_count": 92,
   "metadata": {},
   "outputs": [],
   "source": [
    "# corr_df['france70.3'].sort_values(ascending=False)"
   ]
  },
  {
   "cell_type": "code",
   "execution_count": 78,
   "metadata": {},
   "outputs": [],
   "source": [
    "race_ids = wide_race_data.index\n",
    "race_list = list(race_ids)"
   ]
  },
  {
   "cell_type": "code",
   "execution_count": 81,
   "metadata": {},
   "outputs": [],
   "source": [
    "race_to_look = race_list.index('france70.3')\n",
    "corr_race_to_look = corr[race_to_look]"
   ]
  },
  {
   "cell_type": "code",
   "execution_count": null,
   "metadata": {},
   "outputs": [],
   "source": [
    "pd.DataFrame({'similarity': corr_race_to_look})"
   ]
  },
  {
   "cell_type": "code",
   "execution_count": 94,
   "metadata": {},
   "outputs": [],
   "source": [
    "# [(corr_race_to_look<1) & (corr_race_to_look>0.9)]"
   ]
  },
  {
   "cell_type": "code",
   "execution_count": 100,
   "metadata": {},
   "outputs": [],
   "source": [
    "# np.array(race_list)[(corr_race_to_look<1) & (corr_race_to_look>0.97)]"
   ]
  },
  {
   "cell_type": "code",
   "execution_count": 98,
   "metadata": {},
   "outputs": [
    {
     "data": {
      "text/plain": [
       "race\n",
       "france70.3                 1.000000\n",
       "Nice70.3                   0.999631\n",
       "vichy70.3                  0.998014\n",
       "france                     0.994491\n",
       "kronborg70.3               0.991059\n",
       "vichy                      0.988667\n",
       "Haugesund70.3              0.983067\n",
       "switzerland70.3            0.978932\n",
       "copenhagen                 0.977151\n",
       "barcelona70.3              0.976647\n",
       "mallorca70.3               0.975380\n",
       "switzerland                0.969732\n",
       "luxembourg70.3             0.964376\n",
       "germany                    0.958834\n",
       "marbella70.3               0.957054\n",
       "finland70.3                0.955584\n",
       "Maastricht                 0.952385\n",
       "haugesund                  0.952308\n",
       "otepaa70.3                 0.950615\n",
       "kraichgau70.3              0.950190\n",
       "lanzarote                  0.950017\n",
       "tallinn                    0.946383\n",
       "joenkoeping70.3            0.942900\n",
       "barcelona                  0.939822\n",
       "kalmar                     0.936384\n",
       "lanzarote70.3              0.928173\n",
       "ruegen70.3                 0.923308\n",
       "hamburg                    0.919916\n",
       "turkey70.3                 0.904698\n",
       "astana70.3                 0.897874\n",
       "                             ...   \n",
       "longhorn70.3              -0.004053\n",
       "indianwellslaquinta70.3   -0.004987\n",
       "cairns70.3                -0.006640\n",
       "eagleman70.3              -0.006921\n",
       "santarosa                 -0.007207\n",
       "lonestar70.3              -0.008548\n",
       "geelong70.3               -0.012770\n",
       "waco70.3                  -0.013938\n",
       "santarosa70.3             -0.015695\n",
       "santacruz70.3             -0.015698\n",
       "buffalosprings70.3        -0.027657\n",
       "austria70.3               -0.030623\n",
       "st.george                 -0.031423\n",
       "boulder                   -0.037325\n",
       "wisconsin70.3             -0.038026\n",
       "wisconsin                 -0.041551\n",
       "sunshinecoast70.3         -0.042453\n",
       "sydney70.3                -0.044215\n",
       "boulder70.3               -0.054429\n",
       "portmacquarie70.3         -0.064317\n",
       "southafrica70.3           -0.078281\n",
       "australia                 -0.078947\n",
       "durban70.3                -0.081574\n",
       "Arizona70.3               -0.110353\n",
       "canada70.3                -0.129275\n",
       "coeurdalene70.3           -0.135281\n",
       "victoria70.3              -0.157256\n",
       "canada                    -0.157598\n",
       "calgary70.3               -0.163036\n",
       "arizona                   -0.164523\n",
       "Name: france70.3, Length: 153, dtype: float64"
      ]
     },
     "execution_count": 98,
     "metadata": {},
     "output_type": "execute_result"
    }
   ],
   "source": [
    "corr_df['france70.3'].sort_values(ascending=False)"
   ]
  },
  {
   "cell_type": "code",
   "execution_count": null,
   "metadata": {},
   "outputs": [],
   "source": []
  },
  {
   "cell_type": "code",
   "execution_count": 117,
   "metadata": {},
   "outputs": [],
   "source": [
    "X = wide_race_data.values\n",
    "\n",
    "SVD = TruncatedSVD(n_components=15, random_state=17)\n",
    "matrix = SVD.fit_transform(X)\n",
    "matrix.shape\n",
    "\n",
    "model_knn = NearestNeighbors(metric = 'cosine', algorithm = 'brute')\n",
    "model_knn.fit(matrix)\n",
    "\n",
    "# make sure the filtering df has the same data/order than the wide_race_data\n",
    "df_to_filter_races = pd.DataFrame(list(wide_race_data.index.map(lambda x: race_filter.loc[x].to_dict())), index=wide_race_data.index)\n",
    "\n",
    "def get_prediction_svd_fast(similarTo, n=10, filterBy=False, value=False):\n",
    "    query_index = np.where(wide_race_data.index == similarTo)[0][0]\n",
    "    total_n = wide_race_data.shape[0]\n",
    "    distances, indices = model_knn.kneighbors(matrix[query_index].reshape(1, -1), n_neighbors = total_n)\n",
    "    distances = distances.flatten()\n",
    "    indices = indices.flatten()\n",
    "    \n",
    "    if filterBy:\n",
    "        selection_idx = get_filtered_races(filterBy, value, df=df_to_filter_races, returnIndices=False)\n",
    "        n = n if n<len(selection_idx) else len(selection_idx)\n",
    "        out_indices = []\n",
    "        out_distances = []\n",
    "        \n",
    "        for indice,distance in zip(indices, distances):\n",
    "            if ((wide_race_data.index[indice] in selection_idx) and (wide_race_data.index[indice] != similarTo)):\n",
    "                out_indices.append(indice)\n",
    "                out_distances.append(distance)\n",
    "                if len(out_distances) >=n :\n",
    "                    break\n",
    "    else:\n",
    "        out_indices = indices\n",
    "        out_distances = distances\n",
    "    \n",
    "    return [(wide_race_data.index[indice], distance) for indice,distance in zip(out_indices, out_distances)]"
   ]
  },
  {
   "cell_type": "code",
   "execution_count": null,
   "metadata": {},
   "outputs": [],
   "source": []
  }
 ],
 "metadata": {
  "kernelspec": {
   "display_name": "Python (data-science)",
   "language": "python",
   "name": "data-science"
  },
  "language_info": {
   "codemirror_mode": {
    "name": "ipython",
    "version": 3
   },
   "file_extension": ".py",
   "mimetype": "text/x-python",
   "name": "python",
   "nbconvert_exporter": "python",
   "pygments_lexer": "ipython3",
   "version": "3.7.3"
  }
 },
 "nbformat": 4,
 "nbformat_minor": 2
}
