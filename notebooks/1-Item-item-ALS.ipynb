{
 "cells": [
  {
   "cell_type": "code",
   "execution_count": 1,
   "metadata": {},
   "outputs": [],
   "source": [
    "import matplotlib.pyplot as plt\n",
    "import numpy as np\n",
    "import pandas as pd\n",
    "import json\n",
    "\n",
    "from config import Cfg as cfg\n",
    "\n",
    "import mysql.connector\n",
    "\n",
    "%matplotlib inline"
   ]
  },
  {
   "cell_type": "markdown",
   "metadata": {},
   "source": [
    "# Results data"
   ]
  },
  {
   "cell_type": "code",
   "execution_count": 2,
   "metadata": {},
   "outputs": [
    {
     "name": "stdout",
     "output_type": "stream",
     "text": [
      "Number of single results: 2000403\n",
      "Number of individuals: 643055\n"
     ]
    }
   ],
   "source": [
    "cnx = mysql.connector.connect(user=cfg.mysql_user, database=cfg.mysql_db, password=cfg.mysql_pw, ssl_disabled=True)\n",
    "\n",
    "query = \"SELECT * FROM results;\"\n",
    "\n",
    "# execute the query and assign it to a pandas dataframe\n",
    "df_results = pd.read_sql(query, con=cnx)\n",
    "\n",
    "cnx.close()\n",
    "\n",
    "print(\"Number of single results:\", len(df_results))\n",
    "print(\"Number of individuals:\", len(df_results.athlete.unique()))"
   ]
  },
  {
   "cell_type": "markdown",
   "metadata": {},
   "source": [
    "# Races data"
   ]
  },
  {
   "cell_type": "code",
   "execution_count": 7,
   "metadata": {},
   "outputs": [
    {
     "data": {
      "text/plain": [
       "159"
      ]
     },
     "execution_count": 7,
     "metadata": {},
     "output_type": "execute_result"
    }
   ],
   "source": [
    "df_races = pd.read_csv('./../data/clean/races_features.csv', index_col='race')\n",
    "len(df_races)"
   ]
  },
  {
   "cell_type": "code",
   "execution_count": 3,
   "metadata": {},
   "outputs": [
    {
     "name": "stdout",
     "output_type": "stream",
     "text": [
      "Number of single races: 220\n"
     ]
    }
   ],
   "source": [
    "# cnx = mysql.connector.connect(user=cfg.mysql_user, database=cfg.mysql_db, password=cfg.mysql_pw, ssl_disabled=True)\n",
    "\n",
    "# query = \"SELECT * FROM races;\"\n",
    "# # execute the query and assign it to a pandas dataframe\n",
    "# df_races = pd.read_sql(query, con=cnx)\n",
    "\n",
    "# cnx.close()\n",
    "\n",
    "# print(\"Number of single races:\", len(df_races))"
   ]
  },
  {
   "cell_type": "markdown",
   "metadata": {},
   "source": [
    "### Some processing on the datasets"
   ]
  },
  {
   "cell_type": "code",
   "execution_count": 4,
   "metadata": {},
   "outputs": [
    {
     "name": "stdout",
     "output_type": "stream",
     "text": [
      "Number of single races: 157\n"
     ]
    }
   ],
   "source": [
    "# # -----------\n",
    "# # -- RACES --\n",
    "# # -----------\n",
    "\n",
    "# # keep only active races\n",
    "# df_races = df_races.loc[df_races['info'].dropna().index]\n",
    "\n",
    "# # remove duplicates\n",
    "# df_races = df_races.loc[df_races.race != 'worldchampionship70.3m']\n",
    "\n",
    "# # remove worldchampionship as it's by qualification so people cannot really choose to do it\n",
    "# df_races = df_races.loc[df_races.race != 'worldchampionship70.3']\n",
    "# df_races = df_races.loc[df_races.race != 'worldchampionship']\n",
    "\n",
    "# # add Country codes\n",
    "# with open(\"./../data/geo-data/races_geo_info.json\", 'r') as f:\n",
    "#     races_geo_info = json.loads(f.read())\n",
    "             \n",
    "# df_races['country_code'] = None\n",
    "# for race in df_races.race.values:\n",
    "#     country_code = races_geo_info[race]\n",
    "#     df_races.loc[df_races.race == race, 'country_code'] = races_geo_info[race]['components']['ISO_3166-1_alpha-3']\n",
    "\n",
    "# # Add location info\n",
    "# races_locations = pd.read_csv(\"./../data/geo-data/races_lat_lon.csv\")\n",
    "# df_races = df_races.merge(races_locations, left_on = 'race', right_on = 'race', how = 'left')\n",
    "\n",
    "# # Add info about type of race\n",
    "# # saving the races references for index\n",
    "# df_races['is_70.3'] = df_races['race'].str.contains('70.3')\n",
    "\n",
    "# # keep only columns of interest\n",
    "# df_races = df_races[['race', 'racename', 'is_70.3', 'region', 'country_code', 'lat', 'lon']]\n",
    "\n",
    "# # make the index the race name\n",
    "# df_races = df_races.set_index('race')\n",
    "\n",
    "# print(\"Number of single races:\", len(df_races))"
   ]
  },
  {
   "cell_type": "code",
   "execution_count": 8,
   "metadata": {},
   "outputs": [
    {
     "name": "stdout",
     "output_type": "stream",
     "text": [
      "Number of remaining single results: 969046\n",
      "Number of remaining individuals: 400032\n",
      "Number of races in results df: 158\n"
     ]
    }
   ],
   "source": [
    "# -----------\n",
    "# -- RESULTS --\n",
    "# -----------\n",
    "\n",
    "# worldchampionship70.3 and worldchampionship70.3m are the same race\n",
    "df_results.loc[df_results.race == \"worldchampionship70.3m\", 'race'] = 'worldchampionship70.3'\n",
    "\n",
    "# keep only results of non discontinued races\n",
    "df_results = df_results[df_results['race'].isin(df_races.index)]\n",
    "\n",
    "# extract gender from division\n",
    "df_results['gender'] = df_results['division'].apply(lambda x: x[0])\n",
    "\n",
    "# convert date to datetime\n",
    "df_results['date'] = pd.to_datetime(df_results['date'])\n",
    "\n",
    "# str to int\n",
    "df_results['year'] = df_results['year'].apply(int)\n",
    "\n",
    "# keep only results from after 2015\n",
    "df_results = df_results.loc[df_results['year'] >= 2015]\n",
    "\n",
    "# # discard pro athletes\n",
    "# df_results = df_results.loc[df_results.division.str.contains(\"PRO\") == False]\n",
    "\n",
    "# Add gender\n",
    "df_results['gender'] = None\n",
    "df_results.loc[df_results['division'].str.contains(\"M\"), 'gender'] = \"M\"\n",
    "df_results.loc[df_results['division'].str.contains(\"F\"), 'gender'] = \"F\"\n",
    "\n",
    "\n",
    "print(\"Number of remaining single results:\", len(df_results))\n",
    "print(\"Number of remaining individuals:\", len(df_results.athlete.unique()))\n",
    "print(\"Number of races in results df:\", len(df_results.race.unique()))"
   ]
  },
  {
   "cell_type": "markdown",
   "metadata": {},
   "source": [
    "# Filter results dataset to keep only prolific racers\n",
    "#### To prevent cold-start problem keep only people with at least 3 different races."
   ]
  },
  {
   "cell_type": "code",
   "execution_count": 9,
   "metadata": {},
   "outputs": [
    {
     "name": "stdout",
     "output_type": "stream",
     "text": [
      "Number of valid individuals: 48895\n",
      "Number of remaining single results: 360158\n",
      "Number of races present in filtered results: 158\n"
     ]
    }
   ],
   "source": [
    "min_unique_race_count = 4\n",
    "\n",
    "# total number of races per athlete\n",
    "athletes_count_races = (df_results.groupby('athlete')['division']\n",
    "     .size()\n",
    "     .reset_index()\n",
    "     .rename(columns={'division': 'n_races'})\n",
    ")\n",
    "\n",
    "# total number of different races per athlete\n",
    "athletes_count_diff_races = (df_results\n",
    "     .groupby(['athlete', 'race'])\n",
    "     .size()\n",
    "     .reset_index()\n",
    "     .groupby('athlete')\n",
    "     .size()\n",
    "     .reset_index()\n",
    "     .rename(columns={0: 'n_different_races'})\n",
    ")\n",
    "\n",
    "# merge the two so we can filter from that\n",
    "athlete_habits = athletes_count_diff_races.merge(athletes_count_races, left_on=\"athlete\", right_on=\"athlete\", how=\"left\")\n",
    "\n",
    "# What we are filtering with\n",
    "max_count_races = 100 # probably similar names\n",
    "\n",
    "valid_athletes = athlete_habits.loc[(athlete_habits['n_different_races']>=min_unique_race_count) & (athlete_habits['n_races']<=max_count_races)]\n",
    "\n",
    "# use this df to filter original results data\n",
    "df_results_filtered = df_results.loc[df_results['athlete'].isin(valid_athletes['athlete'])]\n",
    "df_results_filtered = df_results_filtered.merge(valid_athletes, left_on=\"athlete\", right_on=\"athlete\", how=\"left\")\n",
    "\n",
    "# Anonimize entrants\n",
    "user_hash = {}\n",
    "\n",
    "for i,user in enumerate(df_results_filtered.athlete.unique()):\n",
    "    user_hash[user] = f'u{i}'\n",
    "df_results_filtered.loc[:, 'athlete'] = df_results_filtered.athlete.map(lambda x: user_hash[x])\n",
    "\n",
    "print(\"Number of valid individuals:\", len(valid_athletes))\n",
    "print(\"Number of remaining single results:\", len(df_results_filtered))\n",
    "print(\"Number of races present in filtered results:\", len(df_results_filtered.race.unique()))"
   ]
  },
  {
   "cell_type": "markdown",
   "metadata": {},
   "source": [
    "### Update races df to only keep races present in filtered results df"
   ]
  },
  {
   "cell_type": "code",
   "execution_count": 11,
   "metadata": {},
   "outputs": [
    {
     "name": "stdout",
     "output_type": "stream",
     "text": [
      "Number of remaining races: 158\n"
     ]
    }
   ],
   "source": [
    "df_races_for_model = df_races.loc[df_results_filtered.race.unique()]\n",
    "print(\"Number of remaining races:\", len(df_races_for_model))"
   ]
  },
  {
   "cell_type": "markdown",
   "metadata": {},
   "source": [
    "# Create dataframe with race count per athlete"
   ]
  },
  {
   "cell_type": "code",
   "execution_count": 12,
   "metadata": {},
   "outputs": [
    {
     "data": {
      "text/html": [
       "<div>\n",
       "<style scoped>\n",
       "    .dataframe tbody tr th:only-of-type {\n",
       "        vertical-align: middle;\n",
       "    }\n",
       "\n",
       "    .dataframe tbody tr th {\n",
       "        vertical-align: top;\n",
       "    }\n",
       "\n",
       "    .dataframe thead th {\n",
       "        text-align: right;\n",
       "    }\n",
       "</style>\n",
       "<table border=\"1\" class=\"dataframe\">\n",
       "  <thead>\n",
       "    <tr style=\"text-align: right;\">\n",
       "      <th></th>\n",
       "      <th>athlete</th>\n",
       "      <th>race</th>\n",
       "      <th>count</th>\n",
       "      <th>gender</th>\n",
       "      <th>country</th>\n",
       "    </tr>\n",
       "  </thead>\n",
       "  <tbody>\n",
       "    <tr>\n",
       "      <th>0</th>\n",
       "      <td>u0</td>\n",
       "      <td>cozumel</td>\n",
       "      <td>1</td>\n",
       "      <td>M</td>\n",
       "      <td>USA</td>\n",
       "    </tr>\n",
       "    <tr>\n",
       "      <th>1</th>\n",
       "      <td>u0</td>\n",
       "      <td>liuzhou70.3</td>\n",
       "      <td>1</td>\n",
       "      <td>M</td>\n",
       "      <td>USA</td>\n",
       "    </tr>\n",
       "    <tr>\n",
       "      <th>2</th>\n",
       "      <td>u0</td>\n",
       "      <td>mardelplata</td>\n",
       "      <td>1</td>\n",
       "      <td>M</td>\n",
       "      <td>USA</td>\n",
       "    </tr>\n",
       "    <tr>\n",
       "      <th>3</th>\n",
       "      <td>u0</td>\n",
       "      <td>newzealand</td>\n",
       "      <td>1</td>\n",
       "      <td>M</td>\n",
       "      <td>USA</td>\n",
       "    </tr>\n",
       "    <tr>\n",
       "      <th>4</th>\n",
       "      <td>u0</td>\n",
       "      <td>worldchampionship</td>\n",
       "      <td>3</td>\n",
       "      <td>M</td>\n",
       "      <td>USA</td>\n",
       "    </tr>\n",
       "  </tbody>\n",
       "</table>\n",
       "</div>"
      ],
      "text/plain": [
       "  athlete               race  count gender country\n",
       "0      u0            cozumel      1      M     USA\n",
       "1      u0        liuzhou70.3      1      M     USA\n",
       "2      u0        mardelplata      1      M     USA\n",
       "3      u0         newzealand      1      M     USA\n",
       "4      u0  worldchampionship      3      M     USA"
      ]
     },
     "execution_count": 12,
     "metadata": {},
     "output_type": "execute_result"
    }
   ],
   "source": [
    "results_races_count = (\n",
    "    df_results_filtered\n",
    "        .groupby(['athlete', 'race'])\n",
    "        .size()\n",
    "        .reset_index()\n",
    "        .rename(columns={0: 'count'})\n",
    ")\n",
    "\n",
    "# Add demographics info for users (if we want to filter later)\n",
    "gender = (df_results_filtered\n",
    "     .groupby(['athlete', 'gender'])\n",
    "     .size()\n",
    "     .reset_index()\n",
    "     .rename(columns={0: 'n'})\n",
    "     .pivot(index='athlete', columns='gender', values='n')\n",
    "     .idxmax(axis=1)\n",
    "     .rename('gender')\n",
    ")\n",
    "\n",
    "country = (df_results_filtered\n",
    "     .groupby(['athlete', 'country'])\n",
    "     .size()\n",
    "     .reset_index()\n",
    "     .rename(columns={0: 'n'})\n",
    "     .pivot(index='athlete', columns='country', values='n')\n",
    "     .idxmax(axis=1)\n",
    "     .rename('country')\n",
    ")\n",
    "\n",
    "results_races_count = results_races_count.merge(gender, left_on = 'athlete', right_on = 'athlete', how = 'left')\n",
    "results_races_count = results_races_count.merge(country, left_on = 'athlete', right_on = 'athlete', how = 'left')\n",
    "\n",
    "results_races_count.head()"
   ]
  },
  {
   "cell_type": "markdown",
   "metadata": {},
   "source": [
    "# Recommender class"
   ]
  },
  {
   "cell_type": "code",
   "execution_count": 14,
   "metadata": {},
   "outputs": [],
   "source": [
    "class BaseRecommender:\n",
    "    def __init__(self, model, matrix, items_info, name='Model'):\n",
    "        self.name = name\n",
    "        self.model = model\n",
    "        self.matrix = matrix\n",
    "        self.items_info = items_info\n",
    "        self.items_info_reset = items_info.reset_index()\n",
    "        \n",
    "\n",
    "class ALSRecommender(BaseRecommender):\n",
    "     def recommend(self, target, n=10, filterByField=False, valueToMatch=False):\n",
    "        target_code = self.items_info.index.get_loc(target)\n",
    "        similar = self.model.similar_items(target_code, len(self.items_info))\n",
    "        \n",
    "        df_distances = pd.DataFrame([\n",
    "                [self.items_info_reset.loc[code, 'race'], distance] for (code,distance) in similar\n",
    "            ], columns=['race', 'distance'])\n",
    "        \n",
    "        df_order = df_distances.merge(self.items_info, left_on='race', right_on='race', how='left')\n",
    "        if filterByField:\n",
    "            df_order = df_order.loc[df_order[filterByField] == valueToMatch]\n",
    "\n",
    "        return df_order\n"
   ]
  },
  {
   "cell_type": "markdown",
   "metadata": {},
   "source": [
    "# Alternative Least Square (ALS)\n",
    "\n",
    "The data we have are implicit data (data gathered from the users behaviour, with no ratings or specific actions needed. It could be what items a user purchased, how many times they played a song or watched a movie, how long they’ve spent reading a specific article etc. The upside is that we have a lot more of this data, the downside is that it’s more noisy and not always apparent what it means.)\n",
    "\n",
    "ALS has been developped specifically for implicit data"
   ]
  },
  {
   "cell_type": "markdown",
   "metadata": {},
   "source": [
    "## Prepare data"
   ]
  },
  {
   "cell_type": "code",
   "execution_count": 25,
   "metadata": {},
   "outputs": [
    {
     "name": "stdout",
     "output_type": "stream",
     "text": [
      "Matrix size: (158, 48895)\n"
     ]
    }
   ],
   "source": [
    "import scipy.sparse as sparse\n",
    "\n",
    "full_set = results_races_count.copy()\n",
    "full_set_pivot = full_set.pivot(index='race', columns='athlete', values='count').fillna(0)\n",
    "sparse_item_user = sparse.csr_matrix(full_set_pivot.values)\n",
    "\n",
    "filename_base = './../flask_app/nostrappdamus/model/data'\n",
    "\n",
    "# save the matrix to disk\n",
    "sparse.save_npz(f'{filename_base}/als_sparse_matrix.npz', sparse_item_user)\n",
    "\n",
    "# save order of races used\n",
    "with open(f'{filename_base}/als_hash.json', 'w') as f:\n",
    "    race_hash = df_races_for_model.loc[full_set_pivot.index].reset_index()['race'].to_dict()\n",
    "    f.write(json.dumps(race_hash))\n",
    "\n",
    "print(\"Matrix size:\", sparse_item_user.shape)"
   ]
  },
  {
   "cell_type": "code",
   "execution_count": 29,
   "metadata": {},
   "outputs": [],
   "source": [
    "# list(race_hash.values())\n",
    "# hash_race_to_code = dict((v,int(k)) for k,v in hash_code_to_race.items())"
   ]
  },
  {
   "cell_type": "code",
   "execution_count": 10,
   "metadata": {},
   "outputs": [],
   "source": [
    "# import scipy.sparse as sparse\n",
    "\n",
    "# full_set = results_races_count.copy()\n",
    "\n",
    "# # Converting the numbers to categories to be used for creating the categorical codes to avoid using long hash keys \n",
    "# full_set['athlete'] = full_set['athlete'].astype(\"category\")\n",
    "# full_set['race'] = full_set['race'].astype(\"category\")\n",
    "\n",
    "# #cat.codes creates a categorical id for the users and artists\n",
    "# full_set['athlete_id'] = full_set['athlete'].cat.codes\n",
    "# full_set['race_id'] = full_set['race'].cat.codes\n",
    "\n",
    "# # create dict of races categories for later mapping\n",
    "# races_cat = dict( enumerate(full_set['race'].cat.categories ) )\n",
    "\n",
    "# # The implicit library expects data as a item-user matrix so we\n",
    "# # create two matrices, one for fitting the model (item-user) \n",
    "# # and one for recommendations (user-item)\n",
    "\n",
    "# sparse_item_user = sparse.csr_matrix((full_set['count'].astype(float), (full_set['race_id'], full_set['athlete_id'])))"
   ]
  },
  {
   "cell_type": "markdown",
   "metadata": {},
   "source": [
    "### Sparcity of the matrix"
   ]
  },
  {
   "cell_type": "code",
   "execution_count": 30,
   "metadata": {},
   "outputs": [
    {
     "data": {
      "text/plain": [
       "0.9636038734513767"
      ]
     },
     "execution_count": 30,
     "metadata": {},
     "output_type": "execute_result"
    }
   ],
   "source": [
    "matrix_size = sparse_item_user.shape[0]*sparse_item_user.shape[1] # Number of possible interactions in the matrix\n",
    "num_raced = len(sparse_item_user.nonzero()[0]) # Number of items interacted with\n",
    "sparsity = (1 - (num_raced/matrix_size))\n",
    "sparsity"
   ]
  },
  {
   "cell_type": "code",
   "execution_count": 31,
   "metadata": {},
   "outputs": [],
   "source": [
    "from implicit.evaluation import precision_at_k, mean_average_precision_at_k, train_test_split #, ndcg_at_k\n",
    "from implicit.als import AlternatingLeastSquares\n",
    "from implicit.bpr import BayesianPersonalizedRanking\n",
    "from implicit.nearest_neighbours import (BM25Recommender, CosineRecommender,\n",
    "                                         TFIDFRecommender, bm25_weight)\n",
    "\n",
    "train, test = train_test_split(sparse_item_user, train_percentage=0.8)"
   ]
  },
  {
   "cell_type": "code",
   "execution_count": 32,
   "metadata": {},
   "outputs": [
    {
     "name": "stderr",
     "output_type": "stream",
     "text": [
      "100%|██████████| 50.0/50 [00:08<00:00,  6.11it/s]\n",
      "100%|██████████| 50/50 [00:00<00:00, 86.64it/s, correct=50.15%, skipped=5.61%]\n",
      "100%|██████████| 158/158 [00:00<00:00, 49935.95it/s]\n"
     ]
    }
   ],
   "source": [
    "models = {\n",
    "    'als': AlternatingLeastSquares(factors=20, regularization=0.1, iterations=50), \n",
    "    'bpr': BayesianPersonalizedRanking(factors=20, regularization=0.1, iterations=50), \n",
    "    'cosine': CosineRecommender(K=20)\n",
    "}\n",
    "\n",
    "# Calculate the confidence by multiplying it by our alpha value.(alpha value corresponds to the confidence metric \n",
    "# that we discussed earlier)\n",
    "alpha = 30\n",
    "train_conf = (train * alpha).astype('double')\n",
    "        \n",
    "for model in models:\n",
    "    if model == 'als':\n",
    "        models[model].fit(train_conf)\n",
    "    else:\n",
    "        models[model].fit(train)"
   ]
  },
  {
   "cell_type": "code",
   "execution_count": 33,
   "metadata": {},
   "outputs": [
    {
     "name": "stderr",
     "output_type": "stream",
     "text": [
      "100%|██████████| 48895/48895 [00:04<00:00, 10102.27it/s]\n",
      "100%|██████████| 48895/48895 [00:04<00:00, 10096.10it/s]\n",
      "  3%|▎         | 1233/48895 [00:00<00:04, 11873.37it/s]"
     ]
    },
    {
     "name": "stdout",
     "output_type": "stream",
     "text": [
      "Model als:\n",
      "p@10: 0.49247494599667124\n",
      "map@10: 0.25132964425817417\n"
     ]
    },
    {
     "name": "stderr",
     "output_type": "stream",
     "text": [
      "100%|██████████| 48895/48895 [00:04<00:00, 11514.59it/s]\n",
      "100%|██████████| 48895/48895 [00:04<00:00, 11034.02it/s]\n",
      "  7%|▋         | 3203/48895 [00:00<00:01, 31818.47it/s]"
     ]
    },
    {
     "name": "stdout",
     "output_type": "stream",
     "text": [
      "Model bpr:\n",
      "p@10: 0.09221289705726124\n",
      "map@10: 0.03542727914929211\n"
     ]
    },
    {
     "name": "stderr",
     "output_type": "stream",
     "text": [
      "100%|██████████| 48895/48895 [00:01<00:00, 34903.88it/s]\n",
      "100%|██████████| 48895/48895 [00:01<00:00, 37647.77it/s]"
     ]
    },
    {
     "name": "stdout",
     "output_type": "stream",
     "text": [
      "Model cosine:\n",
      "p@10: 0.5481072275930451\n",
      "map@10: 0.28818451473351386\n"
     ]
    },
    {
     "name": "stderr",
     "output_type": "stream",
     "text": [
      "\n"
     ]
    }
   ],
   "source": [
    "for model in models:\n",
    "    p1 = precision_at_k(models[model], train.T.tocsr(), test.T.tocsr(), K=10, num_threads=4)\n",
    "    p2 = mean_average_precision_at_k(models[model], train.T.tocsr(), test.T.tocsr(), K=10, num_threads=4)\n",
    "    print(f\"Model {model}:\")\n",
    "    print(f\"p@10: {p1}\\nmap@10: {p2}\")"
   ]
  },
  {
   "cell_type": "code",
   "execution_count": 39,
   "metadata": {},
   "outputs": [],
   "source": [
    "from sklearn.model_selection import ParameterGrid\n",
    "\n",
    "param_grid = {\n",
    "    'confidence_factor': [1, 5, 10, 20, 30, 40], \n",
    "    'als__factors': [5, 8, 10, 13, 17, 21, 25, 30],\n",
    "    'als__regularization': [1e-1, 1e-2, 1e-3, 1e-4]\n",
    "}\n",
    "\n",
    "params_combinations = list(ParameterGrid(param_grid))\n",
    "\n",
    "\n",
    "als_evaluation = {}\n",
    "\n",
    "for i,params in enumerate(params_combinations):\n",
    "    train_conf = (train * params['confidence_factor']).astype('double')\n",
    "    model = AlternatingLeastSquares(factors=params['als__factors'], regularization=params['als__regularization'], iterations=50)\n",
    "    model.fit(train_conf)\n",
    "    \n",
    "    map5 = mean_average_precision_at_k(model, train.T.tocsr(), test.T.tocsr(), K=5, num_threads=4)\n",
    "    map10 = mean_average_precision_at_k(model, train.T.tocsr(), test.T.tocsr(), K=10, num_threads=4)\n",
    "    \n",
    "    als_evaluation[i] = {\n",
    "        'map@5': map5,\n",
    "        'map@10': map10\n",
    "    } "
   ]
  },
  {
   "cell_type": "code",
   "execution_count": 38,
   "metadata": {},
   "outputs": [
    {
     "data": {
      "text/plain": [
       "192"
      ]
     },
     "execution_count": 38,
     "metadata": {},
     "output_type": "execute_result"
    }
   ],
   "source": [
    "len(params_combinations)"
   ]
  },
  {
   "cell_type": "code",
   "execution_count": 44,
   "metadata": {},
   "outputs": [],
   "source": [
    "evaluation_results = pd.DataFrame([\n",
    "    [params_combinations[i]['confidence_factor'], \n",
    "    params_combinations[i]['als__factors'],\n",
    "    params_combinations[i]['als__regularization'], \n",
    "    als_evaluation[i]['map@5'], \n",
    "    als_evaluation[i]['map@10']] \n",
    "    for i in range(len(params_combinations))\n",
    "], columns=['confidence', 'n_factors', 'regularization', 'map@5', 'map@10'])\n",
    "\n",
    "evaluation_results.to_csv('figs/als_hyperparameters_tuning.csv', index=False)"
   ]
  },
  {
   "cell_type": "code",
   "execution_count": 52,
   "metadata": {},
   "outputs": [
    {
     "data": {
      "text/html": [
       "<div>\n",
       "<style scoped>\n",
       "    .dataframe tbody tr th:only-of-type {\n",
       "        vertical-align: middle;\n",
       "    }\n",
       "\n",
       "    .dataframe tbody tr th {\n",
       "        vertical-align: top;\n",
       "    }\n",
       "\n",
       "    .dataframe thead th {\n",
       "        text-align: right;\n",
       "    }\n",
       "</style>\n",
       "<table border=\"1\" class=\"dataframe\">\n",
       "  <thead>\n",
       "    <tr style=\"text-align: right;\">\n",
       "      <th></th>\n",
       "      <th>confidence</th>\n",
       "      <th>n_factors</th>\n",
       "      <th>regularization</th>\n",
       "      <th>map@5</th>\n",
       "      <th>map@10</th>\n",
       "    </tr>\n",
       "  </thead>\n",
       "  <tbody>\n",
       "    <tr>\n",
       "      <th>103</th>\n",
       "      <td>5</td>\n",
       "      <td>17</td>\n",
       "      <td>0.01</td>\n",
       "      <td>0.232005</td>\n",
       "      <td>0.258741</td>\n",
       "    </tr>\n",
       "  </tbody>\n",
       "</table>\n",
       "</div>"
      ],
      "text/plain": [
       "     confidence  n_factors  regularization     map@5    map@10\n",
       "103           5         17            0.01  0.232005  0.258741"
      ]
     },
     "execution_count": 52,
     "metadata": {},
     "output_type": "execute_result"
    }
   ],
   "source": [
    "evaluation_results.loc[evaluation_results['map@5'] == evaluation_results['map@5'].max()]"
   ]
  },
  {
   "cell_type": "code",
   "execution_count": 54,
   "metadata": {},
   "outputs": [
    {
     "data": {
      "text/html": [
       "<div>\n",
       "<style scoped>\n",
       "    .dataframe tbody tr th:only-of-type {\n",
       "        vertical-align: middle;\n",
       "    }\n",
       "\n",
       "    .dataframe tbody tr th {\n",
       "        vertical-align: top;\n",
       "    }\n",
       "\n",
       "    .dataframe thead th {\n",
       "        text-align: right;\n",
       "    }\n",
       "</style>\n",
       "<table border=\"1\" class=\"dataframe\">\n",
       "  <thead>\n",
       "    <tr style=\"text-align: right;\">\n",
       "      <th></th>\n",
       "      <th>confidence</th>\n",
       "      <th>n_factors</th>\n",
       "      <th>regularization</th>\n",
       "      <th>map@5</th>\n",
       "      <th>map@10</th>\n",
       "    </tr>\n",
       "  </thead>\n",
       "  <tbody>\n",
       "    <tr>\n",
       "      <th>103</th>\n",
       "      <td>5</td>\n",
       "      <td>17</td>\n",
       "      <td>0.01</td>\n",
       "      <td>0.232005</td>\n",
       "      <td>0.258741</td>\n",
       "    </tr>\n",
       "  </tbody>\n",
       "</table>\n",
       "</div>"
      ],
      "text/plain": [
       "     confidence  n_factors  regularization     map@5    map@10\n",
       "103           5         17            0.01  0.232005  0.258741"
      ]
     },
     "execution_count": 54,
     "metadata": {},
     "output_type": "execute_result"
    }
   ],
   "source": [
    "evaluation_results.loc[evaluation_results['map@10'] == evaluation_results['map@10'].max()]"
   ]
  },
  {
   "cell_type": "code",
   "execution_count": 62,
   "metadata": {},
   "outputs": [
    {
     "data": {
      "text/plain": [
       "<matplotlib.axes._subplots.AxesSubplot at 0x7fd4251a8ba8>"
      ]
     },
     "execution_count": 62,
     "metadata": {},
     "output_type": "execute_result"
    },
    {
     "data": {
      "image/png": "[encoded data removed]",
      "text/plain": [
       "<Figure size 864x360 with 2 Axes>"
      ]
     },
     "metadata": {
      "needs_background": "light"
     },
     "output_type": "display_data"
    }
   ],
   "source": [
    "fig,ax = plt.subplots(figsize=(12, 5))\n",
    "ax1 = ax.twinx()\n",
    "evaluation_results.loc[evaluation_results.n_factors == 17, ['map@5', 'map@10']].plot(ax=ax)\n",
    "evaluation_results.loc[evaluation_results.n_factors == 17, ['regularization']].plot(ax=ax1, c='r')\n",
    "# evaluation_results.loc[evaluation_results.n_factors == 17, ['n_factors']].plot(ax=ax1)"
   ]
  },
  {
   "cell_type": "code",
   "execution_count": 63,
   "metadata": {},
   "outputs": [
    {
     "data": {
      "text/plain": [
       "<matplotlib.axes._subplots.AxesSubplot at 0x7fd447d6b358>"
      ]
     },
     "execution_count": 63,
     "metadata": {},
     "output_type": "execute_result"
    },
    {
     "data": {
      "image/png": "[encoded data removed]",
      "text/plain": [
       "<Figure size 864x360 with 2 Axes>"
      ]
     },
     "metadata": {
      "needs_background": "light"
     },
     "output_type": "display_data"
    }
   ],
   "source": [
    "fig,ax = plt.subplots(figsize=(12, 5))\n",
    "ax1 = ax.twinx()\n",
    "evaluation_results.loc[evaluation_results.confidence == 5, ['map@5', 'map@10']].plot(ax=ax)\n",
    "evaluation_results.loc[evaluation_results.confidence == 5, ['n_factors']].plot(ax=ax1, c='r')\n",
    "# evaluation_results.loc[evaluation_results.n_factors == 17, ['n_factors']].plot(ax=ax1)"
   ]
  },
  {
   "cell_type": "code",
   "execution_count": 42,
   "metadata": {},
   "outputs": [
    {
     "name": "stderr",
     "output_type": "stream",
     "text": [
      "100%|██████████| 50.0/50 [00:07<00:00,  6.99it/s]\n",
      "100%|██████████| 45799/45799 [00:03<00:00, 12128.02it/s]\n",
      "100%|██████████| 50.0/50 [00:07<00:00,  6.72it/s]\n",
      "100%|██████████| 45799/45799 [00:03<00:00, 12257.55it/s]\n",
      "100%|██████████| 50.0/50 [00:07<00:00,  6.52it/s]\n",
      "100%|██████████| 45799/45799 [00:04<00:00, 11443.80it/s]\n",
      "100%|██████████| 50.0/50 [00:07<00:00,  6.41it/s]\n",
      "100%|██████████| 45799/45799 [00:03<00:00, 11727.32it/s]\n",
      "100%|██████████| 50.0/50 [00:07<00:00,  6.31it/s]\n",
      "100%|██████████| 45799/45799 [00:03<00:00, 11829.32it/s]\n",
      "100%|██████████| 50.0/50 [00:08<00:00,  6.22it/s]\n",
      "100%|██████████| 45799/45799 [00:04<00:00, 10587.93it/s]\n",
      "100%|██████████| 50.0/50 [00:07<00:00,  6.27it/s]\n",
      "100%|██████████| 45799/45799 [00:04<00:00, 11336.69it/s]\n",
      "100%|██████████| 50.0/50 [00:08<00:00,  6.25it/s]\n",
      "100%|██████████| 45799/45799 [00:03<00:00, 12403.62it/s]\n",
      "100%|██████████| 50.0/50 [00:07<00:00,  6.26it/s]\n",
      "100%|██████████| 45799/45799 [00:03<00:00, 11926.46it/s]\n",
      "100%|██████████| 50.0/50 [00:07<00:00,  6.31it/s]\n",
      "100%|██████████| 45799/45799 [00:03<00:00, 12312.83it/s]\n",
      "100%|██████████| 50.0/50 [00:07<00:00,  6.26it/s]\n",
      "100%|██████████| 45799/45799 [00:03<00:00, 12610.37it/s]\n",
      "100%|██████████| 50.0/50 [00:08<00:00,  6.22it/s]\n",
      "100%|██████████| 45799/45799 [00:03<00:00, 12141.32it/s]\n",
      "100%|██████████| 50.0/50 [00:07<00:00,  6.26it/s]\n",
      "100%|██████████| 45799/45799 [00:03<00:00, 12568.84it/s]\n",
      "100%|██████████| 50.0/50 [00:08<00:00,  5.92it/s]\n",
      "100%|██████████| 45799/45799 [00:03<00:00, 11623.73it/s]\n",
      "100%|██████████| 50.0/50 [00:08<00:00,  6.11it/s]\n",
      "100%|██████████| 45799/45799 [00:04<00:00, 10805.06it/s]\n",
      "100%|██████████| 50.0/50 [00:08<00:00,  6.11it/s]\n",
      "100%|██████████| 45799/45799 [00:04<00:00, 11065.90it/s]\n",
      "100%|██████████| 50.0/50 [00:08<00:00,  6.01it/s]\n",
      "100%|██████████| 45799/45799 [00:03<00:00, 11986.41it/s]\n",
      "100%|██████████| 50.0/50 [00:08<00:00,  5.95it/s]\n",
      "100%|██████████| 45799/45799 [00:03<00:00, 12236.29it/s]\n",
      "100%|██████████| 50.0/50 [00:08<00:00,  5.99it/s]\n",
      "100%|██████████| 45799/45799 [00:03<00:00, 11539.73it/s]\n",
      "100%|██████████| 50.0/50 [00:08<00:00,  6.04it/s]\n",
      "100%|██████████| 45799/45799 [00:03<00:00, 12559.21it/s]\n",
      "100%|██████████| 50.0/50 [00:08<00:00,  5.90it/s]\n",
      "100%|██████████| 45799/45799 [00:03<00:00, 12546.37it/s]\n",
      "100%|██████████| 50.0/50 [00:08<00:00,  5.95it/s]\n",
      "100%|██████████| 45799/45799 [00:03<00:00, 12518.73it/s]\n",
      "100%|██████████| 50.0/50 [00:08<00:00,  5.89it/s]\n",
      "100%|██████████| 45799/45799 [00:03<00:00, 11767.92it/s]\n",
      "100%|██████████| 50.0/50 [00:08<00:00,  6.02it/s]\n",
      "100%|██████████| 45799/45799 [00:04<00:00, 11356.08it/s]\n",
      "100%|██████████| 50.0/50 [00:08<00:00,  6.02it/s]\n",
      "100%|██████████| 45799/45799 [00:04<00:00, 11096.53it/s]\n",
      "100%|██████████| 50.0/50 [00:08<00:00,  5.97it/s]\n",
      "100%|██████████| 45799/45799 [00:03<00:00, 12060.07it/s]\n",
      "100%|██████████| 50.0/50 [00:08<00:00,  6.06it/s]\n",
      "100%|██████████| 45799/45799 [00:03<00:00, 12375.28it/s]\n",
      "100%|██████████| 50.0/50 [00:08<00:00,  6.01it/s]\n",
      "100%|██████████| 45799/45799 [00:03<00:00, 12509.69it/s]\n",
      "100%|██████████| 50.0/50 [00:08<00:00,  6.02it/s]\n",
      "100%|██████████| 45799/45799 [00:03<00:00, 12014.74it/s]\n",
      "100%|██████████| 50.0/50 [00:08<00:00,  5.97it/s]\n",
      "100%|██████████| 45799/45799 [00:03<00:00, 12490.45it/s]\n",
      "100%|██████████| 50.0/50 [00:08<00:00,  5.94it/s]\n",
      "100%|██████████| 45799/45799 [00:03<00:00, 12503.20it/s]\n",
      "100%|██████████| 50.0/50 [00:08<00:00,  6.00it/s]\n",
      "100%|██████████| 45799/45799 [00:03<00:00, 11815.75it/s]\n",
      "100%|██████████| 50.0/50 [00:08<00:00,  5.83it/s]\n",
      "100%|██████████| 45799/45799 [00:03<00:00, 11793.39it/s]\n",
      "100%|██████████| 50.0/50 [00:08<00:00,  5.91it/s]\n",
      "100%|██████████| 45799/45799 [00:03<00:00, 12636.05it/s]\n",
      "100%|██████████| 50.0/50 [00:08<00:00,  5.91it/s]\n",
      "100%|██████████| 45799/45799 [00:03<00:00, 11609.99it/s]\n",
      "100%|██████████| 50.0/50 [00:08<00:00,  5.85it/s]\n",
      "100%|██████████| 45799/45799 [00:03<00:00, 11913.52it/s]\n",
      "100%|██████████| 50.0/50 [00:08<00:00,  5.92it/s]\n",
      "100%|██████████| 45799/45799 [00:03<00:00, 12233.79it/s]\n",
      "100%|██████████| 50.0/50 [00:08<00:00,  5.96it/s]\n",
      "100%|██████████| 45799/45799 [00:03<00:00, 12012.00it/s]\n",
      "100%|██████████| 50.0/50 [00:08<00:00,  5.87it/s]\n",
      "100%|██████████| 45799/45799 [00:03<00:00, 11903.07it/s]\n",
      "100%|██████████| 50.0/50 [00:08<00:00,  5.84it/s]\n",
      "100%|██████████| 45799/45799 [00:03<00:00, 12479.41it/s]\n",
      "100%|██████████| 50.0/50 [00:08<00:00,  5.96it/s]\n",
      "100%|██████████| 45799/45799 [00:03<00:00, 12202.01it/s]\n",
      "100%|██████████| 50.0/50 [00:08<00:00,  6.03it/s]\n",
      "100%|██████████| 45799/45799 [00:03<00:00, 12270.44it/s]\n",
      "100%|██████████| 50.0/50 [00:08<00:00,  6.06it/s]\n",
      "100%|██████████| 45799/45799 [00:03<00:00, 12539.58it/s]\n",
      "100%|██████████| 50.0/50 [00:08<00:00,  6.06it/s]\n",
      "100%|██████████| 45799/45799 [00:03<00:00, 12551.99it/s]\n",
      "100%|██████████| 50.0/50 [00:08<00:00,  6.13it/s]\n",
      "100%|██████████| 45799/45799 [00:03<00:00, 12507.81it/s]\n",
      "100%|██████████| 50.0/50 [00:08<00:00,  6.11it/s]\n",
      "100%|██████████| 45799/45799 [00:03<00:00, 12405.98it/s]\n",
      "100%|██████████| 50.0/50 [00:08<00:00,  6.13it/s]\n",
      "100%|██████████| 45799/45799 [00:03<00:00, 12286.00it/s]\n",
      "100%|██████████| 50.0/50 [00:08<00:00,  6.08it/s]\n",
      "100%|██████████| 45799/45799 [00:03<00:00, 12066.48it/s]\n",
      "100%|██████████| 50.0/50 [00:08<00:00,  5.94it/s]\n",
      "100%|██████████| 45799/45799 [00:03<00:00, 11928.65it/s]\n",
      "100%|██████████| 50.0/50 [00:08<00:00,  5.92it/s]\n",
      "100%|██████████| 45799/45799 [00:03<00:00, 12411.02it/s]\n",
      "100%|██████████| 50.0/50 [00:08<00:00,  5.91it/s]\n",
      "100%|██████████| 45799/45799 [00:03<00:00, 12573.05it/s]\n",
      "100%|██████████| 50.0/50 [00:08<00:00,  5.89it/s]\n",
      "100%|██████████| 45799/45799 [00:03<00:00, 12591.33it/s]\n",
      "100%|██████████| 50.0/50 [00:08<00:00,  5.92it/s]\n",
      "100%|██████████| 45799/45799 [00:04<00:00, 11320.39it/s]\n",
      "100%|██████████| 50.0/50 [00:08<00:00,  6.01it/s]\n",
      "100%|██████████| 45799/45799 [00:03<00:00, 12723.63it/s]\n",
      "100%|██████████| 50.0/50 [00:08<00:00,  5.92it/s]\n",
      "100%|██████████| 45799/45799 [00:03<00:00, 12697.62it/s]\n",
      "100%|██████████| 50.0/50 [00:08<00:00,  5.97it/s]\n",
      "100%|██████████| 45799/45799 [00:03<00:00, 12607.34it/s]\n",
      "100%|██████████| 50.0/50 [00:08<00:00,  5.99it/s]\n",
      "100%|██████████| 45799/45799 [00:03<00:00, 12811.93it/s]\n",
      "100%|██████████| 50.0/50 [00:08<00:00,  5.99it/s]\n",
      "100%|██████████| 45799/45799 [00:03<00:00, 12617.61it/s]\n",
      "100%|██████████| 50.0/50 [00:08<00:00,  6.00it/s]\n",
      "100%|██████████| 45799/45799 [00:03<00:00, 12135.88it/s]\n",
      "100%|██████████| 50.0/50 [00:08<00:00,  6.00it/s]\n",
      "100%|██████████| 45799/45799 [00:03<00:00, 11922.23it/s]\n",
      "100%|██████████| 50.0/50 [00:08<00:00,  5.78it/s]\n",
      "100%|██████████| 45799/45799 [00:04<00:00, 9673.31it/s]\n",
      "100%|██████████| 50.0/50 [00:08<00:00,  5.96it/s]\n",
      "100%|██████████| 45799/45799 [00:04<00:00, 10518.50it/s]\n",
      "100%|██████████| 50.0/50 [00:08<00:00,  5.91it/s]\n",
      "100%|██████████| 45799/45799 [00:04<00:00, 9851.90it/s]\n",
      "100%|██████████| 50.0/50 [00:08<00:00,  5.88it/s]\n",
      "100%|██████████| 45799/45799 [00:04<00:00, 10286.45it/s]\n"
     ]
    }
   ],
   "source": [
    "# let's refine\n",
    "\n",
    "param_grid2 = {\n",
    "    'confidence_factor': np.arange(2, 10, 0.5), \n",
    "    'als__factors': range(16, 20),\n",
    "    'als__regularization': [1e-2]\n",
    "}\n",
    "\n",
    "params_combinations2 = list(ParameterGrid(param_grid2))\n",
    "\n",
    "\n",
    "als_evaluation2 = {}\n",
    "\n",
    "for i,params in enumerate(params_combinations2):\n",
    "    train_conf = (train * params['confidence_factor']).astype('double')\n",
    "    model = AlternatingLeastSquares(factors=params['als__factors'], regularization=params['als__regularization'], iterations=50)\n",
    "    model.fit(train_conf)\n",
    "    \n",
    "    map5 = mean_average_precision_at_k(model, train.T.tocsr(), test.T.tocsr(), K=5, num_threads=4)\n",
    "#     map10 = mean_average_precision_at_k(model, train.T.tocsr(), test.T.tocsr(), K=10, num_threads=4)\n",
    "    \n",
    "    als_evaluation2[i] = {\n",
    "        'map@5': map5,\n",
    "#         'map@10': map10\n",
    "    } "
   ]
  },
  {
   "cell_type": "code",
   "execution_count": 45,
   "metadata": {},
   "outputs": [],
   "source": [
    "evaluation_results2 = pd.DataFrame([\n",
    "    [params_combinations2[i]['confidence_factor'], \n",
    "    params_combinations2[i]['als__factors'],\n",
    "    params_combinations2[i]['als__regularization'], \n",
    "    als_evaluation2[i]['map@5']]\n",
    "#     als_evaluation2[i]['map@10']] \n",
    "    for i in range(len(params_combinations2))\n",
    "], columns=['confidence', 'n_factors', 'regularization', 'map@5'])\n",
    "\n",
    "# evaluation_results2.to_csv('figs/als_hyperparameters_tuning-fine.csv', index=False)"
   ]
  },
  {
   "cell_type": "code",
   "execution_count": 46,
   "metadata": {},
   "outputs": [
    {
     "data": {
      "text/html": [
       "<div>\n",
       "<style scoped>\n",
       "    .dataframe tbody tr th:only-of-type {\n",
       "        vertical-align: middle;\n",
       "    }\n",
       "\n",
       "    .dataframe tbody tr th {\n",
       "        vertical-align: top;\n",
       "    }\n",
       "\n",
       "    .dataframe thead th {\n",
       "        text-align: right;\n",
       "    }\n",
       "</style>\n",
       "<table border=\"1\" class=\"dataframe\">\n",
       "  <thead>\n",
       "    <tr style=\"text-align: right;\">\n",
       "      <th></th>\n",
       "      <th>confidence</th>\n",
       "      <th>n_factors</th>\n",
       "      <th>regularization</th>\n",
       "      <th>map@5</th>\n",
       "    </tr>\n",
       "  </thead>\n",
       "  <tbody>\n",
       "    <tr>\n",
       "      <th>55</th>\n",
       "      <td>5.5</td>\n",
       "      <td>19</td>\n",
       "      <td>0.01</td>\n",
       "      <td>0.242647</td>\n",
       "    </tr>\n",
       "  </tbody>\n",
       "</table>\n",
       "</div>"
      ],
      "text/plain": [
       "    confidence  n_factors  regularization     map@5\n",
       "55         5.5         19            0.01  0.242647"
      ]
     },
     "execution_count": 46,
     "metadata": {},
     "output_type": "execute_result"
    }
   ],
   "source": [
    "# Best params\n",
    "evaluation_results2.loc[evaluation_results2['map@5'] == evaluation_results2['map@5'].max()]"
   ]
  },
  {
   "cell_type": "code",
   "execution_count": 34,
   "metadata": {},
   "outputs": [
    {
     "name": "stderr",
     "output_type": "stream",
     "text": [
      "100%|██████████| 50.0/50 [00:08<00:00,  5.66it/s]\n"
     ]
    }
   ],
   "source": [
    "best_params = {\n",
    "    'confidence': 6.5,\n",
    "    'regularization': 0.01,\n",
    "    'n_factors': 16\n",
    "}\n",
    "\n",
    "best_params = {\n",
    "    'confidence': 5.5,\n",
    "    'regularization': 0.01,\n",
    "    'n_factors': 19\n",
    "}\n",
    "\n",
    "full_set_conf = (sparse_item_user * best_params['confidence']).astype('double')\n",
    "\n",
    "als_final = AlternatingLeastSquares(factors=best_params['n_factors'], regularization=best_params['regularization'], iterations=50)\n",
    "als_final.fit(full_set_conf)\n"
   ]
  },
  {
   "cell_type": "code",
   "execution_count": 48,
   "metadata": {},
   "outputs": [
    {
     "name": "stderr",
     "output_type": "stream",
     "text": [
      "100%|██████████| 45799/45799 [00:04<00:00, 10309.28it/s]\n"
     ]
    },
    {
     "data": {
      "text/plain": [
       "0.5120637497833398"
      ]
     },
     "execution_count": 48,
     "metadata": {},
     "output_type": "execute_result"
    }
   ],
   "source": [
    "mean_average_precision_at_k(als_final, train.T.tocsr(), test.T.tocsr(), K=5, num_threads=4)"
   ]
  },
  {
   "cell_type": "code",
   "execution_count": 35,
   "metadata": {},
   "outputs": [],
   "source": [
    "import pickle\n",
    "\n",
    "# save the model to disk\n",
    "filename_base = './../flask_app/nostrappdamus/model/data'\n",
    "pickle.dump(als_final, open(f\"{filename_base}/als_model.sav\", 'wb'))\n",
    "\n",
    "\n",
    "\n",
    "# # save the races/codes hash\n",
    "# with open(f\"{filename_base}/als_race_hash.json\", \"w\") as f:\n",
    "#     f.write(json.dumps(races_cat))\n"
   ]
  },
  {
   "cell_type": "code",
   "execution_count": 91,
   "metadata": {},
   "outputs": [
    {
     "name": "stdout",
     "output_type": "stream",
     "text": [
      "france70.3 0.20848429\n",
      "vichy70.3 0.20397756\n",
      "Nice70.3 0.20325567\n",
      "france 0.16773026\n",
      "vichy 0.15156436\n",
      "lanzarote70.3 0.14225355\n",
      "barcelona70.3 0.13950655\n",
      "luxembourg70.3 0.13868877\n",
      "switzerland70.3 0.12784839\n",
      "marbella70.3 0.11253704\n"
     ]
    }
   ],
   "source": [
    "# some time later...\n",
    " \n",
    "# load the model from disk\n",
    "loaded_model = pickle.load(open(f\"{filename_base}/als-model.sav\", 'rb'))\n",
    "loaded_matrix = sparse.load_npz(f\"{filename_base}/als_sparse_matrix.npz\")\n",
    "with open(f\"{filename_base}/als_race_hash.json\", \"r\") as f:\n",
    "    hash_code_to_race = json.loads(f.read())\n",
    "\n",
    "hash_race_to_code = dict((v,int(k)) for k,v in hash_code_to_race.items())\n",
    "    \n",
    "query = 'france70.3'\n",
    "code_query = hash_race_to_code[query]\n",
    "\n",
    "similar = loaded_model.similar_items(code_query, 10)\n",
    "\n",
    "for code,distance in similar:\n",
    "    print(hash_code_to_race[f'{code}'], distance)"
   ]
  },
  {
   "cell_type": "code",
   "execution_count": 162,
   "metadata": {},
   "outputs": [
    {
     "name": "stderr",
     "output_type": "stream",
     "text": [
      "100%|██████████| 157/157 [00:00<00:00, 34902.51it/s]\n",
      "100%|██████████| 82912/82912 [00:01<00:00, 42394.77it/s]\n"
     ]
    },
    {
     "data": {
      "text/plain": [
       "0.27641541442882595"
      ]
     },
     "execution_count": 162,
     "metadata": {},
     "output_type": "execute_result"
    }
   ],
   "source": [
    "cosine = CosineRecommender(K=30)\n",
    "cosine.fit(sparse_item_user)\n",
    "mean_average_precision_at_k(cosine, train.T.tocsr(), test.T.tocsr(), K=5, num_threads=4)\n",
    "# pd.DataFrame([[hash_code_to_race[f'{code}'],distance] for i,(code,distance) in enumerate(similar) if i>0], columns=['race', 'distance'])"
   ]
  },
  {
   "cell_type": "code",
   "execution_count": null,
   "metadata": {},
   "outputs": [],
   "source": []
  },
  {
   "cell_type": "code",
   "execution_count": null,
   "metadata": {},
   "outputs": [],
   "source": []
  },
  {
   "cell_type": "code",
   "execution_count": null,
   "metadata": {},
   "outputs": [],
   "source": []
  },
  {
   "cell_type": "markdown",
   "metadata": {},
   "source": [
    "### Example for recommendation"
   ]
  },
  {
   "cell_type": "code",
   "execution_count": 121,
   "metadata": {},
   "outputs": [],
   "source": [
    "class ALSrecommender:\n",
    "    def __init__(self, full_set, train_set=None, items_info_df=None, name=\"ALS model\"):\n",
    "        self.name = name\n",
    "        self.full_set = full_set\n",
    "        self.train_set = train_set if type(train_set) != type(None) else full_set\n",
    "        self.items_df = self.train_set.reset_index()[['athlete', 'race', 'count']]\n",
    "        # Converting the numbers to categories to be used for creating the categorical codes to avoid using long hash keys \n",
    "        self.items_df['athlete'] = self.items_df['athlete'].astype(\"category\")\n",
    "        self.items_df['race'] = self.items_df['race'].astype(\"category\")\n",
    "        #cat.codes creates a categorical id for the users and artists\n",
    "        self.items_df['athlete_id'] = self.items_df['athlete'].cat.codes\n",
    "        self.items_df['race_id'] = self.items_df['race'].cat.codes\n",
    "        # The implicit library expects data as a item-user matrix so we\n",
    "        # create two matrices, one for fitting the model (item-user) \n",
    "        # and one for recommendations (user-item)\n",
    "        self.items_matrix = csr_matrix((self.items_df['count'].astype(float), (self.items_df['race_id'], self.items_df['athlete_id'])))\n",
    "        # make sure the items_info_df has the same order than the items_df\n",
    "        if type(items_info_df) == type(None):\n",
    "            self.items_info_df = self.items_df[['race', 'race_id']].drop_duplicates()\n",
    "            self.items_info_df = self.items_info_df.set_index('race')\n",
    "        else:\n",
    "            self.items_info_df = items_info_df.merge(self.items_df[['race', 'race_id']].drop_duplicates(), left_on='race', right_on='race', how='left')\n",
    "            self.items_info_df = self.items_info_df.set_index('race')\n",
    "            \n",
    "    def make_model(self, factors=20, regularization=0.1, iterations=40, alpha=15):\n",
    "        # Initialize the als model and fit it using the sparse item-user matrix\n",
    "        # Parameters that we have chosen\n",
    "        # 1. factors = 20 -- Latent factors for user and item vectors\n",
    "        # 2. iterations = 20 -- Number of iterations to use while fitting the data\n",
    "        # 3. regularization = 0.1 -- regularization constant to be used in the cost function\n",
    "\n",
    "        self.model = implicit.als.AlternatingLeastSquares(factors=factors, regularization=regularization, iterations=iterations)\n",
    "\n",
    "        # Calculate the confidence by multiplying it by our alpha value.(alpha value corresponds to the confidence metric \n",
    "        # that we discussed earlier)\n",
    "        data_conf = (self.items_matrix * alpha).astype('double')\n",
    "\n",
    "        # We have used an alpha_val of 15 after performing some iterations with different alpha values\n",
    "        #Fit the model\n",
    "        self.model.fit(data_conf)\n",
    "        \n",
    "    def recommend(self, similarTo, topn=10):\n",
    "        # get encoded categorical id of race\n",
    "        race_id = self.items_info_df.loc[similarTo]['race_id']\n",
    "\n",
    "        # Use implicit to get similar items.\n",
    "        similar = self.model.similar_items(race_id, topn+1)[1:]\n",
    "        out_distances = list(map(lambda x: x[1], similar))\n",
    "        out_races = list(map(lambda x: self.items_info_df.loc[self.items_info_df['race_id'] == x[0]].index.values[0], similar))\n",
    "        \n",
    "        out_df = self.items_info_df.loc[out_races]\n",
    "        out_df['similarity'] = out_distances\n",
    "\n",
    "        return out_df"
   ]
  },
  {
   "cell_type": "code",
   "execution_count": 122,
   "metadata": {},
   "outputs": [
    {
     "name": "stderr",
     "output_type": "stream",
     "text": [
      "100%|██████████| 40.0/40 [00:38<00:00,  1.05it/s]\n"
     ]
    }
   ],
   "source": [
    "als_model = ALSrecommender(full_set, train_set, items_info_df=df_races, name=f'ALS model')\n",
    "als_model.make_model(factors=20, regularization=0.1, iterations=40, alpha=15)                      \n"
   ]
  },
  {
   "cell_type": "code",
   "execution_count": 124,
   "metadata": {},
   "outputs": [
    {
     "data": {
      "text/html": [
       "<div>\n",
       "<style scoped>\n",
       "    .dataframe tbody tr th:only-of-type {\n",
       "        vertical-align: middle;\n",
       "    }\n",
       "\n",
       "    .dataframe tbody tr th {\n",
       "        vertical-align: top;\n",
       "    }\n",
       "\n",
       "    .dataframe thead th {\n",
       "        text-align: right;\n",
       "    }\n",
       "</style>\n",
       "<table border=\"1\" class=\"dataframe\">\n",
       "  <thead>\n",
       "    <tr style=\"text-align: right;\">\n",
       "      <th></th>\n",
       "      <th>racename</th>\n",
       "      <th>is_70.3</th>\n",
       "      <th>region</th>\n",
       "      <th>country_code</th>\n",
       "      <th>lat</th>\n",
       "      <th>lon</th>\n",
       "      <th>race_id</th>\n",
       "      <th>similarity</th>\n",
       "    </tr>\n",
       "    <tr>\n",
       "      <th>race</th>\n",
       "      <th></th>\n",
       "      <th></th>\n",
       "      <th></th>\n",
       "      <th></th>\n",
       "      <th></th>\n",
       "      <th></th>\n",
       "      <th></th>\n",
       "      <th></th>\n",
       "    </tr>\n",
       "  </thead>\n",
       "  <tbody>\n",
       "    <tr>\n",
       "      <th>vichy70.3</th>\n",
       "      <td>IRONMAN 70.3 Vichy</td>\n",
       "      <td>True</td>\n",
       "      <td>Europe</td>\n",
       "      <td>FRA</td>\n",
       "      <td>46.128845</td>\n",
       "      <td>3.414791</td>\n",
       "      <td>146</td>\n",
       "      <td>0.432532</td>\n",
       "    </tr>\n",
       "    <tr>\n",
       "      <th>Nice70.3</th>\n",
       "      <td>IRONMAN 70.3 Nice</td>\n",
       "      <td>True</td>\n",
       "      <td>Europe</td>\n",
       "      <td>FRA</td>\n",
       "      <td>43.684918</td>\n",
       "      <td>7.241314</td>\n",
       "      <td>7</td>\n",
       "      <td>0.418482</td>\n",
       "    </tr>\n",
       "    <tr>\n",
       "      <th>barcelona70.3</th>\n",
       "      <td>IRONMAN 70.3 Barcelona</td>\n",
       "      <td>True</td>\n",
       "      <td>Europe</td>\n",
       "      <td>ESP</td>\n",
       "      <td>41.615767</td>\n",
       "      <td>2.671412</td>\n",
       "      <td>20</td>\n",
       "      <td>0.378834</td>\n",
       "    </tr>\n",
       "    <tr>\n",
       "      <th>vichy</th>\n",
       "      <td>IRONMAN Vichy</td>\n",
       "      <td>False</td>\n",
       "      <td>Europe</td>\n",
       "      <td>FRA</td>\n",
       "      <td>46.128894</td>\n",
       "      <td>3.414719</td>\n",
       "      <td>145</td>\n",
       "      <td>0.290592</td>\n",
       "    </tr>\n",
       "    <tr>\n",
       "      <th>luxembourg70.3</th>\n",
       "      <td>IRONMAN 70.3 Luxembourg - Région Moselle</td>\n",
       "      <td>True</td>\n",
       "      <td>Europe</td>\n",
       "      <td>LUX</td>\n",
       "      <td>49.551630</td>\n",
       "      <td>6.376436</td>\n",
       "      <td>87</td>\n",
       "      <td>0.262203</td>\n",
       "    </tr>\n",
       "    <tr>\n",
       "      <th>switzerland70.3</th>\n",
       "      <td>IRONMAN 70.3 Switzerland</td>\n",
       "      <td>True</td>\n",
       "      <td>Europe</td>\n",
       "      <td>CHE</td>\n",
       "      <td>47.222923</td>\n",
       "      <td>8.830523</td>\n",
       "      <td>133</td>\n",
       "      <td>0.243498</td>\n",
       "    </tr>\n",
       "    <tr>\n",
       "      <th>france</th>\n",
       "      <td>IRONMAN France</td>\n",
       "      <td>False</td>\n",
       "      <td>Europe</td>\n",
       "      <td>FRA</td>\n",
       "      <td>43.684857</td>\n",
       "      <td>7.241084</td>\n",
       "      <td>58</td>\n",
       "      <td>0.206520</td>\n",
       "    </tr>\n",
       "    <tr>\n",
       "      <th>chattanooga</th>\n",
       "      <td>IRONMAN Chattanooga</td>\n",
       "      <td>False</td>\n",
       "      <td>North America</td>\n",
       "      <td>USA</td>\n",
       "      <td>35.063181</td>\n",
       "      <td>-85.287417</td>\n",
       "      <td>40</td>\n",
       "      <td>0.184227</td>\n",
       "    </tr>\n",
       "    <tr>\n",
       "      <th>mallorca70.3</th>\n",
       "      <td>IRONMAN 70.3 Mallorca</td>\n",
       "      <td>True</td>\n",
       "      <td>Europe</td>\n",
       "      <td>ESP</td>\n",
       "      <td>39.836211</td>\n",
       "      <td>3.124180</td>\n",
       "      <td>90</td>\n",
       "      <td>0.176119</td>\n",
       "    </tr>\n",
       "    <tr>\n",
       "      <th>italy70.3</th>\n",
       "      <td>IRONMAN 70.3 Italy</td>\n",
       "      <td>True</td>\n",
       "      <td>Europe</td>\n",
       "      <td>ITA</td>\n",
       "      <td>42.460235</td>\n",
       "      <td>14.229061</td>\n",
       "      <td>68</td>\n",
       "      <td>0.174684</td>\n",
       "    </tr>\n",
       "  </tbody>\n",
       "</table>\n",
       "</div>"
      ],
      "text/plain": [
       "                                                 racename  is_70.3  \\\n",
       "race                                                                 \n",
       "vichy70.3                              IRONMAN 70.3 Vichy     True   \n",
       "Nice70.3                                IRONMAN 70.3 Nice     True   \n",
       "barcelona70.3                      IRONMAN 70.3 Barcelona     True   \n",
       "vichy                                       IRONMAN Vichy    False   \n",
       "luxembourg70.3   IRONMAN 70.3 Luxembourg - Région Moselle     True   \n",
       "switzerland70.3                  IRONMAN 70.3 Switzerland     True   \n",
       "france                                     IRONMAN France    False   \n",
       "chattanooga                           IRONMAN Chattanooga    False   \n",
       "mallorca70.3                        IRONMAN 70.3 Mallorca     True   \n",
       "italy70.3                              IRONMAN 70.3 Italy     True   \n",
       "\n",
       "                        region country_code        lat        lon  race_id  \\\n",
       "race                                                                         \n",
       "vichy70.3               Europe          FRA  46.128845   3.414791      146   \n",
       "Nice70.3                Europe          FRA  43.684918   7.241314        7   \n",
       "barcelona70.3           Europe          ESP  41.615767   2.671412       20   \n",
       "vichy                   Europe          FRA  46.128894   3.414719      145   \n",
       "luxembourg70.3          Europe          LUX  49.551630   6.376436       87   \n",
       "switzerland70.3         Europe          CHE  47.222923   8.830523      133   \n",
       "france                  Europe          FRA  43.684857   7.241084       58   \n",
       "chattanooga      North America          USA  35.063181 -85.287417       40   \n",
       "mallorca70.3            Europe          ESP  39.836211   3.124180       90   \n",
       "italy70.3               Europe          ITA  42.460235  14.229061       68   \n",
       "\n",
       "                 similarity  \n",
       "race                         \n",
       "vichy70.3          0.432532  \n",
       "Nice70.3           0.418482  \n",
       "barcelona70.3      0.378834  \n",
       "vichy              0.290592  \n",
       "luxembourg70.3     0.262203  \n",
       "switzerland70.3    0.243498  \n",
       "france             0.206520  \n",
       "chattanooga        0.184227  \n",
       "mallorca70.3       0.176119  \n",
       "italy70.3          0.174684  "
      ]
     },
     "execution_count": 124,
     "metadata": {},
     "output_type": "execute_result"
    }
   ],
   "source": [
    "# als_model.items_info_df['race' = als_model.items_info_df.index\n",
    "als_model.recommend('france70.3', 10)"
   ]
  },
  {
   "cell_type": "markdown",
   "metadata": {},
   "source": [
    "## Evaluating the model\n",
    "\n",
    "We'll use the **Mean Average Precision** at **K**"
   ]
  },
  {
   "cell_type": "code",
   "execution_count": 125,
   "metadata": {},
   "outputs": [],
   "source": [
    "from utils.average_precision import mapk"
   ]
  },
  {
   "cell_type": "code",
   "execution_count": 126,
   "metadata": {},
   "outputs": [],
   "source": [
    "class ModelEvaluator:\n",
    "    def __init__(self, full_set, train_set, test_set, size):\n",
    "        self.full_set = full_set\n",
    "        self.train_set = train_set\n",
    "        self.test_set = test_set\n",
    "        self.requested_size = size\n",
    "        self.users_sample = self.get_users_sample(n=size)\n",
    "        self.users_interacted_items_in_train = [self.get_interacted_items_for_from(userId, self.train_set) for userId in self.users_sample]\n",
    "        self.users_picked_race = [np.random.choice(races_in_train) for races_in_train in self.users_interacted_items_in_train]\n",
    "        self.users_interacted_items_in_test = [self.get_interacted_items_for_from(userId, self.test_set) for userId in self.users_sample]\n",
    "\n",
    "    @staticmethod\n",
    "    def get_interacted_items_for_from(userId, dataset):\n",
    "        interacted_items = dataset.loc[userId, 'race']\n",
    "        return interacted_items.tolist() if type(interacted_items) == pd.Series else [interacted_items]\n",
    "    \n",
    "    def get_users_sample(self, n):\n",
    "        return list(np.random.choice(np.unique(self.full_set.index), size=n, replace=False))"
   ]
  },
  {
   "cell_type": "code",
   "execution_count": 127,
   "metadata": {},
   "outputs": [],
   "source": [
    "# let's test our model on 10000 randomly picked athletes\n",
    "evaluator = ModelEvaluator(full_set, train_set, test_set, 2000)"
   ]
  },
  {
   "cell_type": "code",
   "execution_count": 128,
   "metadata": {},
   "outputs": [],
   "source": [
    "# we'll create a popularity model that will output the most popular races\n",
    "popularity = train_set.reset_index().groupby('race')['count'].sum().sort_values(ascending=False).reset_index()\n",
    "popularity = popularity.set_index('race')\n",
    "\n",
    "class PopularityModel:\n",
    "    def __init__(self, popularity, name='popularity'):\n",
    "        self.name = name\n",
    "        self.popularity = popularity\n",
    "        \n",
    "    def recommend(self, race, n):\n",
    "        return self.popularity.iloc[:n]\n",
    "    \n",
    "popularity_model = PopularityModel(popularity)"
   ]
  },
  {
   "cell_type": "code",
   "execution_count": 142,
   "metadata": {},
   "outputs": [
    {
     "name": "stderr",
     "output_type": "stream",
     "text": [
      "100%|██████████| 50.0/50 [00:31<00:00,  1.58it/s]\n"
     ]
    },
    {
     "name": "stdout",
     "output_type": "stream",
     "text": [
      "Recommendations with the popularity model done!\n",
      "Recommendations with the KNN count model done!\n",
      "Recommendations with the KNN binary model done!\n",
      "Recommendations with the LSH model 256 model done!\n",
      "Recommendations with the LSH model 512 model done!\n",
      "Recommendations with the LSH model 1024 model done!\n",
      "Recommendations with the KNN SVD 21 model done!\n",
      "Recommendations with the ALS model model done!\n"
     ]
    }
   ],
   "source": [
    "results = {}\n",
    "\n",
    "# fit models on train set\n",
    "knn_binary = KNNrecommender(full_set, train_set, binary=True, items_info_df=df_races, name='KNN binary')\n",
    "knn_binary.make_model(metric='cosine', algorithm='brute', n_neighbors=5)\n",
    "knn_count = KNNrecommender(full_set, train_set, binary=False, items_info_df=df_races, name='KNN count')\n",
    "knn_count.make_model(metric='cosine', algorithm='brute', n_neighbors=5)\n",
    "lsh_256 = LSHrecommender(full_set, train_set, items_info_df=df_races, name='LSH model 256')\n",
    "lsh_256.make_model(256)\n",
    "lsh_512 = LSHrecommender(full_set, train_set, items_info_df=df_races, name='LSH model 512')\n",
    "lsh_512.make_model(512)\n",
    "knn_svd = KNNrecommender(full_set, train_set, binary=False, items_info_df=df_races, name=f'KNN SVD 21')\n",
    "knn_svd.make_model(metric='cosine', algorithm='brute', n_neighbors=5, model_type='SVD', n_components=21)\n",
    "als_model = ALSrecommender(full_set, train_set, items_info_df=df_races, name=f'ALS model')\n",
    "als_model.make_model(factors=10, regularization=0.1, iterations=50, alpha=20)\n",
    "                         \n",
    "# models list\n",
    "models_to_test = [popularity_model, knn_count, knn_binary, lsh_256, lsh_512, lsh_1024, knn_svd, als_model] \n",
    "    \n",
    "for model in models_to_test:\n",
    "    # make recommendation\n",
    "    races_recommended = [model.recommend(race, 20).index.tolist() for race in evaluator.users_picked_race]\n",
    "    mapk_5_10_20 = [mapk(evaluator.users_interacted_items_in_test, races_recommended, k) for k in [5, 10, 20]]\n",
    "    \n",
    "    # store results\n",
    "    results[model.name] = mapk_5_10_20\n",
    "    print(f\"Recommendations with the {model.name} model done!\")\n",
    "    \n",
    "evaluation_results_df = pd.DataFrame(results, index=['MAP@5', 'MAP@10', 'MAP@20']).transpose()"
   ]
  },
  {
   "cell_type": "code",
   "execution_count": 143,
   "metadata": {},
   "outputs": [
    {
     "data": {
      "text/html": [
       "<div>\n",
       "<style scoped>\n",
       "    .dataframe tbody tr th:only-of-type {\n",
       "        vertical-align: middle;\n",
       "    }\n",
       "\n",
       "    .dataframe tbody tr th {\n",
       "        vertical-align: top;\n",
       "    }\n",
       "\n",
       "    .dataframe thead th {\n",
       "        text-align: right;\n",
       "    }\n",
       "</style>\n",
       "<table border=\"1\" class=\"dataframe\">\n",
       "  <thead>\n",
       "    <tr style=\"text-align: right;\">\n",
       "      <th></th>\n",
       "      <th>MAP@5</th>\n",
       "      <th>MAP@10</th>\n",
       "      <th>MAP@20</th>\n",
       "    </tr>\n",
       "  </thead>\n",
       "  <tbody>\n",
       "    <tr>\n",
       "      <th>popularity</th>\n",
       "      <td>0.060266</td>\n",
       "      <td>0.074134</td>\n",
       "      <td>0.085532</td>\n",
       "    </tr>\n",
       "    <tr>\n",
       "      <th>KNN count</th>\n",
       "      <td>0.119841</td>\n",
       "      <td>0.143131</td>\n",
       "      <td>0.158821</td>\n",
       "    </tr>\n",
       "    <tr>\n",
       "      <th>KNN binary</th>\n",
       "      <td>0.129905</td>\n",
       "      <td>0.152196</td>\n",
       "      <td>0.168234</td>\n",
       "    </tr>\n",
       "    <tr>\n",
       "      <th>LSH model 256</th>\n",
       "      <td>0.044489</td>\n",
       "      <td>0.056453</td>\n",
       "      <td>0.067137</td>\n",
       "    </tr>\n",
       "    <tr>\n",
       "      <th>LSH model 512</th>\n",
       "      <td>0.039171</td>\n",
       "      <td>0.051894</td>\n",
       "      <td>0.062050</td>\n",
       "    </tr>\n",
       "    <tr>\n",
       "      <th>LSH model 1024</th>\n",
       "      <td>0.045889</td>\n",
       "      <td>0.059048</td>\n",
       "      <td>0.069150</td>\n",
       "    </tr>\n",
       "    <tr>\n",
       "      <th>KNN SVD 21</th>\n",
       "      <td>0.080650</td>\n",
       "      <td>0.097464</td>\n",
       "      <td>0.111622</td>\n",
       "    </tr>\n",
       "    <tr>\n",
       "      <th>ALS model</th>\n",
       "      <td>0.095047</td>\n",
       "      <td>0.111712</td>\n",
       "      <td>0.122204</td>\n",
       "    </tr>\n",
       "  </tbody>\n",
       "</table>\n",
       "</div>"
      ],
      "text/plain": [
       "                   MAP@5    MAP@10    MAP@20\n",
       "popularity      0.060266  0.074134  0.085532\n",
       "KNN count       0.119841  0.143131  0.158821\n",
       "KNN binary      0.129905  0.152196  0.168234\n",
       "LSH model 256   0.044489  0.056453  0.067137\n",
       "LSH model 512   0.039171  0.051894  0.062050\n",
       "LSH model 1024  0.045889  0.059048  0.069150\n",
       "KNN SVD 21      0.080650  0.097464  0.111622\n",
       "ALS model       0.095047  0.111712  0.122204"
      ]
     },
     "execution_count": 143,
     "metadata": {},
     "output_type": "execute_result"
    }
   ],
   "source": [
    "evaluation_results_df"
   ]
  },
  {
   "cell_type": "code",
   "execution_count": 145,
   "metadata": {},
   "outputs": [
    {
     "data": {
      "text/plain": [
       "<implicit.als.AlternatingLeastSquares at 0x7fa4571950b8>"
      ]
     },
     "execution_count": 145,
     "metadata": {},
     "output_type": "execute_result"
    }
   ],
   "source": [
    "als_model.model"
   ]
  },
  {
   "cell_type": "code",
   "execution_count": 147,
   "metadata": {},
   "outputs": [],
   "source": [
    "import pickle\n",
    "# save the model to disk\n",
    "filename = './als-model.sav'\n",
    "pickle.dump(als_model.model, open(filename, 'wb'))\n",
    " \n",
    "# some time later...\n",
    " \n",
    "# load the model from disk\n",
    "loaded_model = pickle.load(open(filename, 'rb'))\n",
    "# result = loaded_model.recommen(X_test, Y_test)\n",
    "\n",
    "race_id = als_model.items_info_df.loc['france70.3']['race_id']\n",
    "\n",
    "# Use implicit to get similar items.\n",
    "similar = loaded_model.similar_items(race_id, 10)\n",
    "similar"
   ]
  },
  {
   "cell_type": "code",
   "execution_count": 148,
   "metadata": {},
   "outputs": [
    {
     "data": {
      "text/plain": [
       "[(59, 0.3313097),\n",
       " (146, 0.3205595),\n",
       " (7, 0.3160128),\n",
       " (68, 0.2845827),\n",
       " (20, 0.2766896),\n",
       " (87, 0.2600407),\n",
       " (133, 0.25081438),\n",
       " (90, 0.24584988),\n",
       " (80, 0.24344717),\n",
       " (1, 0.23501675)]"
      ]
     },
     "execution_count": 148,
     "metadata": {},
     "output_type": "execute_result"
    }
   ],
   "source": [
    "race_id = als_model.items_info_df.loc['france70.3']['race_id']\n",
    "\n",
    "# Use implicit to get similar items.\n",
    "similar = loaded_model.similar_items(race_id, 10)\n",
    "similar"
   ]
  },
  {
   "cell_type": "markdown",
   "metadata": {},
   "source": [
    "### ALS number of factors"
   ]
  },
  {
   "cell_type": "code",
   "execution_count": 135,
   "metadata": {},
   "outputs": [
    {
     "name": "stderr",
     "output_type": "stream",
     "text": [
      "100%|██████████| 40.0/40 [00:18<00:00,  2.21it/s]\n",
      "100%|██████████| 40.0/40 [00:20<00:00,  1.94it/s]\n",
      "100%|██████████| 40.0/40 [00:28<00:00,  1.42it/s]\n",
      "100%|██████████| 40.0/40 [00:29<00:00,  1.36it/s]\n",
      "100%|██████████| 40.0/40 [00:39<00:00,  1.01it/s]\n",
      "100%|██████████| 40.0/40 [00:41<00:00,  1.03s/it]\n",
      "100%|██████████| 40.0/40 [00:41<00:00,  1.04s/it]\n",
      "100%|██████████| 40.0/40 [00:50<00:00,  1.15s/it]\n",
      "100%|██████████| 40.0/40 [00:55<00:00,  1.16s/it]\n",
      "100%|██████████| 40.0/40 [00:45<00:00,  1.14s/it]\n",
      "100%|██████████| 40.0/40 [00:46<00:00,  1.16s/it]\n",
      "100%|██████████| 40.0/40 [00:52<00:00,  1.32s/it]\n",
      "100%|██████████| 40.0/40 [01:02<00:00,  1.55s/it]\n",
      "100%|██████████| 40.0/40 [00:51<00:00,  1.30s/it]\n",
      "100%|██████████| 40.0/40 [00:53<00:00,  1.15s/it]\n",
      "100%|██████████| 40.0/40 [00:55<00:00,  1.15s/it]\n"
     ]
    },
    {
     "name": "stdout",
     "output_type": "stream",
     "text": [
      "Recommendations with the ALS model 5 model done!\n",
      "Recommendations with the ALS model 8 model done!\n",
      "Recommendations with the ALS model 11 model done!\n",
      "Recommendations with the ALS model 14 model done!\n",
      "Recommendations with the ALS model 17 model done!\n",
      "Recommendations with the ALS model 20 model done!\n",
      "Recommendations with the ALS model 23 model done!\n",
      "Recommendations with the ALS model 26 model done!\n",
      "Recommendations with the ALS model 29 model done!\n",
      "Recommendations with the ALS model 32 model done!\n",
      "Recommendations with the ALS model 35 model done!\n",
      "Recommendations with the ALS model 38 model done!\n",
      "Recommendations with the ALS model 41 model done!\n",
      "Recommendations with the ALS model 44 model done!\n",
      "Recommendations with the ALS model 47 model done!\n",
      "Recommendations with the ALS model 50 model done!\n"
     ]
    }
   ],
   "source": [
    "results = {}\n",
    "\n",
    "models_to_test = []\n",
    "\n",
    "for i in range(5, 51, 3):\n",
    "    # fit models on train set\n",
    "    als_model = ALSrecommender(full_set, train_set, items_info_df=df_races, name=f'ALS model {i}')\n",
    "    als_model.make_model(factors=i, regularization=0.1, iterations=40, alpha=15)\n",
    "    models_to_test.append(als_model)\n",
    "     \n",
    "for model in models_to_test:\n",
    "    # make recommendation\n",
    "    races_recommended = [model.recommend(race, 20).index.tolist() for race in evaluator.users_picked_race]\n",
    "    mapk_5_10_20 = [mapk(evaluator.users_interacted_items_in_test, races_recommended, k) for k in [5, 10, 20]]\n",
    "    \n",
    "    # store results\n",
    "    results[model.name] = mapk_5_10_20\n",
    "    print(f\"Recommendations with the {model.name} model done!\")\n",
    "    \n",
    "evaluation_results_df = pd.DataFrame(results, index=['MAP@5', 'MAP@10', 'MAP@20']).transpose()"
   ]
  },
  {
   "cell_type": "code",
   "execution_count": 136,
   "metadata": {},
   "outputs": [
    {
     "data": {
      "text/html": [
       "<div>\n",
       "<style scoped>\n",
       "    .dataframe tbody tr th:only-of-type {\n",
       "        vertical-align: middle;\n",
       "    }\n",
       "\n",
       "    .dataframe tbody tr th {\n",
       "        vertical-align: top;\n",
       "    }\n",
       "\n",
       "    .dataframe thead th {\n",
       "        text-align: right;\n",
       "    }\n",
       "</style>\n",
       "<table border=\"1\" class=\"dataframe\">\n",
       "  <thead>\n",
       "    <tr style=\"text-align: right;\">\n",
       "      <th></th>\n",
       "      <th>MAP@5</th>\n",
       "      <th>MAP@10</th>\n",
       "      <th>MAP@20</th>\n",
       "    </tr>\n",
       "  </thead>\n",
       "  <tbody>\n",
       "    <tr>\n",
       "      <th>ALS model 5</th>\n",
       "      <td>0.086874</td>\n",
       "      <td>0.104690</td>\n",
       "      <td>0.119181</td>\n",
       "    </tr>\n",
       "    <tr>\n",
       "      <th>ALS model 8</th>\n",
       "      <td>0.095591</td>\n",
       "      <td>0.113382</td>\n",
       "      <td>0.126563</td>\n",
       "    </tr>\n",
       "    <tr>\n",
       "      <th>ALS model 11</th>\n",
       "      <td>0.096892</td>\n",
       "      <td>0.110777</td>\n",
       "      <td>0.121828</td>\n",
       "    </tr>\n",
       "    <tr>\n",
       "      <th>ALS model 14</th>\n",
       "      <td>0.087826</td>\n",
       "      <td>0.102128</td>\n",
       "      <td>0.111982</td>\n",
       "    </tr>\n",
       "    <tr>\n",
       "      <th>ALS model 17</th>\n",
       "      <td>0.083371</td>\n",
       "      <td>0.096332</td>\n",
       "      <td>0.105589</td>\n",
       "    </tr>\n",
       "    <tr>\n",
       "      <th>ALS model 20</th>\n",
       "      <td>0.077628</td>\n",
       "      <td>0.091350</td>\n",
       "      <td>0.099722</td>\n",
       "    </tr>\n",
       "    <tr>\n",
       "      <th>ALS model 23</th>\n",
       "      <td>0.068394</td>\n",
       "      <td>0.079580</td>\n",
       "      <td>0.087660</td>\n",
       "    </tr>\n",
       "    <tr>\n",
       "      <th>ALS model 26</th>\n",
       "      <td>0.070105</td>\n",
       "      <td>0.081754</td>\n",
       "      <td>0.089555</td>\n",
       "    </tr>\n",
       "    <tr>\n",
       "      <th>ALS model 29</th>\n",
       "      <td>0.064385</td>\n",
       "      <td>0.074700</td>\n",
       "      <td>0.082867</td>\n",
       "    </tr>\n",
       "    <tr>\n",
       "      <th>ALS model 32</th>\n",
       "      <td>0.059330</td>\n",
       "      <td>0.068765</td>\n",
       "      <td>0.075889</td>\n",
       "    </tr>\n",
       "    <tr>\n",
       "      <th>ALS model 35</th>\n",
       "      <td>0.057202</td>\n",
       "      <td>0.065187</td>\n",
       "      <td>0.071055</td>\n",
       "    </tr>\n",
       "    <tr>\n",
       "      <th>ALS model 38</th>\n",
       "      <td>0.052633</td>\n",
       "      <td>0.059125</td>\n",
       "      <td>0.065534</td>\n",
       "    </tr>\n",
       "    <tr>\n",
       "      <th>ALS model 41</th>\n",
       "      <td>0.045727</td>\n",
       "      <td>0.052710</td>\n",
       "      <td>0.059124</td>\n",
       "    </tr>\n",
       "    <tr>\n",
       "      <th>ALS model 44</th>\n",
       "      <td>0.043730</td>\n",
       "      <td>0.050609</td>\n",
       "      <td>0.056222</td>\n",
       "    </tr>\n",
       "    <tr>\n",
       "      <th>ALS model 47</th>\n",
       "      <td>0.041725</td>\n",
       "      <td>0.047831</td>\n",
       "      <td>0.053158</td>\n",
       "    </tr>\n",
       "    <tr>\n",
       "      <th>ALS model 50</th>\n",
       "      <td>0.037711</td>\n",
       "      <td>0.043397</td>\n",
       "      <td>0.048123</td>\n",
       "    </tr>\n",
       "  </tbody>\n",
       "</table>\n",
       "</div>"
      ],
      "text/plain": [
       "                 MAP@5    MAP@10    MAP@20\n",
       "ALS model 5   0.086874  0.104690  0.119181\n",
       "ALS model 8   0.095591  0.113382  0.126563\n",
       "ALS model 11  0.096892  0.110777  0.121828\n",
       "ALS model 14  0.087826  0.102128  0.111982\n",
       "ALS model 17  0.083371  0.096332  0.105589\n",
       "ALS model 20  0.077628  0.091350  0.099722\n",
       "ALS model 23  0.068394  0.079580  0.087660\n",
       "ALS model 26  0.070105  0.081754  0.089555\n",
       "ALS model 29  0.064385  0.074700  0.082867\n",
       "ALS model 32  0.059330  0.068765  0.075889\n",
       "ALS model 35  0.057202  0.065187  0.071055\n",
       "ALS model 38  0.052633  0.059125  0.065534\n",
       "ALS model 41  0.045727  0.052710  0.059124\n",
       "ALS model 44  0.043730  0.050609  0.056222\n",
       "ALS model 47  0.041725  0.047831  0.053158\n",
       "ALS model 50  0.037711  0.043397  0.048123"
      ]
     },
     "execution_count": 136,
     "metadata": {},
     "output_type": "execute_result"
    }
   ],
   "source": [
    "evaluation_results_df"
   ]
  },
  {
   "cell_type": "code",
   "execution_count": 137,
   "metadata": {},
   "outputs": [
    {
     "data": {
      "text/plain": [
       "<matplotlib.axes._subplots.AxesSubplot at 0x7fa4571cebe0>"
      ]
     },
     "execution_count": 137,
     "metadata": {},
     "output_type": "execute_result"
    },
    {
     "data": {
      "image/png": "[encoded data removed]",
      "text/plain": [
       "<Figure size 432x288 with 1 Axes>"
      ]
     },
     "metadata": {
      "needs_background": "light"
     },
     "output_type": "display_data"
    }
   ],
   "source": [
    "evaluation_results_df.plot()"
   ]
  },
  {
   "cell_type": "markdown",
   "metadata": {},
   "source": [
    "### ALS confidence alpha"
   ]
  },
  {
   "cell_type": "code",
   "execution_count": 140,
   "metadata": {},
   "outputs": [
    {
     "name": "stderr",
     "output_type": "stream",
     "text": [
      "100%|██████████| 40.0/40 [00:28<00:00,  1.41it/s]\n",
      "100%|██████████| 40.0/40 [00:26<00:00,  1.48it/s]\n",
      "100%|██████████| 40.0/40 [00:27<00:00,  1.45it/s]\n",
      "100%|██████████| 40.0/40 [00:25<00:00,  1.56it/s]\n",
      "100%|██████████| 40.0/40 [00:25<00:00,  1.57it/s]\n",
      "100%|██████████| 40.0/40 [00:25<00:00,  1.58it/s]\n",
      "100%|██████████| 40.0/40 [00:25<00:00,  1.57it/s]\n",
      "100%|██████████| 40.0/40 [00:25<00:00,  1.58it/s]\n",
      "100%|██████████| 40.0/40 [00:26<00:00,  1.51it/s]\n",
      "100%|██████████| 40.0/40 [00:26<00:00,  1.51it/s]\n",
      "100%|██████████| 40.0/40 [00:26<00:00,  1.52it/s]\n",
      "100%|██████████| 40.0/40 [00:26<00:00,  1.52it/s]\n",
      "100%|██████████| 40.0/40 [00:27<00:00,  1.47it/s]\n",
      "100%|██████████| 40.0/40 [00:28<00:00,  1.41it/s]\n",
      "100%|██████████| 40.0/40 [00:27<00:00,  1.46it/s]\n",
      "100%|██████████| 40.0/40 [00:27<00:00,  1.48it/s]\n"
     ]
    },
    {
     "name": "stdout",
     "output_type": "stream",
     "text": [
      "Recommendations with the ALS alpha 15 model done!\n",
      "Recommendations with the ALS alpha 16 model done!\n",
      "Recommendations with the ALS alpha 17 model done!\n",
      "Recommendations with the ALS alpha 18 model done!\n",
      "Recommendations with the ALS alpha 19 model done!\n",
      "Recommendations with the ALS alpha 20 model done!\n",
      "Recommendations with the ALS alpha 21 model done!\n",
      "Recommendations with the ALS alpha 22 model done!\n",
      "Recommendations with the ALS alpha 23 model done!\n",
      "Recommendations with the ALS alpha 24 model done!\n",
      "Recommendations with the ALS alpha 25 model done!\n",
      "Recommendations with the ALS alpha 26 model done!\n",
      "Recommendations with the ALS alpha 27 model done!\n",
      "Recommendations with the ALS alpha 28 model done!\n",
      "Recommendations with the ALS alpha 29 model done!\n",
      "Recommendations with the ALS alpha 30 model done!\n"
     ]
    }
   ],
   "source": [
    "results = {}\n",
    "\n",
    "models_to_test = []\n",
    "\n",
    "for i in range(15, 31, 1):\n",
    "    # fit models on train set\n",
    "    als_model = ALSrecommender(full_set, train_set, items_info_df=df_races, name=f'ALS alpha {i}')\n",
    "    als_model.make_model(factors=10, regularization=0.1, iterations=40, alpha=i)\n",
    "    models_to_test.append(als_model)\n",
    "     \n",
    "for model in models_to_test:\n",
    "    # make recommendation\n",
    "    races_recommended = [model.recommend(race, 20).index.tolist() for race in evaluator.users_picked_race]\n",
    "    mapk_5_10_20 = [mapk(evaluator.users_interacted_items_in_test, races_recommended, k) for k in [5, 10, 20]]\n",
    "    \n",
    "    # store results\n",
    "    results[model.name] = mapk_5_10_20\n",
    "    print(f\"Recommendations with the {model.name} model done!\")\n",
    "    \n",
    "evaluation_results_df = pd.DataFrame(results, index=['MAP@5', 'MAP@10', 'MAP@20']).transpose()"
   ]
  },
  {
   "cell_type": "code",
   "execution_count": null,
   "metadata": {},
   "outputs": [],
   "source": []
  }
 ],
 "metadata": {
  "kernelspec": {
   "display_name": "Python (data-science)",
   "language": "python",
   "name": "data-science"
  },
  "language_info": {
   "codemirror_mode": {
    "name": "ipython",
    "version": 3
   },
   "file_extension": ".py",
   "mimetype": "text/x-python",
   "name": "python",
   "nbconvert_exporter": "python",
   "pygments_lexer": "ipython3",
   "version": "3.7.3"
  }
 },
 "nbformat": 4,
 "nbformat_minor": 2
}
