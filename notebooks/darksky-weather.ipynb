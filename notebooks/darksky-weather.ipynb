{
 "cells": [
  {
   "cell_type": "code",
   "execution_count": 106,
   "metadata": {},
   "outputs": [],
   "source": [
    "import pandas as pd\n",
    "import requests\n",
    "import datetime\n",
    "import json\n",
    "\n",
    "from config import Cfg as cfg"
   ]
  },
  {
   "cell_type": "code",
   "execution_count": 4,
   "metadata": {},
   "outputs": [
    {
     "data": {
      "text/html": [
       "<div>\n",
       "<style scoped>\n",
       "    .dataframe tbody tr th:only-of-type {\n",
       "        vertical-align: middle;\n",
       "    }\n",
       "\n",
       "    .dataframe tbody tr th {\n",
       "        vertical-align: top;\n",
       "    }\n",
       "\n",
       "    .dataframe thead th {\n",
       "        text-align: right;\n",
       "    }\n",
       "</style>\n",
       "<table border=\"1\" class=\"dataframe\">\n",
       "  <thead>\n",
       "    <tr style=\"text-align: right;\">\n",
       "      <th></th>\n",
       "      <th>race</th>\n",
       "      <th>lat</th>\n",
       "      <th>lon</th>\n",
       "    </tr>\n",
       "  </thead>\n",
       "  <tbody>\n",
       "    <tr>\n",
       "      <th>0</th>\n",
       "      <td>alagoas70.3</td>\n",
       "      <td>-9.661669</td>\n",
       "      <td>-35.701667</td>\n",
       "    </tr>\n",
       "    <tr>\n",
       "      <th>1</th>\n",
       "      <td>arizona</td>\n",
       "      <td>33.433518</td>\n",
       "      <td>-111.937962</td>\n",
       "    </tr>\n",
       "    <tr>\n",
       "      <th>2</th>\n",
       "      <td>Arizona70.3</td>\n",
       "      <td>33.432270</td>\n",
       "      <td>-111.932982</td>\n",
       "    </tr>\n",
       "    <tr>\n",
       "      <th>3</th>\n",
       "      <td>astana70.3</td>\n",
       "      <td>51.125358</td>\n",
       "      <td>71.453152</td>\n",
       "    </tr>\n",
       "    <tr>\n",
       "      <th>4</th>\n",
       "      <td>atlanticcity70.3</td>\n",
       "      <td>39.350119</td>\n",
       "      <td>-74.449387</td>\n",
       "    </tr>\n",
       "  </tbody>\n",
       "</table>\n",
       "</div>"
      ],
      "text/plain": [
       "               race        lat         lon\n",
       "0       alagoas70.3  -9.661669  -35.701667\n",
       "1           arizona  33.433518 -111.937962\n",
       "2       Arizona70.3  33.432270 -111.932982\n",
       "3        astana70.3  51.125358   71.453152\n",
       "4  atlanticcity70.3  39.350119  -74.449387"
      ]
     },
     "execution_count": 4,
     "metadata": {},
     "output_type": "execute_result"
    }
   ],
   "source": [
    "races_pos = pd.read_csv('./../data/geo-data/races_lat_lon.csv')\n",
    "races_pos.head()"
   ]
  },
  {
   "cell_type": "code",
   "execution_count": 113,
   "metadata": {},
   "outputs": [],
   "source": [
    "races_history = {}\n",
    "with open('./../data/races/races.jl', 'r') as f:\n",
    "    for line in f.readlines():\n",
    "        race_result = json.loads(line)\n",
    "        if races_pos.race.str.contains(f\"^{race_result['id']}$\").sum():\n",
    "            date_race = datetime.datetime.strptime(\n",
    "                f\"{race_result['month']} {race_result['day']} {race_result['year']}\", '%B %d %Y'\n",
    "            )\n",
    "            to_save = {\n",
    "                'id': race_result['id'],\n",
    "                'date': date_race.strftime(\"%Y-%m-%d\")\n",
    "            }\n",
    "                                    \n",
    "            exist = races_history.get(race_result['id'], False)\n",
    "            if exist:\n",
    "                races_history[race_result['id']]['editions'].append(to_save)\n",
    "            else:\n",
    "                races_history[race_result['id']] = {'editions': [to_save]}\n",
    "    "
   ]
  },
  {
   "cell_type": "code",
   "execution_count": 121,
   "metadata": {},
   "outputs": [],
   "source": [
    "# query the Darksky API to get historical data\n",
    "\n",
    "query = False\n",
    "\n",
    "if query:\n",
    "    for race in races_history:\n",
    "        race_data = races_history[race]\n",
    "        n_years = len(race_data['editions'])\n",
    "        race_data['n_editions'] = n_years\n",
    "        for i in range(n_years):\n",
    "            date = race_data['editions'][i]['date']\n",
    "            lat,lon = races_pos.loc[races_pos.race == race, ['lat', 'lon']].to_numpy()[0]\n",
    "            requestString = f\"https://api.darksky.net/forecast/{cfg.darksky_secret}/{lat},{lon},{date}T12:00:00?exclude=currently,flags\"\n",
    "            if race_data['editions'][i].get('weather', 0) == 0:\n",
    "                r = requests.get(requestString)\n",
    "                response = r.json()\n",
    "                race_data['editions'][i]['weather'] = response\n",
    "                done += 1\n",
    "            else:\n",
    "                done += 1\n",
    "else:\n",
    "    done = 969\n",
    "    "
   ]
  },
  {
   "cell_type": "code",
   "execution_count": 126,
   "metadata": {},
   "outputs": [
    {
     "data": {
      "text/plain": [
       "True"
      ]
     },
     "execution_count": 126,
     "metadata": {},
     "output_type": "execute_result"
    }
   ],
   "source": [
    "len(race)\n",
    "n = 0\n",
    "for result in races_history.values():\n",
    "    n += len(result['editions'])\n",
    "    \n",
    "n == done"
   ]
  },
  {
   "cell_type": "code",
   "execution_count": 123,
   "metadata": {},
   "outputs": [],
   "source": [
    "# races_history"
   ]
  },
  {
   "cell_type": "code",
   "execution_count": 124,
   "metadata": {},
   "outputs": [],
   "source": [
    "with open('./../data/geo-data/races_weather.json', 'w') as f:\n",
    "    f.write(json.dumps(races_history))"
   ]
  }
 ],
 "metadata": {
  "kernelspec": {
   "display_name": "Python (data-science)",
   "language": "python",
   "name": "data-science"
  },
  "language_info": {
   "codemirror_mode": {
    "name": "ipython",
    "version": 3
   },
   "file_extension": ".py",
   "mimetype": "text/x-python",
   "name": "python",
   "nbconvert_exporter": "python",
   "pygments_lexer": "ipython3",
   "version": "3.7.3"
  }
 },
 "nbformat": 4,
 "nbformat_minor": 2
}
