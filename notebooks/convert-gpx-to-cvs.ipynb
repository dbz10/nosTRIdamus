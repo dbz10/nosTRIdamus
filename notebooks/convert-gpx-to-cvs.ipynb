{
 "cells": [
  {
   "cell_type": "code",
   "execution_count": 1,
   "metadata": {
    "collapsed": false
   },
   "outputs": [
    {
     "name": "stderr",
     "output_type": "stream",
     "text": [
      "/Users/Gui/anaconda/lib/python3.5/site-packages/matplotlib/__init__.py:872: UserWarning: axes.color_cycle is deprecated and replaced with axes.prop_cycle; please use the latter.\n",
      "  warnings.warn(self.msg_depr % (key, alt_key))\n"
     ]
    }
   ],
   "source": [
    "import glob\n",
    "import numpy as np\n",
    "import pandas as pd\n",
    "import matplotlib.pyplot as plt\n",
    "import bs4\n",
    "import csv\n",
    "#import cv2"
   ]
  },
  {
   "cell_type": "code",
   "execution_count": 2,
   "metadata": {
    "collapsed": true
   },
   "outputs": [],
   "source": [
    "%matplotlib inline"
   ]
  },
  {
   "cell_type": "code",
   "execution_count": 3,
   "metadata": {
    "collapsed": false
   },
   "outputs": [],
   "source": [
    "path_in = 'to-convert/'\n",
    "gpx_list = glob.glob(path_in+'*.gpx')\n",
    "\n",
    "%mkdir -p 'to-convert-out/'\n",
    "path_out = 'to-convert-out/'"
   ]
  },
  {
   "cell_type": "code",
   "execution_count": 4,
   "metadata": {
    "collapsed": false
   },
   "outputs": [
    {
     "name": "stderr",
     "output_type": "stream",
     "text": [
      "/Users/Gui/anaconda/lib/python3.5/site-packages/bs4/__init__.py:166: UserWarning: No parser was explicitly specified, so I'm using the best available HTML parser for this system (\"lxml\"). This usually isn't a problem, but if you run this code on another system, or in a different virtual environment, it may use a different parser and behave differently.\n",
      "\n",
      "To get rid of this warning, change this:\n",
      "\n",
      " BeautifulSoup([your markup])\n",
      "\n",
      "to this:\n",
      "\n",
      " BeautifulSoup([your markup], \"lxml\")\n",
      "\n",
      "  markup_type=markup_type))\n"
     ]
    }
   ],
   "source": [
    "#convert gpx to csv\n",
    "for file in gpx_list:\n",
    "    gpx = open(file)\n",
    "    gpxsoup = bs4.BeautifulSoup(gpx)\n",
    "    gpx_data = pd.DataFrame([[point.get('lat'),point.get('lon')] for point in gpxsoup.findAll('trkpt')], columns=['lat', 'lon'])\n",
    "    gpx_data.to_csv(path_out+file.split('.')[0].split('/')[1]+'.csv', index=False, header=False)"
   ]
  },
  {
   "cell_type": "code",
   "execution_count": null,
   "metadata": {
    "collapsed": true
   },
   "outputs": [],
   "source": []
  },
  {
   "cell_type": "code",
   "execution_count": 1,
   "metadata": {
    "collapsed": true
   },
   "outputs": [],
   "source": [
    "%run draw-run-on-map.py\n"
   ]
  },
  {
   "cell_type": "code",
   "execution_count": 10,
   "metadata": {
    "collapsed": true
   },
   "outputs": [],
   "source": [
    "# define parameters\n",
    "zoom = 16\n",
    "#server = 'ArcGIS WorldImagery'\n",
    "server = 'ArcGIS WorldTopo'\n",
    "#server = 'osm outdoors'\n",
    "file_to_map = 'chimera-out/Chimera2015.csv' #run-cauterets.csv'\n",
    "#output_filename=file_to_map.split('.')[0]+\"_output-map_z\"+str(zoom)+\"_\"+server.split()[1]+\".jpg\"\n",
    "output_filename=\"barkley-t1.jpg\"\n",
    "\n",
    "trace = traceImportCSV(file_to_map)\n",
    "boundaries_trace = traceBoundaries(trace)\n"
   ]
  },
  {
   "cell_type": "code",
   "execution_count": 6,
   "metadata": {
    "collapsed": false
   },
   "outputs": [
    {
     "data": {
      "text/plain": [
       "{'east': -117.426708,\n",
       " 'north': 33.741493,\n",
       " 'south': 33.599918,\n",
       " 'west': -117.554358}"
      ]
     },
     "execution_count": 6,
     "metadata": {},
     "output_type": "execute_result"
    }
   ],
   "source": [
    "boundaries_trace"
   ]
  },
  {
   "cell_type": "code",
   "execution_count": 7,
   "metadata": {
    "collapsed": true
   },
   "outputs": [],
   "source": [
    "bounds = {'east': 84.250000,\n",
    "          'north': 36.110000,\n",
    "          'south': 36.050000,\n",
    "          'west': 84.330000}"
   ]
  },
  {
   "cell_type": "code",
   "execution_count": 8,
   "metadata": {
    "collapsed": true
   },
   "outputs": [],
   "source": [
    "tileRange = determineTileRange(bounds,zoom)"
   ]
  },
  {
   "cell_type": "code",
   "execution_count": 9,
   "metadata": {
    "collapsed": false
   },
   "outputs": [
    {
     "data": {
      "text/plain": [
       "{'xMax': 48105, 'xMin': 48119, 'yMax': 25723, 'yMin': 25710}"
      ]
     },
     "execution_count": 9,
     "metadata": {},
     "output_type": "execute_result"
    }
   ],
   "source": [
    "tileRange"
   ]
  },
  {
   "cell_type": "code",
   "execution_count": null,
   "metadata": {
    "collapsed": true
   },
   "outputs": [],
   "source": [
    "xTiles = tileRange[\"xMax\"]-tileRange[\"xMin\"]\n",
    "yTiles = tileRange[\"yMax\"]-tileRange[\"yMin\"]\n",
    "numTiles = xTiles*yTiles\n",
    "# download tiles if needed\n",
    "getTiles(tileRange,zoom, tileServer=server)\n",
    "# merge tiles into oneimage\n",
    "mergeTiles(tileRange,zoom,output_filename,tileServer=server)"
   ]
  },
  {
   "cell_type": "code",
   "execution_count": null,
   "metadata": {
    "collapsed": true
   },
   "outputs": [],
   "source": []
  }
 ],
 "metadata": {
  "kernelspec": {
   "display_name": "Python 3",
   "language": "python",
   "name": "python3"
  },
  "language_info": {
   "codemirror_mode": {
    "name": "ipython",
    "version": 3
   },
   "file_extension": ".py",
   "mimetype": "text/x-python",
   "name": "python",
   "nbconvert_exporter": "python",
   "pygments_lexer": "ipython3",
   "version": "3.5.1"
  }
 },
 "nbformat": 4,
 "nbformat_minor": 0
}
