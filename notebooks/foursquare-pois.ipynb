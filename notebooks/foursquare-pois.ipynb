{
 "cells": [
  {
   "cell_type": "code",
   "execution_count": 1,
   "metadata": {},
   "outputs": [],
   "source": [
    "import json\n",
    "import requests\n",
    "import numpy as np\n",
    "import pandas as pd\n",
    "from config import Cfg as cfg"
   ]
  },
  {
   "cell_type": "code",
   "execution_count": 2,
   "metadata": {},
   "outputs": [
    {
     "data": {
      "text/html": [
       "<div>\n",
       "<style scoped>\n",
       "    .dataframe tbody tr th:only-of-type {\n",
       "        vertical-align: middle;\n",
       "    }\n",
       "\n",
       "    .dataframe tbody tr th {\n",
       "        vertical-align: top;\n",
       "    }\n",
       "\n",
       "    .dataframe thead th {\n",
       "        text-align: right;\n",
       "    }\n",
       "</style>\n",
       "<table border=\"1\" class=\"dataframe\">\n",
       "  <thead>\n",
       "    <tr style=\"text-align: right;\">\n",
       "      <th></th>\n",
       "      <th>race</th>\n",
       "      <th>lat</th>\n",
       "      <th>lon</th>\n",
       "    </tr>\n",
       "  </thead>\n",
       "  <tbody>\n",
       "    <tr>\n",
       "      <th>0</th>\n",
       "      <td>alagoas70.3</td>\n",
       "      <td>-9.661669</td>\n",
       "      <td>-35.701667</td>\n",
       "    </tr>\n",
       "    <tr>\n",
       "      <th>1</th>\n",
       "      <td>arizona</td>\n",
       "      <td>33.433518</td>\n",
       "      <td>-111.937962</td>\n",
       "    </tr>\n",
       "    <tr>\n",
       "      <th>2</th>\n",
       "      <td>Arizona70.3</td>\n",
       "      <td>33.432270</td>\n",
       "      <td>-111.932982</td>\n",
       "    </tr>\n",
       "    <tr>\n",
       "      <th>3</th>\n",
       "      <td>astana70.3</td>\n",
       "      <td>51.125358</td>\n",
       "      <td>71.453152</td>\n",
       "    </tr>\n",
       "    <tr>\n",
       "      <th>4</th>\n",
       "      <td>atlanticcity70.3</td>\n",
       "      <td>39.350119</td>\n",
       "      <td>-74.449387</td>\n",
       "    </tr>\n",
       "  </tbody>\n",
       "</table>\n",
       "</div>"
      ],
      "text/plain": [
       "               race        lat         lon\n",
       "0       alagoas70.3  -9.661669  -35.701667\n",
       "1           arizona  33.433518 -111.937962\n",
       "2       Arizona70.3  33.432270 -111.932982\n",
       "3        astana70.3  51.125358   71.453152\n",
       "4  atlanticcity70.3  39.350119  -74.449387"
      ]
     },
     "execution_count": 2,
     "metadata": {},
     "output_type": "execute_result"
    }
   ],
   "source": [
    "df_races = pd.read_csv('./../data/geo-data/races_lat_lon.csv')\n",
    "df_races.head()"
   ]
  },
  {
   "cell_type": "markdown",
   "metadata": {},
   "source": [
    "# Recommended venues\n",
    "(https://developer.foursquare.com/docs/api/venues/explore)\n",
    "\n",
    "#### Description\n",
    "Returns a list of recommended venues near the current location. "
   ]
  },
  {
   "cell_type": "code",
   "execution_count": 4,
   "metadata": {},
   "outputs": [],
   "source": [
    "categories = {\n",
    "#     'nightlife':     '4d4b7105d754a06376d81259',\n",
    "#     'food':          '4d4b7105d754a06374d81259',\n",
    "#     'entertainment': '4d4b7104d754a06370d81259',\n",
    "#     'hotels': '4bf58dd8d48988d1fa931735',\n",
    "#     'shops_services': '4d4b7105d754a06378d81259',\n",
    "    'shops_bike': '4bf58dd8d48988d115951735',\n",
    "    'pool': '4bf58dd8d48988d15e941735',\n",
    "    'athletic_centers': '4f4528bc4b90abdf24c9de85',\n",
    "    'fitness_centers': '4bf58dd8d48988d175941735'\n",
    "}"
   ]
  },
  {
   "cell_type": "code",
   "execution_count": 10,
   "metadata": {},
   "outputs": [
    {
     "ename": "KeyError",
     "evalue": "'totalResults'",
     "output_type": "error",
     "traceback": [
      "\u001b[0;31m---------------------------------------------------------------------------\u001b[0m",
      "\u001b[0;31mKeyError\u001b[0m                                  Traceback (most recent call last)",
      "\u001b[0;32m<ipython-input-10-c804176fafcd>\u001b[0m in \u001b[0;36m<module>\u001b[0;34m\u001b[0m\n\u001b[1;32m     22\u001b[0m         \u001b[0mr\u001b[0m \u001b[0;34m=\u001b[0m \u001b[0mrequests\u001b[0m\u001b[0;34m.\u001b[0m\u001b[0mget\u001b[0m\u001b[0;34m(\u001b[0m\u001b[0mrequestString\u001b[0m\u001b[0;34m)\u001b[0m\u001b[0;34m\u001b[0m\u001b[0;34m\u001b[0m\u001b[0m\n\u001b[1;32m     23\u001b[0m         \u001b[0mresponse\u001b[0m \u001b[0;34m=\u001b[0m \u001b[0mr\u001b[0m\u001b[0;34m.\u001b[0m\u001b[0mjson\u001b[0m\u001b[0;34m(\u001b[0m\u001b[0;34m)\u001b[0m\u001b[0;34m[\u001b[0m\u001b[0;34m'response'\u001b[0m\u001b[0;34m]\u001b[0m\u001b[0;34m\u001b[0m\u001b[0;34m\u001b[0m\u001b[0m\n\u001b[0;32m---> 24\u001b[0;31m         \u001b[0mn_results\u001b[0m \u001b[0;34m=\u001b[0m \u001b[0mresponse\u001b[0m\u001b[0;34m[\u001b[0m\u001b[0;34m'totalResults'\u001b[0m\u001b[0;34m]\u001b[0m\u001b[0;34m\u001b[0m\u001b[0;34m\u001b[0m\u001b[0m\n\u001b[0m\u001b[1;32m     25\u001b[0m         \u001b[0mbounds\u001b[0m \u001b[0;34m=\u001b[0m \u001b[0mresponse\u001b[0m\u001b[0;34m[\u001b[0m\u001b[0;34m'suggestedBounds'\u001b[0m\u001b[0;34m]\u001b[0m\u001b[0;34m\u001b[0m\u001b[0;34m\u001b[0m\u001b[0m\n\u001b[1;32m     26\u001b[0m         \u001b[0mtypePOI\u001b[0m \u001b[0;34m=\u001b[0m \u001b[0mresponse\u001b[0m\u001b[0;34m[\u001b[0m\u001b[0;34m'query'\u001b[0m\u001b[0;34m]\u001b[0m\u001b[0;34m\u001b[0m\u001b[0;34m\u001b[0m\u001b[0m\n",
      "\u001b[0;31mKeyError\u001b[0m: 'totalResults'"
     ]
    }
   ],
   "source": [
    "radius = 50000 # in meters\n",
    "\n",
    "# initialize dict\n",
    "races_poi = {}\n",
    "\n",
    "for category in categories:\n",
    "    categoryId = categories[category]\n",
    "    \n",
    "    temp_category = {}\n",
    "    \n",
    "    for race in df_races.race:\n",
    "        # need 5 decimal places\n",
    "        lat = df_races.loc[df_races.race == race, 'lat'].values[0]\n",
    "        lng = df_races.loc[df_races.race == race, 'lon'].values[0]\n",
    "        races_poi[race] = {'lat': lat, 'lng': lng}\n",
    "        temp_category[race] = {'lat': lat, 'lng': lng}\n",
    "        \n",
    "        \n",
    "        # foursquare api\n",
    "        # construct request by categories. 50km radius\n",
    "        requestString = f\"https://api.foursquare.com/v2/venues/explore?ll={lat},{lng}&radius={radius}&limit=50&categoryId={categoryId}&client_id={cfg.foursquare_client}&client_secret={cfg.foursquare_client_secret}&v=20190303\"\n",
    "        r = requests.get(requestString)\n",
    "        response = r.json()['response']\n",
    "        n_results = response['totalResults']\n",
    "        bounds = response['suggestedBounds']\n",
    "        typePOI = response['query']\n",
    "        items = response['groups'][0]['items']\n",
    "        \n",
    "        races_poi[race][category] = {}\n",
    "        \n",
    "        for store_dict in [races_poi[race][category], temp_category[race]]:\n",
    "            store_dict['poi_n_results'] = n_results\n",
    "            store_dict['poi_bounds'] = bounds\n",
    "            store_dict['poi_type'] = typePOI\n",
    "            store_dict['items'] = items\n",
    "            \n",
    "    # save data\n",
    "    with open(f'./../data/geo-data/races-poi-{category}-{int(radius/1000)}km.json', 'w') as f:\n",
    "        f.write(json.dumps(temp_category))\n",
    "\n",
    "\n",
    "\n"
   ]
  },
  {
   "cell_type": "code",
   "execution_count": null,
   "metadata": {},
   "outputs": [],
   "source": [
    "r.json()"
   ]
  },
  {
   "cell_type": "code",
   "execution_count": 24,
   "metadata": {},
   "outputs": [
    {
     "data": {
      "text/plain": [
       "151"
      ]
     },
     "execution_count": 24,
     "metadata": {},
     "output_type": "execute_result"
    }
   ],
   "source": [
    "len(temp_category)"
   ]
  },
  {
   "cell_type": "code",
   "execution_count": 5,
   "metadata": {},
   "outputs": [
    {
     "data": {
      "text/plain": [
       "{'meta': {'code': 500,\n",
       "  'errorType': 'server_error',\n",
       "  'errorDetail': 'Foursquare servers are experiencing problems. Please retry and check status.foursquare.com for updates.'},\n",
       " 'response': {}}"
      ]
     },
     "execution_count": 5,
     "metadata": {},
     "output_type": "execute_result"
    }
   ],
   "source": [
    "r.json()"
   ]
  },
  {
   "cell_type": "code",
   "execution_count": null,
   "metadata": {},
   "outputs": [],
   "source": []
  },
  {
   "cell_type": "code",
   "execution_count": 3,
   "metadata": {},
   "outputs": [],
   "source": [
    "# initialize dict\n",
    "races_pois_entertainment = {}\n",
    "\n",
    "for race in races_locations:\n",
    "    info = races_locations[race][0] # take first result\n",
    "    lat = info['geometry']['lat']\n",
    "    lng = info['geometry']['lng']\n",
    "    races_pois_entertainment[race] = {'lat': lat, 'lng': lng}\n"
   ]
  },
  {
   "cell_type": "code",
   "execution_count": 24,
   "metadata": {},
   "outputs": [],
   "source": [
    "# for race in races_pois_entertainment:\n",
    "#     lat = races_pois_entertainment[race]['lat']\n",
    "#     lng = races_pois_entertainment[race]['lng']\n",
    "    \n",
    "#     # foursquare api\n",
    "#     # entairtainment category. 10km radius\n",
    "#     requestString = f\"https://api.foursquare.com/v2/venues/explore?ll={lat},{lng}&radius=100000&limit=50&categoryId=4d4b7104d754a06370d81259&client_id={cfg.foursquare_client}&client_secret={cfg.foursquare_client_secret}&v=20190303\"\n",
    "#     r = requests.get(requestString)\n",
    "\n",
    "#     response = r.json()['response']\n",
    "#     n_results = response['totalResults']\n",
    "#     bounds = response['suggestedBounds']\n",
    "#     typePOI = response['query']\n",
    "#     items = response['groups'][0]['items']\n",
    "\n",
    "#     races_pois_entertainment[race]['poi_n_results'] = n_results\n",
    "#     races_pois_entertainment[race]['poi_bounds'] = bounds\n",
    "#     races_pois_entertainment[race]['poi_type'] = typePOI\n",
    "#     races_pois_entertainment[race]['items'] = items\n"
   ]
  },
  {
   "cell_type": "code",
   "execution_count": 47,
   "metadata": {},
   "outputs": [],
   "source": [
    "# save geo data\n",
    "with open('./../data/geo-data/races-pois-entertainment-data.json', 'w') as f:\n",
    "    f.write(json.dumps(races_pois_entertainment))"
   ]
  },
  {
   "cell_type": "code",
   "execution_count": 27,
   "metadata": {},
   "outputs": [],
   "source": [
    "numbers_entairtainment = []\n",
    "for race in races_pois_entertainment:\n",
    "    numbers_entairtainment.append(races_pois_entertainment[race]['poi_n_results'])"
   ]
  },
  {
   "cell_type": "code",
   "execution_count": 30,
   "metadata": {},
   "outputs": [
    {
     "name": "stdout",
     "output_type": "stream",
     "text": [
      "Monterrey, Mexico\n",
      "Putrajaya, Malaysia\n",
      "Haines City, Florida\n",
      "Staffordshire, England\n",
      "Racine, Wisconsin\n",
      "Calella, Spain\n",
      "Buenos Aires, Argentina\n",
      "Miami, Florida\n",
      "Incheon, Korea\n",
      "Singapore\n",
      "Copenhagen, Denmark\n",
      "Windsor, California\n",
      "Hamburg, Germany\n",
      "Zurich, Switzerland\n",
      "Henderson, Nevada\n",
      "Budapest, Hungary\n",
      "Santa Rosa, California\n",
      "Lawrence, Kansas\n",
      "Frankfurt, Germany\n",
      "Williamsburg, Virginia\n",
      "Tempe, Arizona \n",
      "Subic Bay, Philippines\n",
      "Princeton, New Jersey, USA\n",
      "Centrair Tokoname, Japan\n",
      "Bolton, England\n",
      "Austin, Texas\n",
      "Lahti, Finland\n",
      "Boulder, Colorado\n",
      "Tempe, AZ\n",
      "Geelong, Victoria\n",
      "Cascais, Portugal\n",
      "Lake Stevens, Washington\n",
      "Edinburgh, Scotland\n",
      "Providence, Rhode Island\n",
      "New York City, NY\n",
      "Imperial Beach, California\n",
      "Bintan, Indonesia\n",
      "Santa Cruz, California\n",
      "Galveston, Texas\n",
      "Limburg, The Netherlands\n",
      "Cambridge, Maryland\n",
      "Belek, Turkey\n",
      "Raleigh, North Carolina\n",
      "The Woodlands, Texas\n",
      "Elsinore, Denmark\n",
      "Oceanside, California\n"
     ]
    }
   ],
   "source": [
    "for race in races_pois_entertainment:\n",
    "    if races_pois_entertainment[race]['poi_n_results'] > 200:\n",
    "        print(race)"
   ]
  },
  {
   "cell_type": "code",
   "execution_count": null,
   "metadata": {},
   "outputs": [],
   "source": []
  },
  {
   "cell_type": "code",
   "execution_count": null,
   "metadata": {},
   "outputs": [],
   "source": []
  },
  {
   "cell_type": "markdown",
   "metadata": {},
   "source": [
    "# Recommended food places"
   ]
  },
  {
   "cell_type": "code",
   "execution_count": 48,
   "metadata": {},
   "outputs": [],
   "source": [
    "# initialize dict\n",
    "races_pois_food = {}\n",
    "\n",
    "for race in races_locations:\n",
    "    info = races_locations[race][0] # take first result\n",
    "    lat = info['geometry']['lat']\n",
    "    lng = info['geometry']['lng']\n",
    "    races_pois_food[race] = {'lat': lat, 'lng': lng}\n",
    "\n"
   ]
  },
  {
   "cell_type": "code",
   "execution_count": 50,
   "metadata": {},
   "outputs": [],
   "source": [
    "for race in races_pois_food:\n",
    "    lat = races_pois_food[race]['lat']\n",
    "    lng = races_pois_food[race]['lng']\n",
    "    \n",
    "    # foursquare api\n",
    "    # entairtainment category. 10km radius\n",
    "    requestString = f\"https://api.foursquare.com/v2/venues/explore?ll={lat},{lng}&radius=100000&limit=50&categoryId=4d4b7105d754a06374d81259&client_id={cfg.foursquare_client}&client_secret={cfg.foursquare_client_secret}&v=20190303\"\n",
    "    r = requests.get(requestString)\n",
    "\n",
    "    response = r.json()['response']\n",
    "    n_results = response['totalResults']\n",
    "    bounds = response['suggestedBounds']\n",
    "    typePOI = response['query']\n",
    "    items = response['groups'][0]['items']\n",
    "\n",
    "    races_pois_food[race]['poi_n_results'] = n_results\n",
    "    races_pois_food[race]['poi_bounds'] = bounds\n",
    "    races_pois_food[race]['poi_type'] = typePOI\n",
    "    races_pois_food[race]['items'] = items"
   ]
  },
  {
   "cell_type": "code",
   "execution_count": 51,
   "metadata": {},
   "outputs": [],
   "source": [
    "# save geo data\n",
    "with open('./../data/geo-data/races-pois-food-data.json', 'w') as f:\n",
    "    f.write(json.dumps(races_pois_food))"
   ]
  },
  {
   "cell_type": "code",
   "execution_count": 52,
   "metadata": {},
   "outputs": [],
   "source": [
    "numbers_food = []\n",
    "for race in races_pois_food:\n",
    "    numbers_food.append(races_pois_food[race]['poi_n_results'])"
   ]
  },
  {
   "cell_type": "markdown",
   "metadata": {},
   "source": [
    "## Results"
   ]
  },
  {
   "cell_type": "code",
   "execution_count": 53,
   "metadata": {},
   "outputs": [],
   "source": [
    "import matplotlib.pyplot as plt"
   ]
  },
  {
   "cell_type": "code",
   "execution_count": 55,
   "metadata": {},
   "outputs": [
    {
     "data": {
      "image/png": "[encoded data removed]",
      "text/plain": [
       "<Figure size 432x288 with 1 Axes>"
      ]
     },
     "metadata": {
      "needs_background": "light"
     },
     "output_type": "display_data"
    }
   ],
   "source": [
    "plt.hist(numbers_entertainment);"
   ]
  },
  {
   "cell_type": "code",
   "execution_count": 56,
   "metadata": {},
   "outputs": [
    {
     "data": {
      "image/png": "[encoded data removed]",
      "text/plain": [
       "<Figure size 432x288 with 1 Axes>"
      ]
     },
     "metadata": {
      "needs_background": "light"
     },
     "output_type": "display_data"
    }
   ],
   "source": [
    "plt.hist(numbers_food);"
   ]
  },
  {
   "cell_type": "code",
   "execution_count": null,
   "metadata": {},
   "outputs": [],
   "source": []
  },
  {
   "cell_type": "code",
   "execution_count": null,
   "metadata": {},
   "outputs": [],
   "source": []
  }
 ],
 "metadata": {
  "kernelspec": {
   "display_name": "Python (data-science)",
   "language": "python",
   "name": "data-science"
  },
  "language_info": {
   "codemirror_mode": {
    "name": "ipython",
    "version": 3
   },
   "file_extension": ".py",
   "mimetype": "text/x-python",
   "name": "python",
   "nbconvert_exporter": "python",
   "pygments_lexer": "ipython3",
   "version": "3.7.3"
  }
 },
 "nbformat": 4,
 "nbformat_minor": 2
}
