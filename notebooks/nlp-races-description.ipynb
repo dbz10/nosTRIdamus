{
 "cells": [
  {
   "cell_type": "code",
   "execution_count": 63,
   "metadata": {},
   "outputs": [],
   "source": [
    "import spacy\n",
    "import json"
   ]
  },
  {
   "cell_type": "code",
   "execution_count": 64,
   "metadata": {},
   "outputs": [
    {
     "data": {
      "text/plain": [
       "'2.1.4'"
      ]
     },
     "execution_count": 64,
     "metadata": {},
     "output_type": "execute_result"
    }
   ],
   "source": [
    "spacy.__version__"
   ]
  },
  {
   "cell_type": "code",
   "execution_count": 65,
   "metadata": {},
   "outputs": [],
   "source": [
    "nlp = spacy.load(\"en_core_web_md\")"
   ]
  },
  {
   "cell_type": "code",
   "execution_count": 100,
   "metadata": {},
   "outputs": [],
   "source": [
    "customize_stop_words = [\n",
    "    \"Race\", \"Races\", \"race\",\n",
    "    \"info\", \"about\", \n",
    "    \"finish\", \"line\", \"swim\", \"bike\", \"run\", 'athlete', 'ironman'\n",
    "]\n",
    "for w in customize_stop_words:\n",
    "    nlp.vocab[w].is_stop = True"
   ]
  },
  {
   "cell_type": "code",
   "execution_count": 119,
   "metadata": {},
   "outputs": [],
   "source": [
    "import string\n",
    "\n",
    "# Create our list of punctuation marks\n",
    "punctuations = string.punctuation\n",
    "\n",
    "\n",
    "def extended_is_stop(token):\n",
    "    stop_words = nlp.Defaults.stop_words\n",
    "    return token.is_stop or token.lower_ in stop_words or token.lemma_ in stop_words\n",
    "\n",
    "def filterTokenByStop(doc):\n",
    "    return [token for token in doc if not extended_is_stop(token)]\n",
    "\n",
    "# Creating our tokenizer function\n",
    "def spacy_tokenizer(tokens):\n",
    "    # creating the filter list for tokens that are identified as person\n",
    "#     toRemove = [ent for ent in tokens.ents if ent.label_.lower() in [\"person\"]]\n",
    "\n",
    "    # Removing stop words\n",
    "    mytokens = [ \n",
    "        word for word in tokens\n",
    "            if not extended_is_stop(word) \n",
    "            and word.lower_ not in punctuations \n",
    "    ]\n",
    "    \n",
    "    # Removing stop words\n",
    "    mytokens = [ word for word in tokens if not extended_is_stop(word) and word.lower_ not in punctuations ]\n",
    "\n",
    "    # Lemmatizing each token and converting each token into lowercase\n",
    "    mytokens = [ word.lemma_.lower().strip() if word.lemma_ != \"-PRON-\" else word.lower_ for word in mytokens ]\n",
    "\n",
    "    # return preprocessed list of tokens\n",
    "    return mytokens"
   ]
  },
  {
   "cell_type": "code",
   "execution_count": 68,
   "metadata": {},
   "outputs": [],
   "source": [
    "# # add stop words\n",
    "# nlp.Defaults.stop_words |= {\"race\",\"info\"}\n"
   ]
  },
  {
   "cell_type": "code",
   "execution_count": 70,
   "metadata": {},
   "outputs": [],
   "source": [
    "descriptions = {}\n",
    "\n",
    "with open(\"./../data/races/races-description.jl\") as f:\n",
    "    for line in f.readlines():\n",
    "        data = json.loads(line.strip())\n",
    "        if (data.get('id', \"TBD\") != \"TBD\"):\n",
    "            descriptions[data['id']] = data\n",
    "        else:\n",
    "            descriptions[f\"TBD_{data['name']}\"] = data"
   ]
  },
  {
   "cell_type": "code",
   "execution_count": 71,
   "metadata": {},
   "outputs": [
    {
     "data": {
      "text/plain": [
       "223"
      ]
     },
     "execution_count": 71,
     "metadata": {},
     "output_type": "execute_result"
    }
   ],
   "source": [
    "len(descriptions)"
   ]
  },
  {
   "cell_type": "code",
   "execution_count": 72,
   "metadata": {},
   "outputs": [],
   "source": [
    "for key in list(descriptions.keys())[1:2]:\n",
    "    desc = descriptions[key]['description']\n",
    "    doc = nlp(desc)"
   ]
  },
  {
   "cell_type": "code",
   "execution_count": 174,
   "metadata": {},
   "outputs": [],
   "source": [
    "# print(f\"--- {key} ---\")\n",
    "# for token in doc:\n",
    "#     print(token.text, token.lemma_, token.pos_, token.tag_, token.dep_,\n",
    "#             token.shape_, token.is_alpha, token.is_stop)\n",
    "\n",
    "# for ent in doc.ents:\n",
    "#     print(ent.text, ent.start_char, ent.end_char, ent.label_)"
   ]
  },
  {
   "cell_type": "code",
   "execution_count": 102,
   "metadata": {},
   "outputs": [],
   "source": [
    "race1,race2,race3 = list(descriptions.keys())[1:4]\n",
    "desc1 = descriptions[race1]['description']\n",
    "desc2 = descriptions[race2]['description']\n",
    "desc3 = descriptions['santarosa']['description']\n",
    "doc1 = nlp(desc1)\n",
    "doc2 = nlp(desc2)\n",
    "doc3 = nlp(desc3)"
   ]
  },
  {
   "cell_type": "code",
   "execution_count": 172,
   "metadata": {},
   "outputs": [
    {
     "data": {
      "text/plain": [
       "'Races Mallorca The balearic island of Mallorca, host of the IRONMAN 70.3 Mallorca, is well known as a training paradise for triathletes from all over the world. The course takes athletes on a tour through many villages that offer incredible views and diversity. The event location, Alcúdia, is one of the most celebrated towns of Mallorca, with more than 30 km of the coastline made up of gorgeous, fine sand beaches, steep cliffs and secluded coves of great beauty. The area is equipped with the most modern infrastructures and a tranquil surrounding, making it ideal for relaxation. The unique destination has activities for all tastes that include water sports, trails and mountains for hiking, biking and golf. The country offers many nature areas, which attract tourists from all over the world. The small peninsula offers uncommonly rich landscapes, marked by the intense blue of the Mediterranean Sea. The temperate, pleasant climate makes it possible to partake in countless outdoor sports and leisure activities. 2020 IRONMAN 70.3 Mallorca offers 40 qualifying slots for the 2020 IRONMAN 70.3 World Championship in Taupõ, New Zealand.'"
      ]
     },
     "execution_count": 172,
     "metadata": {},
     "output_type": "execute_result"
    }
   ],
   "source": [
    "descriptions['mallorca70.3']['description']"
   ]
  },
  {
   "cell_type": "code",
   "execution_count": 173,
   "metadata": {},
   "outputs": [
    {
     "name": "stdout",
     "output_type": "stream",
     "text": [
      "mallorca70.3 ['activity', 'nature', 'slot', 'relaxation']\n",
      "france70.3 ['award', 'slot']\n",
      "australia ['slot', 'community']\n",
      "portmacquarie70.3 ['family', 'nature', 'fast', 'slot', 'community']\n",
      "vietnam70.3 ['award', 'fast', 'visit']\n",
      "busselton70.3 ['award', 'activity', 'nature', 'fast', 'slot', 'visit']\n",
      "marbella70.3 ['family', 'activity', 'slot']\n",
      "texas ['slot']\n",
      "liuzhou70.3 ['slot', 'friendly']\n",
      "virginia70.3 ['slot']\n",
      "CostaNavarino70.3 ['slot']\n",
      "monterrey70.3 ['family', 'fast', 'slot', 'visit']\n",
      "taiwan70.3 ['award', 'slot', 'visit']\n",
      "southafrica ['award', 'fast', 'slot', 'visit']\n",
      "newzealand ['award', 'slot', 'community']\n",
      "davao70.3 ['nature', 'fast', 'slot', 'friendly', 'community']\n",
      "peru70.3 ['fast', 'slot', 'tourism']\n",
      "Florianopolis70.3 ['activity', 'fast', 'slot']\n",
      "sanjuan70.3 ['slot', 'visit']\n",
      "oman70.3 ['slot', 'tourism']\n",
      "campeche70.3 ['fast', 'slot', 'friendly']\n",
      "newzealand70.3 ['family', 'activity', 'nature', 'fast', 'slot', 'community', 'tourism']\n",
      "pucon70.3 ['slot']\n",
      "dubai70.3 ['award', 'fast', 'slot', 'friendly']\n",
      "geelong70.3 ['fast', 'slot', 'community']\n",
      "bahrain70.3 ['family', 'award', 'slot', 'friendly']\n",
      "gulfcoast70.3 ['family', 'visit']\n",
      "lonestar70.3 ['family', 'fast']\n",
      "santarosa ['family', 'community', 'visit']\n",
      "cartagena70.3 ['fast', 'slot', 'tourism']\n",
      "westernaustralia ['slot', 'community']\n",
      "indianwellslaquinta70.3 ['slot']\n",
      "california70.3 ['community']\n",
      "taupo70.3 ['award', 'kid', 'activity', 'nature', 'fast', 'slot']\n",
      "uruguay70.3 ['family', 'nature', 'slot', 'friendly', 'visit']\n",
      "bariloche70.3 ['nature', 'slot', 'tourism', 'visit']\n",
      "sydney70.3 ['award', 'nature', 'fast', 'slot', 'relax', 'visit']\n",
      "mardelplata ['slot']\n",
      "westernaustralia70.3 ['fast', 'slot']\n",
      "southafrica70.3 ['award', 'slot']\n",
      "fortaleza70.3 ['family', 'activity', 'slot', 'relax', 'visit']\n",
      "malaysia ['nature', 'slot']\n",
      "florida ['slot']\n",
      "cozumel ['slot', 'relaxation', 'visit']\n",
      "loscabos70.3 ['fast', 'slot']\n",
      "xiamen70.3 ['slot']\n",
      "buenosaires70.3 ['slot']\n",
      "coquimbo70.3 ['slot']\n",
      "turkey70.3 ['family', 'award', 'slot']\n",
      "langkawi70.3 ['nature', 'slot']\n",
      "neworleans70.3 ['discontinue']\n",
      "waco70.3 ['family', 'fast', 'slot', 'beginner', 'friendly', 'visit']\n",
      "cascais70.3 ['family', 'award', 'fast', 'slot']\n",
      "barcelona ['family', 'award', 'activity', 'fast', 'slot', 'visit']\n",
      "lanzarote70.3 ['slot']\n",
      "taiwan ['slot', 'friendly']\n",
      "atlanticcity70.3 ['family', 'fast', 'slot', 'community']\n",
      "emiliaromagna ['award', 'nature', 'slot']\n",
      "shanghai70.3 ['slot']\n",
      "riodejaneiro70.3 ['slot', 'visit']\n",
      "slovenianistria70.3 ['activity', 'nature', 'slot', 'visit']\n",
      "ruegen70.3 ['discontinue']\n",
      "Nice70.3 ['fast']\n",
      "arizona ['fast', 'slot', 'friendly', 'community']\n",
      "wales ['award', 'slot']\n",
      "weymouth70.3 ['award', 'slot', 'friendly']\n",
      "chattanooga ['fast', 'slot', 'community']\n",
      "Arizona70.3 ['family']\n",
      "louisville ['slot']\n",
      "lakeplacid70.3 ['family', 'slot', 'friendly']\n",
      "kalmar ['award', 'slot']\n",
      "superfrog70.3 ['friendly', 'community']\n",
      "sunshinecoast70.3 ['family', 'award', 'fast', 'slot', 'relax']\n",
      "maryland ['fast', 'slot']\n",
      "copenhagen ['award', 'activity', 'nature', 'fast', 'slot', 'friendly']\n",
      "vichy ['award', 'activity', 'slot']\n",
      "DunLaoghaire70.3 ['activity', 'slot', 'visit']\n",
      "worldchampionship70.3m ['community']\n",
      "korea ['fast', 'slot']\n",
      "vichy70.3 ['award', 'activity', 'slot']\n",
      "cancun70.3 ['slot', 'community']\n",
      "salzburg70.3 ['family', 'slot']\n",
      "maine70.3 ['family', 'fast', 'slot', 'friendly']\n",
      "gdynia70.3 ['award', 'nature', 'fast', 'slot', 'visit']\n",
      "bintan70.3 ['award', 'activity', 'slot', 'friendly', 'visit']\n",
      "monttremblant ['family', 'activity', 'slot', 'friendly', 'community']\n",
      "philippines70.3 ['family', 'award', 'fast', 'slot', 'friendly', 'tourism']\n",
      "Maastricht ['discontinue']\n",
      "qujing70.3 ['slot']\n",
      "wisconsin ['slot']\n",
      "hamburg ['award', 'slot']\n",
      "canada ['slot']\n",
      "steelhead70.3 ['family', 'kid', 'friendly']\n",
      "uk ['family', 'award', 'kid', 'nature', 'slot', 'friendly']\n",
      "boulder70.3 ['activity', 'fast']\n",
      "alagoas70.3 ['slot']\n",
      "tallinn ['award', 'slot']\n",
      "switzerland ['slot']\n",
      "calgary70.3 ['activity', 'fast', 'slot', 'community']\n",
      "monttremblant70.3 ['family', 'kid', 'activity', 'slot']\n",
      "france ['award', 'fast', 'slot']\n",
      "joenkoeping70.3 ['award', 'nature', 'slot', 'friendly']\n",
      "Haugesund70.3 ['award', 'slot']\n",
      "haugesund ['award', 'nature', 'slot']\n",
      "germany ['award', 'fast', 'slot']\n",
      "edinburgh70.3 ['discontinue']\n",
      "finland70.3 ['slot']\n",
      "austria ['family', 'award', 'slot']\n",
      "ohio70.3 ['fast', 'community']\n",
      "muskoka70.3 ['slot', 'relax', 'visit']\n",
      "buffalosprings70.3 ['visit']\n",
      "kronborg70.3 ['slot']\n",
      "muncie70.3 ['visit']\n",
      "costarica70.3 ['activity', 'nature', 'slot', 'friendly', 'tourism', 'relaxation']\n",
      "santarosa70.3 ['family', 'community']\n",
      "subicbay70.3 ['activity', 'slot', 'friendly', 'tourism']\n",
      "japan70.3 ['award', 'slot']\n",
      "IMsubicbay ['activity', 'fast', 'slot', 'friendly', 'tourism']\n",
      "switzerland70.3 ['award', 'slot', 'friendly']\n",
      "astana70.3 ['award', 'fast', 'slot']\n",
      "otepaa70.3 ['family', 'award', 'activity', 'nature', 'slot']\n",
      "luxembourg70.3 ['slot']\n",
      "cairns ['family', 'award', 'slot']\n",
      "ecuador70.3 ['family', 'activity', 'fast', 'slot', 'community']\n",
      "syracuse70.3 ['discontinue']\n",
      "brazil ['fast', 'slot', 'tourism']\n",
      "cairns70.3 ['family', 'slot']\n",
      "traversecity70.3 ['slot']\n",
      "staffordshire70.3 ['slot', 'friendly']\n",
      "coeurdalene70.3 ['activity']\n",
      "raleigh70.3 ['discontinue']\n",
      "kraichgau70.3 ['family', 'award', 'fast', 'slot', 'friendly']\n",
      "victoria70.3 ['slot']\n",
      "austria70.3 ['discontinue']\n",
      "durban70.3 ['fast', 'slot', 'friendly']\n",
      "barcelona70.3 ['activity', 'slot', 'friendly', 'tourism']\n",
      "lanzarote ['award', 'slot']\n",
      "jeju70.3 ['nature', 'slot', 'visit']\n",
      "colombo70.3 ['discontinue']\n",
      "loscabos ['discontinue']\n",
      "longhorn70.3 ['discontinue']\n",
      "boulder ['family', 'award', 'fast']\n",
      "honu70.3 ['slot']\n",
      "miami70.3 ['discontinue']\n",
      "coeurdalene ['community', 'discontinue']\n",
      "eagleman70.3 ['fast']\n",
      "pula70.3 ['discontinue']\n",
      "dublin70.3 ['discontinue']\n",
      "racine70.3 ['discontinue']\n",
      "fortaleza ['discontinue']\n",
      "northcarolina ['discontinue']\n",
      "northcarolina70.3 ['fast']\n",
      "uk70.3 ['discontinue']\n",
      "brazil70.3 ['discontinue']\n",
      "saipan70.3 ['community', 'discontinue']\n",
      "ballarat70.3 ['discontinue']\n",
      "hefei70.3 ['discontinue']\n",
      "korea70.3 ['discontinue']\n",
      "mallorca ['discontinue']\n",
      "timberman70.3 ['community', 'discontinue']\n",
      "weymouth ['discontinue']\n",
      "chungju70.3 ['discontinue']\n",
      "fozdoiguacu70.3 ['discontinue']\n",
      "germany70.3 ['discontinue']\n",
      "Vineman ['visit']\n",
      "busan70.3 ['discontinue']\n",
      "putrajaya70.3 ['discontinue']\n",
      "mandura70.3 ['discontinue']\n",
      "panama70.3 ['discontinue']\n",
      "silverman70.3 ['discontinue']\n",
      "budapest70.3 ['discontinue']\n",
      "vineman70.3 ['visit']\n",
      "laketahoe70.3 ['discontinue']\n",
      "muskoka ['slot', 'discontinue']\n",
      "laketahoe ['discontinue']\n",
      "incheon70.3 ['discontinue']\n",
      "aarhus70.3 ['visit']\n",
      "japan ['slot', 'discontinue']\n",
      "lakestevens70.3 ['discontinue']\n",
      "boise70.3 ['discontinue']\n",
      "melbourne ['discontinue']\n",
      "princeton70.3 ['discontinue']\n",
      "kansas70.3 ['discontinue']\n",
      "yeppoon70.3 ['slot', 'visit']\n",
      "rhodeisland70.3 ['discontinue']\n",
      "pocono70.3 ['discontinue']\n",
      "ireland70.3 ['discontinue']\n",
      "branson70.3 ['discontinue']\n",
      "uschampionship ['discontinue']\n",
      "mooseman70.3 ['discontinue']\n",
      "regensburg ['discontinue']\n",
      "monaco70.3 ['discontinue']\n",
      "TBD_70.3 Lubbock  ['slot']\n",
      "TBD_Cork  ['fast', 'slot']\n",
      "singapore70.3 ['slot']\n",
      "china70.3 ['discontinue']\n",
      "TBD_70.3 Les Sables d'Olonne  ['activity', 'slot']\n",
      "srilanka70.3 ['discontinue']\n",
      "TBD_70.3 Marrakech  ['fast', 'slot']\n",
      "TBD_70.3 São Paulo  ['family', 'slot']\n",
      "TBD_Vitoria-Gasteiz  ['fast', 'slot', 'friendly']\n",
      "TBD_70.3 Bangsaen  ['activity', 'slot', 'tourism']\n",
      "TBD_70.3 Xi'an  ['nature', 'slot']\n",
      "TBD_70.3 Emilia-Romagna  ['nature', 'slot']\n",
      "TBD_70.3 Goa  ['slot', 'visit']\n",
      "TBD_70.3 Connecticut  ['slot']\n",
      "TBD_Switzerland  ['slot']\n",
      "TBD_IRONMAN 70.3 World Championship Taupo  ['award']\n"
     ]
    }
   ],
   "source": [
    "tags = ['family', 'award', 'kid', 'activity', 'nature', 'fast', 'slot', 'beginner', 'friendly', 'community', 'tourism', 'relax', 'relaxation', 'visit', 'discontinue']\n",
    "for race in descriptions:\n",
    "    has_tags = []\n",
    "    desc = descriptions[race]['description']\n",
    "    doc = nlp(desc)\n",
    "    text = [token.lemma_.lower() for token in doc]\n",
    "    for tag in tags:\n",
    "        if tag in text:\n",
    "            has_tags.append(tag)\n",
    "    if len(has_tags)>0:\n",
    "        print(race, has_tags)"
   ]
  },
  {
   "cell_type": "code",
   "execution_count": 87,
   "metadata": {},
   "outputs": [
    {
     "data": {
      "text/plain": [
       "0.9711980364821625"
      ]
     },
     "execution_count": 87,
     "metadata": {},
     "output_type": "execute_result"
    }
   ],
   "source": [
    "doc1.similarity(doc2)"
   ]
  },
  {
   "cell_type": "code",
   "execution_count": 76,
   "metadata": {},
   "outputs": [
    {
     "data": {
      "text/plain": [
       "0.9638568698800685"
      ]
     },
     "execution_count": 76,
     "metadata": {},
     "output_type": "execute_result"
    }
   ],
   "source": [
    "doc1.similarity(doc3)"
   ]
  },
  {
   "cell_type": "code",
   "execution_count": 77,
   "metadata": {},
   "outputs": [
    {
     "data": {
      "text/plain": [
       "'Races'"
      ]
     },
     "execution_count": 77,
     "metadata": {},
     "output_type": "execute_result"
    }
   ],
   "source": [
    "doc3[0].lemma_"
   ]
  },
  {
   "cell_type": "code",
   "execution_count": 36,
   "metadata": {},
   "outputs": [
    {
     "data": {
      "text/plain": [
       "False"
      ]
     },
     "execution_count": 36,
     "metadata": {},
     "output_type": "execute_result"
    }
   ],
   "source": [
    "extended_is_stop(doc3[0])"
   ]
  },
  {
   "cell_type": "code",
   "execution_count": 55,
   "metadata": {},
   "outputs": [
    {
     "data": {
      "text/plain": [
       "False"
      ]
     },
     "execution_count": 55,
     "metadata": {},
     "output_type": "execute_result"
    }
   ],
   "source": [
    "doc3[3].is_stop"
   ]
  },
  {
   "cell_type": "code",
   "execution_count": 43,
   "metadata": {},
   "outputs": [],
   "source": [
    "test = nlp(\"races and me\")"
   ]
  },
  {
   "cell_type": "code",
   "execution_count": 46,
   "metadata": {},
   "outputs": [
    {
     "data": {
      "text/plain": [
       "'race'"
      ]
     },
     "execution_count": 46,
     "metadata": {},
     "output_type": "execute_result"
    }
   ],
   "source": [
    "test[0].lemma_"
   ]
  },
  {
   "cell_type": "code",
   "execution_count": 61,
   "metadata": {},
   "outputs": [
    {
     "data": {
      "text/plain": [
       "['Races',\n",
       " 'Santa',\n",
       " 'Rosa',\n",
       " 'new',\n",
       " 'Santa',\n",
       " 'Rosa',\n",
       " 'offers',\n",
       " 'high',\n",
       " '-',\n",
       " 'quality',\n",
       " 'event',\n",
       " 'come',\n",
       " 'know',\n",
       " 'love',\n",
       " 'heart',\n",
       " 'Sonoma',\n",
       " 'County',\n",
       " ',',\n",
       " 'winding',\n",
       " 'roads',\n",
       " 'dotted',\n",
       " 'vineyards',\n",
       " 'world',\n",
       " '-',\n",
       " 'class',\n",
       " 'accommodation',\n",
       " '.',\n",
       " 'past',\n",
       " 'results',\n",
       " 'Vineman',\n",
       " ',',\n",
       " 'visit',\n",
       " 'event',\n",
       " 'page',\n",
       " '.',\n",
       " 'Staged',\n",
       " 'beautiful',\n",
       " 'Sonoma',\n",
       " 'County',\n",
       " 'traversing',\n",
       " 'quaint',\n",
       " 'communities',\n",
       " 'like',\n",
       " 'Geyersville',\n",
       " 'Healdsburg',\n",
       " ',',\n",
       " 'Santa',\n",
       " 'Rosa',\n",
       " 'draws',\n",
       " 'triathletes',\n",
       " ',',\n",
       " 'wine',\n",
       " 'food',\n",
       " 'loving',\n",
       " 'family',\n",
       " 'support',\n",
       " 'crews',\n",
       " 'year',\n",
       " '.',\n",
       " 'event',\n",
       " 'ticket',\n",
       " 'heart',\n",
       " 'world',\n",
       " '-',\n",
       " 'famous',\n",
       " 'wine',\n",
       " 'regions',\n",
       " 'Napa',\n",
       " 'Sonoma',\n",
       " 'valleys',\n",
       " ',',\n",
       " ',',\n",
       " 'want',\n",
       " 'leave',\n",
       " '.',\n",
       " 'B&Bs',\n",
       " 'boutique',\n",
       " 'hotel',\n",
       " 'options',\n",
       " 'suit',\n",
       " 'budget',\n",
       " ',',\n",
       " 'thousands',\n",
       " 'wineries',\n",
       " ',',\n",
       " 'craft',\n",
       " 'breweries',\n",
       " ',',\n",
       " 'farm',\n",
       " '-',\n",
       " '-',\n",
       " 'table',\n",
       " 'restaurants',\n",
       " 'pre',\n",
       " '-',\n",
       " 'fueling',\n",
       " 'post',\n",
       " '-',\n",
       " 'celebrations',\n",
       " '.',\n",
       " 'offers',\n",
       " 'springboard',\n",
       " 'vacation',\n",
       " 'itineraries',\n",
       " 'including',\n",
       " 'San',\n",
       " 'Francisco',\n",
       " 'Bay',\n",
       " 'Area',\n",
       " ',',\n",
       " 'Santa',\n",
       " 'Cruz',\n",
       " 'mountains',\n",
       " ',',\n",
       " 'coastal',\n",
       " 'redwood',\n",
       " 'forests',\n",
       " '.',\n",
       " 'split',\n",
       " 'transition',\n",
       " 'begins',\n",
       " 'Lake',\n",
       " 'Sonoma',\n",
       " ',',\n",
       " 'nestled',\n",
       " 'beautiful',\n",
       " 'mountains',\n",
       " 'Northern',\n",
       " 'California',\n",
       " '.',\n",
       " '2.4-mile',\n",
       " '-',\n",
       " 'loop',\n",
       " 'course',\n",
       " 'place',\n",
       " 'calm',\n",
       " ',',\n",
       " 'clean',\n",
       " 'Lake',\n",
       " 'Sonoma',\n",
       " '.',\n",
       " 'transition',\n",
       " ',',\n",
       " 'setting',\n",
       " '112-mile',\n",
       " 'course',\n",
       " 'featuring',\n",
       " 'gentle',\n",
       " 'rollers',\n",
       " 'ride',\n",
       " 'famous',\n",
       " 'wine',\n",
       " 'country',\n",
       " 'quaint',\n",
       " 'towns',\n",
       " '.',\n",
       " 'City',\n",
       " 'Santa',\n",
       " 'Rosa',\n",
       " 'hosts',\n",
       " 'transition',\n",
       " 'begin',\n",
       " 'tree',\n",
       " '-',\n",
       " ',',\n",
       " '-',\n",
       " 'loop',\n",
       " 'marathon',\n",
       " 'Santa',\n",
       " 'Rosa',\n",
       " 'Creek',\n",
       " 'trail',\n",
       " '.',\n",
       " 'place',\n",
       " 'new',\n",
       " 'Courthouse',\n",
       " 'Square',\n",
       " 'park',\n",
       " 'ideally',\n",
       " 'located',\n",
       " 'downtown',\n",
       " 'Santa',\n",
       " 'Rosa',\n",
       " 'great',\n",
       " 'food',\n",
       " 'wine',\n",
       " 'enjoyed',\n",
       " 'spectators',\n",
       " '.',\n",
       " 'Preserving',\n",
       " 'best',\n",
       " 'iconic',\n",
       " 'Vineman',\n",
       " 'event',\n",
       " 'improving',\n",
       " 'overall',\n",
       " 'experience',\n",
       " ',',\n",
       " 'course',\n",
       " ',',\n",
       " '10',\n",
       " 'miles',\n",
       " 'original',\n",
       " 'venue',\n",
       " ',',\n",
       " 'tour',\n",
       " 'Sonoma',\n",
       " 'County',\n",
       " 'beautiful',\n",
       " 'wine',\n",
       " 'country',\n",
       " 'pastoral',\n",
       " 'countryside',\n",
       " ',',\n",
       " 'passing',\n",
       " 'famous',\n",
       " 'grape',\n",
       " 'growing',\n",
       " 'regions',\n",
       " 'including',\n",
       " ':',\n",
       " 'Russian',\n",
       " 'River',\n",
       " 'Valley',\n",
       " 'Region',\n",
       " ',',\n",
       " 'Dry',\n",
       " 'Creek',\n",
       " 'Valley',\n",
       " ',',\n",
       " 'Alexander',\n",
       " 'Valley',\n",
       " '.']"
      ]
     },
     "execution_count": 61,
     "metadata": {},
     "output_type": "execute_result"
    }
   ],
   "source": [
    "tokens = [token.text for token in doc3 if not extended_is_stop(token)]\n",
    "tokens"
   ]
  },
  {
   "cell_type": "code",
   "execution_count": 28,
   "metadata": {},
   "outputs": [
    {
     "data": {
      "text/plain": [
       "'Races Santa Rosa Reasons to Race IRONMAN Santa Rosa The 2020 IRONMAN Santa Rosa will offer 40 qualifying slots to the 2020 IRONMAN World Championship in Kailua-Kona, Hawaii.'"
      ]
     },
     "execution_count": 28,
     "metadata": {},
     "output_type": "execute_result"
    }
   ],
   "source": [
    "descriptions['santarosa']['description']"
   ]
  },
  {
   "cell_type": "code",
   "execution_count": 81,
   "metadata": {},
   "outputs": [],
   "source": [
    "import nltk"
   ]
  },
  {
   "cell_type": "code",
   "execution_count": 83,
   "metadata": {},
   "outputs": [],
   "source": [
    "from nltk.corpus import stopwords"
   ]
  },
  {
   "cell_type": "code",
   "execution_count": null,
   "metadata": {},
   "outputs": [],
   "source": []
  }
 ],
 "metadata": {
  "kernelspec": {
   "display_name": "Python (NLP)",
   "language": "python",
   "name": "nlp"
  },
  "language_info": {
   "codemirror_mode": {
    "name": "ipython",
    "version": 3
   },
   "file_extension": ".py",
   "mimetype": "text/x-python",
   "name": "python",
   "nbconvert_exporter": "python",
   "pygments_lexer": "ipython3",
   "version": "3.7.3"
  }
 },
 "nbformat": 4,
 "nbformat_minor": 2
}
